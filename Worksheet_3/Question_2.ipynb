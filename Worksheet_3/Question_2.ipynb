{
 "cells": [
  {
   "cell_type": "code",
   "execution_count": 1,
   "id": "76ccf40b",
   "metadata": {},
   "outputs": [],
   "source": [
    "import selenium\n",
    "import pandas as pd\n",
    "from selenium import webdriver\n",
    "from selenium.webdriver.chrome.service import Service\n",
    "from selenium.webdriver.common.by import By"
   ]
  },
  {
   "cell_type": "code",
   "execution_count": 3,
   "id": "3755f274",
   "metadata": {},
   "outputs": [],
   "source": [
    "s=Service(\"C:\\chromedriver_win32\\chromedriver.exe\")\n",
    "driver=webdriver.Chrome(service=s)\n",
    "driver.get('https://www.naukri.com/')"
   ]
  },
  {
   "cell_type": "code",
   "execution_count": 4,
   "id": "7bdd4d8f",
   "metadata": {},
   "outputs": [],
   "source": [
    "driver.find_element(By.NAME,\"keyword\").send_keys(\"Data Scientist\")"
   ]
  },
  {
   "cell_type": "code",
   "execution_count": 5,
   "id": "cb773b8e",
   "metadata": {},
   "outputs": [],
   "source": [
    "driver.find_element(By.ID,\"qsb-location-sugg\").send_keys(\"Bangalore\")"
   ]
  },
  {
   "cell_type": "code",
   "execution_count": 1,
   "id": "ec854360",
   "metadata": {},
   "outputs": [
    {
     "ename": "NameError",
     "evalue": "name 'driver' is not defined",
     "output_type": "error",
     "traceback": [
      "\u001b[1;31m---------------------------------------------------------------------------\u001b[0m",
      "\u001b[1;31mNameError\u001b[0m                                 Traceback (most recent call last)",
      "\u001b[1;32m<ipython-input-1-014ff50deff7>\u001b[0m in \u001b[0;36m<module>\u001b[1;34m\u001b[0m\n\u001b[1;32m----> 1\u001b[1;33m \u001b[0mbtn1\u001b[0m\u001b[1;33m=\u001b[0m\u001b[0mdriver\u001b[0m\u001b[1;33m.\u001b[0m\u001b[0mfind_element\u001b[0m\u001b[1;33m(\u001b[0m\u001b[0mBy\u001b[0m\u001b[1;33m.\u001b[0m\u001b[0mXPATH\u001b[0m\u001b[1;33m,\u001b[0m\u001b[1;34m\"/html/body/div[1]/div[2]/div[1]/div[2]/div/div[3]/span/div[1]/span/div/div/div[6]/ul[8]/li[11]/span/a/div/label/i\"\u001b[0m\u001b[1;33m)\u001b[0m\u001b[1;33m\u001b[0m\u001b[1;33m\u001b[0m\u001b[0m\n\u001b[0m\u001b[0;32m      2\u001b[0m \u001b[0mbtn1\u001b[0m\u001b[1;33m.\u001b[0m\u001b[0mclick\u001b[0m\u001b[1;33m(\u001b[0m\u001b[1;33m)\u001b[0m\u001b[1;33m\u001b[0m\u001b[1;33m\u001b[0m\u001b[0m\n",
      "\u001b[1;31mNameError\u001b[0m: name 'driver' is not defined"
     ]
    }
   ],
   "source": [
    "btn1=driver.find_element(By.XPATH,\"//*[@id='root']/div[3]/div[2]/section/div/form/div[3]/button\")\n",
    "btn1.click()"
   ]
  },
  {
   "cell_type": "code",
   "execution_count": 7,
   "id": "5a046d03",
   "metadata": {},
   "outputs": [],
   "source": [
    "job_title=[]\n",
    "job_location=[] \n",
    "company_name=[] "
   ]
  },
  {
   "cell_type": "code",
   "execution_count": 8,
   "id": "898c934a",
   "metadata": {},
   "outputs": [
    {
     "data": {
      "text/plain": [
       "[<selenium.webdriver.remote.webelement.WebElement (session=\"6a78c80699809adaf94fe93ebf7240ec\", element=\"ac68a501-f6e8-4868-9a29-6322049ff37f\")>,\n",
       " <selenium.webdriver.remote.webelement.WebElement (session=\"6a78c80699809adaf94fe93ebf7240ec\", element=\"bc82d5b8-43bc-46ce-bba6-5db363a33a0d\")>,\n",
       " <selenium.webdriver.remote.webelement.WebElement (session=\"6a78c80699809adaf94fe93ebf7240ec\", element=\"acea62e8-20c0-4b10-ba73-ee1bf70dd7d2\")>,\n",
       " <selenium.webdriver.remote.webelement.WebElement (session=\"6a78c80699809adaf94fe93ebf7240ec\", element=\"b744ca84-c30f-486b-aaca-cc980a0f7ae1\")>]"
      ]
     },
     "execution_count": 8,
     "metadata": {},
     "output_type": "execute_result"
    }
   ],
   "source": [
    "job_t=driver.find_elements(By.XPATH,\"//*[@class='title fw500 ellipsis']\")\n",
    "job_t[0:4]"
   ]
  },
  {
   "cell_type": "code",
   "execution_count": 9,
   "id": "50126379",
   "metadata": {},
   "outputs": [
    {
     "data": {
      "text/plain": [
       "['Data Scientist',\n",
       " 'Data Scientist',\n",
       " 'Senior Data Scientist | Fortune 500 Supermarket Chain',\n",
       " 'Senior Data Scientist',\n",
       " 'Data Scientist',\n",
       " 'Hiring For AI Architect / Lead Data Scientist - Bangalore -Iqvia',\n",
       " 'Lead Data Scientist, Presales',\n",
       " 'Lead Data Scientist/Lead ML Scientist',\n",
       " 'Senior Data Scientist',\n",
       " 'Senior / Lead Data Scientist',\n",
       " 'Lead Data Scientist - Machine Learning/ Data Mining',\n",
       " 'Data Scientist',\n",
       " 'Data Scientist',\n",
       " 'Manager/Senior Manager Data Scientist (Health & Public Service )',\n",
       " 'Data Scientist',\n",
       " 'Data Scientist',\n",
       " 'Data Scientist: Advanced Analytics',\n",
       " 'Data Scientist',\n",
       " 'Data Scientist',\n",
       " 'Cognitive Data Scientist']"
      ]
     },
     "execution_count": 9,
     "metadata": {},
     "output_type": "execute_result"
    }
   ],
   "source": [
    "for i in job_t:\n",
    "    temp=i.text\n",
    "    job_title.append(temp)\n",
    "job_title"
   ]
  },
  {
   "cell_type": "code",
   "execution_count": 10,
   "id": "95a1e29d",
   "metadata": {},
   "outputs": [
    {
     "data": {
      "text/plain": [
       "[<selenium.webdriver.remote.webelement.WebElement (session=\"6a78c80699809adaf94fe93ebf7240ec\", element=\"f4ec6727-2c0d-4788-b580-21e6b363b249\")>,\n",
       " <selenium.webdriver.remote.webelement.WebElement (session=\"6a78c80699809adaf94fe93ebf7240ec\", element=\"0fb03e5e-18d1-47fc-a2f0-ceffb09346d4\")>,\n",
       " <selenium.webdriver.remote.webelement.WebElement (session=\"6a78c80699809adaf94fe93ebf7240ec\", element=\"d6f0e01a-457c-44c7-92c7-671abf6e11a8\")>,\n",
       " <selenium.webdriver.remote.webelement.WebElement (session=\"6a78c80699809adaf94fe93ebf7240ec\", element=\"8e23652b-0179-4572-833b-7693765d79c9\")>]"
      ]
     },
     "execution_count": 10,
     "metadata": {},
     "output_type": "execute_result"
    }
   ],
   "source": [
    "job_l=driver.find_elements(By.XPATH,\"//*[@class='ellipsis fleft fs12 lh16 ']\")\n",
    "job_l[0:4]"
   ]
  },
  {
   "cell_type": "code",
   "execution_count": 11,
   "id": "98140f1b",
   "metadata": {},
   "outputs": [
    {
     "data": {
      "text/plain": [
       "['7-11 Yrs',\n",
       " 'Not disclosed',\n",
       " 'Hyderabad/Secunderabad, Pune, Bangalore/Bengaluru',\n",
       " '5-10 Yrs',\n",
       " 'Not disclosed',\n",
       " 'Bangalore/Bengaluru',\n",
       " '7-10 Yrs',\n",
       " 'Not disclosed',\n",
       " 'Bangalore/Bengaluru',\n",
       " '7-12 Yrs',\n",
       " 'Not disclosed',\n",
       " 'Hyderabad/Secunderabad, Chennai, Bangalore/Bengaluru',\n",
       " 'Not disclosed',\n",
       " '7-12 Yrs',\n",
       " 'Not disclosed',\n",
       " 'Bangalore/Bengaluru',\n",
       " '7-12 Yrs',\n",
       " 'Not disclosed',\n",
       " 'Bangalore/Bengaluru',\n",
       " '11-15 Yrs',\n",
       " 'Not disclosed',\n",
       " 'Bangalore/Bengaluru',\n",
       " '8-11 Yrs',\n",
       " 'Not disclosed',\n",
       " 'Bangalore/Bengaluru',\n",
       " '5-10 Yrs',\n",
       " 'Not disclosed',\n",
       " 'Bangalore/Bengaluru',\n",
       " '6-11 Yrs',\n",
       " 'Not disclosed',\n",
       " 'Bangalore/Bengaluru',\n",
       " '3-6 Yrs',\n",
       " 'Not disclosed',\n",
       " 'Hyderabad/Secunderabad, Pune, Bangalore/Bengaluru',\n",
       " '7-12 Yrs',\n",
       " '16,00,000 - 31,00,000 PA.',\n",
       " 'Mumbai, Bangalore/Bengaluru',\n",
       " '9-14 Yrs',\n",
       " '18,00,000 - 33,00,000 PA.',\n",
       " 'Gurgaon/Gurugram, Bangalore/Bengaluru, Mumbai (All Areas)',\n",
       " '2-4 Yrs',\n",
       " 'Not disclosed',\n",
       " 'Bangalore/Bengaluru',\n",
       " '0-2 Yrs',\n",
       " '5,00,000 - 5,50,000 PA.',\n",
       " 'Kochi/Cochin, Kolkata, Hyderabad/Secunderabad, Pune, Ahmedabad, Chennai, Bangalore/Bengaluru, Delhi / NCR, Mumbai (All Areas)',\n",
       " '5-7 Yrs',\n",
       " 'Not disclosed',\n",
       " 'Bengaluru/Bangalore',\n",
       " '2-5 Yrs',\n",
       " '3,00,000 - 6,50,000 PA.',\n",
       " 'Bangalore/Bengaluru',\n",
       " '3-8 Yrs',\n",
       " 'Not disclosed',\n",
       " 'Hyderabad/Secunderabad, Bangalore/Bengaluru',\n",
       " '3-7 Yrs',\n",
       " 'Not disclosed',\n",
       " 'Bengaluru/Bangalore']"
      ]
     },
     "execution_count": 11,
     "metadata": {},
     "output_type": "execute_result"
    }
   ],
   "source": [
    "for i in job_l:\n",
    "    temp=i.text\n",
    "    job_location.append(temp)\n",
    "job_location"
   ]
  },
  {
   "cell_type": "code",
   "execution_count": 12,
   "id": "312d71a7",
   "metadata": {},
   "outputs": [
    {
     "data": {
      "text/plain": [
       "['Hyderabad/Secunderabad, Pune, Bangalore/Bengaluru',\n",
       " 'Bangalore/Bengaluru',\n",
       " 'Bangalore/Bengaluru',\n",
       " 'Hyderabad/Secunderabad, Chennai, Bangalore/Bengaluru',\n",
       " 'Bangalore/Bengaluru',\n",
       " 'Bangalore/Bengaluru',\n",
       " 'Bangalore/Bengaluru',\n",
       " 'Bangalore/Bengaluru',\n",
       " 'Bangalore/Bengaluru',\n",
       " 'Bangalore/Bengaluru',\n",
       " 'Hyderabad/Secunderabad, Pune, Bangalore/Bengaluru',\n",
       " 'Mumbai, Bangalore/Bengaluru',\n",
       " 'Gurgaon/Gurugram, Bangalore/Bengaluru, Mumbai (All Areas)',\n",
       " 'Bangalore/Bengaluru',\n",
       " 'Kochi/Cochin, Kolkata, Hyderabad/Secunderabad, Pune, Ahmedabad, Chennai, Bangalore/Bengaluru, Delhi / NCR, Mumbai (All Areas)',\n",
       " 'Bengaluru/Bangalore',\n",
       " 'Bangalore/Bengaluru',\n",
       " 'Hyderabad/Secunderabad, Bangalore/Bengaluru',\n",
       " 'Bengaluru/Bangalore']"
      ]
     },
     "execution_count": 12,
     "metadata": {},
     "output_type": "execute_result"
    }
   ],
   "source": [
    "location1=[]\n",
    "location2=[]\n",
    "location=[]\n",
    "location1=job_location[2:12:3]\n",
    "location2=job_location[15::3]\n",
    "location=location1+location2\n",
    "location"
   ]
  },
  {
   "cell_type": "code",
   "execution_count": 13,
   "id": "7ea1fa94",
   "metadata": {},
   "outputs": [
    {
     "data": {
      "text/plain": [
       "[<selenium.webdriver.remote.webelement.WebElement (session=\"6a78c80699809adaf94fe93ebf7240ec\", element=\"77a63cbb-41f6-4617-8fac-9b2ee6fbe6c4\")>,\n",
       " <selenium.webdriver.remote.webelement.WebElement (session=\"6a78c80699809adaf94fe93ebf7240ec\", element=\"51ba445b-f6a8-43e7-ba33-f6e5cd7474cb\")>,\n",
       " <selenium.webdriver.remote.webelement.WebElement (session=\"6a78c80699809adaf94fe93ebf7240ec\", element=\"67c13322-2039-4bfb-aa77-9deaac5566c4\")>,\n",
       " <selenium.webdriver.remote.webelement.WebElement (session=\"6a78c80699809adaf94fe93ebf7240ec\", element=\"824a4d8f-ed28-4835-9fde-3cca2be2c301\")>]"
      ]
     },
     "execution_count": 13,
     "metadata": {},
     "output_type": "execute_result"
    }
   ],
   "source": [
    "comp_n=driver.find_elements(By.XPATH,\"//*[@class='subTitle ellipsis fleft']\")\n",
    "comp_n[0:4]"
   ]
  },
  {
   "cell_type": "code",
   "execution_count": 14,
   "id": "2dcfcd29",
   "metadata": {},
   "outputs": [
    {
     "data": {
      "text/plain": [
       "['Amazon',\n",
       " 'Alstom Transport India Ltd.',\n",
       " 'TALENT500 TECH (INDIA) PRIVATE LIMITED',\n",
       " 'Santechture',\n",
       " 'Evalueserve',\n",
       " 'IQVIA RDS India Pvt Ltd',\n",
       " 'Moveworks',\n",
       " 'ExecBoardinAsia',\n",
       " 'Easy Recruit',\n",
       " 'Bukuwarung',\n",
       " 'Wrackle Technologies Pvt Ltd',\n",
       " 'SG Analytics Pvt. Ltd.',\n",
       " 'Winvest technology consultancy services Pvt Ltd',\n",
       " 'Mount Talent Consulting Private Limited',\n",
       " 'Exact Space',\n",
       " 'Think i',\n",
       " 'IBM India Pvt. Limited',\n",
       " 'Vepsun Technologies Private Limited.',\n",
       " 'Big Data BizViz',\n",
       " 'IBM India Pvt. Limited']"
      ]
     },
     "execution_count": 14,
     "metadata": {},
     "output_type": "execute_result"
    }
   ],
   "source": [
    "for i in comp_n:\n",
    "    temp=i.text\n",
    "    company_name.append(temp)\n",
    "company_name"
   ]
  },
  {
   "cell_type": "code",
   "execution_count": 19,
   "id": "017e5a3f",
   "metadata": {
    "scrolled": true
   },
   "outputs": [
    {
     "data": {
      "text/plain": [
       "['7-11 Yrs',\n",
       " '5-10 Yrs',\n",
       " '7-10 Yrs',\n",
       " '7-12 Yrs',\n",
       " '7-12 Yrs',\n",
       " '7-12 Yrs',\n",
       " '11-15 Yrs',\n",
       " '8-11 Yrs',\n",
       " '5-10 Yrs',\n",
       " '6-11 Yrs',\n",
       " '3-6 Yrs',\n",
       " '7-12 Yrs',\n",
       " '9-14 Yrs',\n",
       " '2-4 Yrs',\n",
       " '0-2 Yrs',\n",
       " '5-7 Yrs',\n",
       " '2-5 Yrs',\n",
       " '3-8 Yrs',\n",
       " '3-7 Yrs']"
      ]
     },
     "execution_count": 19,
     "metadata": {},
     "output_type": "execute_result"
    }
   ],
   "source": [
    "exp=[]\n",
    "exp1=[]\n",
    "exp2=[]\n",
    "exp1=job_location[0:10:3]\n",
    "exp2=job_location[13::3]\n",
    "exp=exp1+exp2\n",
    "exp"
   ]
  },
  {
   "cell_type": "code",
   "execution_count": 21,
   "id": "f0dc630f",
   "metadata": {},
   "outputs": [],
   "source": [
    "jt=[]\n",
    "l=[]\n",
    "cn=[]\n",
    "e=[]\n",
    "jt=job_title[:10]\n",
    "l=location[:10]\n",
    "cn=company_name[:10]\n",
    "e=exp[:10]"
   ]
  },
  {
   "cell_type": "code",
   "execution_count": 22,
   "id": "0f133b8d",
   "metadata": {},
   "outputs": [
    {
     "data": {
      "text/html": [
       "<div>\n",
       "<style scoped>\n",
       "    .dataframe tbody tr th:only-of-type {\n",
       "        vertical-align: middle;\n",
       "    }\n",
       "\n",
       "    .dataframe tbody tr th {\n",
       "        vertical-align: top;\n",
       "    }\n",
       "\n",
       "    .dataframe thead th {\n",
       "        text-align: right;\n",
       "    }\n",
       "</style>\n",
       "<table border=\"1\" class=\"dataframe\">\n",
       "  <thead>\n",
       "    <tr style=\"text-align: right;\">\n",
       "      <th></th>\n",
       "      <th>Job Title</th>\n",
       "      <th>Location</th>\n",
       "      <th>Company Name</th>\n",
       "      <th>Experiance</th>\n",
       "    </tr>\n",
       "  </thead>\n",
       "  <tbody>\n",
       "    <tr>\n",
       "      <th>0</th>\n",
       "      <td>Data Scientist</td>\n",
       "      <td>Hyderabad/Secunderabad, Pune, Bangalore/Bengaluru</td>\n",
       "      <td>Amazon</td>\n",
       "      <td>7-11 Yrs</td>\n",
       "    </tr>\n",
       "    <tr>\n",
       "      <th>1</th>\n",
       "      <td>Data Scientist</td>\n",
       "      <td>Bangalore/Bengaluru</td>\n",
       "      <td>Alstom Transport India Ltd.</td>\n",
       "      <td>5-10 Yrs</td>\n",
       "    </tr>\n",
       "    <tr>\n",
       "      <th>2</th>\n",
       "      <td>Senior Data Scientist | Fortune 500 Supermarke...</td>\n",
       "      <td>Bangalore/Bengaluru</td>\n",
       "      <td>TALENT500 TECH (INDIA) PRIVATE LIMITED</td>\n",
       "      <td>7-10 Yrs</td>\n",
       "    </tr>\n",
       "    <tr>\n",
       "      <th>3</th>\n",
       "      <td>Senior Data Scientist</td>\n",
       "      <td>Hyderabad/Secunderabad, Chennai, Bangalore/Ben...</td>\n",
       "      <td>Santechture</td>\n",
       "      <td>7-12 Yrs</td>\n",
       "    </tr>\n",
       "    <tr>\n",
       "      <th>4</th>\n",
       "      <td>Data Scientist</td>\n",
       "      <td>Bangalore/Bengaluru</td>\n",
       "      <td>Evalueserve</td>\n",
       "      <td>7-12 Yrs</td>\n",
       "    </tr>\n",
       "  </tbody>\n",
       "</table>\n",
       "</div>"
      ],
      "text/plain": [
       "                                           Job Title  \\\n",
       "0                                     Data Scientist   \n",
       "1                                     Data Scientist   \n",
       "2  Senior Data Scientist | Fortune 500 Supermarke...   \n",
       "3                              Senior Data Scientist   \n",
       "4                                     Data Scientist   \n",
       "\n",
       "                                            Location  \\\n",
       "0  Hyderabad/Secunderabad, Pune, Bangalore/Bengaluru   \n",
       "1                                Bangalore/Bengaluru   \n",
       "2                                Bangalore/Bengaluru   \n",
       "3  Hyderabad/Secunderabad, Chennai, Bangalore/Ben...   \n",
       "4                                Bangalore/Bengaluru   \n",
       "\n",
       "                             Company Name Experiance  \n",
       "0                                  Amazon   7-11 Yrs  \n",
       "1             Alstom Transport India Ltd.   5-10 Yrs  \n",
       "2  TALENT500 TECH (INDIA) PRIVATE LIMITED   7-10 Yrs  \n",
       "3                             Santechture   7-12 Yrs  \n",
       "4                             Evalueserve   7-12 Yrs  "
      ]
     },
     "execution_count": 22,
     "metadata": {},
     "output_type": "execute_result"
    }
   ],
   "source": [
    "dataset=pd.DataFrame()\n",
    "dataset['Job Title']=jt\n",
    "dataset['Location']=l\n",
    "dataset['Company Name']=cn\n",
    "dataset['Experiance']=e\n",
    "dataset.head()"
   ]
  },
  {
   "cell_type": "code",
   "execution_count": null,
   "id": "b326e136",
   "metadata": {},
   "outputs": [],
   "source": []
  }
 ],
 "metadata": {
  "kernelspec": {
   "display_name": "Python 3",
   "language": "python",
   "name": "python3"
  },
  "language_info": {
   "codemirror_mode": {
    "name": "ipython",
    "version": 3
   },
   "file_extension": ".py",
   "mimetype": "text/x-python",
   "name": "python",
   "nbconvert_exporter": "python",
   "pygments_lexer": "ipython3",
   "version": "3.8.8"
  }
 },
 "nbformat": 4,
 "nbformat_minor": 5
}

{
 "cells": [
  {
   "cell_type": "code",
   "execution_count": 1,
   "id": "7f5adcae",
   "metadata": {},
   "outputs": [],
   "source": [
    "import selenium\n",
    "import pandas as pd\n",
    "from selenium import webdriver\n",
    "from selenium.webdriver.chrome.service import Service\n",
    "from selenium.webdriver.common.by import By\n",
    "from selenium.webdriver.common.keys import Keys\n",
    "import time\n",
    "from selenium.webdriver.common.action_chains import ActionChains"
   ]
  },
  {
   "cell_type": "code",
   "execution_count": 2,
   "id": "96f67c79",
   "metadata": {},
   "outputs": [],
   "source": [
    "s=Service(\"C:\\chromedriver_win32\\chromedriver.exe\")\n",
    "driver=webdriver.Chrome(service=s)\n",
    "driver.get('https://www.bcci.tv/')"
   ]
  },
  {
   "cell_type": "code",
   "execution_count": 4,
   "id": "1368be26",
   "metadata": {},
   "outputs": [],
   "source": [
    "# element_to_hover_over = driver.find_element(By.XPATH,\"//*[@id='navigation']/ul[1]/li[2]/a\")\n",
    "# hover = ActionChains(driver).move_to_element(element_to_hover_over)\n",
    "# hover.perform()"
   ]
  },
  {
   "cell_type": "code",
   "execution_count": 6,
   "id": "022b9c07",
   "metadata": {},
   "outputs": [],
   "source": [
    "btn2=driver.find_element(By.XPATH,\"//*[@id='navigation']/ul[1]/li[2]/a\")\n",
    "btn2.click()"
   ]
  },
  {
   "cell_type": "code",
   "execution_count": 7,
   "id": "95a21b39",
   "metadata": {},
   "outputs": [],
   "source": [
    "def text(val,which):\n",
    "    if len(val) == 0:\n",
    "        which.append(\"-\")\n",
    "    else:\n",
    "        for i in val:\n",
    "            temp=i.text\n",
    "            which.append(temp)"
   ]
  },
  {
   "cell_type": "code",
   "execution_count": 16,
   "id": "eca2d83c",
   "metadata": {},
   "outputs": [],
   "source": [
    "n=driver.find_elements(By.XPATH,\"//div[@class='fixture-card-top']\")"
   ]
  },
  {
   "cell_type": "code",
   "execution_count": 17,
   "id": "4a9ed70c",
   "metadata": {},
   "outputs": [
    {
     "data": {
      "text/plain": [
       "['INDIA TOUR OF SOUTH AFRICA TEST SERIES 2021-22\\n3 JAN 2022\\n1:30 PM IST',\n",
       " 'INDIA TOUR OF SOUTH AFRICA TEST SERIES 2021-22\\n11 JAN 2022\\n2:00 PM IST',\n",
       " 'INDIA TOUR OF SOUTH AFRICA ODI SERIES 2021/22\\n19 JAN 2022\\n2:00 PM IST',\n",
       " 'INDIA TOUR OF SOUTH AFRICA ODI SERIES 2021/22\\n21 JAN 2022\\n2:00 PM IST']"
      ]
     },
     "execution_count": 17,
     "metadata": {},
     "output_type": "execute_result"
    }
   ],
   "source": [
    "name=[]\n",
    "text(n,name)\n",
    "name[0:4]"
   ]
  },
  {
   "cell_type": "code",
   "execution_count": 21,
   "id": "08813548",
   "metadata": {},
   "outputs": [],
   "source": [
    "tm=driver.find_elements(By.XPATH,\"//h5[@class='text-right ng-binding']\")"
   ]
  },
  {
   "cell_type": "code",
   "execution_count": 23,
   "id": "1ed2b41b",
   "metadata": {},
   "outputs": [
    {
     "data": {
      "text/plain": [
       "['1:30 PM IST', '2:00 PM IST', '2:00 PM IST', '2:00 PM IST']"
      ]
     },
     "execution_count": 23,
     "metadata": {},
     "output_type": "execute_result"
    }
   ],
   "source": [
    "time=[]\n",
    "text(tm,time)\n",
    "time[0:4]"
   ]
  },
  {
   "cell_type": "code",
   "execution_count": 18,
   "id": "b3efa21e",
   "metadata": {},
   "outputs": [],
   "source": [
    "dt=driver.find_elements(By.XPATH,\"//h5[@class='ng-binding']\")"
   ]
  },
  {
   "cell_type": "code",
   "execution_count": 20,
   "id": "b6d9f3d7",
   "metadata": {},
   "outputs": [
    {
     "data": {
      "text/plain": [
       "['3 JAN 2022', '11 JAN 2022', '19 JAN 2022', '21 JAN 2022']"
      ]
     },
     "execution_count": 20,
     "metadata": {},
     "output_type": "execute_result"
    }
   ],
   "source": [
    "date=[]\n",
    "text(dt,date)\n",
    "date[0:4]"
   ]
  },
  {
   "cell_type": "code",
   "execution_count": 29,
   "id": "6c348e9d",
   "metadata": {},
   "outputs": [],
   "source": [
    "s=driver.find_elements(By.XPATH,\"//div[@class='fix-place ng-binding ng-scope']\")"
   ]
  },
  {
   "cell_type": "code",
   "execution_count": 31,
   "id": "185f38d4",
   "metadata": {},
   "outputs": [
    {
     "data": {
      "text/plain": [
       "['2nd Test - The Wanderers Stadium, Johannesburg',\n",
       " '3rd Test - Newlands, Cape Town',\n",
       " '1st ODI - Boland Park, Paarl',\n",
       " '2nd ODI - Boland Park, Paarl']"
      ]
     },
     "execution_count": 31,
     "metadata": {},
     "output_type": "execute_result"
    }
   ],
   "source": [
    "ser=[]\n",
    "text(s,ser)\n",
    "ser[0:4]"
   ]
  },
  {
   "cell_type": "code",
   "execution_count": 43,
   "id": "6d402b20",
   "metadata": {},
   "outputs": [],
   "source": [
    "seriese=[]\n",
    "for i in range(len(ser)):\n",
    "    seriese.append(ser[i].split(\"-\")[0])"
   ]
  },
  {
   "cell_type": "code",
   "execution_count": 44,
   "id": "41668841",
   "metadata": {},
   "outputs": [],
   "source": [
    "Place=[]\n",
    "for i in range(len(ser)):\n",
    "    Place.append(ser[i].split(\"-\")[1])"
   ]
  },
  {
   "cell_type": "code",
   "execution_count": 45,
   "id": "3f8aa9a0",
   "metadata": {},
   "outputs": [
    {
     "data": {
      "text/html": [
       "<div>\n",
       "<style scoped>\n",
       "    .dataframe tbody tr th:only-of-type {\n",
       "        vertical-align: middle;\n",
       "    }\n",
       "\n",
       "    .dataframe tbody tr th {\n",
       "        vertical-align: top;\n",
       "    }\n",
       "\n",
       "    .dataframe thead th {\n",
       "        text-align: right;\n",
       "    }\n",
       "</style>\n",
       "<table border=\"1\" class=\"dataframe\">\n",
       "  <thead>\n",
       "    <tr style=\"text-align: right;\">\n",
       "      <th></th>\n",
       "      <th>Event Details</th>\n",
       "      <th>Date</th>\n",
       "      <th>Time</th>\n",
       "      <th>Place</th>\n",
       "      <th>Seriese</th>\n",
       "    </tr>\n",
       "  </thead>\n",
       "  <tbody>\n",
       "    <tr>\n",
       "      <th>0</th>\n",
       "      <td>INDIA TOUR OF SOUTH AFRICA TEST SERIES 2021-22...</td>\n",
       "      <td>3 JAN 2022</td>\n",
       "      <td>1:30 PM IST</td>\n",
       "      <td>The Wanderers Stadium, Johannesburg</td>\n",
       "      <td>2nd Test - The Wanderers Stadium, Johannesburg</td>\n",
       "    </tr>\n",
       "    <tr>\n",
       "      <th>1</th>\n",
       "      <td>INDIA TOUR OF SOUTH AFRICA TEST SERIES 2021-22...</td>\n",
       "      <td>11 JAN 2022</td>\n",
       "      <td>2:00 PM IST</td>\n",
       "      <td>Newlands, Cape Town</td>\n",
       "      <td>3rd Test - Newlands, Cape Town</td>\n",
       "    </tr>\n",
       "    <tr>\n",
       "      <th>2</th>\n",
       "      <td>INDIA TOUR OF SOUTH AFRICA ODI SERIES 2021/22\\...</td>\n",
       "      <td>19 JAN 2022</td>\n",
       "      <td>2:00 PM IST</td>\n",
       "      <td>Boland Park, Paarl</td>\n",
       "      <td>1st ODI - Boland Park, Paarl</td>\n",
       "    </tr>\n",
       "    <tr>\n",
       "      <th>3</th>\n",
       "      <td>INDIA TOUR OF SOUTH AFRICA ODI SERIES 2021/22\\...</td>\n",
       "      <td>21 JAN 2022</td>\n",
       "      <td>2:00 PM IST</td>\n",
       "      <td>Boland Park, Paarl</td>\n",
       "      <td>2nd ODI - Boland Park, Paarl</td>\n",
       "    </tr>\n",
       "    <tr>\n",
       "      <th>4</th>\n",
       "      <td>INDIA TOUR OF SOUTH AFRICA ODI SERIES 2021/22\\...</td>\n",
       "      <td>23 JAN 2022</td>\n",
       "      <td>2:00 PM IST</td>\n",
       "      <td>Newlands, Cape Town</td>\n",
       "      <td>3rd ODI - Newlands, Cape Town</td>\n",
       "    </tr>\n",
       "  </tbody>\n",
       "</table>\n",
       "</div>"
      ],
      "text/plain": [
       "                                       Event Details         Date  \\\n",
       "0  INDIA TOUR OF SOUTH AFRICA TEST SERIES 2021-22...   3 JAN 2022   \n",
       "1  INDIA TOUR OF SOUTH AFRICA TEST SERIES 2021-22...  11 JAN 2022   \n",
       "2  INDIA TOUR OF SOUTH AFRICA ODI SERIES 2021/22\\...  19 JAN 2022   \n",
       "3  INDIA TOUR OF SOUTH AFRICA ODI SERIES 2021/22\\...  21 JAN 2022   \n",
       "4  INDIA TOUR OF SOUTH AFRICA ODI SERIES 2021/22\\...  23 JAN 2022   \n",
       "\n",
       "          Time                                 Place  \\\n",
       "0  1:30 PM IST   The Wanderers Stadium, Johannesburg   \n",
       "1  2:00 PM IST                   Newlands, Cape Town   \n",
       "2  2:00 PM IST                    Boland Park, Paarl   \n",
       "3  2:00 PM IST                    Boland Park, Paarl   \n",
       "4  2:00 PM IST                   Newlands, Cape Town   \n",
       "\n",
       "                                          Seriese  \n",
       "0  2nd Test - The Wanderers Stadium, Johannesburg  \n",
       "1                  3rd Test - Newlands, Cape Town  \n",
       "2                    1st ODI - Boland Park, Paarl  \n",
       "3                    2nd ODI - Boland Park, Paarl  \n",
       "4                   3rd ODI - Newlands, Cape Town  "
      ]
     },
     "execution_count": 45,
     "metadata": {},
     "output_type": "execute_result"
    }
   ],
   "source": [
    "dataset=pd.DataFrame()\n",
    "dataset['Event Details']=name\n",
    "dataset['Date']=date\n",
    "dataset['Time']=time\n",
    "dataset['Place']=Place\n",
    "dataset['Seriese']=series\n",
    "dataset"
   ]
  }
 ],
 "metadata": {
  "kernelspec": {
   "display_name": "Python 3",
   "language": "python",
   "name": "python3"
  },
  "language_info": {
   "codemirror_mode": {
    "name": "ipython",
    "version": 3
   },
   "file_extension": ".py",
   "mimetype": "text/x-python",
   "name": "python",
   "nbconvert_exporter": "python",
   "pygments_lexer": "ipython3",
   "version": "3.8.8"
  }
 },
 "nbformat": 4,
 "nbformat_minor": 5
}

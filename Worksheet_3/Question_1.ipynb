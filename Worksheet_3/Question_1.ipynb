{
 "cells": [
  {
   "cell_type": "code",
   "execution_count": 1,
   "id": "f6ef1755",
   "metadata": {},
   "outputs": [],
   "source": [
    "import selenium\n",
    "import pandas as pd\n",
    "from selenium import webdriver\n",
    "from selenium.webdriver.chrome.service import Service\n",
    "from selenium.webdriver.common.by import By"
   ]
  },
  {
   "cell_type": "code",
   "execution_count": 2,
   "id": "23e7d7b3",
   "metadata": {},
   "outputs": [],
   "source": [
    "s=Service(\"C:\\chromedriver_win32\\chromedriver.exe\")\n",
    "driver=webdriver.Chrome(service=s)\n",
    "driver.get('https://www.naukri.com/')"
   ]
  },
  {
   "cell_type": "code",
   "execution_count": 3,
   "id": "981031bf",
   "metadata": {},
   "outputs": [],
   "source": [
    "driver.find_element(By.NAME,\"keyword\").send_keys(\"Data Analyst\")"
   ]
  },
  {
   "cell_type": "code",
   "execution_count": 4,
   "id": "436295ee",
   "metadata": {},
   "outputs": [],
   "source": [
    "driver.find_element(By.ID,\"qsb-location-sugg\").send_keys(\"Bangalore\")"
   ]
  },
  {
   "cell_type": "code",
   "execution_count": 6,
   "id": "4ebb78fb",
   "metadata": {},
   "outputs": [],
   "source": [
    "btn1=driver.find_element(By.XPATH,\"//*[@id='root']/div[3]/div[2]/section/div/form/div[3]/button\")\n",
    "btn1.click()"
   ]
  },
  {
   "cell_type": "code",
   "execution_count": 5,
   "id": "3a890b62",
   "metadata": {},
   "outputs": [],
   "source": [
    "job_title=[]\n",
    "job_location=[] \n",
    "company_name=[] "
   ]
  },
  {
   "cell_type": "code",
   "execution_count": 7,
   "id": "e5be784c",
   "metadata": {},
   "outputs": [
    {
     "data": {
      "text/plain": [
       "[<selenium.webdriver.remote.webelement.WebElement (session=\"f9158d5d31fa27ad073f2bf59b118644\", element=\"3e0270b8-ac26-4a12-a61c-1d8f6c7a99c0\")>,\n",
       " <selenium.webdriver.remote.webelement.WebElement (session=\"f9158d5d31fa27ad073f2bf59b118644\", element=\"be7647c8-011b-40cd-ac3a-94ce8601f41c\")>,\n",
       " <selenium.webdriver.remote.webelement.WebElement (session=\"f9158d5d31fa27ad073f2bf59b118644\", element=\"fbe4dde5-7f38-4b2e-9609-03254f3004fa\")>,\n",
       " <selenium.webdriver.remote.webelement.WebElement (session=\"f9158d5d31fa27ad073f2bf59b118644\", element=\"1faacdb3-049e-4ed9-8b70-0641d53ec2cf\")>]"
      ]
     },
     "execution_count": 7,
     "metadata": {},
     "output_type": "execute_result"
    }
   ],
   "source": [
    "job_t=driver.find_elements(By.XPATH,\"//*[@class='title fw500 ellipsis']\")\n",
    "job_t[0:4]"
   ]
  },
  {
   "cell_type": "code",
   "execution_count": 8,
   "id": "0754f4a1",
   "metadata": {},
   "outputs": [
    {
     "data": {
      "text/plain": [
       "['Business Data Analyst - Database Design/Mining',\n",
       " 'Data Analyst',\n",
       " 'Data Analyst',\n",
       " 'Data Analyst',\n",
       " 'Business Data Analyst - MIS & Reporting',\n",
       " 'Business Data Analyst',\n",
       " 'Senior Data Analyst - SQL/Tableau/Redshift',\n",
       " 'Power BI - Data Analyst - Biocon Biologics',\n",
       " 'Senior Data Analyst',\n",
       " 'ID&A - Data Analyst - Informatica MDM',\n",
       " 'Data Analyst',\n",
       " 'Data Analyst',\n",
       " 'Data Analyst',\n",
       " 'Lead Data Analyst - Claim Analytics',\n",
       " 'Lead Data Analyst - Claim Analytics',\n",
       " 'Hiring For Clinical Data Analyst - Bangalore / Chennai / Homebased',\n",
       " 'Data Analyst',\n",
       " 'Business Data Analyst - Data Structure & Quality',\n",
       " 'Business Data Analyst - Data Structure & Quality',\n",
       " 'Senior Data Analyst - KPO']"
      ]
     },
     "execution_count": 8,
     "metadata": {},
     "output_type": "execute_result"
    }
   ],
   "source": [
    "for i in job_t:\n",
    "    temp=i.text\n",
    "    job_title.append(temp)\n",
    "job_title"
   ]
  },
  {
   "cell_type": "code",
   "execution_count": 9,
   "id": "fdd397e9",
   "metadata": {},
   "outputs": [
    {
     "data": {
      "text/plain": [
       "[<selenium.webdriver.remote.webelement.WebElement (session=\"f9158d5d31fa27ad073f2bf59b118644\", element=\"ee336901-7543-49c3-8693-3fd253cb82cc\")>,\n",
       " <selenium.webdriver.remote.webelement.WebElement (session=\"f9158d5d31fa27ad073f2bf59b118644\", element=\"438d55d2-01bd-4f2e-9b11-d9fa309c85b1\")>,\n",
       " <selenium.webdriver.remote.webelement.WebElement (session=\"f9158d5d31fa27ad073f2bf59b118644\", element=\"4016bad2-fc0f-4627-92a5-92ef7e96c2de\")>,\n",
       " <selenium.webdriver.remote.webelement.WebElement (session=\"f9158d5d31fa27ad073f2bf59b118644\", element=\"86eb8f9f-0cc6-4c79-9479-975018d15ce3\")>]"
      ]
     },
     "execution_count": 9,
     "metadata": {},
     "output_type": "execute_result"
    }
   ],
   "source": [
    "job_l=driver.find_elements(By.XPATH,\"//*[@class='ellipsis fleft fs12 lh16 ']\")\n",
    "job_l[0:4]"
   ]
  },
  {
   "cell_type": "code",
   "execution_count": 10,
   "id": "7253f2ef",
   "metadata": {},
   "outputs": [
    {
     "data": {
      "text/plain": [
       "['2-5 Yrs',\n",
       " 'Not disclosed',\n",
       " 'Bangalore/Bengaluru',\n",
       " '0-3 Yrs',\n",
       " 'Not disclosed',\n",
       " 'Bangalore/Bengaluru',\n",
       " '5-8 Yrs',\n",
       " 'Not disclosed',\n",
       " 'Bangalore/Bengaluru',\n",
       " '5-10 Yrs',\n",
       " 'Not disclosed',\n",
       " 'Bangalore/Bengaluru',\n",
       " '3-8 Yrs',\n",
       " 'Not disclosed',\n",
       " 'Mumbai, Bangalore/Bengaluru',\n",
       " '5-10 Yrs',\n",
       " 'Not disclosed',\n",
       " 'Bangalore/Bengaluru',\n",
       " 'Not disclosed',\n",
       " '3-8 Yrs',\n",
       " 'Not disclosed',\n",
       " 'Bangalore/Bengaluru',\n",
       " '3-4 Yrs',\n",
       " 'Not disclosed',\n",
       " 'Bangalore/Bengaluru',\n",
       " '5-9 Yrs',\n",
       " 'Not disclosed',\n",
       " 'Bangalore/Bengaluru',\n",
       " '2-5 Yrs',\n",
       " 'Not disclosed',\n",
       " 'Bangalore/Bengaluru',\n",
       " '0-2 Yrs',\n",
       " 'Not disclosed',\n",
       " 'Bangalore/Bengaluru',\n",
       " '3-8 Yrs',\n",
       " 'Not disclosed',\n",
       " 'Bangalore/Bengaluru',\n",
       " '7-12 Yrs',\n",
       " 'Not disclosed',\n",
       " 'Noida, Bangalore/Bengaluru',\n",
       " '7-12 Yrs',\n",
       " 'Not disclosed',\n",
       " 'Noida, Bangalore/Bengaluru',\n",
       " '1-6 Yrs',\n",
       " 'Not disclosed',\n",
       " 'Chennai, Bangalore/Bengaluru, Mumbai (All Areas)',\n",
       " '2-7 Yrs',\n",
       " 'Not disclosed',\n",
       " 'Bangalore/Bengaluru(Ulsoor)',\n",
       " '2-5 Yrs',\n",
       " 'Not disclosed',\n",
       " 'Bangalore/Bengaluru',\n",
       " '2-5 Yrs',\n",
       " 'Not disclosed',\n",
       " 'Bangalore/Bengaluru',\n",
       " '7-12 Yrs',\n",
       " 'Not disclosed',\n",
       " 'Gurgaon/Gurugram, Bangalore/Bengaluru']"
      ]
     },
     "execution_count": 10,
     "metadata": {},
     "output_type": "execute_result"
    }
   ],
   "source": [
    "for i in job_l:\n",
    "    temp=i.text\n",
    "    job_location.append(temp)\n",
    "job_location"
   ]
  },
  {
   "cell_type": "code",
   "execution_count": 18,
   "id": "bace0af6",
   "metadata": {},
   "outputs": [
    {
     "data": {
      "text/plain": [
       "['Bangalore/Bengaluru',\n",
       " 'Bangalore/Bengaluru',\n",
       " 'Bangalore/Bengaluru',\n",
       " 'Bangalore/Bengaluru',\n",
       " 'Mumbai, Bangalore/Bengaluru',\n",
       " 'Bangalore/Bengaluru',\n",
       " 'Bangalore/Bengaluru',\n",
       " 'Bangalore/Bengaluru',\n",
       " 'Bangalore/Bengaluru',\n",
       " 'Bangalore/Bengaluru',\n",
       " 'Bangalore/Bengaluru',\n",
       " 'Bangalore/Bengaluru',\n",
       " 'Noida, Bangalore/Bengaluru',\n",
       " 'Noida, Bangalore/Bengaluru',\n",
       " 'Chennai, Bangalore/Bengaluru, Mumbai (All Areas)',\n",
       " 'Bangalore/Bengaluru(Ulsoor)',\n",
       " 'Bangalore/Bengaluru',\n",
       " 'Bangalore/Bengaluru',\n",
       " 'Gurgaon/Gurugram, Bangalore/Bengaluru']"
      ]
     },
     "execution_count": 18,
     "metadata": {},
     "output_type": "execute_result"
    }
   ],
   "source": [
    "location1=[]\n",
    "location2=[]\n",
    "location=[]\n",
    "location1=job_location[2:18:3]\n",
    "location2=job_location[21::3]\n",
    "location=location1+location2\n",
    "location"
   ]
  },
  {
   "cell_type": "code",
   "execution_count": 12,
   "id": "fbe63e88",
   "metadata": {},
   "outputs": [
    {
     "data": {
      "text/plain": [
       "[<selenium.webdriver.remote.webelement.WebElement (session=\"f9158d5d31fa27ad073f2bf59b118644\", element=\"cb5d42d1-bd66-4932-867f-56178d520c37\")>,\n",
       " <selenium.webdriver.remote.webelement.WebElement (session=\"f9158d5d31fa27ad073f2bf59b118644\", element=\"388a7be9-af13-4a43-b969-69e2b307ffb4\")>,\n",
       " <selenium.webdriver.remote.webelement.WebElement (session=\"f9158d5d31fa27ad073f2bf59b118644\", element=\"edf39077-dd79-4131-a392-bac61126d259\")>,\n",
       " <selenium.webdriver.remote.webelement.WebElement (session=\"f9158d5d31fa27ad073f2bf59b118644\", element=\"a39f50d8-6697-44e4-b0a7-ba6a19498e19\")>]"
      ]
     },
     "execution_count": 12,
     "metadata": {},
     "output_type": "execute_result"
    }
   ],
   "source": [
    "comp_n=driver.find_elements(By.XPATH,\"//*[@class='subTitle ellipsis fleft']\")\n",
    "comp_n[0:4]"
   ]
  },
  {
   "cell_type": "code",
   "execution_count": 13,
   "id": "5affd880",
   "metadata": {},
   "outputs": [
    {
     "data": {
      "text/plain": [
       "['AugmatrixGo',\n",
       " 'Applied Materials',\n",
       " 'Shell',\n",
       " 'Shell',\n",
       " 'INTERTRUST GROUP',\n",
       " 'NetApp',\n",
       " 'Pronto Consulting Services',\n",
       " 'BIOCON BIOLOGICS LIMITED',\n",
       " 'Utthunga Technologies Pvt Ltd',\n",
       " 'Shell',\n",
       " 'Capgemini',\n",
       " 'Snaphunt',\n",
       " 'Leap29',\n",
       " 'InnovAccer',\n",
       " 'InnovAccer',\n",
       " 'ICON plc (Formerly PRA Health Sciences)',\n",
       " 'WEIWO Communication Pvt. Ltd.',\n",
       " 'Catalyst',\n",
       " 'Catalyst',\n",
       " 'Huquo Consulting Pvt. Ltd']"
      ]
     },
     "execution_count": 13,
     "metadata": {},
     "output_type": "execute_result"
    }
   ],
   "source": [
    "for i in comp_n:\n",
    "    temp=i.text\n",
    "    company_name.append(temp)\n",
    "company_name"
   ]
  },
  {
   "cell_type": "code",
   "execution_count": 19,
   "id": "c50a8f4d",
   "metadata": {},
   "outputs": [
    {
     "data": {
      "text/plain": [
       "['2-5 Yrs',\n",
       " '0-3 Yrs',\n",
       " '5-8 Yrs',\n",
       " '5-10 Yrs',\n",
       " '3-8 Yrs',\n",
       " '5-10 Yrs',\n",
       " '3-8 Yrs',\n",
       " '3-4 Yrs',\n",
       " '5-9 Yrs',\n",
       " '2-5 Yrs',\n",
       " '0-2 Yrs',\n",
       " '3-8 Yrs',\n",
       " '7-12 Yrs',\n",
       " '7-12 Yrs',\n",
       " '1-6 Yrs',\n",
       " '2-7 Yrs',\n",
       " '2-5 Yrs',\n",
       " '2-5 Yrs',\n",
       " '7-12 Yrs']"
      ]
     },
     "execution_count": 19,
     "metadata": {},
     "output_type": "execute_result"
    }
   ],
   "source": [
    "exp=[]\n",
    "exp1=[]\n",
    "exp2=[]\n",
    "exp1=job_location[0:17:3]\n",
    "exp2=job_location[19::3]\n",
    "exp=exp1+exp2\n",
    "exp"
   ]
  },
  {
   "cell_type": "code",
   "execution_count": 20,
   "id": "0a770c9b",
   "metadata": {},
   "outputs": [],
   "source": [
    "jt=[]\n",
    "l=[]\n",
    "cn=[]\n",
    "e=[]\n",
    "jt=job_title[:10]\n",
    "l=location[:10]\n",
    "cn=company_name[:10]\n",
    "e=exp[:10]"
   ]
  },
  {
   "cell_type": "code",
   "execution_count": 21,
   "id": "94f9b346",
   "metadata": {},
   "outputs": [
    {
     "data": {
      "text/html": [
       "<div>\n",
       "<style scoped>\n",
       "    .dataframe tbody tr th:only-of-type {\n",
       "        vertical-align: middle;\n",
       "    }\n",
       "\n",
       "    .dataframe tbody tr th {\n",
       "        vertical-align: top;\n",
       "    }\n",
       "\n",
       "    .dataframe thead th {\n",
       "        text-align: right;\n",
       "    }\n",
       "</style>\n",
       "<table border=\"1\" class=\"dataframe\">\n",
       "  <thead>\n",
       "    <tr style=\"text-align: right;\">\n",
       "      <th></th>\n",
       "      <th>Job Title</th>\n",
       "      <th>Location</th>\n",
       "      <th>Company Name</th>\n",
       "      <th>Experiance</th>\n",
       "    </tr>\n",
       "  </thead>\n",
       "  <tbody>\n",
       "    <tr>\n",
       "      <th>0</th>\n",
       "      <td>Business Data Analyst - Database Design/Mining</td>\n",
       "      <td>Bangalore/Bengaluru</td>\n",
       "      <td>AugmatrixGo</td>\n",
       "      <td>2-5 Yrs</td>\n",
       "    </tr>\n",
       "    <tr>\n",
       "      <th>1</th>\n",
       "      <td>Data Analyst</td>\n",
       "      <td>Bangalore/Bengaluru</td>\n",
       "      <td>Applied Materials</td>\n",
       "      <td>0-3 Yrs</td>\n",
       "    </tr>\n",
       "    <tr>\n",
       "      <th>2</th>\n",
       "      <td>Data Analyst</td>\n",
       "      <td>Bangalore/Bengaluru</td>\n",
       "      <td>Shell</td>\n",
       "      <td>5-8 Yrs</td>\n",
       "    </tr>\n",
       "    <tr>\n",
       "      <th>3</th>\n",
       "      <td>Data Analyst</td>\n",
       "      <td>Bangalore/Bengaluru</td>\n",
       "      <td>Shell</td>\n",
       "      <td>5-10 Yrs</td>\n",
       "    </tr>\n",
       "    <tr>\n",
       "      <th>4</th>\n",
       "      <td>Business Data Analyst - MIS &amp; Reporting</td>\n",
       "      <td>Mumbai, Bangalore/Bengaluru</td>\n",
       "      <td>INTERTRUST GROUP</td>\n",
       "      <td>3-8 Yrs</td>\n",
       "    </tr>\n",
       "  </tbody>\n",
       "</table>\n",
       "</div>"
      ],
      "text/plain": [
       "                                        Job Title  \\\n",
       "0  Business Data Analyst - Database Design/Mining   \n",
       "1                                    Data Analyst   \n",
       "2                                    Data Analyst   \n",
       "3                                    Data Analyst   \n",
       "4         Business Data Analyst - MIS & Reporting   \n",
       "\n",
       "                      Location       Company Name Experiance  \n",
       "0          Bangalore/Bengaluru        AugmatrixGo    2-5 Yrs  \n",
       "1          Bangalore/Bengaluru  Applied Materials    0-3 Yrs  \n",
       "2          Bangalore/Bengaluru              Shell    5-8 Yrs  \n",
       "3          Bangalore/Bengaluru              Shell   5-10 Yrs  \n",
       "4  Mumbai, Bangalore/Bengaluru   INTERTRUST GROUP    3-8 Yrs  "
      ]
     },
     "execution_count": 21,
     "metadata": {},
     "output_type": "execute_result"
    }
   ],
   "source": [
    "dataset=pd.DataFrame()\n",
    "dataset['Job Title']=jt\n",
    "dataset['Location']=l\n",
    "dataset['Company Name']=cn\n",
    "dataset['Experiance']=e\n",
    "dataset.head()"
   ]
  }
 ],
 "metadata": {
  "kernelspec": {
   "display_name": "Python 3",
   "language": "python",
   "name": "python3"
  },
  "language_info": {
   "codemirror_mode": {
    "name": "ipython",
    "version": 3
   },
   "file_extension": ".py",
   "mimetype": "text/x-python",
   "name": "python",
   "nbconvert_exporter": "python",
   "pygments_lexer": "ipython3",
   "version": "3.8.8"
  }
 },
 "nbformat": 4,
 "nbformat_minor": 5
}

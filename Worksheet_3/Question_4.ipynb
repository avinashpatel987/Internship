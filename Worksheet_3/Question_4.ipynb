{
 "cells": [
  {
   "cell_type": "code",
   "execution_count": 85,
   "id": "6967c9de",
   "metadata": {},
   "outputs": [],
   "source": [
    "import selenium\n",
    "import pandas as pd\n",
    "from selenium import webdriver\n",
    "from selenium.webdriver.chrome.service import Service\n",
    "from selenium.webdriver.common.by import By"
   ]
  },
  {
   "cell_type": "code",
   "execution_count": 86,
   "id": "0c0eddff",
   "metadata": {},
   "outputs": [],
   "source": [
    "s=Service(\"C:\\chromedriver_win32\\chromedriver.exe\")\n",
    "driver=webdriver.Chrome(service=s)\n",
    "driver.get('https://www.flipkart.com/')"
   ]
  },
  {
   "cell_type": "code",
   "execution_count": 87,
   "id": "ba7fb1cc",
   "metadata": {},
   "outputs": [],
   "source": [
    "driver.find_element(By.XPATH,\"//*[@id='container']/div/div[1]/div[1]/div[2]/div[2]/form/div/div/input\").send_keys(\"Sunglasses\")"
   ]
  },
  {
   "cell_type": "code",
   "execution_count": 90,
   "id": "5fa7fc3a",
   "metadata": {},
   "outputs": [],
   "source": [
    "btn1=driver.find_element(By.XPATH,\"//*[@class='L0Z3Pu']\")\n",
    "btn1.click()"
   ]
  },
  {
   "cell_type": "code",
   "execution_count": 91,
   "id": "fb6f47c9",
   "metadata": {},
   "outputs": [
    {
     "data": {
      "text/plain": [
       "[<selenium.webdriver.remote.webelement.WebElement (session=\"edcd2162603676e382eaa16c68be0371\", element=\"5ce799dc-1b02-4ad0-ad24-4f79a08f45f6\")>,\n",
       " <selenium.webdriver.remote.webelement.WebElement (session=\"edcd2162603676e382eaa16c68be0371\", element=\"e8df4de4-5744-4ee1-9b46-48f34eef26a2\")>,\n",
       " <selenium.webdriver.remote.webelement.WebElement (session=\"edcd2162603676e382eaa16c68be0371\", element=\"0376dbc7-5a31-445c-a356-6f0dfb1ac495\")>,\n",
       " <selenium.webdriver.remote.webelement.WebElement (session=\"edcd2162603676e382eaa16c68be0371\", element=\"289020a3-485a-43a2-845f-3893cb4f9f56\")>]"
      ]
     },
     "execution_count": 91,
     "metadata": {},
     "output_type": "execute_result"
    }
   ],
   "source": [
    "Pname=driver.find_elements(By.XPATH,\"//*[@class='_2WkVRV']\")\n",
    "Pname[0:4]"
   ]
  },
  {
   "cell_type": "code",
   "execution_count": 92,
   "id": "9b491f8c",
   "metadata": {},
   "outputs": [
    {
     "data": {
      "text/plain": [
       "['Fravy', 'ROZZETTA CRAFT', 'Elligator', 'Fastrack']"
      ]
     },
     "execution_count": 92,
     "metadata": {},
     "output_type": "execute_result"
    }
   ],
   "source": [
    "product=[]\n",
    "for i in Pname:\n",
    "    temp=i.text\n",
    "    product.append(temp)\n",
    "product[0:4]"
   ]
  },
  {
   "cell_type": "code",
   "execution_count": 93,
   "id": "905081f9",
   "metadata": {},
   "outputs": [
    {
     "data": {
      "text/plain": [
       "[<selenium.webdriver.remote.webelement.WebElement (session=\"edcd2162603676e382eaa16c68be0371\", element=\"2a044092-ef51-42cd-8a54-45948a1126b3\")>,\n",
       " <selenium.webdriver.remote.webelement.WebElement (session=\"edcd2162603676e382eaa16c68be0371\", element=\"e013e922-5f3f-4a5c-bec7-bbd26b005197\")>,\n",
       " <selenium.webdriver.remote.webelement.WebElement (session=\"edcd2162603676e382eaa16c68be0371\", element=\"2df576ff-4e9b-4347-9fd6-68b08f518bfb\")>,\n",
       " <selenium.webdriver.remote.webelement.WebElement (session=\"edcd2162603676e382eaa16c68be0371\", element=\"aadd3c69-2782-4777-9df3-0753d8c2b762\")>]"
      ]
     },
     "execution_count": 93,
     "metadata": {},
     "output_type": "execute_result"
    }
   ],
   "source": [
    "desc=driver.find_elements(By.XPATH,\"//*[@class='IRpwTa']\")\n",
    "desc[0:4]"
   ]
  },
  {
   "cell_type": "code",
   "execution_count": 94,
   "id": "e0f6fccd",
   "metadata": {},
   "outputs": [
    {
     "data": {
      "text/plain": [
       "['UV Protection Retro Square Sunglasses (Free Size)',\n",
       " 'UV Protection, Gradient Retro Square Sunglasses (Free S...',\n",
       " 'UV Protection Round Sunglasses (54)',\n",
       " 'UV Protection Rectangular Sunglasses (Free Size)']"
      ]
     },
     "execution_count": 94,
     "metadata": {},
     "output_type": "execute_result"
    }
   ],
   "source": [
    "description=[]\n",
    "for i in desc:\n",
    "    temp=i.text\n",
    "    description.append(temp)\n",
    "description[0:4]"
   ]
  },
  {
   "cell_type": "code",
   "execution_count": 95,
   "id": "7afdc2aa",
   "metadata": {},
   "outputs": [
    {
     "data": {
      "text/plain": [
       "[<selenium.webdriver.remote.webelement.WebElement (session=\"edcd2162603676e382eaa16c68be0371\", element=\"bbf07a85-eefe-463f-b89c-1e5883df9b31\")>,\n",
       " <selenium.webdriver.remote.webelement.WebElement (session=\"edcd2162603676e382eaa16c68be0371\", element=\"c875f90c-5fa9-4aa4-a9ce-a6fa730e3c7d\")>,\n",
       " <selenium.webdriver.remote.webelement.WebElement (session=\"edcd2162603676e382eaa16c68be0371\", element=\"769b2fd9-0f73-4507-a8c7-f916c9ce51e6\")>,\n",
       " <selenium.webdriver.remote.webelement.WebElement (session=\"edcd2162603676e382eaa16c68be0371\", element=\"8d8eed42-42a9-44e0-8191-21b9d1ce9ef1\")>]"
      ]
     },
     "execution_count": 95,
     "metadata": {},
     "output_type": "execute_result"
    }
   ],
   "source": [
    "pri=driver.find_elements(By.XPATH,\"//*[@class='_30jeq3']\")\n",
    "pri[0:4]"
   ]
  },
  {
   "cell_type": "code",
   "execution_count": 96,
   "id": "8b7a2f15",
   "metadata": {},
   "outputs": [
    {
     "data": {
      "text/plain": [
       "['₹299', '₹325', '₹264', '₹513']"
      ]
     },
     "execution_count": 96,
     "metadata": {},
     "output_type": "execute_result"
    }
   ],
   "source": [
    "price=[]\n",
    "for i in pri:\n",
    "    temp=i.text\n",
    "    price.append(temp)\n",
    "price[0:4]"
   ]
  },
  {
   "cell_type": "code",
   "execution_count": 97,
   "id": "b0b9620b",
   "metadata": {},
   "outputs": [
    {
     "data": {
      "text/plain": [
       "[<selenium.webdriver.remote.webelement.WebElement (session=\"edcd2162603676e382eaa16c68be0371\", element=\"2f0ef536-99fa-4811-ae0e-b7e3505220ec\")>,\n",
       " <selenium.webdriver.remote.webelement.WebElement (session=\"edcd2162603676e382eaa16c68be0371\", element=\"7ac0c314-4f2a-4e99-991d-86890646c4d7\")>,\n",
       " <selenium.webdriver.remote.webelement.WebElement (session=\"edcd2162603676e382eaa16c68be0371\", element=\"027222e4-6bfe-4c16-b584-d3723658252a\")>,\n",
       " <selenium.webdriver.remote.webelement.WebElement (session=\"edcd2162603676e382eaa16c68be0371\", element=\"4887914e-7718-43ae-a79d-e906acf968fb\")>]"
      ]
     },
     "execution_count": 97,
     "metadata": {},
     "output_type": "execute_result"
    }
   ],
   "source": [
    "perc=driver.find_elements(By.XPATH,\"//*[@class='_3Ay6Sb']\")\n",
    "perc[0:4]"
   ]
  },
  {
   "cell_type": "code",
   "execution_count": 98,
   "id": "c045068d",
   "metadata": {},
   "outputs": [
    {
     "data": {
      "text/plain": [
       "['80% off', '83% off', '89% off', '35% off']"
      ]
     },
     "execution_count": 98,
     "metadata": {},
     "output_type": "execute_result"
    }
   ],
   "source": [
    "off=[]\n",
    "for i in perc:\n",
    "    temp=i.text\n",
    "    off.append(temp)\n",
    "off[0:4]"
   ]
  },
  {
   "cell_type": "code",
   "execution_count": 99,
   "id": "8d888f28",
   "metadata": {},
   "outputs": [],
   "source": [
    "btn2=driver.find_element(By.XPATH,\"//*[@id='container']/div/div[3]/div[1]/div[2]/div[12]/div/div/nav/a[2]\")\n",
    "btn2.click()"
   ]
  },
  {
   "cell_type": "code",
   "execution_count": 100,
   "id": "aab2ecba",
   "metadata": {},
   "outputs": [
    {
     "data": {
      "text/plain": [
       "[<selenium.webdriver.remote.webelement.WebElement (session=\"edcd2162603676e382eaa16c68be0371\", element=\"f43fb3c3-c2ce-4138-a482-fa4d0daf2a3e\")>,\n",
       " <selenium.webdriver.remote.webelement.WebElement (session=\"edcd2162603676e382eaa16c68be0371\", element=\"f1a310fc-433c-4af4-9596-e5cfce6aa670\")>,\n",
       " <selenium.webdriver.remote.webelement.WebElement (session=\"edcd2162603676e382eaa16c68be0371\", element=\"93c0e592-fb73-4faf-ab67-170b3e9e0031\")>,\n",
       " <selenium.webdriver.remote.webelement.WebElement (session=\"edcd2162603676e382eaa16c68be0371\", element=\"56fc837d-d5dd-4111-9cb7-3dab0ecb72a3\")>]"
      ]
     },
     "execution_count": 100,
     "metadata": {},
     "output_type": "execute_result"
    }
   ],
   "source": [
    "Pname2=driver.find_elements(By.XPATH,\"//*[@class='_2WkVRV']\")\n",
    "Pname2[0:4]"
   ]
  },
  {
   "cell_type": "code",
   "execution_count": 101,
   "id": "8d0e255b",
   "metadata": {},
   "outputs": [
    {
     "data": {
      "text/plain": [
       "['Fastrack', 'NuVew', 'povty', 'VINCENT CHASE']"
      ]
     },
     "execution_count": 101,
     "metadata": {},
     "output_type": "execute_result"
    }
   ],
   "source": [
    "product2=[]\n",
    "for i in Pname2:\n",
    "    temp=i.text\n",
    "    product2.append(temp)\n",
    "product2[0:4]"
   ]
  },
  {
   "cell_type": "code",
   "execution_count": 102,
   "id": "b6313ea4",
   "metadata": {},
   "outputs": [
    {
     "data": {
      "text/plain": [
       "[<selenium.webdriver.remote.webelement.WebElement (session=\"edcd2162603676e382eaa16c68be0371\", element=\"53f3dd9c-b1bf-426d-ae51-3f596652ec0b\")>,\n",
       " <selenium.webdriver.remote.webelement.WebElement (session=\"edcd2162603676e382eaa16c68be0371\", element=\"89882b75-dca1-4b02-877c-d9db1f854b7d\")>,\n",
       " <selenium.webdriver.remote.webelement.WebElement (session=\"edcd2162603676e382eaa16c68be0371\", element=\"c71dcd20-6c9f-47ef-b141-27e8ef835c5e\")>,\n",
       " <selenium.webdriver.remote.webelement.WebElement (session=\"edcd2162603676e382eaa16c68be0371\", element=\"23f4d94c-7530-4694-9475-ee96d3d69ce7\")>]"
      ]
     },
     "execution_count": 102,
     "metadata": {},
     "output_type": "execute_result"
    }
   ],
   "source": [
    "desc2=driver.find_elements(By.XPATH,\"//*[@class='IRpwTa']\")\n",
    "desc2[0:4]"
   ]
  },
  {
   "cell_type": "code",
   "execution_count": 103,
   "id": "afd54d27",
   "metadata": {},
   "outputs": [
    {
     "data": {
      "text/plain": [
       "['UV Protection Wayfarer Sunglasses (55)',\n",
       " 'UV Protection, Night Vision, Riding Glasses Sports Sung...',\n",
       " 'UV Protection Retro Square Sunglasses (Free Size)',\n",
       " 'by Lenskart Polarized, UV Protection Aviator Sunglasses...']"
      ]
     },
     "execution_count": 103,
     "metadata": {},
     "output_type": "execute_result"
    }
   ],
   "source": [
    "description2=[]\n",
    "for i in desc2:\n",
    "    temp=i.text\n",
    "    description2.append(temp)\n",
    "description2[0:4]"
   ]
  },
  {
   "cell_type": "code",
   "execution_count": 104,
   "id": "d01dd095",
   "metadata": {},
   "outputs": [
    {
     "data": {
      "text/plain": [
       "[<selenium.webdriver.remote.webelement.WebElement (session=\"edcd2162603676e382eaa16c68be0371\", element=\"fb21bb9f-f121-44c4-a17e-e5a2c0da2baf\")>,\n",
       " <selenium.webdriver.remote.webelement.WebElement (session=\"edcd2162603676e382eaa16c68be0371\", element=\"f9819636-4783-402c-a388-551ce0f2041d\")>,\n",
       " <selenium.webdriver.remote.webelement.WebElement (session=\"edcd2162603676e382eaa16c68be0371\", element=\"2f93b712-ad7a-47c9-bd43-ac55bc882130\")>,\n",
       " <selenium.webdriver.remote.webelement.WebElement (session=\"edcd2162603676e382eaa16c68be0371\", element=\"446d0742-f87e-4b5a-a340-46ae155ae22c\")>]"
      ]
     },
     "execution_count": 104,
     "metadata": {},
     "output_type": "execute_result"
    }
   ],
   "source": [
    "pri2=driver.find_elements(By.XPATH,\"//*[@class='_30jeq3']\")\n",
    "pri2[0:4]"
   ]
  },
  {
   "cell_type": "code",
   "execution_count": 105,
   "id": "353842ed",
   "metadata": {},
   "outputs": [
    {
     "data": {
      "text/plain": [
       "['₹694', '₹270', '₹329', '₹1,179']"
      ]
     },
     "execution_count": 105,
     "metadata": {},
     "output_type": "execute_result"
    }
   ],
   "source": [
    "price2=[]\n",
    "for i in pri2:\n",
    "    temp=i.text\n",
    "    price2.append(temp)\n",
    "price2[0:4]"
   ]
  },
  {
   "cell_type": "code",
   "execution_count": 106,
   "id": "0e9cb57e",
   "metadata": {},
   "outputs": [
    {
     "data": {
      "text/plain": [
       "[<selenium.webdriver.remote.webelement.WebElement (session=\"edcd2162603676e382eaa16c68be0371\", element=\"8453842c-e560-4f14-8b2b-7393a271e999\")>,\n",
       " <selenium.webdriver.remote.webelement.WebElement (session=\"edcd2162603676e382eaa16c68be0371\", element=\"81d8a3b9-31d2-4235-8193-84b5c6914bbc\")>,\n",
       " <selenium.webdriver.remote.webelement.WebElement (session=\"edcd2162603676e382eaa16c68be0371\", element=\"d629072c-bcf9-49d5-b62e-faa7e09a50a8\")>,\n",
       " <selenium.webdriver.remote.webelement.WebElement (session=\"edcd2162603676e382eaa16c68be0371\", element=\"928b0c6e-0a4b-45eb-8efc-2b143aff5864\")>]"
      ]
     },
     "execution_count": 106,
     "metadata": {},
     "output_type": "execute_result"
    }
   ],
   "source": [
    "perc2=driver.find_elements(By.XPATH,\"//*[@class='_3Ay6Sb']\")\n",
    "perc2[0:4]"
   ]
  },
  {
   "cell_type": "code",
   "execution_count": 107,
   "id": "ab8d5a3e",
   "metadata": {},
   "outputs": [
    {
     "data": {
      "text/plain": [
       "['13% off', '65% off', '67% off', '41% off']"
      ]
     },
     "execution_count": 107,
     "metadata": {},
     "output_type": "execute_result"
    }
   ],
   "source": [
    "off2=[]\n",
    "for i in perc2:\n",
    "    temp=i.text\n",
    "    off2.append(temp)\n",
    "off2[0:4]"
   ]
  },
  {
   "cell_type": "code",
   "execution_count": 108,
   "id": "33e9f058",
   "metadata": {},
   "outputs": [],
   "source": [
    "btn3=driver.find_element(By.XPATH,\"//*[@id='container']/div/div[3]/div[1]/div[2]/div[12]/div/div/nav/a[4]\")\n",
    "btn3.click()"
   ]
  },
  {
   "cell_type": "code",
   "execution_count": 109,
   "id": "c4d2e4bf",
   "metadata": {},
   "outputs": [
    {
     "data": {
      "text/plain": [
       "[<selenium.webdriver.remote.webelement.WebElement (session=\"edcd2162603676e382eaa16c68be0371\", element=\"40ca9d01-2d40-49b2-910d-26ad1cf1786d\")>,\n",
       " <selenium.webdriver.remote.webelement.WebElement (session=\"edcd2162603676e382eaa16c68be0371\", element=\"749c5d01-6aa0-4a52-aba0-7fe39d69c48d\")>,\n",
       " <selenium.webdriver.remote.webelement.WebElement (session=\"edcd2162603676e382eaa16c68be0371\", element=\"89fd5ce6-5f21-4627-a70d-c9527a874733\")>,\n",
       " <selenium.webdriver.remote.webelement.WebElement (session=\"edcd2162603676e382eaa16c68be0371\", element=\"d730be71-f9d1-424d-9357-ba501a76a7f1\")>]"
      ]
     },
     "execution_count": 109,
     "metadata": {},
     "output_type": "execute_result"
    }
   ],
   "source": [
    "Pname3=driver.find_elements(By.XPATH,\"//*[@class='_2WkVRV']\")\n",
    "Pname3[0:4]"
   ]
  },
  {
   "cell_type": "code",
   "execution_count": 110,
   "id": "c5ce86c0",
   "metadata": {},
   "outputs": [
    {
     "data": {
      "text/plain": [
       "['ROZZETTA CRAFT', 'elegante', 'PIRASO', 'VINCENT CHASE']"
      ]
     },
     "execution_count": 110,
     "metadata": {},
     "output_type": "execute_result"
    }
   ],
   "source": [
    "product3=[]\n",
    "for i in Pname3:\n",
    "    temp=i.text\n",
    "    product3.append(temp)\n",
    "product3[0:4]"
   ]
  },
  {
   "cell_type": "code",
   "execution_count": 111,
   "id": "b375ae3d",
   "metadata": {},
   "outputs": [
    {
     "data": {
      "text/plain": [
       "[<selenium.webdriver.remote.webelement.WebElement (session=\"edcd2162603676e382eaa16c68be0371\", element=\"f2572ea3-295d-433e-b374-3ca67c0ff99c\")>,\n",
       " <selenium.webdriver.remote.webelement.WebElement (session=\"edcd2162603676e382eaa16c68be0371\", element=\"a42c75fb-6322-4463-8403-de1d5abc11a3\")>,\n",
       " <selenium.webdriver.remote.webelement.WebElement (session=\"edcd2162603676e382eaa16c68be0371\", element=\"48163424-54c9-4c58-a475-90b70b6cb53e\")>,\n",
       " <selenium.webdriver.remote.webelement.WebElement (session=\"edcd2162603676e382eaa16c68be0371\", element=\"1aad2b2d-8dfb-4b5c-b7ba-b0da56f9ed2f\")>]"
      ]
     },
     "execution_count": 111,
     "metadata": {},
     "output_type": "execute_result"
    }
   ],
   "source": [
    "desc3=driver.find_elements(By.XPATH,\"//*[@class='IRpwTa']\")\n",
    "desc3[0:4]"
   ]
  },
  {
   "cell_type": "code",
   "execution_count": 112,
   "id": "b9fe157c",
   "metadata": {},
   "outputs": [
    {
     "data": {
      "text/plain": [
       "['UV Protection Rectangular Sunglasses (Free Size)',\n",
       " 'UV Protection Round Sunglasses (Free Size)',\n",
       " 'UV Protection Butterfly Sunglasses (65)',\n",
       " 'by Lenskart Polarized, UV Protection Wayfarer Sunglasse...']"
      ]
     },
     "execution_count": 112,
     "metadata": {},
     "output_type": "execute_result"
    }
   ],
   "source": [
    "description3=[]\n",
    "for i in desc3:\n",
    "    temp=i.text\n",
    "    description3.append(temp)\n",
    "description3[0:4]"
   ]
  },
  {
   "cell_type": "code",
   "execution_count": 113,
   "id": "b0dfae60",
   "metadata": {},
   "outputs": [
    {
     "data": {
      "text/plain": [
       "[<selenium.webdriver.remote.webelement.WebElement (session=\"edcd2162603676e382eaa16c68be0371\", element=\"8ebe96f0-710a-48e3-be39-775bc593b65c\")>,\n",
       " <selenium.webdriver.remote.webelement.WebElement (session=\"edcd2162603676e382eaa16c68be0371\", element=\"91a7f530-2270-4983-93c6-edfab88a60af\")>,\n",
       " <selenium.webdriver.remote.webelement.WebElement (session=\"edcd2162603676e382eaa16c68be0371\", element=\"86d63700-ec8c-4d26-8dd7-9e0e7d52b0f9\")>,\n",
       " <selenium.webdriver.remote.webelement.WebElement (session=\"edcd2162603676e382eaa16c68be0371\", element=\"9b35e4a2-dff1-48cc-9f2e-a517bc99a64d\")>]"
      ]
     },
     "execution_count": 113,
     "metadata": {},
     "output_type": "execute_result"
    }
   ],
   "source": [
    "pri3=driver.find_elements(By.XPATH,\"//*[@class='_30jeq3']\")\n",
    "pri3[0:4]"
   ]
  },
  {
   "cell_type": "code",
   "execution_count": 114,
   "id": "5ab76014",
   "metadata": {},
   "outputs": [
    {
     "data": {
      "text/plain": [
       "['₹379', '₹399', '₹359', '₹1,179']"
      ]
     },
     "execution_count": 114,
     "metadata": {},
     "output_type": "execute_result"
    }
   ],
   "source": [
    "price3=[]\n",
    "for i in pri3:\n",
    "    temp=i.text\n",
    "    price3.append(temp)\n",
    "price3[0:4]"
   ]
  },
  {
   "cell_type": "code",
   "execution_count": 115,
   "id": "98dc3648",
   "metadata": {},
   "outputs": [
    {
     "data": {
      "text/plain": [
       "[<selenium.webdriver.remote.webelement.WebElement (session=\"edcd2162603676e382eaa16c68be0371\", element=\"cedd312e-bd06-4fe0-bb8f-59a081240154\")>,\n",
       " <selenium.webdriver.remote.webelement.WebElement (session=\"edcd2162603676e382eaa16c68be0371\", element=\"25ead321-2135-48b0-93fb-b17faf0c0d4d\")>,\n",
       " <selenium.webdriver.remote.webelement.WebElement (session=\"edcd2162603676e382eaa16c68be0371\", element=\"2d96d5b0-f515-4112-a676-4ee3045e6edb\")>,\n",
       " <selenium.webdriver.remote.webelement.WebElement (session=\"edcd2162603676e382eaa16c68be0371\", element=\"b6383fc5-65f5-4a63-ace3-9ff23c75c038\")>]"
      ]
     },
     "execution_count": 115,
     "metadata": {},
     "output_type": "execute_result"
    }
   ],
   "source": [
    "perc3=driver.find_elements(By.XPATH,\"//*[@class='_3Ay6Sb']\")\n",
    "perc3[0:4]"
   ]
  },
  {
   "cell_type": "code",
   "execution_count": 116,
   "id": "b22f3031",
   "metadata": {},
   "outputs": [
    {
     "data": {
      "text/plain": [
       "['74% off', '80% off', '86% off', '41% off']"
      ]
     },
     "execution_count": 116,
     "metadata": {},
     "output_type": "execute_result"
    }
   ],
   "source": [
    "off3=[]\n",
    "for i in perc3:\n",
    "    temp=i.text\n",
    "    off3.append(temp)\n",
    "off3[0:4]"
   ]
  },
  {
   "cell_type": "code",
   "execution_count": 117,
   "id": "7e70a92a",
   "metadata": {},
   "outputs": [],
   "source": [
    "pro=[]\n",
    "des=[]\n",
    "pr=[]\n",
    "dis=[]"
   ]
  },
  {
   "cell_type": "code",
   "execution_count": 129,
   "id": "2faf6afc",
   "metadata": {},
   "outputs": [],
   "source": [
    "pro=product+product2+product3\n",
    "des=description+description2+description3\n",
    "prce=price+price2+price3\n",
    "dis=off+off2+off3"
   ]
  },
  {
   "cell_type": "code",
   "execution_count": 130,
   "id": "dd696231",
   "metadata": {},
   "outputs": [
    {
     "name": "stdout",
     "output_type": "stream",
     "text": [
      "120\n",
      "120\n",
      "120\n",
      "120\n"
     ]
    }
   ],
   "source": [
    "print(len(pro))\n",
    "print(len(des))\n",
    "print(len(prce))\n",
    "print(len(dis))"
   ]
  },
  {
   "cell_type": "code",
   "execution_count": 131,
   "id": "1afc57c1",
   "metadata": {},
   "outputs": [
    {
     "data": {
      "text/html": [
       "<div>\n",
       "<style scoped>\n",
       "    .dataframe tbody tr th:only-of-type {\n",
       "        vertical-align: middle;\n",
       "    }\n",
       "\n",
       "    .dataframe tbody tr th {\n",
       "        vertical-align: top;\n",
       "    }\n",
       "\n",
       "    .dataframe thead th {\n",
       "        text-align: right;\n",
       "    }\n",
       "</style>\n",
       "<table border=\"1\" class=\"dataframe\">\n",
       "  <thead>\n",
       "    <tr style=\"text-align: right;\">\n",
       "      <th></th>\n",
       "      <th>Product Name</th>\n",
       "      <th>Product Description</th>\n",
       "      <th>Price</th>\n",
       "      <th>Discount</th>\n",
       "    </tr>\n",
       "  </thead>\n",
       "  <tbody>\n",
       "    <tr>\n",
       "      <th>0</th>\n",
       "      <td>Fravy</td>\n",
       "      <td>UV Protection Retro Square Sunglasses (Free Size)</td>\n",
       "      <td>₹299</td>\n",
       "      <td>80% off</td>\n",
       "    </tr>\n",
       "    <tr>\n",
       "      <th>1</th>\n",
       "      <td>ROZZETTA CRAFT</td>\n",
       "      <td>UV Protection, Gradient Retro Square Sunglasse...</td>\n",
       "      <td>₹325</td>\n",
       "      <td>83% off</td>\n",
       "    </tr>\n",
       "    <tr>\n",
       "      <th>2</th>\n",
       "      <td>Elligator</td>\n",
       "      <td>UV Protection Round Sunglasses (54)</td>\n",
       "      <td>₹264</td>\n",
       "      <td>89% off</td>\n",
       "    </tr>\n",
       "    <tr>\n",
       "      <th>3</th>\n",
       "      <td>Fastrack</td>\n",
       "      <td>UV Protection Rectangular Sunglasses (Free Size)</td>\n",
       "      <td>₹513</td>\n",
       "      <td>35% off</td>\n",
       "    </tr>\n",
       "    <tr>\n",
       "      <th>4</th>\n",
       "      <td>PIRASO</td>\n",
       "      <td>UV Protection Aviator Sunglasses (54)</td>\n",
       "      <td>₹200</td>\n",
       "      <td>87% off</td>\n",
       "    </tr>\n",
       "  </tbody>\n",
       "</table>\n",
       "</div>"
      ],
      "text/plain": [
       "     Product Name                                Product Description Price  \\\n",
       "0           Fravy  UV Protection Retro Square Sunglasses (Free Size)  ₹299   \n",
       "1  ROZZETTA CRAFT  UV Protection, Gradient Retro Square Sunglasse...  ₹325   \n",
       "2       Elligator                UV Protection Round Sunglasses (54)  ₹264   \n",
       "3        Fastrack   UV Protection Rectangular Sunglasses (Free Size)  ₹513   \n",
       "4          PIRASO              UV Protection Aviator Sunglasses (54)  ₹200   \n",
       "\n",
       "  Discount  \n",
       "0  80% off  \n",
       "1  83% off  \n",
       "2  89% off  \n",
       "3  35% off  \n",
       "4  87% off  "
      ]
     },
     "execution_count": 131,
     "metadata": {},
     "output_type": "execute_result"
    }
   ],
   "source": [
    "dataset=pd.DataFrame()\n",
    "dataset['Product Name']=pro\n",
    "dataset['Product Description']=des\n",
    "dataset['Price']=prce\n",
    "dataset['Discount']=dis\n",
    "dataset.head()"
   ]
  }
 ],
 "metadata": {
  "kernelspec": {
   "display_name": "Python 3",
   "language": "python",
   "name": "python3"
  },
  "language_info": {
   "codemirror_mode": {
    "name": "ipython",
    "version": 3
   },
   "file_extension": ".py",
   "mimetype": "text/x-python",
   "name": "python",
   "nbconvert_exporter": "python",
   "pygments_lexer": "ipython3",
   "version": "3.8.8"
  }
 },
 "nbformat": 4,
 "nbformat_minor": 5
}

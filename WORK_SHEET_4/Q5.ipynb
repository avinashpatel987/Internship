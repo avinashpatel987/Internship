{
 "cells": [
  {
   "cell_type": "code",
   "execution_count": 1,
   "id": "55233462",
   "metadata": {},
   "outputs": [],
   "source": [
    "import selenium\n",
    "import pandas as pd\n",
    "from selenium import webdriver\n",
    "from selenium.webdriver.chrome.service import Service\n",
    "from selenium.webdriver.common.by import By\n",
    "from selenium.webdriver.common.keys import Keys\n",
    "import time"
   ]
  },
  {
   "cell_type": "code",
   "execution_count": 46,
   "id": "fe4ab05a",
   "metadata": {},
   "outputs": [],
   "source": [
    "s=Service(\"C:\\chromedriver_win32\\chromedriver.exe\")\n",
    "driver=webdriver.Chrome(service=s)\n",
    "driver.get('https://www.google.com/maps/search/')"
   ]
  },
  {
   "cell_type": "code",
   "execution_count": 47,
   "id": "ffc93323",
   "metadata": {},
   "outputs": [
    {
     "name": "stdout",
     "output_type": "stream",
     "text": [
      "Enter the Location:pratap nagar\n"
     ]
    }
   ],
   "source": [
    "val=input(\"Enter the Location:\")"
   ]
  },
  {
   "cell_type": "code",
   "execution_count": 48,
   "id": "de4f6e7d",
   "metadata": {},
   "outputs": [],
   "source": [
    "driver.find_element(By.XPATH,\"//*[@id='searchboxinput']\").send_keys(val)"
   ]
  },
  {
   "cell_type": "code",
   "execution_count": 51,
   "id": "c1ad53da",
   "metadata": {},
   "outputs": [
    {
     "data": {
      "text/plain": [
       "['28.6543281', '77.05934']"
      ]
     },
     "execution_count": 51,
     "metadata": {},
     "output_type": "execute_result"
    }
   ],
   "source": [
    "btn1=driver.find_element(By.XPATH,'//*[@id=\"searchbox-searchbutton\"]')\n",
    "btn1.click()\n",
    "url=driver.current_url\n",
    "new_url=url.split('@')[1].split('data')[0]          #\"New_thing\":Splitting two thing at once and deleting at the same time\n",
    "coordinates=new_url.split(\",\")\n",
    "coordinates=coordinates[:2]\n",
    "coordinates"
   ]
  }
 ],
 "metadata": {
  "kernelspec": {
   "display_name": "Python 3",
   "language": "python",
   "name": "python3"
  },
  "language_info": {
   "codemirror_mode": {
    "name": "ipython",
    "version": 3
   },
   "file_extension": ".py",
   "mimetype": "text/x-python",
   "name": "python",
   "nbconvert_exporter": "python",
   "pygments_lexer": "ipython3",
   "version": "3.8.8"
  }
 },
 "nbformat": 4,
 "nbformat_minor": 5
}

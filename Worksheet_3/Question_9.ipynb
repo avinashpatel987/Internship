{
 "cells": [
  {
   "cell_type": "code",
   "execution_count": 1,
   "id": "7a0fba4b",
   "metadata": {},
   "outputs": [],
   "source": [
    "import selenium\n",
    "import pandas as pd\n",
    "from selenium import webdriver\n",
    "from selenium.webdriver.chrome.service import Service\n",
    "from selenium.webdriver.common.by import By"
   ]
  },
  {
   "cell_type": "code",
   "execution_count": 2,
   "id": "2e0981d3",
   "metadata": {},
   "outputs": [],
   "source": [
    "s=Service(\"C:\\chromedriver_win32\\chromedriver.exe\")\n",
    "driver=webdriver.Chrome(service=s)\n",
    "driver.get('https://www.ambitionbox.com/')"
   ]
  },
  {
   "cell_type": "code",
   "execution_count": 3,
   "id": "4af39f3b",
   "metadata": {},
   "outputs": [],
   "source": [
    "btn1=driver.find_element(By.XPATH,\"//*[@id='headerWrapper']/nav/nav/a[6]\")\n",
    "btn1.click()"
   ]
  },
  {
   "cell_type": "code",
   "execution_count": 4,
   "id": "de1e07da",
   "metadata": {},
   "outputs": [],
   "source": [
    "driver.find_element(By.XPATH,\"//*[@id='jobs-typeahead']/span/input\").send_keys(\"Data Scientist\")"
   ]
  },
  {
   "cell_type": "code",
   "execution_count": 5,
   "id": "eabd56db",
   "metadata": {},
   "outputs": [],
   "source": [
    "btn2=driver.find_element(By.XPATH,\"//*[@id='jobSearchPage']/div[2]/div[1]/div/div/div/button\")\n",
    "btn2.click()"
   ]
  },
  {
   "cell_type": "code",
   "execution_count": 6,
   "id": "2db06418",
   "metadata": {},
   "outputs": [],
   "source": [
    "btn3=driver.find_element(By.XPATH,\"//*[@id='filters-row']/div/div/div[2]/div[1]\")\n",
    "btn3.click()"
   ]
  },
  {
   "cell_type": "code",
   "execution_count": 7,
   "id": "3c049df6",
   "metadata": {},
   "outputs": [],
   "source": [
    "driver.find_element(By.XPATH,\"//*[@id='filters-row']/div/div/div[2]/div[2]/div/div[2]/input\").send_keys(\"Noida\")"
   ]
  },
  {
   "cell_type": "code",
   "execution_count": 8,
   "id": "39db6c71",
   "metadata": {},
   "outputs": [],
   "source": [
    "btn4=driver.find_element(By.XPATH,\"//*[@id='filters-row']/div/div/div[2]/div[2]/div/div[3]/div/div/div[1]/label\")\n",
    "btn4.click()"
   ]
  },
  {
   "cell_type": "code",
   "execution_count": 9,
   "id": "2b33e6a4",
   "metadata": {},
   "outputs": [
    {
     "data": {
      "text/plain": [
       "[<selenium.webdriver.remote.webelement.WebElement (session=\"9e0c7eab601beed9e2bf058e21f3be37\", element=\"e42e30e8-e9f8-4341-8303-be8c793a0d8e\")>,\n",
       " <selenium.webdriver.remote.webelement.WebElement (session=\"9e0c7eab601beed9e2bf058e21f3be37\", element=\"2c419e00-245d-44f4-86c7-463b7c6a0311\")>,\n",
       " <selenium.webdriver.remote.webelement.WebElement (session=\"9e0c7eab601beed9e2bf058e21f3be37\", element=\"d148cf4a-ced5-44f4-88fe-26c7597bb58e\")>,\n",
       " <selenium.webdriver.remote.webelement.WebElement (session=\"9e0c7eab601beed9e2bf058e21f3be37\", element=\"71aa2cbe-b83e-4097-8e7e-232ebbb268e0\")>]"
      ]
     },
     "execution_count": 9,
     "metadata": {},
     "output_type": "execute_result"
    }
   ],
   "source": [
    "name=driver.find_elements(By.XPATH,\"//*[@class='company body-medium']\")\n",
    "name[0:4]"
   ]
  },
  {
   "cell_type": "code",
   "execution_count": 10,
   "id": "cd3a48fd",
   "metadata": {},
   "outputs": [
    {
     "data": {
      "text/plain": [
       "['Optum Global Solutions (India) Private Limited',\n",
       " 'Ameriprise Financial',\n",
       " 'Optum Global Solutions (India) Private Limited',\n",
       " 'Steria India Ltd',\n",
       " 'Steria India Ltd',\n",
       " 'HCL Technologies Limited',\n",
       " 'Zyoin',\n",
       " 'GI Group',\n",
       " 'GI Group',\n",
       " 'IBM India Pvt. Limited']"
      ]
     },
     "execution_count": 10,
     "metadata": {},
     "output_type": "execute_result"
    }
   ],
   "source": [
    "nam=[]\n",
    "for i in name:\n",
    "    temp=i.text\n",
    "    nam.append(temp)\n",
    "nam"
   ]
  },
  {
   "cell_type": "code",
   "execution_count": 11,
   "id": "875401b9",
   "metadata": {},
   "outputs": [
    {
     "data": {
      "text/plain": [
       "[<selenium.webdriver.remote.webelement.WebElement (session=\"9e0c7eab601beed9e2bf058e21f3be37\", element=\"41a8afb1-a672-438e-ac97-16374b8b286b\")>,\n",
       " <selenium.webdriver.remote.webelement.WebElement (session=\"9e0c7eab601beed9e2bf058e21f3be37\", element=\"65bce519-d457-4452-9a4b-5c3a7f0be083\")>,\n",
       " <selenium.webdriver.remote.webelement.WebElement (session=\"9e0c7eab601beed9e2bf058e21f3be37\", element=\"4b4bcc1b-9295-435e-9902-0899db743c13\")>,\n",
       " <selenium.webdriver.remote.webelement.WebElement (session=\"9e0c7eab601beed9e2bf058e21f3be37\", element=\"b50cb3ef-7e5c-4961-9902-5718781056de\")>]"
      ]
     },
     "execution_count": 11,
     "metadata": {},
     "output_type": "execute_result"
    }
   ],
   "source": [
    "days=driver.find_elements(By.XPATH,\"//*[@class='body-small-l']\")\n",
    "days[0:4]"
   ]
  },
  {
   "cell_type": "code",
   "execution_count": 12,
   "id": "8d127455",
   "metadata": {},
   "outputs": [
    {
     "data": {
      "text/plain": [
       "['2-6 years',\n",
       " 'Not Disclosed',\n",
       " 'Noida, Gurgaon/Gurugram',\n",
       " '2-6 Yrs',\n",
       " 'Not Disclosed',\n",
       " 'Noida, Gurgaon/Gurugram',\n",
       " 'Python, Machine Learning, Random Forest +9 more',\n",
       " '7d ago',\n",
       " 'via naukri.com',\n",
       " '4-7 Yrs',\n",
       " 'Not Disclosed',\n",
       " 'Noida',\n",
       " 'Technical support, Networking, SAS +7 more',\n",
       " '2d ago',\n",
       " 'via naukri.com',\n",
       " '4-9 Yrs',\n",
       " 'Not Disclosed',\n",
       " 'Noida',\n",
       " 'Random Forest, Python, R +4 more',\n",
       " '28d ago',\n",
       " 'via naukri.com',\n",
       " '2-6 Yrs',\n",
       " 'Not Disclosed',\n",
       " 'Noida',\n",
       " 'Teradata SQL, Python, Hadoop +1 more',\n",
       " '19d ago',\n",
       " 'via naukri.com',\n",
       " '4-8 Yrs',\n",
       " 'Not Disclosed',\n",
       " 'Noida',\n",
       " 'Pyspark, Python, Jupyter +7 more',\n",
       " '19d ago',\n",
       " 'via naukri.com',\n",
       " '10-15 Yrs',\n",
       " 'Not Disclosed',\n",
       " 'Chennai, Hyderabad/Secunderabad, Noida',\n",
       " 'Python, Pyspark, Deep Learning +12 more',\n",
       " '30d ago',\n",
       " 'via naukri.com',\n",
       " '5-14 Yrs',\n",
       " 'Bengaluru/Bangalore, Noida',\n",
       " 'Data Scientist, Data Management, PhD +6 more',\n",
       " '1d ago',\n",
       " 'via hirist.com',\n",
       " '8-15 Yrs',\n",
       " 'Bengaluru/Bangalore, Gurgaon/Gurugram, Noida',\n",
       " 'Data Science, Data Scientist, Data Management +3 more',\n",
       " '2d ago',\n",
       " 'via iimjobs.com',\n",
       " '8-15 Yrs',\n",
       " 'Delhi NCR, Noida, Gurgaon/Gurugram +4 more',\n",
       " 'Data Analytics, Data Scientist, Data Visualization +7 more',\n",
       " '4d ago',\n",
       " 'via iimjobs.com',\n",
       " '4-6 Yrs',\n",
       " 'Not Disclosed',\n",
       " 'Noida',\n",
       " 'SQL, Automation, Python +7 more',\n",
       " '1mon ago',\n",
       " 'via naukri.com']"
      ]
     },
     "execution_count": 12,
     "metadata": {},
     "output_type": "execute_result"
    }
   ],
   "source": [
    "d=[]\n",
    "for i in days:\n",
    "    temp=i.text\n",
    "    d.append(temp)\n",
    "d"
   ]
  },
  {
   "cell_type": "code",
   "execution_count": 13,
   "id": "c0fd61ba",
   "metadata": {},
   "outputs": [
    {
     "data": {
      "text/plain": [
       "['7d ago',\n",
       " '2d ago',\n",
       " '28d ago',\n",
       " '19d ago',\n",
       " '19d ago',\n",
       " '30d ago',\n",
       " '1d ago',\n",
       " '2d ago',\n",
       " '4d ago',\n",
       " '1mon ago']"
      ]
     },
     "execution_count": 13,
     "metadata": {},
     "output_type": "execute_result"
    }
   ],
   "source": [
    "day=[]\n",
    "day=d[7:37:6]+d[37:-4:5]+d[-2:-1]\n",
    "day"
   ]
  },
  {
   "cell_type": "code",
   "execution_count": 18,
   "id": "24a73ad7",
   "metadata": {},
   "outputs": [
    {
     "data": {
      "text/plain": [
       "[<selenium.webdriver.remote.webelement.WebElement (session=\"9e0c7eab601beed9e2bf058e21f3be37\", element=\"d8c7ab61-d465-4dab-a57d-b7ac8480eb0c\")>,\n",
       " <selenium.webdriver.remote.webelement.WebElement (session=\"9e0c7eab601beed9e2bf058e21f3be37\", element=\"a67ad890-e03b-4911-b5bb-50b4d8e060b6\")>,\n",
       " <selenium.webdriver.remote.webelement.WebElement (session=\"9e0c7eab601beed9e2bf058e21f3be37\", element=\"f4e0d121-aaa1-43c0-ae71-efc065bbd552\")>,\n",
       " <selenium.webdriver.remote.webelement.WebElement (session=\"9e0c7eab601beed9e2bf058e21f3be37\", element=\"11614ce7-cf1f-4c65-a45c-0f10be63b1a4\")>]"
      ]
     },
     "execution_count": 18,
     "metadata": {},
     "output_type": "execute_result"
    }
   ],
   "source": [
    "ratng=driver.find_elements(By.XPATH,\"//span[@class='body-small']\")\n",
    "ratng[0:4]"
   ]
  },
  {
   "cell_type": "code",
   "execution_count": 20,
   "id": "b1deda45",
   "metadata": {},
   "outputs": [
    {
     "data": {
      "text/plain": [
       "['4.1', '4.1', '4.1', '4.1', '4.1', '3.8', '4.2', '3.9', '3.9', '4.1']"
      ]
     },
     "execution_count": 20,
     "metadata": {},
     "output_type": "execute_result"
    }
   ],
   "source": [
    "r=[]\n",
    "for i in ratng:\n",
    "    temp=i.text\n",
    "    r.append(temp)\n",
    "r"
   ]
  },
  {
   "cell_type": "code",
   "execution_count": 21,
   "id": "d05fda8e",
   "metadata": {},
   "outputs": [
    {
     "data": {
      "text/html": [
       "<div>\n",
       "<style scoped>\n",
       "    .dataframe tbody tr th:only-of-type {\n",
       "        vertical-align: middle;\n",
       "    }\n",
       "\n",
       "    .dataframe tbody tr th {\n",
       "        vertical-align: top;\n",
       "    }\n",
       "\n",
       "    .dataframe thead th {\n",
       "        text-align: right;\n",
       "    }\n",
       "</style>\n",
       "<table border=\"1\" class=\"dataframe\">\n",
       "  <thead>\n",
       "    <tr style=\"text-align: right;\">\n",
       "      <th></th>\n",
       "      <th>Company Name</th>\n",
       "      <th>No. of days ago when job was posted</th>\n",
       "      <th>Rating</th>\n",
       "    </tr>\n",
       "  </thead>\n",
       "  <tbody>\n",
       "    <tr>\n",
       "      <th>0</th>\n",
       "      <td>Optum Global Solutions (India) Private Limited</td>\n",
       "      <td>7d ago</td>\n",
       "      <td>4.1</td>\n",
       "    </tr>\n",
       "    <tr>\n",
       "      <th>1</th>\n",
       "      <td>Ameriprise Financial</td>\n",
       "      <td>2d ago</td>\n",
       "      <td>4.1</td>\n",
       "    </tr>\n",
       "    <tr>\n",
       "      <th>2</th>\n",
       "      <td>Optum Global Solutions (India) Private Limited</td>\n",
       "      <td>28d ago</td>\n",
       "      <td>4.1</td>\n",
       "    </tr>\n",
       "    <tr>\n",
       "      <th>3</th>\n",
       "      <td>Steria India Ltd</td>\n",
       "      <td>19d ago</td>\n",
       "      <td>4.1</td>\n",
       "    </tr>\n",
       "    <tr>\n",
       "      <th>4</th>\n",
       "      <td>Steria India Ltd</td>\n",
       "      <td>19d ago</td>\n",
       "      <td>4.1</td>\n",
       "    </tr>\n",
       "  </tbody>\n",
       "</table>\n",
       "</div>"
      ],
      "text/plain": [
       "                                     Company Name  \\\n",
       "0  Optum Global Solutions (India) Private Limited   \n",
       "1                            Ameriprise Financial   \n",
       "2  Optum Global Solutions (India) Private Limited   \n",
       "3                                Steria India Ltd   \n",
       "4                                Steria India Ltd   \n",
       "\n",
       "  No. of days ago when job was posted Rating  \n",
       "0                              7d ago    4.1  \n",
       "1                              2d ago    4.1  \n",
       "2                             28d ago    4.1  \n",
       "3                             19d ago    4.1  \n",
       "4                             19d ago    4.1  "
      ]
     },
     "execution_count": 21,
     "metadata": {},
     "output_type": "execute_result"
    }
   ],
   "source": [
    "dataset=pd.DataFrame()\n",
    "dataset['Company Name']=nam\n",
    "dataset['No. of days ago when job was posted']=day\n",
    "dataset['Rating']=r\n",
    "dataset.head()"
   ]
  }
 ],
 "metadata": {
  "kernelspec": {
   "display_name": "Python 3",
   "language": "python",
   "name": "python3"
  },
  "language_info": {
   "codemirror_mode": {
    "name": "ipython",
    "version": 3
   },
   "file_extension": ".py",
   "mimetype": "text/x-python",
   "name": "python",
   "nbconvert_exporter": "python",
   "pygments_lexer": "ipython3",
   "version": "3.8.8"
  }
 },
 "nbformat": 4,
 "nbformat_minor": 5
}

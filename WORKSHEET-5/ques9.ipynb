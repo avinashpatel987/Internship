{
 "cells": [
  {
   "cell_type": "code",
   "execution_count": 1,
   "id": "3b0b404f",
   "metadata": {},
   "outputs": [],
   "source": [
    "import selenium\n",
    "import pandas as pd\n",
    "from selenium import webdriver\n",
    "from selenium.webdriver.chrome.service import Service\n",
    "from selenium.webdriver.common.by import By\n",
    "import time\n",
    "import urllib\n",
    "import os\n",
    "from selenium.webdriver.common.action_chains import ActionChains"
   ]
  },
  {
   "cell_type": "code",
   "execution_count": 2,
   "id": "42485ab4",
   "metadata": {},
   "outputs": [],
   "source": [
    "s=Service(\"C:\\chromedriver_win32\\chromedriver.exe\")\n",
    "driver=webdriver.Chrome(service=s)\n",
    "driver.get('https://www.imdb.com/list/ls095964455/')"
   ]
  },
  {
   "cell_type": "code",
   "execution_count": 3,
   "id": "2fad9841",
   "metadata": {},
   "outputs": [],
   "source": [
    "n=driver.find_elements(By.XPATH,\"//h3[@class='lister-item-header']\")\n",
    "ys=driver.find_elements(By.XPATH,\"//span[@class='lister-item-year text-muted unbold']\")\n",
    "g=driver.find_elements(By.XPATH,\"//span[@class='genre']\")\n",
    "rt=driver.find_elements(By.XPATH,\"//span[@class='runtime']\")\n",
    "rat=driver.find_elements(By.XPATH,\"//div[@class='ipl-rating-star small']\")\n",
    "v=driver.find_elements(By.XPATH,\"//p[@class='text-muted text-small'][2]\")"
   ]
  },
  {
   "cell_type": "code",
   "execution_count": 4,
   "id": "8a231490",
   "metadata": {},
   "outputs": [],
   "source": [
    "def text(val,which):\n",
    "    if len(val) == 0:\n",
    "        which.append(\"-\")\n",
    "    else:\n",
    "        for i in val:\n",
    "            temp=i.text\n",
    "            which.append(temp)"
   ]
  },
  {
   "cell_type": "code",
   "execution_count": 5,
   "id": "d3553a4d",
   "metadata": {},
   "outputs": [],
   "source": [
    "name=[]\n",
    "Year_span=[]\n",
    "Genre=[]\n",
    "Run_time=[]\n",
    "Ratings=[]\n",
    "Votes=[] \n",
    "text(n,name)\n",
    "text(ys,Year_span)\n",
    "text(g,Genre)\n",
    "text(rt,Run_time)\n",
    "text(rat,Ratings)\n",
    "text(v,Votes)"
   ]
  },
  {
   "cell_type": "code",
   "execution_count": 6,
   "id": "7c1207ba",
   "metadata": {},
   "outputs": [
    {
     "data": {
      "text/html": [
       "<div>\n",
       "<style scoped>\n",
       "    .dataframe tbody tr th:only-of-type {\n",
       "        vertical-align: middle;\n",
       "    }\n",
       "\n",
       "    .dataframe tbody tr th {\n",
       "        vertical-align: top;\n",
       "    }\n",
       "\n",
       "    .dataframe thead th {\n",
       "        text-align: right;\n",
       "    }\n",
       "</style>\n",
       "<table border=\"1\" class=\"dataframe\">\n",
       "  <thead>\n",
       "    <tr style=\"text-align: right;\">\n",
       "      <th></th>\n",
       "      <th>Name</th>\n",
       "      <th>Year span</th>\n",
       "      <th>Genre</th>\n",
       "      <th>Run time</th>\n",
       "      <th>Ratings</th>\n",
       "      <th>Votes</th>\n",
       "    </tr>\n",
       "  </thead>\n",
       "  <tbody>\n",
       "    <tr>\n",
       "      <th>0</th>\n",
       "      <td>1. Game of Thrones (2011–2019)</td>\n",
       "      <td>(2011–2019)</td>\n",
       "      <td>Action, Adventure, Drama</td>\n",
       "      <td>57 min</td>\n",
       "      <td>9.2</td>\n",
       "      <td>Stars: Emilia Clarke, Peter Dinklage, Kit Hari...</td>\n",
       "    </tr>\n",
       "    <tr>\n",
       "      <th>1</th>\n",
       "      <td>2. Stranger Things (2016– )</td>\n",
       "      <td>(2016– )</td>\n",
       "      <td>Drama, Fantasy, Horror</td>\n",
       "      <td>51 min</td>\n",
       "      <td>8.7</td>\n",
       "      <td>Stars: Millie Bobby Brown, Finn Wolfhard, Wino...</td>\n",
       "    </tr>\n",
       "    <tr>\n",
       "      <th>2</th>\n",
       "      <td>3. The Walking Dead (2010–2022)</td>\n",
       "      <td>(2010–2022)</td>\n",
       "      <td>Drama, Horror, Thriller</td>\n",
       "      <td>44 min</td>\n",
       "      <td>8.2</td>\n",
       "      <td>Stars: Andrew Lincoln, Norman Reedus, Melissa ...</td>\n",
       "    </tr>\n",
       "    <tr>\n",
       "      <th>3</th>\n",
       "      <td>4. 13 Reasons Why (2017–2020)</td>\n",
       "      <td>(2017–2020)</td>\n",
       "      <td>Drama, Mystery, Thriller</td>\n",
       "      <td>60 min</td>\n",
       "      <td>7.5</td>\n",
       "      <td>Stars: Dylan Minnette, Katherine Langford, Chr...</td>\n",
       "    </tr>\n",
       "    <tr>\n",
       "      <th>4</th>\n",
       "      <td>5. The 100 (2014–2020)</td>\n",
       "      <td>(2014–2020)</td>\n",
       "      <td>Drama, Mystery, Sci-Fi</td>\n",
       "      <td>43 min</td>\n",
       "      <td>7.6</td>\n",
       "      <td>Stars: Eliza Taylor, Bob Morley, Marie Avgerop...</td>\n",
       "    </tr>\n",
       "  </tbody>\n",
       "</table>\n",
       "</div>"
      ],
      "text/plain": [
       "                              Name    Year span                     Genre  \\\n",
       "0   1. Game of Thrones (2011–2019)  (2011–2019)  Action, Adventure, Drama   \n",
       "1      2. Stranger Things (2016– )     (2016– )    Drama, Fantasy, Horror   \n",
       "2  3. The Walking Dead (2010–2022)  (2010–2022)   Drama, Horror, Thriller   \n",
       "3    4. 13 Reasons Why (2017–2020)  (2017–2020)  Drama, Mystery, Thriller   \n",
       "4           5. The 100 (2014–2020)  (2014–2020)    Drama, Mystery, Sci-Fi   \n",
       "\n",
       "  Run time Ratings                                              Votes  \n",
       "0   57 min     9.2  Stars: Emilia Clarke, Peter Dinklage, Kit Hari...  \n",
       "1   51 min     8.7  Stars: Millie Bobby Brown, Finn Wolfhard, Wino...  \n",
       "2   44 min     8.2  Stars: Andrew Lincoln, Norman Reedus, Melissa ...  \n",
       "3   60 min     7.5  Stars: Dylan Minnette, Katherine Langford, Chr...  \n",
       "4   43 min     7.6  Stars: Eliza Taylor, Bob Morley, Marie Avgerop...  "
      ]
     },
     "execution_count": 6,
     "metadata": {},
     "output_type": "execute_result"
    }
   ],
   "source": [
    "dataset=pd.DataFrame()\n",
    "dataset['Name']=name\n",
    "dataset['Year span']=Year_span\n",
    "dataset['Genre']=Genre\n",
    "dataset['Run time']=Run_time\n",
    "dataset['Ratings']=Ratings\n",
    "dataset['Votes']=Votes\n",
    "dataset.head()"
   ]
  },
  {
   "cell_type": "code",
   "execution_count": null,
   "id": "012dba42",
   "metadata": {},
   "outputs": [],
   "source": []
  }
 ],
 "metadata": {
  "kernelspec": {
   "display_name": "Python 3",
   "language": "python",
   "name": "python3"
  },
  "language_info": {
   "codemirror_mode": {
    "name": "ipython",
    "version": 3
   },
   "file_extension": ".py",
   "mimetype": "text/x-python",
   "name": "python",
   "nbconvert_exporter": "python",
   "pygments_lexer": "ipython3",
   "version": "3.8.8"
  }
 },
 "nbformat": 4,
 "nbformat_minor": 5
}

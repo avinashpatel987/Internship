{
 "cells": [
  {
   "cell_type": "code",
   "execution_count": 1,
   "id": "6967c9de",
   "metadata": {},
   "outputs": [],
   "source": [
    "import selenium\n",
    "import pandas as pd\n",
    "from selenium import webdriver\n",
    "from selenium.webdriver.chrome.service import Service\n",
    "from selenium.webdriver.common.by import By"
   ]
  },
  {
   "cell_type": "code",
   "execution_count": 2,
   "id": "0c0eddff",
   "metadata": {},
   "outputs": [],
   "source": [
    "s=Service(\"C:\\chromedriver_win32\\chromedriver.exe\")\n",
    "driver=webdriver.Chrome(service=s)\n",
    "driver.get('https://www.flipkart.com/')"
   ]
  },
  {
   "cell_type": "code",
   "execution_count": 3,
   "id": "ba7fb1cc",
   "metadata": {},
   "outputs": [],
   "source": [
    "driver.find_element(By.XPATH,\"//*[@id='container']/div/div[1]/div[1]/div[2]/div[2]/form/div/div/input\").send_keys(\"sneakers\")"
   ]
  },
  {
   "cell_type": "code",
   "execution_count": 4,
   "id": "5fa7fc3a",
   "metadata": {},
   "outputs": [],
   "source": [
    "btn1=driver.find_element(By.XPATH,\"//*[@class='L0Z3Pu']\")\n",
    "btn1.click()"
   ]
  },
  {
   "cell_type": "code",
   "execution_count": 5,
   "id": "fb6f47c9",
   "metadata": {},
   "outputs": [
    {
     "data": {
      "text/plain": [
       "[<selenium.webdriver.remote.webelement.WebElement (session=\"6271d6b250f8bc1085b8f56f5148be7d\", element=\"74909991-ab9e-413d-9d79-3d1a86e6bc98\")>,\n",
       " <selenium.webdriver.remote.webelement.WebElement (session=\"6271d6b250f8bc1085b8f56f5148be7d\", element=\"8cf4e7b6-79e2-490a-988f-e0801929c083\")>,\n",
       " <selenium.webdriver.remote.webelement.WebElement (session=\"6271d6b250f8bc1085b8f56f5148be7d\", element=\"1f333c6a-6eb9-45ca-9579-92e17ea325d3\")>,\n",
       " <selenium.webdriver.remote.webelement.WebElement (session=\"6271d6b250f8bc1085b8f56f5148be7d\", element=\"336200d0-1ceb-446c-b641-c0fb9c64731c\")>]"
      ]
     },
     "execution_count": 5,
     "metadata": {},
     "output_type": "execute_result"
    }
   ],
   "source": [
    "Pname=driver.find_elements(By.XPATH,\"//*[@class='_2WkVRV']\")\n",
    "Pname[0:4]"
   ]
  },
  {
   "cell_type": "code",
   "execution_count": 6,
   "id": "9b491f8c",
   "metadata": {},
   "outputs": [
    {
     "data": {
      "text/plain": [
       "['claptrap', 'PUMA', 'Magnolia', 'Numenzo']"
      ]
     },
     "execution_count": 6,
     "metadata": {},
     "output_type": "execute_result"
    }
   ],
   "source": [
    "product=[]\n",
    "for i in Pname:\n",
    "    temp=i.text\n",
    "    product.append(temp)\n",
    "product[0:4]"
   ]
  },
  {
   "cell_type": "code",
   "execution_count": 70,
   "id": "905081f9",
   "metadata": {},
   "outputs": [
    {
     "data": {
      "text/plain": [
       "[<selenium.webdriver.remote.webelement.WebElement (session=\"6271d6b250f8bc1085b8f56f5148be7d\", element=\"d51e1764-6970-4e51-b985-55678e58a0e8\")>,\n",
       " <selenium.webdriver.remote.webelement.WebElement (session=\"6271d6b250f8bc1085b8f56f5148be7d\", element=\"0b941fa1-92cd-4f7c-8587-06b252ca0154\")>,\n",
       " <selenium.webdriver.remote.webelement.WebElement (session=\"6271d6b250f8bc1085b8f56f5148be7d\", element=\"55d63d7c-61ce-45f9-9193-b128d728f45a\")>,\n",
       " <selenium.webdriver.remote.webelement.WebElement (session=\"6271d6b250f8bc1085b8f56f5148be7d\", element=\"63c50b23-33e8-4aba-854a-24685cd7bb37\")>]"
      ]
     },
     "execution_count": 70,
     "metadata": {},
     "output_type": "execute_result"
    }
   ],
   "source": [
    "desc=driver.find_elements(By.XPATH,\"//a[contains(@class, 'IRpwTa') or contains(@class, 'IRpwTa _2-ICcC')]\")\n",
    "desc[0:4]"
   ]
  },
  {
   "cell_type": "code",
   "execution_count": 71,
   "id": "e0f6fccd",
   "metadata": {},
   "outputs": [
    {
     "data": {
      "text/plain": [
       "['Sneakers For Men',\n",
       " '411 Casual Sneakers For Men',\n",
       " 'White Sneaker For Men Sneakers For Men',\n",
       " 'Super Stylish & Trendy Combo Pack of 02 Pairs Sneakers ...']"
      ]
     },
     "execution_count": 71,
     "metadata": {},
     "output_type": "execute_result"
    }
   ],
   "source": [
    "description=[]\n",
    "for i in desc:\n",
    "    temp=i.text\n",
    "    description.append(temp)\n",
    "description[0:4]"
   ]
  },
  {
   "cell_type": "code",
   "execution_count": 119,
   "id": "7afdc2aa",
   "metadata": {},
   "outputs": [
    {
     "data": {
      "text/plain": [
       "[<selenium.webdriver.remote.webelement.WebElement (session=\"6271d6b250f8bc1085b8f56f5148be7d\", element=\"9fb72cce-3acb-44c0-892d-74487df96f17\")>,\n",
       " <selenium.webdriver.remote.webelement.WebElement (session=\"6271d6b250f8bc1085b8f56f5148be7d\", element=\"f43a9a80-4371-4cfa-886e-f3d8e8a8abba\")>,\n",
       " <selenium.webdriver.remote.webelement.WebElement (session=\"6271d6b250f8bc1085b8f56f5148be7d\", element=\"026c905e-9815-44f4-8103-785644cb3ec1\")>,\n",
       " <selenium.webdriver.remote.webelement.WebElement (session=\"6271d6b250f8bc1085b8f56f5148be7d\", element=\"b414915a-2f28-4014-9e06-626f6763c8e6\")>]"
      ]
     },
     "execution_count": 119,
     "metadata": {},
     "output_type": "execute_result"
    }
   ],
   "source": [
    "pri=driver.find_elements(By.XPATH,\"//div[contains(@class, '_30jeq3') or contains(@class, '_3utEwz')]\")\n",
    "pri[0:4]"
   ]
  },
  {
   "cell_type": "code",
   "execution_count": 120,
   "id": "8b7a2f15",
   "metadata": {},
   "outputs": [
    {
     "data": {
      "text/plain": [
       "['₹398', '₹499', '₹479', '₹699', 'Price: Not Available']"
      ]
     },
     "execution_count": 120,
     "metadata": {},
     "output_type": "execute_result"
    }
   ],
   "source": [
    "price=[]\n",
    "for i in pri:\n",
    "    temp=i.text\n",
    "    price.append(temp)\n",
    "price[0:5]"
   ]
  },
  {
   "cell_type": "code",
   "execution_count": 128,
   "id": "b0b9620b",
   "metadata": {},
   "outputs": [
    {
     "data": {
      "text/plain": [
       "[<selenium.webdriver.remote.webelement.WebElement (session=\"6271d6b250f8bc1085b8f56f5148be7d\", element=\"10e14af1-830d-4f47-8e7a-fc4f5795c586\")>,\n",
       " <selenium.webdriver.remote.webelement.WebElement (session=\"6271d6b250f8bc1085b8f56f5148be7d\", element=\"1724ba7d-f4cd-4fcf-a16f-4ea40ebd9f2f\")>,\n",
       " <selenium.webdriver.remote.webelement.WebElement (session=\"6271d6b250f8bc1085b8f56f5148be7d\", element=\"442fa70f-31e8-4b01-b56d-21faa602826e\")>,\n",
       " <selenium.webdriver.remote.webelement.WebElement (session=\"6271d6b250f8bc1085b8f56f5148be7d\", element=\"a1430a2b-c9f2-4274-84e9-1d79d80ac70c\")>]"
      ]
     },
     "execution_count": 128,
     "metadata": {},
     "output_type": "execute_result"
    }
   ],
   "source": [
    "perc=driver.find_elements(By.XPATH,\"//div[contains(@class, '_3Ay6Sb') or contains(@class, '_3utEwz')]\")\n",
    "perc[0:4]"
   ]
  },
  {
   "cell_type": "code",
   "execution_count": 129,
   "id": "c045068d",
   "metadata": {},
   "outputs": [
    {
     "data": {
      "text/plain": [
       "45"
      ]
     },
     "execution_count": 129,
     "metadata": {},
     "output_type": "execute_result"
    }
   ],
   "source": [
    "off=[]\n",
    "for i in perc:\n",
    "    temp=i.text\n",
    "    off.append(temp)\n",
    "off[0:4]"
   ]
  },
  {
   "cell_type": "code",
   "execution_count": 76,
   "id": "8d888f28",
   "metadata": {},
   "outputs": [],
   "source": [
    "btn2=driver.find_element(By.XPATH,\"//*[@id='container']/div/div[3]/div[1]/div[2]/div[12]/div/div/nav/a[2]\")\n",
    "btn2.click()"
   ]
  },
  {
   "cell_type": "code",
   "execution_count": 98,
   "id": "aab2ecba",
   "metadata": {},
   "outputs": [
    {
     "data": {
      "text/plain": [
       "[<selenium.webdriver.remote.webelement.WebElement (session=\"6271d6b250f8bc1085b8f56f5148be7d\", element=\"5364c135-88ff-40d9-9cd3-2a2af31496f5\")>,\n",
       " <selenium.webdriver.remote.webelement.WebElement (session=\"6271d6b250f8bc1085b8f56f5148be7d\", element=\"7893e90b-f085-4ba8-992c-e227e977e92c\")>,\n",
       " <selenium.webdriver.remote.webelement.WebElement (session=\"6271d6b250f8bc1085b8f56f5148be7d\", element=\"4a942a9c-4f26-44e9-8287-e5a9b34ddc92\")>,\n",
       " <selenium.webdriver.remote.webelement.WebElement (session=\"6271d6b250f8bc1085b8f56f5148be7d\", element=\"7197c0c9-3873-4e77-9a31-55abd7d92762\")>]"
      ]
     },
     "execution_count": 98,
     "metadata": {},
     "output_type": "execute_result"
    }
   ],
   "source": [
    "Pname2=driver.find_elements(By.XPATH,\"//*[@class='_2WkVRV']\")\n",
    "Pname2[0:4]"
   ]
  },
  {
   "cell_type": "code",
   "execution_count": 99,
   "id": "8d0e255b",
   "metadata": {},
   "outputs": [
    {
     "data": {
      "text/plain": [
       "['NBL Sports', 'mannu', 'HOC', 'Vedboy']"
      ]
     },
     "execution_count": 99,
     "metadata": {},
     "output_type": "execute_result"
    }
   ],
   "source": [
    "product2=[]\n",
    "for i in Pname2:\n",
    "    temp=i.text\n",
    "    product2.append(temp)\n",
    "product2[0:4]"
   ]
  },
  {
   "cell_type": "code",
   "execution_count": 79,
   "id": "b6313ea4",
   "metadata": {},
   "outputs": [
    {
     "data": {
      "text/plain": [
       "[<selenium.webdriver.remote.webelement.WebElement (session=\"6271d6b250f8bc1085b8f56f5148be7d\", element=\"9d2a5298-d3ff-463f-8273-d50d44503bf0\")>,\n",
       " <selenium.webdriver.remote.webelement.WebElement (session=\"6271d6b250f8bc1085b8f56f5148be7d\", element=\"75ee4699-1b36-4e80-a7d4-769f060a8a9c\")>,\n",
       " <selenium.webdriver.remote.webelement.WebElement (session=\"6271d6b250f8bc1085b8f56f5148be7d\", element=\"b9aea462-1dc5-428d-9987-90f7729e98ab\")>,\n",
       " <selenium.webdriver.remote.webelement.WebElement (session=\"6271d6b250f8bc1085b8f56f5148be7d\", element=\"47f79f6f-efc3-40f9-89b4-af6c962274d3\")>]"
      ]
     },
     "execution_count": 79,
     "metadata": {},
     "output_type": "execute_result"
    }
   ],
   "source": [
    "desc2=driver.find_elements(By.XPATH,\"//a[contains(@class, 'IRpwTa') or contains(@class, 'IRpwTa _2-ICcC')]\")\n",
    "desc2[0:4]"
   ]
  },
  {
   "cell_type": "code",
   "execution_count": 80,
   "id": "afd54d27",
   "metadata": {},
   "outputs": [
    {
     "data": {
      "text/plain": [
       "[\"Luxury Branded Fashionable Men's Casual Walking Partywe...\",\n",
       " 'SM-322 Sneakers For Men',\n",
       " 'casual for men (beige 06) Sneakers For Men',\n",
       " 'Modern Trendy Shoes Combo pack of 4 Sneakers For Men']"
      ]
     },
     "execution_count": 80,
     "metadata": {},
     "output_type": "execute_result"
    }
   ],
   "source": [
    "description2=[]\n",
    "for i in desc2:\n",
    "    temp=i.text\n",
    "    description2.append(temp)\n",
    "description2[0:4]"
   ]
  },
  {
   "cell_type": "code",
   "execution_count": 81,
   "id": "d01dd095",
   "metadata": {},
   "outputs": [
    {
     "data": {
      "text/plain": [
       "[<selenium.webdriver.remote.webelement.WebElement (session=\"6271d6b250f8bc1085b8f56f5148be7d\", element=\"2ef14954-751c-4b0b-b103-12a349698400\")>,\n",
       " <selenium.webdriver.remote.webelement.WebElement (session=\"6271d6b250f8bc1085b8f56f5148be7d\", element=\"3ef6948f-5fd1-4384-a90a-59c9746e1588\")>,\n",
       " <selenium.webdriver.remote.webelement.WebElement (session=\"6271d6b250f8bc1085b8f56f5148be7d\", element=\"e4c60262-7db3-4c60-89f3-cd240e9344a5\")>,\n",
       " <selenium.webdriver.remote.webelement.WebElement (session=\"6271d6b250f8bc1085b8f56f5148be7d\", element=\"96c79afe-efd8-45be-ab03-6a52f71c4e8d\")>]"
      ]
     },
     "execution_count": 81,
     "metadata": {},
     "output_type": "execute_result"
    }
   ],
   "source": [
    "pri2=driver.find_elements(By.XPATH,\"//*[@class='_30jeq3']\")\n",
    "pri2[0:4]"
   ]
  },
  {
   "cell_type": "code",
   "execution_count": 82,
   "id": "353842ed",
   "metadata": {},
   "outputs": [
    {
     "data": {
      "text/plain": [
       "['₹499', '₹882', '₹474', '₹899']"
      ]
     },
     "execution_count": 82,
     "metadata": {},
     "output_type": "execute_result"
    }
   ],
   "source": [
    "price2=[]\n",
    "for i in pri2:\n",
    "    temp=i.text\n",
    "    price2.append(temp)\n",
    "price2[0:4]"
   ]
  },
  {
   "cell_type": "code",
   "execution_count": 83,
   "id": "0e9cb57e",
   "metadata": {},
   "outputs": [
    {
     "data": {
      "text/plain": [
       "[<selenium.webdriver.remote.webelement.WebElement (session=\"6271d6b250f8bc1085b8f56f5148be7d\", element=\"2b220701-7e82-47f9-b58f-dc8e59749a0e\")>,\n",
       " <selenium.webdriver.remote.webelement.WebElement (session=\"6271d6b250f8bc1085b8f56f5148be7d\", element=\"9e16a311-2c7a-4dd9-9bf1-42631e1eb82b\")>,\n",
       " <selenium.webdriver.remote.webelement.WebElement (session=\"6271d6b250f8bc1085b8f56f5148be7d\", element=\"a6182bd3-c0c1-41ac-b50f-2e908f5f9752\")>,\n",
       " <selenium.webdriver.remote.webelement.WebElement (session=\"6271d6b250f8bc1085b8f56f5148be7d\", element=\"3025d268-4b9c-4ce3-8c51-5a810e0f37e5\")>]"
      ]
     },
     "execution_count": 83,
     "metadata": {},
     "output_type": "execute_result"
    }
   ],
   "source": [
    "perc2=driver.find_elements(By.XPATH,\"//*[@class='_3Ay6Sb']\")\n",
    "perc2[0:4]"
   ]
  },
  {
   "cell_type": "code",
   "execution_count": 84,
   "id": "ab8d5a3e",
   "metadata": {},
   "outputs": [
    {
     "data": {
      "text/plain": [
       "['37% off', '15% off', '52% off', '54% off']"
      ]
     },
     "execution_count": 84,
     "metadata": {},
     "output_type": "execute_result"
    }
   ],
   "source": [
    "off2=[]\n",
    "for i in perc2:\n",
    "    temp=i.text\n",
    "    off2.append(temp)\n",
    "off2[0:4]"
   ]
  },
  {
   "cell_type": "code",
   "execution_count": 85,
   "id": "33e9f058",
   "metadata": {},
   "outputs": [],
   "source": [
    "btn3=driver.find_element(By.XPATH,\"//*[@id='container']/div/div[3]/div[1]/div[2]/div[12]/div/div/nav/a[4]\")\n",
    "btn3.click()"
   ]
  },
  {
   "cell_type": "code",
   "execution_count": 86,
   "id": "c4d2e4bf",
   "metadata": {},
   "outputs": [
    {
     "data": {
      "text/plain": [
       "[<selenium.webdriver.remote.webelement.WebElement (session=\"6271d6b250f8bc1085b8f56f5148be7d\", element=\"5364c135-88ff-40d9-9cd3-2a2af31496f5\")>,\n",
       " <selenium.webdriver.remote.webelement.WebElement (session=\"6271d6b250f8bc1085b8f56f5148be7d\", element=\"7893e90b-f085-4ba8-992c-e227e977e92c\")>,\n",
       " <selenium.webdriver.remote.webelement.WebElement (session=\"6271d6b250f8bc1085b8f56f5148be7d\", element=\"4a942a9c-4f26-44e9-8287-e5a9b34ddc92\")>,\n",
       " <selenium.webdriver.remote.webelement.WebElement (session=\"6271d6b250f8bc1085b8f56f5148be7d\", element=\"7197c0c9-3873-4e77-9a31-55abd7d92762\")>]"
      ]
     },
     "execution_count": 86,
     "metadata": {},
     "output_type": "execute_result"
    }
   ],
   "source": [
    "Pname3=driver.find_elements(By.XPATH,\"//*[@class='_2WkVRV']\")\n",
    "Pname3[0:4]"
   ]
  },
  {
   "cell_type": "code",
   "execution_count": 87,
   "id": "c5ce86c0",
   "metadata": {},
   "outputs": [
    {
     "data": {
      "text/plain": [
       "['NBL Sports', 'mannu', 'HOC', 'Vedboy']"
      ]
     },
     "execution_count": 87,
     "metadata": {},
     "output_type": "execute_result"
    }
   ],
   "source": [
    "product3=[]\n",
    "for i in Pname3:\n",
    "    temp=i.text\n",
    "    product3.append(temp)\n",
    "product3[0:4]"
   ]
  },
  {
   "cell_type": "code",
   "execution_count": 88,
   "id": "b375ae3d",
   "metadata": {},
   "outputs": [
    {
     "data": {
      "text/plain": [
       "[<selenium.webdriver.remote.webelement.WebElement (session=\"6271d6b250f8bc1085b8f56f5148be7d\", element=\"70fd7643-5530-4d06-817a-5f340d165086\")>,\n",
       " <selenium.webdriver.remote.webelement.WebElement (session=\"6271d6b250f8bc1085b8f56f5148be7d\", element=\"63eeee2b-fc6c-4fa4-917c-ed0aed0028b1\")>,\n",
       " <selenium.webdriver.remote.webelement.WebElement (session=\"6271d6b250f8bc1085b8f56f5148be7d\", element=\"179e2c03-2d7a-4058-9377-a2ed6a8c959a\")>,\n",
       " <selenium.webdriver.remote.webelement.WebElement (session=\"6271d6b250f8bc1085b8f56f5148be7d\", element=\"3e47aa8d-a701-4ddd-9d0a-dcc82d36965c\")>]"
      ]
     },
     "execution_count": 88,
     "metadata": {},
     "output_type": "execute_result"
    }
   ],
   "source": [
    "desc3=driver.find_elements(By.XPATH,\"//a[contains(@class, 'IRpwTa') or contains(@class, 'IRpwTa _2-ICcC')]\")\n",
    "desc3[0:4]"
   ]
  },
  {
   "cell_type": "code",
   "execution_count": 89,
   "id": "b9fe157c",
   "metadata": {},
   "outputs": [
    {
     "data": {
      "text/plain": [
       "['Sneakers For Men',\n",
       " 'High-end PU Sneakers Fashion CasualSports comfortable B...',\n",
       " 'Luxury Fashionable Breathable Casual Sneakers Shoes For...',\n",
       " 'Sneakers For Men (White) Sneakers For Men']"
      ]
     },
     "execution_count": 89,
     "metadata": {},
     "output_type": "execute_result"
    }
   ],
   "source": [
    "description3=[]\n",
    "for i in desc3:\n",
    "    temp=i.text\n",
    "    description3.append(temp)\n",
    "description3[0:4]"
   ]
  },
  {
   "cell_type": "code",
   "execution_count": 90,
   "id": "b0dfae60",
   "metadata": {},
   "outputs": [
    {
     "data": {
      "text/plain": [
       "[<selenium.webdriver.remote.webelement.WebElement (session=\"6271d6b250f8bc1085b8f56f5148be7d\", element=\"36621e8b-ab22-43c4-8dcd-768cdec201a0\")>,\n",
       " <selenium.webdriver.remote.webelement.WebElement (session=\"6271d6b250f8bc1085b8f56f5148be7d\", element=\"89b8b3a5-9bdc-4b34-8650-ed2cd3463b58\")>,\n",
       " <selenium.webdriver.remote.webelement.WebElement (session=\"6271d6b250f8bc1085b8f56f5148be7d\", element=\"96ece3b4-91ac-48bd-91b2-69ee6e2e0138\")>,\n",
       " <selenium.webdriver.remote.webelement.WebElement (session=\"6271d6b250f8bc1085b8f56f5148be7d\", element=\"a8bc2dd3-584b-4111-8570-b003e2771aad\")>]"
      ]
     },
     "execution_count": 90,
     "metadata": {},
     "output_type": "execute_result"
    }
   ],
   "source": [
    "pri3=driver.find_elements(By.XPATH,\"//*[@class='_30jeq3']\")\n",
    "pri3[0:4]"
   ]
  },
  {
   "cell_type": "code",
   "execution_count": 91,
   "id": "5ab76014",
   "metadata": {},
   "outputs": [
    {
     "data": {
      "text/plain": [
       "['₹299', '₹429', '₹449', '₹441']"
      ]
     },
     "execution_count": 91,
     "metadata": {},
     "output_type": "execute_result"
    }
   ],
   "source": [
    "price3=[]\n",
    "for i in pri3:\n",
    "    temp=i.text\n",
    "    price3.append(temp)\n",
    "price3[0:4]"
   ]
  },
  {
   "cell_type": "code",
   "execution_count": 92,
   "id": "98dc3648",
   "metadata": {},
   "outputs": [
    {
     "data": {
      "text/plain": [
       "[<selenium.webdriver.remote.webelement.WebElement (session=\"6271d6b250f8bc1085b8f56f5148be7d\", element=\"51b33a80-1bac-44bb-8254-a71031eff02f\")>,\n",
       " <selenium.webdriver.remote.webelement.WebElement (session=\"6271d6b250f8bc1085b8f56f5148be7d\", element=\"c5d5434c-f6d4-4cb9-b33c-a8beae2eb7a5\")>,\n",
       " <selenium.webdriver.remote.webelement.WebElement (session=\"6271d6b250f8bc1085b8f56f5148be7d\", element=\"2580f4f2-8e4c-4bfd-966b-dba820d47726\")>,\n",
       " <selenium.webdriver.remote.webelement.WebElement (session=\"6271d6b250f8bc1085b8f56f5148be7d\", element=\"ae90e902-83f3-46c6-a11f-b8efb769e329\")>]"
      ]
     },
     "execution_count": 92,
     "metadata": {},
     "output_type": "execute_result"
    }
   ],
   "source": [
    "perc3=driver.find_elements(By.XPATH,\"//*[@class='_3Ay6Sb']\")\n",
    "perc3[0:4]"
   ]
  },
  {
   "cell_type": "code",
   "execution_count": 93,
   "id": "b22f3031",
   "metadata": {},
   "outputs": [
    {
     "data": {
      "text/plain": [
       "['70% off', '57% off', '77% off', '55% off']"
      ]
     },
     "execution_count": 93,
     "metadata": {},
     "output_type": "execute_result"
    }
   ],
   "source": [
    "off3=[]\n",
    "for i in perc3:\n",
    "    temp=i.text\n",
    "    off3.append(temp)\n",
    "off3[0:4]"
   ]
  },
  {
   "cell_type": "code",
   "execution_count": 94,
   "id": "7e70a92a",
   "metadata": {},
   "outputs": [],
   "source": [
    "pro=[]\n",
    "des=[]\n",
    "pr=[]\n",
    "dis=[]"
   ]
  },
  {
   "cell_type": "code",
   "execution_count": 130,
   "id": "2faf6afc",
   "metadata": {},
   "outputs": [],
   "source": [
    "pro=product+product2+product3[0:20]\n",
    "des=description+description2+description3[0:20]\n",
    "prce=price[0:40]+price2+price3[0:20]\n",
    "dis=off[0:40]+off2+off3[0:20]"
   ]
  },
  {
   "cell_type": "code",
   "execution_count": 131,
   "id": "dd696231",
   "metadata": {},
   "outputs": [
    {
     "name": "stdout",
     "output_type": "stream",
     "text": [
      "100\n",
      "100\n",
      "100\n",
      "100\n"
     ]
    }
   ],
   "source": [
    "print(len(pro))\n",
    "print(len(des))\n",
    "print(len(prce))\n",
    "print(len(dis))"
   ]
  },
  {
   "cell_type": "code",
   "execution_count": 132,
   "id": "1afc57c1",
   "metadata": {},
   "outputs": [
    {
     "data": {
      "text/html": [
       "<div>\n",
       "<style scoped>\n",
       "    .dataframe tbody tr th:only-of-type {\n",
       "        vertical-align: middle;\n",
       "    }\n",
       "\n",
       "    .dataframe tbody tr th {\n",
       "        vertical-align: top;\n",
       "    }\n",
       "\n",
       "    .dataframe thead th {\n",
       "        text-align: right;\n",
       "    }\n",
       "</style>\n",
       "<table border=\"1\" class=\"dataframe\">\n",
       "  <thead>\n",
       "    <tr style=\"text-align: right;\">\n",
       "      <th></th>\n",
       "      <th>Product Name</th>\n",
       "      <th>Product Description</th>\n",
       "      <th>Price</th>\n",
       "      <th>Discount</th>\n",
       "    </tr>\n",
       "  </thead>\n",
       "  <tbody>\n",
       "    <tr>\n",
       "      <th>0</th>\n",
       "      <td>claptrap</td>\n",
       "      <td>Sneakers For Men</td>\n",
       "      <td>₹398</td>\n",
       "      <td>60% off</td>\n",
       "    </tr>\n",
       "    <tr>\n",
       "      <th>1</th>\n",
       "      <td>PUMA</td>\n",
       "      <td>411 Casual Sneakers For Men</td>\n",
       "      <td>₹499</td>\n",
       "      <td>75% off</td>\n",
       "    </tr>\n",
       "    <tr>\n",
       "      <th>2</th>\n",
       "      <td>Magnolia</td>\n",
       "      <td>White Sneaker For Men Sneakers For Men</td>\n",
       "      <td>₹479</td>\n",
       "      <td>63% off</td>\n",
       "    </tr>\n",
       "    <tr>\n",
       "      <th>3</th>\n",
       "      <td>Numenzo</td>\n",
       "      <td>Super Stylish &amp; Trendy Combo Pack of 02 Pairs ...</td>\n",
       "      <td>₹699</td>\n",
       "      <td>56% off</td>\n",
       "    </tr>\n",
       "    <tr>\n",
       "      <th>4</th>\n",
       "      <td>Numenzo</td>\n",
       "      <td>Original Luxury Branded Fashionable Men's Casu...</td>\n",
       "      <td>Price: Not Available</td>\n",
       "      <td>Price: Not Available</td>\n",
       "    </tr>\n",
       "  </tbody>\n",
       "</table>\n",
       "</div>"
      ],
      "text/plain": [
       "  Product Name                                Product Description  \\\n",
       "0     claptrap                                   Sneakers For Men   \n",
       "1         PUMA                        411 Casual Sneakers For Men   \n",
       "2     Magnolia             White Sneaker For Men Sneakers For Men   \n",
       "3      Numenzo  Super Stylish & Trendy Combo Pack of 02 Pairs ...   \n",
       "4      Numenzo  Original Luxury Branded Fashionable Men's Casu...   \n",
       "\n",
       "                  Price              Discount  \n",
       "0                  ₹398               60% off  \n",
       "1                  ₹499               75% off  \n",
       "2                  ₹479               63% off  \n",
       "3                  ₹699               56% off  \n",
       "4  Price: Not Available  Price: Not Available  "
      ]
     },
     "execution_count": 132,
     "metadata": {},
     "output_type": "execute_result"
    }
   ],
   "source": [
    "dataset=pd.DataFrame()\n",
    "dataset['Product Name']=pro\n",
    "dataset['Product Description']=des\n",
    "dataset['Price']=prce\n",
    "dataset['Discount']=dis\n",
    "dataset.head()"
   ]
  }
 ],
 "metadata": {
  "kernelspec": {
   "display_name": "Python 3",
   "language": "python",
   "name": "python3"
  },
  "language_info": {
   "codemirror_mode": {
    "name": "ipython",
    "version": 3
   },
   "file_extension": ".py",
   "mimetype": "text/x-python",
   "name": "python",
   "nbconvert_exporter": "python",
   "pygments_lexer": "ipython3",
   "version": "3.8.8"
  }
 },
 "nbformat": 4,
 "nbformat_minor": 5
}

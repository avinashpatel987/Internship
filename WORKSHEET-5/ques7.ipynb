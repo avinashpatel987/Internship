{
 "cells": [
  {
   "cell_type": "code",
   "execution_count": 1,
   "id": "5849d8f5",
   "metadata": {},
   "outputs": [],
   "source": [
    "import selenium\n",
    "import pandas as pd\n",
    "from selenium import webdriver\n",
    "from selenium.webdriver.chrome.service import Service\n",
    "from selenium.webdriver.common.by import By\n",
    "import time\n",
    "import urllib\n",
    "import os\n",
    "from selenium.webdriver.common.action_chains import ActionChains"
   ]
  },
  {
   "cell_type": "code",
   "execution_count": 2,
   "id": "6932ad2f",
   "metadata": {},
   "outputs": [],
   "source": [
    "s=Service(\"C:\\chromedriver_win32\\chromedriver.exe\")\n",
    "driver=webdriver.Chrome(service=s)\n",
    "driver.get('https://www.naukri.com/')"
   ]
  },
  {
   "cell_type": "code",
   "execution_count": 3,
   "id": "53b59097",
   "metadata": {},
   "outputs": [],
   "source": [
    "driver.find_element(By.NAME,\"keyword\").send_keys(\"Data Analyst\")"
   ]
  },
  {
   "cell_type": "code",
   "execution_count": 5,
   "id": "fac69db5",
   "metadata": {},
   "outputs": [],
   "source": [
    "btn1=driver.find_element(By.XPATH,\"//*[@id='root']/div[3]/div[2]/section/div/form/div[3]/button\")\n",
    "btn1.click()"
   ]
  },
  {
   "cell_type": "code",
   "execution_count": 6,
   "id": "0a05322c",
   "metadata": {},
   "outputs": [],
   "source": [
    "jt=driver.find_elements(By.XPATH,\"//*[@class='title fw500 ellipsis']\")\n",
    "jl=driver.find_elements(By.XPATH,\"//li[@class='fleft grey-text br2 placeHolderLi location']\")\n",
    "cn=driver.find_elements(By.XPATH,\"//div[@class='mt-7 companyInfo subheading lh16']\")\n",
    "q=driver.find_elements(By.XPATH,\"//div[@class='job-description fs12 grey-text']\")\n",
    "shf=driver.find_elements(By.XPATH,\"//ul[@class='tags has-description']\")"
   ]
  },
  {
   "cell_type": "code",
   "execution_count": 7,
   "id": "33ba731d",
   "metadata": {},
   "outputs": [],
   "source": [
    "def text(val,which):\n",
    "    if len(val) == 0:\n",
    "        which.append(\"-\")\n",
    "    else:\n",
    "        for i in val:\n",
    "            temp=i.text\n",
    "            which.append(temp)"
   ]
  },
  {
   "cell_type": "code",
   "execution_count": 8,
   "id": "f18489a5",
   "metadata": {},
   "outputs": [],
   "source": [
    "job_title=[]\n",
    "job_location=[] \n",
    "company_name=[] \n",
    "qualification=[]\n",
    "skills=[]\n",
    "text(jt,job_title)\n",
    "text(jl,job_location)\n",
    "text(cn,company_name)\n",
    "text(q,qualification)\n",
    "text(shf,skills)"
   ]
  },
  {
   "cell_type": "code",
   "execution_count": 9,
   "id": "5ec7e200",
   "metadata": {},
   "outputs": [
    {
     "data": {
      "text/html": [
       "<div>\n",
       "<style scoped>\n",
       "    .dataframe tbody tr th:only-of-type {\n",
       "        vertical-align: middle;\n",
       "    }\n",
       "\n",
       "    .dataframe tbody tr th {\n",
       "        vertical-align: top;\n",
       "    }\n",
       "\n",
       "    .dataframe thead th {\n",
       "        text-align: right;\n",
       "    }\n",
       "</style>\n",
       "<table border=\"1\" class=\"dataframe\">\n",
       "  <thead>\n",
       "    <tr style=\"text-align: right;\">\n",
       "      <th></th>\n",
       "      <th>Job Title</th>\n",
       "      <th>Job Location</th>\n",
       "      <th>Company Name</th>\n",
       "      <th>Qualification</th>\n",
       "      <th>Skills</th>\n",
       "    </tr>\n",
       "  </thead>\n",
       "  <tbody>\n",
       "    <tr>\n",
       "      <th>0</th>\n",
       "      <td>Trainee - Junior Data Analyst</td>\n",
       "      <td>Mumbai</td>\n",
       "      <td>Cognizant Technology Solutions India Ltd\\n3.9\\...</td>\n",
       "      <td>Qualification: Graduate / Post Graduate/ Docto...</td>\n",
       "      <td>Clinical operations\\nData Analyst\\nClinical Da...</td>\n",
       "    </tr>\n",
       "    <tr>\n",
       "      <th>1</th>\n",
       "      <td>Associate Data Analyst</td>\n",
       "      <td>Noida(Sector-63 Noida)</td>\n",
       "      <td>Loginworks software Pvt Ltd\\n3.4\\n(31 Reviews)</td>\n",
       "      <td>Flexible and able to work in rotation shift(da...</td>\n",
       "      <td>Excel\\nMySQL\\nData Analysis\\nSQL query\\ncommun...</td>\n",
       "    </tr>\n",
       "    <tr>\n",
       "      <th>2</th>\n",
       "      <td>Data Analyst ( SQl, Excel)</td>\n",
       "      <td>Noida, New Delhi, Gautam Buddha Nagar, Greater...</td>\n",
       "      <td>Loginworks software Pvt Ltd\\n3.4\\n(31 Reviews)</td>\n",
       "      <td>Flexible and able to work in rotation shift(da...</td>\n",
       "      <td>data analysis\\nExcel dashboard\\n&amp;quotsql scrip...</td>\n",
       "    </tr>\n",
       "    <tr>\n",
       "      <th>3</th>\n",
       "      <td>Hiring -Data Analyst, Business Analyst, MIS An...</td>\n",
       "      <td>Bangalore/Bengaluru</td>\n",
       "      <td>Flipkart\\n4.2\\n(3963 Reviews)</td>\n",
       "      <td>We are looking for Data Analyst / Business Ana...</td>\n",
       "      <td>Data analyst\\nBusiness Analytics\\nExcel Dashbo...</td>\n",
       "    </tr>\n",
       "    <tr>\n",
       "      <th>4</th>\n",
       "      <td>Senior Data Analyst - Sales Management team</td>\n",
       "      <td>Gurgaon/Gurugram</td>\n",
       "      <td>CBRE South Asia Pvt Ltd\\n4.2\\n(1611 Reviews)</td>\n",
       "      <td>Roles and Responsibilities Overview:Who Are We...</td>\n",
       "      <td>Data Research\\nExcel\\nCommercial Real Estate\\n...</td>\n",
       "    </tr>\n",
       "  </tbody>\n",
       "</table>\n",
       "</div>"
      ],
      "text/plain": [
       "                                           Job Title  \\\n",
       "0                      Trainee - Junior Data Analyst   \n",
       "1                             Associate Data Analyst   \n",
       "2                         Data Analyst ( SQl, Excel)   \n",
       "3  Hiring -Data Analyst, Business Analyst, MIS An...   \n",
       "4        Senior Data Analyst - Sales Management team   \n",
       "\n",
       "                                        Job Location  \\\n",
       "0                                             Mumbai   \n",
       "1                             Noida(Sector-63 Noida)   \n",
       "2  Noida, New Delhi, Gautam Buddha Nagar, Greater...   \n",
       "3                                Bangalore/Bengaluru   \n",
       "4                                   Gurgaon/Gurugram   \n",
       "\n",
       "                                        Company Name  \\\n",
       "0  Cognizant Technology Solutions India Ltd\\n3.9\\...   \n",
       "1     Loginworks software Pvt Ltd\\n3.4\\n(31 Reviews)   \n",
       "2     Loginworks software Pvt Ltd\\n3.4\\n(31 Reviews)   \n",
       "3                      Flipkart\\n4.2\\n(3963 Reviews)   \n",
       "4       CBRE South Asia Pvt Ltd\\n4.2\\n(1611 Reviews)   \n",
       "\n",
       "                                       Qualification  \\\n",
       "0  Qualification: Graduate / Post Graduate/ Docto...   \n",
       "1  Flexible and able to work in rotation shift(da...   \n",
       "2  Flexible and able to work in rotation shift(da...   \n",
       "3  We are looking for Data Analyst / Business Ana...   \n",
       "4  Roles and Responsibilities Overview:Who Are We...   \n",
       "\n",
       "                                              Skills  \n",
       "0  Clinical operations\\nData Analyst\\nClinical Da...  \n",
       "1  Excel\\nMySQL\\nData Analysis\\nSQL query\\ncommun...  \n",
       "2  data analysis\\nExcel dashboard\\n&quotsql scrip...  \n",
       "3  Data analyst\\nBusiness Analytics\\nExcel Dashbo...  \n",
       "4  Data Research\\nExcel\\nCommercial Real Estate\\n...  "
      ]
     },
     "execution_count": 9,
     "metadata": {},
     "output_type": "execute_result"
    }
   ],
   "source": [
    "dataset=pd.DataFrame()\n",
    "dataset['Job Title']=job_title\n",
    "dataset['Job Location']=job_location\n",
    "dataset['Company Name']=company_name\n",
    "dataset['Qualification']=qualification\n",
    "dataset['Skills']=skills\n",
    "dataset.head()"
   ]
  },
  {
   "cell_type": "code",
   "execution_count": null,
   "id": "fbe94d6c",
   "metadata": {},
   "outputs": [],
   "source": []
  }
 ],
 "metadata": {
  "kernelspec": {
   "display_name": "Python 3",
   "language": "python",
   "name": "python3"
  },
  "language_info": {
   "codemirror_mode": {
    "name": "ipython",
    "version": 3
   },
   "file_extension": ".py",
   "mimetype": "text/x-python",
   "name": "python",
   "nbconvert_exporter": "python",
   "pygments_lexer": "ipython3",
   "version": "3.8.8"
  }
 },
 "nbformat": 4,
 "nbformat_minor": 5
}

{
 "cells": [
  {
   "cell_type": "code",
   "execution_count": 20,
   "id": "28b4b336",
   "metadata": {},
   "outputs": [],
   "source": [
    "import selenium\n",
    "import pandas as pd\n",
    "from selenium import webdriver\n",
    "from selenium.webdriver.chrome.service import Service\n",
    "from selenium.webdriver.common.by import By\n",
    "import time\n",
    "import urllib\n",
    "import os\n",
    "from selenium.webdriver.common.action_chains import ActionChains"
   ]
  },
  {
   "cell_type": "code",
   "execution_count": 21,
   "id": "641f74c5",
   "metadata": {},
   "outputs": [],
   "source": [
    "s=Service(\"C:\\chromedriver_win32\\chromedriver.exe\")\n",
    "driver=webdriver.Chrome(service=s)\n",
    "driver.get('https://github.com/')"
   ]
  },
  {
   "cell_type": "code",
   "execution_count": 22,
   "id": "5c1e6c28",
   "metadata": {},
   "outputs": [],
   "source": [
    "btn1=driver.find_element(By.XPATH,\"/html/body/div[1]/header/div/div[2]/nav/ul/li[4]/details/summary\")\n",
    "btn1.click()"
   ]
  },
  {
   "cell_type": "code",
   "execution_count": 23,
   "id": "82ef2d51",
   "metadata": {},
   "outputs": [],
   "source": [
    "btn2=driver.find_element(By.XPATH,\"/html/body/div[1]/header/div/div[2]/nav/ul/li[4]/details/div/ul/li[5]/a\")\n",
    "btn2.click()"
   ]
  },
  {
   "cell_type": "code",
   "execution_count": 29,
   "id": "0edd34b7",
   "metadata": {},
   "outputs": [],
   "source": [
    "n=driver.find_elements(By.XPATH,\"//h1[@class='h3 lh-condensed']\")\n",
    "d=driver.find_elements(By.XPATH,\"//p[@class='col-9 color-fg-muted my-1 pr-4']\")\n",
    "cc=driver.find_elements(By.XPATH,\"//a[@class='Link--muted d-inline-block mr-3']\")\n",
    "lu=driver.find_elements(By.XPATH,\"//span[@class='d-inline-block ml-0 mr-3']\")"
   ]
  },
  {
   "cell_type": "code",
   "execution_count": 30,
   "id": "500f8fe2",
   "metadata": {},
   "outputs": [],
   "source": [
    "def text(val,which):\n",
    "    if len(val) == 0:\n",
    "        which.append(\"-\")\n",
    "    else:\n",
    "        for i in val:\n",
    "            temp=i.text\n",
    "            which.append(temp)"
   ]
  },
  {
   "cell_type": "code",
   "execution_count": 31,
   "id": "d54c397e",
   "metadata": {},
   "outputs": [],
   "source": [
    "name=[]\n",
    "desc=[]\n",
    "contributer=[]\n",
    "languageused=[]\n",
    "text(n,name)\n",
    "text(d,desc)\n",
    "text(cc,contributer)\n",
    "text(lu,languageused)"
   ]
  },
  {
   "cell_type": "code",
   "execution_count": 32,
   "id": "c1f4c600",
   "metadata": {},
   "outputs": [
    {
     "data": {
      "text/html": [
       "<div>\n",
       "<style scoped>\n",
       "    .dataframe tbody tr th:only-of-type {\n",
       "        vertical-align: middle;\n",
       "    }\n",
       "\n",
       "    .dataframe tbody tr th {\n",
       "        vertical-align: top;\n",
       "    }\n",
       "\n",
       "    .dataframe thead th {\n",
       "        text-align: right;\n",
       "    }\n",
       "</style>\n",
       "<table border=\"1\" class=\"dataframe\">\n",
       "  <thead>\n",
       "    <tr style=\"text-align: right;\">\n",
       "      <th></th>\n",
       "      <th>Name</th>\n",
       "      <th>Description</th>\n",
       "      <th>Contributer Count</th>\n",
       "      <th>Language used</th>\n",
       "    </tr>\n",
       "  </thead>\n",
       "  <tbody>\n",
       "    <tr>\n",
       "      <th>0</th>\n",
       "      <td>ssssssss-team / spider-flow</td>\n",
       "      <td>新一代爬虫平台，以图形化方式定义爬虫流程，不写代码即可完成爬虫。</td>\n",
       "      <td>2,903</td>\n",
       "      <td>Java</td>\n",
       "    </tr>\n",
       "    <tr>\n",
       "      <th>1</th>\n",
       "      <td>nolanlawson / fuite</td>\n",
       "      <td>A tool for finding memory leaks in web apps</td>\n",
       "      <td>514</td>\n",
       "      <td>JavaScript</td>\n",
       "    </tr>\n",
       "    <tr>\n",
       "      <th>2</th>\n",
       "      <td>proferosec / log4jScanner</td>\n",
       "      <td>DooTask是一款轻量级的开源在线项目任务管理工具，提供各类文档协作工具、在线思维导图、在...</td>\n",
       "      <td>1,092</td>\n",
       "      <td>Go</td>\n",
       "    </tr>\n",
       "    <tr>\n",
       "      <th>3</th>\n",
       "      <td>kuaifan / dootask</td>\n",
       "      <td>Bitburner Game</td>\n",
       "      <td>18</td>\n",
       "      <td>PHP</td>\n",
       "    </tr>\n",
       "    <tr>\n",
       "      <th>4</th>\n",
       "      <td>danielyxie / bitburner</td>\n",
       "      <td>immudb - world’s fastest immutable database, b...</td>\n",
       "      <td>276</td>\n",
       "      <td>JavaScript</td>\n",
       "    </tr>\n",
       "  </tbody>\n",
       "</table>\n",
       "</div>"
      ],
      "text/plain": [
       "                          Name  \\\n",
       "0  ssssssss-team / spider-flow   \n",
       "1          nolanlawson / fuite   \n",
       "2    proferosec / log4jScanner   \n",
       "3            kuaifan / dootask   \n",
       "4       danielyxie / bitburner   \n",
       "\n",
       "                                         Description Contributer Count  \\\n",
       "0                   新一代爬虫平台，以图形化方式定义爬虫流程，不写代码即可完成爬虫。             2,903   \n",
       "1        A tool for finding memory leaks in web apps               514   \n",
       "2  DooTask是一款轻量级的开源在线项目任务管理工具，提供各类文档协作工具、在线思维导图、在...             1,092   \n",
       "3                                     Bitburner Game                18   \n",
       "4  immudb - world’s fastest immutable database, b...               276   \n",
       "\n",
       "  Language used  \n",
       "0          Java  \n",
       "1    JavaScript  \n",
       "2            Go  \n",
       "3           PHP  \n",
       "4    JavaScript  "
      ]
     },
     "execution_count": 32,
     "metadata": {},
     "output_type": "execute_result"
    }
   ],
   "source": [
    "dataset=pd.DataFrame()\n",
    "dataset['Name']=name[:10]\n",
    "dataset['Description']=desc[:10]\n",
    "dataset['Contributer Count']=contributer[:10]\n",
    "dataset['Language used']=languageused[:10]\n",
    "dataset.head()"
   ]
  },
  {
   "cell_type": "code",
   "execution_count": null,
   "id": "94fefffb",
   "metadata": {},
   "outputs": [],
   "source": []
  }
 ],
 "metadata": {
  "kernelspec": {
   "display_name": "Python 3",
   "language": "python",
   "name": "python3"
  },
  "language_info": {
   "codemirror_mode": {
    "name": "ipython",
    "version": 3
   },
   "file_extension": ".py",
   "mimetype": "text/x-python",
   "name": "python",
   "nbconvert_exporter": "python",
   "pygments_lexer": "ipython3",
   "version": "3.8.8"
  }
 },
 "nbformat": 4,
 "nbformat_minor": 5
}

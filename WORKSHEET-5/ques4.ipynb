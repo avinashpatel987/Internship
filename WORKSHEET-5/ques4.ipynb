{
 "cells": [
  {
   "cell_type": "code",
   "execution_count": 1,
   "id": "fdc09062",
   "metadata": {},
   "outputs": [],
   "source": [
    "import selenium\n",
    "import pandas as pd\n",
    "from selenium import webdriver\n",
    "from selenium.webdriver.chrome.service import Service\n",
    "from selenium.webdriver.common.by import By\n",
    "import time\n",
    "import urllib\n",
    "import os\n",
    "from selenium.webdriver.common.action_chains import ActionChains"
   ]
  },
  {
   "cell_type": "code",
   "execution_count": 2,
   "id": "b568de4b",
   "metadata": {},
   "outputs": [],
   "source": [
    "s=Service(\"C:\\chromedriver_win32\\chromedriver.exe\")\n",
    "driver=webdriver.Chrome(service=s)\n",
    "driver.get('http://statisticstimes.com/')"
   ]
  },
  {
   "cell_type": "code",
   "execution_count": 5,
   "id": "43eb36d7",
   "metadata": {},
   "outputs": [],
   "source": [
    "element_to_hover_over = driver.find_element(By.XPATH,\"//*[@id='top']/div[2]/div[2]/button\")\n",
    "hover = ActionChains(driver).move_to_element(element_to_hover_over)\n",
    "hover.perform()"
   ]
  },
  {
   "cell_type": "code",
   "execution_count": 6,
   "id": "e209e112",
   "metadata": {},
   "outputs": [],
   "source": [
    "btn1=driver.find_element(By.XPATH,\"//*[@id='top']/div[2]/div[2]/div/a[3]\")\n",
    "btn1.click()"
   ]
  },
  {
   "cell_type": "code",
   "execution_count": 8,
   "id": "12121e2c",
   "metadata": {},
   "outputs": [],
   "source": [
    "btn2=driver.find_element(By.XPATH,\"/html/body/div[2]/div[2]/div[2]/ul/li[1]/a\")\n",
    "btn2.click()"
   ]
  },
  {
   "cell_type": "code",
   "execution_count": 9,
   "id": "11986fb4",
   "metadata": {},
   "outputs": [],
   "source": [
    "def text(val,which):\n",
    "    if len(val) == 0:\n",
    "        which.append(\"-\")\n",
    "    else:\n",
    "        for i in val:\n",
    "            temp=i.text\n",
    "            which.append(temp)"
   ]
  },
  {
   "cell_type": "code",
   "execution_count": 20,
   "id": "5daa19dd",
   "metadata": {},
   "outputs": [],
   "source": [
    "r=driver.find_elements(By.XPATH,\"//td[@class='data1']\")\n",
    "s=driver.find_elements(By.XPATH,\"//td[@class='name']\")\n",
    "gd20=driver.find_elements(By.XPATH,\"//td[@class='data'][1]\")\n",
    "gd19=driver.find_elements(By.XPATH,\"//td[@class='data'][2]\")\n",
    "sh=driver.find_elements(By.XPATH,\"//td[@class='data'][2]\")\n",
    "gdp=driver.find_elements(By.XPATH,\"//td[@class='data'][3]\")\n",
    "gd12_20=driver.find_elements(By.XPATH,\"//td[@class='data'][4]\")\n",
    "gd12_19=driver.find_elements(By.XPATH,\"//td[@class='data'][5]\")"
   ]
  },
  {
   "cell_type": "code",
   "execution_count": 21,
   "id": "5661ce30",
   "metadata": {},
   "outputs": [],
   "source": [
    "rank=[]\n",
    "state=[]\n",
    "GSDP20=[]\n",
    "GSDP19=[]\n",
    "share=[]\n",
    "GDP=[]\n",
    "GSDP12_20=[]\n",
    "GSDP12_19=[]\n",
    "text(r,rank)\n",
    "text(s,state)\n",
    "text(gd20,GSDP20)\n",
    "text(gd19,GSDP19)\n",
    "text(s,share)\n",
    "text(gdp,GDP)\n",
    "text(gd12_20,GSDP12_20)\n",
    "text(gd12_19,GSDP12_19)"
   ]
  },
  {
   "cell_type": "code",
   "execution_count": 23,
   "id": "8ffc5773",
   "metadata": {},
   "outputs": [
    {
     "data": {
      "text/html": [
       "<div>\n",
       "<style scoped>\n",
       "    .dataframe tbody tr th:only-of-type {\n",
       "        vertical-align: middle;\n",
       "    }\n",
       "\n",
       "    .dataframe tbody tr th {\n",
       "        vertical-align: top;\n",
       "    }\n",
       "\n",
       "    .dataframe thead th {\n",
       "        text-align: right;\n",
       "    }\n",
       "</style>\n",
       "<table border=\"1\" class=\"dataframe\">\n",
       "  <thead>\n",
       "    <tr style=\"text-align: right;\">\n",
       "      <th></th>\n",
       "      <th>Rank</th>\n",
       "      <th>State</th>\n",
       "      <th>GSDP 19-20</th>\n",
       "      <th>GSDP 18-19</th>\n",
       "      <th>Share</th>\n",
       "      <th>GDP</th>\n",
       "      <th>GSDP 11-12(19-20)</th>\n",
       "      <th>GSDP 11-12(18-19)</th>\n",
       "    </tr>\n",
       "  </thead>\n",
       "  <tbody>\n",
       "    <tr>\n",
       "      <th>0</th>\n",
       "      <td>1</td>\n",
       "      <td>Maharashtra</td>\n",
       "      <td>-</td>\n",
       "      <td>13.94%</td>\n",
       "      <td>Maharashtra</td>\n",
       "      <td>399.921</td>\n",
       "      <td>-</td>\n",
       "      <td>2,039,074</td>\n",
       "    </tr>\n",
       "    <tr>\n",
       "      <th>1</th>\n",
       "      <td>2</td>\n",
       "      <td>Tamil Nadu</td>\n",
       "      <td>1,845,853</td>\n",
       "      <td>8.63%</td>\n",
       "      <td>Tamil Nadu</td>\n",
       "      <td>247.629</td>\n",
       "      <td>1,312,929</td>\n",
       "      <td>1,215,307</td>\n",
       "    </tr>\n",
       "    <tr>\n",
       "      <th>2</th>\n",
       "      <td>3</td>\n",
       "      <td>Uttar Pradesh</td>\n",
       "      <td>1,687,818</td>\n",
       "      <td>8.39%</td>\n",
       "      <td>Uttar Pradesh</td>\n",
       "      <td>240.726</td>\n",
       "      <td>1,166,817</td>\n",
       "      <td>1,123,982</td>\n",
       "    </tr>\n",
       "    <tr>\n",
       "      <th>3</th>\n",
       "      <td>4</td>\n",
       "      <td>Gujarat</td>\n",
       "      <td>-</td>\n",
       "      <td>7.96%</td>\n",
       "      <td>Gujarat</td>\n",
       "      <td>228.290</td>\n",
       "      <td>-</td>\n",
       "      <td>1,186,379</td>\n",
       "    </tr>\n",
       "    <tr>\n",
       "      <th>4</th>\n",
       "      <td>5</td>\n",
       "      <td>Karnataka</td>\n",
       "      <td>1,631,977</td>\n",
       "      <td>7.91%</td>\n",
       "      <td>Karnataka</td>\n",
       "      <td>226.806</td>\n",
       "      <td>1,156,039</td>\n",
       "      <td>1,091,077</td>\n",
       "    </tr>\n",
       "  </tbody>\n",
       "</table>\n",
       "</div>"
      ],
      "text/plain": [
       "  Rank          State GSDP 19-20 GSDP 18-19          Share      GDP  \\\n",
       "0    1    Maharashtra          -     13.94%    Maharashtra  399.921   \n",
       "1    2     Tamil Nadu  1,845,853      8.63%     Tamil Nadu  247.629   \n",
       "2    3  Uttar Pradesh  1,687,818      8.39%  Uttar Pradesh  240.726   \n",
       "3    4        Gujarat          -      7.96%        Gujarat  228.290   \n",
       "4    5      Karnataka  1,631,977      7.91%      Karnataka  226.806   \n",
       "\n",
       "  GSDP 11-12(19-20) GSDP 11-12(18-19)  \n",
       "0                 -         2,039,074  \n",
       "1         1,312,929         1,215,307  \n",
       "2         1,166,817         1,123,982  \n",
       "3                 -         1,186,379  \n",
       "4         1,156,039         1,091,077  "
      ]
     },
     "execution_count": 23,
     "metadata": {},
     "output_type": "execute_result"
    }
   ],
   "source": [
    "dataset=pd.DataFrame()\n",
    "dataset['Rank']=rank[:33]\n",
    "dataset['State']=state[:33]\n",
    "dataset['GSDP 19-20']=GSDP20[:33]\n",
    "dataset['GSDP 18-19']=GSDP19[:33]\n",
    "dataset['Share']=share[:33]\n",
    "dataset['GDP']=GDP[:33]\n",
    "dataset['GSDP 11-12(19-20)']=GSDP12_20[:33]\n",
    "dataset['GSDP 11-12(18-19)']=GSDP12_19[:33]\n",
    "dataset.head()"
   ]
  }
 ],
 "metadata": {
  "kernelspec": {
   "display_name": "Python 3",
   "language": "python",
   "name": "python3"
  },
  "language_info": {
   "codemirror_mode": {
    "name": "ipython",
    "version": 3
   },
   "file_extension": ".py",
   "mimetype": "text/x-python",
   "name": "python",
   "nbconvert_exporter": "python",
   "pygments_lexer": "ipython3",
   "version": "3.8.8"
  }
 },
 "nbformat": 4,
 "nbformat_minor": 5
}

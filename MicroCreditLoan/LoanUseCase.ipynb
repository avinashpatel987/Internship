{
 "cells": [
  {
   "cell_type": "code",
   "execution_count": 1,
   "id": "9a6eb299",
   "metadata": {},
   "outputs": [],
   "source": [
    "import pandas as pd\n",
    "import numpy as np\n",
    "import matplotlib.pyplot as plt\n",
    "import seaborn as sn\n",
    "\n",
    "import warnings\n",
    "%matplotlib inline\n",
    "warnings.filterwarnings('ignore')"
   ]
  },
  {
   "cell_type": "code",
   "execution_count": 2,
   "id": "8f00d557",
   "metadata": {},
   "outputs": [
    {
     "data": {
      "text/html": [
       "<div>\n",
       "<style scoped>\n",
       "    .dataframe tbody tr th:only-of-type {\n",
       "        vertical-align: middle;\n",
       "    }\n",
       "\n",
       "    .dataframe tbody tr th {\n",
       "        vertical-align: top;\n",
       "    }\n",
       "\n",
       "    .dataframe thead th {\n",
       "        text-align: right;\n",
       "    }\n",
       "</style>\n",
       "<table border=\"1\" class=\"dataframe\">\n",
       "  <thead>\n",
       "    <tr style=\"text-align: right;\">\n",
       "      <th></th>\n",
       "      <th>Unnamed: 0</th>\n",
       "      <th>label</th>\n",
       "      <th>msisdn</th>\n",
       "      <th>aon</th>\n",
       "      <th>daily_decr30</th>\n",
       "      <th>daily_decr90</th>\n",
       "      <th>rental30</th>\n",
       "      <th>rental90</th>\n",
       "      <th>last_rech_date_ma</th>\n",
       "      <th>last_rech_date_da</th>\n",
       "      <th>last_rech_amt_ma</th>\n",
       "      <th>cnt_ma_rech30</th>\n",
       "      <th>fr_ma_rech30</th>\n",
       "      <th>sumamnt_ma_rech30</th>\n",
       "      <th>medianamnt_ma_rech30</th>\n",
       "      <th>medianmarechprebal30</th>\n",
       "      <th>cnt_ma_rech90</th>\n",
       "      <th>fr_ma_rech90</th>\n",
       "      <th>sumamnt_ma_rech90</th>\n",
       "      <th>medianamnt_ma_rech90</th>\n",
       "      <th>medianmarechprebal90</th>\n",
       "      <th>cnt_da_rech30</th>\n",
       "      <th>fr_da_rech30</th>\n",
       "      <th>cnt_da_rech90</th>\n",
       "      <th>fr_da_rech90</th>\n",
       "      <th>cnt_loans30</th>\n",
       "      <th>amnt_loans30</th>\n",
       "      <th>maxamnt_loans30</th>\n",
       "      <th>medianamnt_loans30</th>\n",
       "      <th>cnt_loans90</th>\n",
       "      <th>amnt_loans90</th>\n",
       "      <th>maxamnt_loans90</th>\n",
       "      <th>medianamnt_loans90</th>\n",
       "      <th>payback30</th>\n",
       "      <th>payback90</th>\n",
       "      <th>pcircle</th>\n",
       "      <th>pdate</th>\n",
       "    </tr>\n",
       "  </thead>\n",
       "  <tbody>\n",
       "    <tr>\n",
       "      <th>0</th>\n",
       "      <td>1</td>\n",
       "      <td>0</td>\n",
       "      <td>21408I70789</td>\n",
       "      <td>272.0</td>\n",
       "      <td>3055.050000</td>\n",
       "      <td>3065.150000</td>\n",
       "      <td>220.13</td>\n",
       "      <td>260.13</td>\n",
       "      <td>2.0</td>\n",
       "      <td>0.0</td>\n",
       "      <td>1539</td>\n",
       "      <td>2</td>\n",
       "      <td>21.0</td>\n",
       "      <td>3078.0</td>\n",
       "      <td>1539.0</td>\n",
       "      <td>7.50</td>\n",
       "      <td>2</td>\n",
       "      <td>21</td>\n",
       "      <td>3078</td>\n",
       "      <td>1539.0</td>\n",
       "      <td>7.50</td>\n",
       "      <td>0.0</td>\n",
       "      <td>0.0</td>\n",
       "      <td>0</td>\n",
       "      <td>0</td>\n",
       "      <td>2</td>\n",
       "      <td>12</td>\n",
       "      <td>6.0</td>\n",
       "      <td>0.0</td>\n",
       "      <td>2.0</td>\n",
       "      <td>12</td>\n",
       "      <td>6</td>\n",
       "      <td>0.0</td>\n",
       "      <td>29.000000</td>\n",
       "      <td>29.000000</td>\n",
       "      <td>UPW</td>\n",
       "      <td>2016-07-20</td>\n",
       "    </tr>\n",
       "    <tr>\n",
       "      <th>1</th>\n",
       "      <td>2</td>\n",
       "      <td>1</td>\n",
       "      <td>76462I70374</td>\n",
       "      <td>712.0</td>\n",
       "      <td>12122.000000</td>\n",
       "      <td>12124.750000</td>\n",
       "      <td>3691.26</td>\n",
       "      <td>3691.26</td>\n",
       "      <td>20.0</td>\n",
       "      <td>0.0</td>\n",
       "      <td>5787</td>\n",
       "      <td>1</td>\n",
       "      <td>0.0</td>\n",
       "      <td>5787.0</td>\n",
       "      <td>5787.0</td>\n",
       "      <td>61.04</td>\n",
       "      <td>1</td>\n",
       "      <td>0</td>\n",
       "      <td>5787</td>\n",
       "      <td>5787.0</td>\n",
       "      <td>61.04</td>\n",
       "      <td>0.0</td>\n",
       "      <td>0.0</td>\n",
       "      <td>0</td>\n",
       "      <td>0</td>\n",
       "      <td>1</td>\n",
       "      <td>12</td>\n",
       "      <td>12.0</td>\n",
       "      <td>0.0</td>\n",
       "      <td>1.0</td>\n",
       "      <td>12</td>\n",
       "      <td>12</td>\n",
       "      <td>0.0</td>\n",
       "      <td>0.000000</td>\n",
       "      <td>0.000000</td>\n",
       "      <td>UPW</td>\n",
       "      <td>2016-08-10</td>\n",
       "    </tr>\n",
       "    <tr>\n",
       "      <th>2</th>\n",
       "      <td>3</td>\n",
       "      <td>1</td>\n",
       "      <td>17943I70372</td>\n",
       "      <td>535.0</td>\n",
       "      <td>1398.000000</td>\n",
       "      <td>1398.000000</td>\n",
       "      <td>900.13</td>\n",
       "      <td>900.13</td>\n",
       "      <td>3.0</td>\n",
       "      <td>0.0</td>\n",
       "      <td>1539</td>\n",
       "      <td>1</td>\n",
       "      <td>0.0</td>\n",
       "      <td>1539.0</td>\n",
       "      <td>1539.0</td>\n",
       "      <td>66.32</td>\n",
       "      <td>1</td>\n",
       "      <td>0</td>\n",
       "      <td>1539</td>\n",
       "      <td>1539.0</td>\n",
       "      <td>66.32</td>\n",
       "      <td>0.0</td>\n",
       "      <td>0.0</td>\n",
       "      <td>0</td>\n",
       "      <td>0</td>\n",
       "      <td>1</td>\n",
       "      <td>6</td>\n",
       "      <td>6.0</td>\n",
       "      <td>0.0</td>\n",
       "      <td>1.0</td>\n",
       "      <td>6</td>\n",
       "      <td>6</td>\n",
       "      <td>0.0</td>\n",
       "      <td>0.000000</td>\n",
       "      <td>0.000000</td>\n",
       "      <td>UPW</td>\n",
       "      <td>2016-08-19</td>\n",
       "    </tr>\n",
       "    <tr>\n",
       "      <th>3</th>\n",
       "      <td>4</td>\n",
       "      <td>1</td>\n",
       "      <td>55773I70781</td>\n",
       "      <td>241.0</td>\n",
       "      <td>21.228000</td>\n",
       "      <td>21.228000</td>\n",
       "      <td>159.42</td>\n",
       "      <td>159.42</td>\n",
       "      <td>41.0</td>\n",
       "      <td>0.0</td>\n",
       "      <td>947</td>\n",
       "      <td>0</td>\n",
       "      <td>0.0</td>\n",
       "      <td>0.0</td>\n",
       "      <td>0.0</td>\n",
       "      <td>0.00</td>\n",
       "      <td>1</td>\n",
       "      <td>0</td>\n",
       "      <td>947</td>\n",
       "      <td>947.0</td>\n",
       "      <td>2.50</td>\n",
       "      <td>0.0</td>\n",
       "      <td>0.0</td>\n",
       "      <td>0</td>\n",
       "      <td>0</td>\n",
       "      <td>2</td>\n",
       "      <td>12</td>\n",
       "      <td>6.0</td>\n",
       "      <td>0.0</td>\n",
       "      <td>2.0</td>\n",
       "      <td>12</td>\n",
       "      <td>6</td>\n",
       "      <td>0.0</td>\n",
       "      <td>0.000000</td>\n",
       "      <td>0.000000</td>\n",
       "      <td>UPW</td>\n",
       "      <td>2016-06-06</td>\n",
       "    </tr>\n",
       "    <tr>\n",
       "      <th>4</th>\n",
       "      <td>5</td>\n",
       "      <td>1</td>\n",
       "      <td>03813I82730</td>\n",
       "      <td>947.0</td>\n",
       "      <td>150.619333</td>\n",
       "      <td>150.619333</td>\n",
       "      <td>1098.90</td>\n",
       "      <td>1098.90</td>\n",
       "      <td>4.0</td>\n",
       "      <td>0.0</td>\n",
       "      <td>2309</td>\n",
       "      <td>7</td>\n",
       "      <td>2.0</td>\n",
       "      <td>20029.0</td>\n",
       "      <td>2309.0</td>\n",
       "      <td>29.00</td>\n",
       "      <td>8</td>\n",
       "      <td>2</td>\n",
       "      <td>23496</td>\n",
       "      <td>2888.0</td>\n",
       "      <td>35.00</td>\n",
       "      <td>0.0</td>\n",
       "      <td>0.0</td>\n",
       "      <td>0</td>\n",
       "      <td>0</td>\n",
       "      <td>7</td>\n",
       "      <td>42</td>\n",
       "      <td>6.0</td>\n",
       "      <td>0.0</td>\n",
       "      <td>7.0</td>\n",
       "      <td>42</td>\n",
       "      <td>6</td>\n",
       "      <td>0.0</td>\n",
       "      <td>2.333333</td>\n",
       "      <td>2.333333</td>\n",
       "      <td>UPW</td>\n",
       "      <td>2016-06-22</td>\n",
       "    </tr>\n",
       "  </tbody>\n",
       "</table>\n",
       "</div>"
      ],
      "text/plain": [
       "   Unnamed: 0  label       msisdn    aon  daily_decr30  daily_decr90  \\\n",
       "0           1      0  21408I70789  272.0   3055.050000   3065.150000   \n",
       "1           2      1  76462I70374  712.0  12122.000000  12124.750000   \n",
       "2           3      1  17943I70372  535.0   1398.000000   1398.000000   \n",
       "3           4      1  55773I70781  241.0     21.228000     21.228000   \n",
       "4           5      1  03813I82730  947.0    150.619333    150.619333   \n",
       "\n",
       "   rental30  rental90  last_rech_date_ma  last_rech_date_da  last_rech_amt_ma  \\\n",
       "0    220.13    260.13                2.0                0.0              1539   \n",
       "1   3691.26   3691.26               20.0                0.0              5787   \n",
       "2    900.13    900.13                3.0                0.0              1539   \n",
       "3    159.42    159.42               41.0                0.0               947   \n",
       "4   1098.90   1098.90                4.0                0.0              2309   \n",
       "\n",
       "   cnt_ma_rech30  fr_ma_rech30  sumamnt_ma_rech30  medianamnt_ma_rech30  \\\n",
       "0              2          21.0             3078.0                1539.0   \n",
       "1              1           0.0             5787.0                5787.0   \n",
       "2              1           0.0             1539.0                1539.0   \n",
       "3              0           0.0                0.0                   0.0   \n",
       "4              7           2.0            20029.0                2309.0   \n",
       "\n",
       "   medianmarechprebal30  cnt_ma_rech90  fr_ma_rech90  sumamnt_ma_rech90  \\\n",
       "0                  7.50              2            21               3078   \n",
       "1                 61.04              1             0               5787   \n",
       "2                 66.32              1             0               1539   \n",
       "3                  0.00              1             0                947   \n",
       "4                 29.00              8             2              23496   \n",
       "\n",
       "   medianamnt_ma_rech90  medianmarechprebal90  cnt_da_rech30  fr_da_rech30  \\\n",
       "0                1539.0                  7.50            0.0           0.0   \n",
       "1                5787.0                 61.04            0.0           0.0   \n",
       "2                1539.0                 66.32            0.0           0.0   \n",
       "3                 947.0                  2.50            0.0           0.0   \n",
       "4                2888.0                 35.00            0.0           0.0   \n",
       "\n",
       "   cnt_da_rech90  fr_da_rech90  cnt_loans30  amnt_loans30  maxamnt_loans30  \\\n",
       "0              0             0            2            12              6.0   \n",
       "1              0             0            1            12             12.0   \n",
       "2              0             0            1             6              6.0   \n",
       "3              0             0            2            12              6.0   \n",
       "4              0             0            7            42              6.0   \n",
       "\n",
       "   medianamnt_loans30  cnt_loans90  amnt_loans90  maxamnt_loans90  \\\n",
       "0                 0.0          2.0            12                6   \n",
       "1                 0.0          1.0            12               12   \n",
       "2                 0.0          1.0             6                6   \n",
       "3                 0.0          2.0            12                6   \n",
       "4                 0.0          7.0            42                6   \n",
       "\n",
       "   medianamnt_loans90  payback30  payback90 pcircle       pdate  \n",
       "0                 0.0  29.000000  29.000000     UPW  2016-07-20  \n",
       "1                 0.0   0.000000   0.000000     UPW  2016-08-10  \n",
       "2                 0.0   0.000000   0.000000     UPW  2016-08-19  \n",
       "3                 0.0   0.000000   0.000000     UPW  2016-06-06  \n",
       "4                 0.0   2.333333   2.333333     UPW  2016-06-22  "
      ]
     },
     "execution_count": 2,
     "metadata": {},
     "output_type": "execute_result"
    }
   ],
   "source": [
    "pd.set_option('display.max_columns', None)\n",
    "df=pd.read_csv(r\"C:\\Users\\Avinash\\Desktop\\Internship\\Project\\Micro-Credit-Project--3-\\Micro Credit Project\\Data file.csv\")\n",
    "df.head()"
   ]
  },
  {
   "cell_type": "code",
   "execution_count": 3,
   "id": "4df1b1d8",
   "metadata": {},
   "outputs": [
    {
     "data": {
      "text/plain": [
       "(209593, 37)"
      ]
     },
     "execution_count": 3,
     "metadata": {},
     "output_type": "execute_result"
    }
   ],
   "source": [
    "df.shape"
   ]
  },
  {
   "cell_type": "code",
   "execution_count": 4,
   "id": "f794fdf8",
   "metadata": {},
   "outputs": [
    {
     "data": {
      "text/plain": [
       "Unnamed: 0              0\n",
       "label                   0\n",
       "msisdn                  0\n",
       "aon                     0\n",
       "daily_decr30            0\n",
       "daily_decr90            0\n",
       "rental30                0\n",
       "rental90                0\n",
       "last_rech_date_ma       0\n",
       "last_rech_date_da       0\n",
       "last_rech_amt_ma        0\n",
       "cnt_ma_rech30           0\n",
       "fr_ma_rech30            0\n",
       "sumamnt_ma_rech30       0\n",
       "medianamnt_ma_rech30    0\n",
       "medianmarechprebal30    0\n",
       "cnt_ma_rech90           0\n",
       "fr_ma_rech90            0\n",
       "sumamnt_ma_rech90       0\n",
       "medianamnt_ma_rech90    0\n",
       "medianmarechprebal90    0\n",
       "cnt_da_rech30           0\n",
       "fr_da_rech30            0\n",
       "cnt_da_rech90           0\n",
       "fr_da_rech90            0\n",
       "cnt_loans30             0\n",
       "amnt_loans30            0\n",
       "maxamnt_loans30         0\n",
       "medianamnt_loans30      0\n",
       "cnt_loans90             0\n",
       "amnt_loans90            0\n",
       "maxamnt_loans90         0\n",
       "medianamnt_loans90      0\n",
       "payback30               0\n",
       "payback90               0\n",
       "pcircle                 0\n",
       "pdate                   0\n",
       "dtype: int64"
      ]
     },
     "execution_count": 4,
     "metadata": {},
     "output_type": "execute_result"
    }
   ],
   "source": [
    "df.isnull().sum()"
   ]
  },
  {
   "cell_type": "markdown",
   "id": "f8f7c535",
   "metadata": {},
   "source": [
    "There are no null values"
   ]
  },
  {
   "cell_type": "code",
   "execution_count": 5,
   "id": "c5290ce0",
   "metadata": {},
   "outputs": [
    {
     "data": {
      "text/plain": [
       "Unnamed: 0              209593\n",
       "label                        2\n",
       "msisdn                  186243\n",
       "aon                       4507\n",
       "daily_decr30            147025\n",
       "daily_decr90            158669\n",
       "rental30                132148\n",
       "rental90                141033\n",
       "last_rech_date_ma         1186\n",
       "last_rech_date_da         1174\n",
       "last_rech_amt_ma            70\n",
       "cnt_ma_rech30               71\n",
       "fr_ma_rech30              1083\n",
       "sumamnt_ma_rech30        15141\n",
       "medianamnt_ma_rech30       510\n",
       "medianmarechprebal30     30428\n",
       "cnt_ma_rech90              110\n",
       "fr_ma_rech90                89\n",
       "sumamnt_ma_rech90        31771\n",
       "medianamnt_ma_rech90       608\n",
       "medianmarechprebal90     29785\n",
       "cnt_da_rech30             1066\n",
       "fr_da_rech30              1072\n",
       "cnt_da_rech90               27\n",
       "fr_da_rech90                46\n",
       "cnt_loans30                 40\n",
       "amnt_loans30                48\n",
       "maxamnt_loans30           1050\n",
       "medianamnt_loans30           6\n",
       "cnt_loans90               1110\n",
       "amnt_loans90                69\n",
       "maxamnt_loans90              3\n",
       "medianamnt_loans90           6\n",
       "payback30                 1363\n",
       "payback90                 2381\n",
       "pcircle                      1\n",
       "pdate                       82\n",
       "dtype: int64"
      ]
     },
     "execution_count": 5,
     "metadata": {},
     "output_type": "execute_result"
    }
   ],
   "source": [
    "df.nunique()"
   ]
  },
  {
   "cell_type": "markdown",
   "id": "256fb353",
   "metadata": {},
   "source": [
    "We are removing Unnamed: 0 as it is not useful"
   ]
  },
  {
   "cell_type": "code",
   "execution_count": 6,
   "id": "d96b2571",
   "metadata": {},
   "outputs": [],
   "source": [
    "df.drop(columns={\"Unnamed: 0\"},inplace=True)"
   ]
  },
  {
   "cell_type": "markdown",
   "id": "a39bbf3f",
   "metadata": {},
   "source": [
    "We are also dropping pcircle because it has only one value which is not benifitial for model building"
   ]
  },
  {
   "cell_type": "code",
   "execution_count": 7,
   "id": "43d1aaa9",
   "metadata": {},
   "outputs": [],
   "source": [
    "df.drop(columns={\"pcircle\"},inplace=True)"
   ]
  },
  {
   "cell_type": "markdown",
   "id": "ff2fff6e",
   "metadata": {},
   "source": [
    "We will also drop daily_decr30,rental30,cnt_da_rech30,fr_da_rech30,maxamnt_loans30,medianamnt_loans30,payback30,fr_ma_rech30,sumamnt_ma_rech30,medianamnt_ma_rech30,medianmarechprebal30,amnt_loans30 as we have the 90 days data for the same columns."
   ]
  },
  {
   "cell_type": "code",
   "execution_count": 8,
   "id": "21434619",
   "metadata": {},
   "outputs": [],
   "source": [
    "df.drop(columns={\"daily_decr30\",\"rental30\",\"cnt_da_rech30\",'amnt_loans30',\"fr_da_rech30\",\"maxamnt_loans30\",\"medianamnt_loans30\",\"payback30\",'fr_ma_rech30','sumamnt_ma_rech30','medianamnt_ma_rech30','medianmarechprebal30','cnt_ma_rech30','cnt_loans30'},inplace=True)"
   ]
  },
  {
   "cell_type": "code",
   "execution_count": 9,
   "id": "e00e735e",
   "metadata": {},
   "outputs": [
    {
     "data": {
      "text/html": [
       "<div>\n",
       "<style scoped>\n",
       "    .dataframe tbody tr th:only-of-type {\n",
       "        vertical-align: middle;\n",
       "    }\n",
       "\n",
       "    .dataframe tbody tr th {\n",
       "        vertical-align: top;\n",
       "    }\n",
       "\n",
       "    .dataframe thead th {\n",
       "        text-align: right;\n",
       "    }\n",
       "</style>\n",
       "<table border=\"1\" class=\"dataframe\">\n",
       "  <thead>\n",
       "    <tr style=\"text-align: right;\">\n",
       "      <th></th>\n",
       "      <th>label</th>\n",
       "      <th>msisdn</th>\n",
       "      <th>aon</th>\n",
       "      <th>daily_decr90</th>\n",
       "      <th>rental90</th>\n",
       "      <th>last_rech_date_ma</th>\n",
       "      <th>last_rech_date_da</th>\n",
       "      <th>last_rech_amt_ma</th>\n",
       "      <th>cnt_ma_rech90</th>\n",
       "      <th>fr_ma_rech90</th>\n",
       "      <th>sumamnt_ma_rech90</th>\n",
       "      <th>medianamnt_ma_rech90</th>\n",
       "      <th>medianmarechprebal90</th>\n",
       "      <th>cnt_da_rech90</th>\n",
       "      <th>fr_da_rech90</th>\n",
       "      <th>cnt_loans90</th>\n",
       "      <th>amnt_loans90</th>\n",
       "      <th>maxamnt_loans90</th>\n",
       "      <th>medianamnt_loans90</th>\n",
       "      <th>payback90</th>\n",
       "      <th>pdate</th>\n",
       "    </tr>\n",
       "  </thead>\n",
       "  <tbody>\n",
       "    <tr>\n",
       "      <th>0</th>\n",
       "      <td>0</td>\n",
       "      <td>21408I70789</td>\n",
       "      <td>272.0</td>\n",
       "      <td>3065.150000</td>\n",
       "      <td>260.13</td>\n",
       "      <td>2.0</td>\n",
       "      <td>0.0</td>\n",
       "      <td>1539</td>\n",
       "      <td>2</td>\n",
       "      <td>21</td>\n",
       "      <td>3078</td>\n",
       "      <td>1539.0</td>\n",
       "      <td>7.50</td>\n",
       "      <td>0</td>\n",
       "      <td>0</td>\n",
       "      <td>2.0</td>\n",
       "      <td>12</td>\n",
       "      <td>6</td>\n",
       "      <td>0.0</td>\n",
       "      <td>29.000000</td>\n",
       "      <td>2016-07-20</td>\n",
       "    </tr>\n",
       "    <tr>\n",
       "      <th>1</th>\n",
       "      <td>1</td>\n",
       "      <td>76462I70374</td>\n",
       "      <td>712.0</td>\n",
       "      <td>12124.750000</td>\n",
       "      <td>3691.26</td>\n",
       "      <td>20.0</td>\n",
       "      <td>0.0</td>\n",
       "      <td>5787</td>\n",
       "      <td>1</td>\n",
       "      <td>0</td>\n",
       "      <td>5787</td>\n",
       "      <td>5787.0</td>\n",
       "      <td>61.04</td>\n",
       "      <td>0</td>\n",
       "      <td>0</td>\n",
       "      <td>1.0</td>\n",
       "      <td>12</td>\n",
       "      <td>12</td>\n",
       "      <td>0.0</td>\n",
       "      <td>0.000000</td>\n",
       "      <td>2016-08-10</td>\n",
       "    </tr>\n",
       "    <tr>\n",
       "      <th>2</th>\n",
       "      <td>1</td>\n",
       "      <td>17943I70372</td>\n",
       "      <td>535.0</td>\n",
       "      <td>1398.000000</td>\n",
       "      <td>900.13</td>\n",
       "      <td>3.0</td>\n",
       "      <td>0.0</td>\n",
       "      <td>1539</td>\n",
       "      <td>1</td>\n",
       "      <td>0</td>\n",
       "      <td>1539</td>\n",
       "      <td>1539.0</td>\n",
       "      <td>66.32</td>\n",
       "      <td>0</td>\n",
       "      <td>0</td>\n",
       "      <td>1.0</td>\n",
       "      <td>6</td>\n",
       "      <td>6</td>\n",
       "      <td>0.0</td>\n",
       "      <td>0.000000</td>\n",
       "      <td>2016-08-19</td>\n",
       "    </tr>\n",
       "    <tr>\n",
       "      <th>3</th>\n",
       "      <td>1</td>\n",
       "      <td>55773I70781</td>\n",
       "      <td>241.0</td>\n",
       "      <td>21.228000</td>\n",
       "      <td>159.42</td>\n",
       "      <td>41.0</td>\n",
       "      <td>0.0</td>\n",
       "      <td>947</td>\n",
       "      <td>1</td>\n",
       "      <td>0</td>\n",
       "      <td>947</td>\n",
       "      <td>947.0</td>\n",
       "      <td>2.50</td>\n",
       "      <td>0</td>\n",
       "      <td>0</td>\n",
       "      <td>2.0</td>\n",
       "      <td>12</td>\n",
       "      <td>6</td>\n",
       "      <td>0.0</td>\n",
       "      <td>0.000000</td>\n",
       "      <td>2016-06-06</td>\n",
       "    </tr>\n",
       "    <tr>\n",
       "      <th>4</th>\n",
       "      <td>1</td>\n",
       "      <td>03813I82730</td>\n",
       "      <td>947.0</td>\n",
       "      <td>150.619333</td>\n",
       "      <td>1098.90</td>\n",
       "      <td>4.0</td>\n",
       "      <td>0.0</td>\n",
       "      <td>2309</td>\n",
       "      <td>8</td>\n",
       "      <td>2</td>\n",
       "      <td>23496</td>\n",
       "      <td>2888.0</td>\n",
       "      <td>35.00</td>\n",
       "      <td>0</td>\n",
       "      <td>0</td>\n",
       "      <td>7.0</td>\n",
       "      <td>42</td>\n",
       "      <td>6</td>\n",
       "      <td>0.0</td>\n",
       "      <td>2.333333</td>\n",
       "      <td>2016-06-22</td>\n",
       "    </tr>\n",
       "  </tbody>\n",
       "</table>\n",
       "</div>"
      ],
      "text/plain": [
       "   label       msisdn    aon  daily_decr90  rental90  last_rech_date_ma  \\\n",
       "0      0  21408I70789  272.0   3065.150000    260.13                2.0   \n",
       "1      1  76462I70374  712.0  12124.750000   3691.26               20.0   \n",
       "2      1  17943I70372  535.0   1398.000000    900.13                3.0   \n",
       "3      1  55773I70781  241.0     21.228000    159.42               41.0   \n",
       "4      1  03813I82730  947.0    150.619333   1098.90                4.0   \n",
       "\n",
       "   last_rech_date_da  last_rech_amt_ma  cnt_ma_rech90  fr_ma_rech90  \\\n",
       "0                0.0              1539              2            21   \n",
       "1                0.0              5787              1             0   \n",
       "2                0.0              1539              1             0   \n",
       "3                0.0               947              1             0   \n",
       "4                0.0              2309              8             2   \n",
       "\n",
       "   sumamnt_ma_rech90  medianamnt_ma_rech90  medianmarechprebal90  \\\n",
       "0               3078                1539.0                  7.50   \n",
       "1               5787                5787.0                 61.04   \n",
       "2               1539                1539.0                 66.32   \n",
       "3                947                 947.0                  2.50   \n",
       "4              23496                2888.0                 35.00   \n",
       "\n",
       "   cnt_da_rech90  fr_da_rech90  cnt_loans90  amnt_loans90  maxamnt_loans90  \\\n",
       "0              0             0          2.0            12                6   \n",
       "1              0             0          1.0            12               12   \n",
       "2              0             0          1.0             6                6   \n",
       "3              0             0          2.0            12                6   \n",
       "4              0             0          7.0            42                6   \n",
       "\n",
       "   medianamnt_loans90  payback90       pdate  \n",
       "0                 0.0  29.000000  2016-07-20  \n",
       "1                 0.0   0.000000  2016-08-10  \n",
       "2                 0.0   0.000000  2016-08-19  \n",
       "3                 0.0   0.000000  2016-06-06  \n",
       "4                 0.0   2.333333  2016-06-22  "
      ]
     },
     "execution_count": 9,
     "metadata": {},
     "output_type": "execute_result"
    }
   ],
   "source": [
    "df.head()"
   ]
  },
  {
   "cell_type": "markdown",
   "id": "9464add6",
   "metadata": {},
   "source": [
    "# Finding Any Highly Correlated values"
   ]
  },
  {
   "cell_type": "code",
   "execution_count": 10,
   "id": "b44bc5c4",
   "metadata": {},
   "outputs": [],
   "source": [
    "corr_matrix = df.corr().abs()"
   ]
  },
  {
   "cell_type": "code",
   "execution_count": 11,
   "id": "325c676d",
   "metadata": {},
   "outputs": [],
   "source": [
    "upper = corr_matrix.where(np.triu(np.ones(corr_matrix.shape), k=1).astype(np.bool))# Select upper triangle of correlation matrix"
   ]
  },
  {
   "cell_type": "code",
   "execution_count": 12,
   "id": "cb2e07dd",
   "metadata": {},
   "outputs": [],
   "source": [
    "to_drop = [column for column in upper.columns if any(upper[column] > 0.90)]# Find features with correlation greater than 0.90"
   ]
  },
  {
   "cell_type": "code",
   "execution_count": 13,
   "id": "ba8c5fc8",
   "metadata": {},
   "outputs": [
    {
     "data": {
      "text/plain": [
       "[]"
      ]
     },
     "execution_count": 13,
     "metadata": {},
     "output_type": "execute_result"
    }
   ],
   "source": [
    "to_drop"
   ]
  },
  {
   "cell_type": "code",
   "execution_count": 14,
   "id": "716ba061",
   "metadata": {},
   "outputs": [],
   "source": [
    "df.drop(df[to_drop],axis=1,inplace=True)"
   ]
  },
  {
   "cell_type": "markdown",
   "id": "dbd6c4c0",
   "metadata": {},
   "source": [
    "# Lets see the catagorical columns"
   ]
  },
  {
   "cell_type": "code",
   "execution_count": 15,
   "id": "26e85d8e",
   "metadata": {
    "scrolled": true
   },
   "outputs": [
    {
     "name": "stdout",
     "output_type": "stream",
     "text": [
      "msisdn ['21408I70789' '76462I70374' '17943I70372' ... '22758I85348' '59712I82733'\n",
      " '65061I85339']\n",
      "**********************************************************************\n",
      "pdate ['2016-07-20' '2016-08-10' '2016-08-19' '2016-06-06' '2016-06-22'\n",
      " '2016-07-02' '2016-07-05' '2016-08-05' '2016-06-15' '2016-06-08'\n",
      " '2016-06-12' '2016-06-20' '2016-06-29' '2016-06-16' '2016-08-03'\n",
      " '2016-06-24' '2016-07-04' '2016-07-03' '2016-07-01' '2016-08-08'\n",
      " '2016-06-26' '2016-06-23' '2016-07-06' '2016-07-09' '2016-06-10'\n",
      " '2016-06-07' '2016-06-27' '2016-08-11' '2016-06-30' '2016-06-19'\n",
      " '2016-07-26' '2016-08-14' '2016-06-14' '2016-06-21' '2016-06-25'\n",
      " '2016-06-28' '2016-06-11' '2016-07-27' '2016-07-23' '2016-08-16'\n",
      " '2016-08-15' '2016-06-02' '2016-06-05' '2016-08-02' '2016-07-28'\n",
      " '2016-07-18' '2016-08-18' '2016-07-16' '2016-07-29' '2016-07-21'\n",
      " '2016-06-03' '2016-06-13' '2016-08-01' '2016-07-13' '2016-07-10'\n",
      " '2016-06-09' '2016-07-15' '2016-07-11' '2016-08-09' '2016-08-12'\n",
      " '2016-07-22' '2016-06-04' '2016-07-24' '2016-06-18' '2016-08-13'\n",
      " '2016-06-17' '2016-08-07' '2016-07-12' '2016-08-06' '2016-07-19'\n",
      " '2016-08-21' '2016-08-04' '2016-07-25' '2016-07-30' '2016-08-17'\n",
      " '2016-07-08' '2016-07-14' '2016-06-01' '2016-07-07' '2016-07-17'\n",
      " '2016-07-31' '2016-08-20']\n",
      "**********************************************************************\n"
     ]
    }
   ],
   "source": [
    "catagory=[]\n",
    "catagory=df.select_dtypes(include=\"object\").columns\n",
    "for i in catagory:\n",
    "    print(i,df[i].unique())\n",
    "    print(\"**********************************************************************\")"
   ]
  },
  {
   "cell_type": "markdown",
   "id": "be5dc00f",
   "metadata": {},
   "source": [
    "We are Dropping msisdn because it is mobile number of users which is irrelavent in predicting our target variable"
   ]
  },
  {
   "cell_type": "code",
   "execution_count": 16,
   "id": "3bd1bd20",
   "metadata": {},
   "outputs": [],
   "source": [
    "df.drop(columns={\"msisdn\"},inplace=True)"
   ]
  },
  {
   "cell_type": "markdown",
   "id": "d203be83",
   "metadata": {},
   "source": [
    "We only need the day and the month so we are going to seperate them."
   ]
  },
  {
   "cell_type": "code",
   "execution_count": 17,
   "id": "8ef53a0e",
   "metadata": {},
   "outputs": [],
   "source": [
    "day=[]\n",
    "month=[]\n",
    "for i in df.pdate:\n",
    "         day.append((i.split(\"-\")[2]).lstrip('0'))\n",
    "         month.append(i.split(\"-\")[1].lstrip('0'))"
   ]
  },
  {
   "cell_type": "code",
   "execution_count": 18,
   "id": "9f5d67b0",
   "metadata": {},
   "outputs": [],
   "source": [
    "df[\"pDay\"]=day\n",
    "df[\"pDay\"]=pd.to_numeric(df[\"pDay\"], errors='ignore')\n",
    "df[\"pMonth\"]=month\n",
    "df[\"pMonth\"]=pd.to_numeric(df[\"pMonth\"], errors='ignore')\n",
    "df.drop(columns={\"pdate\"},inplace=True)"
   ]
  },
  {
   "cell_type": "code",
   "execution_count": 19,
   "id": "3ce084fc",
   "metadata": {},
   "outputs": [
    {
     "data": {
      "text/html": [
       "<div>\n",
       "<style scoped>\n",
       "    .dataframe tbody tr th:only-of-type {\n",
       "        vertical-align: middle;\n",
       "    }\n",
       "\n",
       "    .dataframe tbody tr th {\n",
       "        vertical-align: top;\n",
       "    }\n",
       "\n",
       "    .dataframe thead th {\n",
       "        text-align: right;\n",
       "    }\n",
       "</style>\n",
       "<table border=\"1\" class=\"dataframe\">\n",
       "  <thead>\n",
       "    <tr style=\"text-align: right;\">\n",
       "      <th></th>\n",
       "      <th>label</th>\n",
       "      <th>aon</th>\n",
       "      <th>daily_decr90</th>\n",
       "      <th>rental90</th>\n",
       "      <th>last_rech_date_ma</th>\n",
       "      <th>last_rech_date_da</th>\n",
       "      <th>last_rech_amt_ma</th>\n",
       "      <th>cnt_ma_rech90</th>\n",
       "      <th>fr_ma_rech90</th>\n",
       "      <th>sumamnt_ma_rech90</th>\n",
       "      <th>medianamnt_ma_rech90</th>\n",
       "      <th>medianmarechprebal90</th>\n",
       "      <th>cnt_da_rech90</th>\n",
       "      <th>fr_da_rech90</th>\n",
       "      <th>cnt_loans90</th>\n",
       "      <th>amnt_loans90</th>\n",
       "      <th>maxamnt_loans90</th>\n",
       "      <th>medianamnt_loans90</th>\n",
       "      <th>payback90</th>\n",
       "      <th>pDay</th>\n",
       "      <th>pMonth</th>\n",
       "    </tr>\n",
       "  </thead>\n",
       "  <tbody>\n",
       "    <tr>\n",
       "      <th>0</th>\n",
       "      <td>0</td>\n",
       "      <td>272.0</td>\n",
       "      <td>3065.150000</td>\n",
       "      <td>260.13</td>\n",
       "      <td>2.0</td>\n",
       "      <td>0.0</td>\n",
       "      <td>1539</td>\n",
       "      <td>2</td>\n",
       "      <td>21</td>\n",
       "      <td>3078</td>\n",
       "      <td>1539.0</td>\n",
       "      <td>7.50</td>\n",
       "      <td>0</td>\n",
       "      <td>0</td>\n",
       "      <td>2.0</td>\n",
       "      <td>12</td>\n",
       "      <td>6</td>\n",
       "      <td>0.0</td>\n",
       "      <td>29.000000</td>\n",
       "      <td>20</td>\n",
       "      <td>7</td>\n",
       "    </tr>\n",
       "    <tr>\n",
       "      <th>1</th>\n",
       "      <td>1</td>\n",
       "      <td>712.0</td>\n",
       "      <td>12124.750000</td>\n",
       "      <td>3691.26</td>\n",
       "      <td>20.0</td>\n",
       "      <td>0.0</td>\n",
       "      <td>5787</td>\n",
       "      <td>1</td>\n",
       "      <td>0</td>\n",
       "      <td>5787</td>\n",
       "      <td>5787.0</td>\n",
       "      <td>61.04</td>\n",
       "      <td>0</td>\n",
       "      <td>0</td>\n",
       "      <td>1.0</td>\n",
       "      <td>12</td>\n",
       "      <td>12</td>\n",
       "      <td>0.0</td>\n",
       "      <td>0.000000</td>\n",
       "      <td>10</td>\n",
       "      <td>8</td>\n",
       "    </tr>\n",
       "    <tr>\n",
       "      <th>2</th>\n",
       "      <td>1</td>\n",
       "      <td>535.0</td>\n",
       "      <td>1398.000000</td>\n",
       "      <td>900.13</td>\n",
       "      <td>3.0</td>\n",
       "      <td>0.0</td>\n",
       "      <td>1539</td>\n",
       "      <td>1</td>\n",
       "      <td>0</td>\n",
       "      <td>1539</td>\n",
       "      <td>1539.0</td>\n",
       "      <td>66.32</td>\n",
       "      <td>0</td>\n",
       "      <td>0</td>\n",
       "      <td>1.0</td>\n",
       "      <td>6</td>\n",
       "      <td>6</td>\n",
       "      <td>0.0</td>\n",
       "      <td>0.000000</td>\n",
       "      <td>19</td>\n",
       "      <td>8</td>\n",
       "    </tr>\n",
       "    <tr>\n",
       "      <th>3</th>\n",
       "      <td>1</td>\n",
       "      <td>241.0</td>\n",
       "      <td>21.228000</td>\n",
       "      <td>159.42</td>\n",
       "      <td>41.0</td>\n",
       "      <td>0.0</td>\n",
       "      <td>947</td>\n",
       "      <td>1</td>\n",
       "      <td>0</td>\n",
       "      <td>947</td>\n",
       "      <td>947.0</td>\n",
       "      <td>2.50</td>\n",
       "      <td>0</td>\n",
       "      <td>0</td>\n",
       "      <td>2.0</td>\n",
       "      <td>12</td>\n",
       "      <td>6</td>\n",
       "      <td>0.0</td>\n",
       "      <td>0.000000</td>\n",
       "      <td>6</td>\n",
       "      <td>6</td>\n",
       "    </tr>\n",
       "    <tr>\n",
       "      <th>4</th>\n",
       "      <td>1</td>\n",
       "      <td>947.0</td>\n",
       "      <td>150.619333</td>\n",
       "      <td>1098.90</td>\n",
       "      <td>4.0</td>\n",
       "      <td>0.0</td>\n",
       "      <td>2309</td>\n",
       "      <td>8</td>\n",
       "      <td>2</td>\n",
       "      <td>23496</td>\n",
       "      <td>2888.0</td>\n",
       "      <td>35.00</td>\n",
       "      <td>0</td>\n",
       "      <td>0</td>\n",
       "      <td>7.0</td>\n",
       "      <td>42</td>\n",
       "      <td>6</td>\n",
       "      <td>0.0</td>\n",
       "      <td>2.333333</td>\n",
       "      <td>22</td>\n",
       "      <td>6</td>\n",
       "    </tr>\n",
       "  </tbody>\n",
       "</table>\n",
       "</div>"
      ],
      "text/plain": [
       "   label    aon  daily_decr90  rental90  last_rech_date_ma  last_rech_date_da  \\\n",
       "0      0  272.0   3065.150000    260.13                2.0                0.0   \n",
       "1      1  712.0  12124.750000   3691.26               20.0                0.0   \n",
       "2      1  535.0   1398.000000    900.13                3.0                0.0   \n",
       "3      1  241.0     21.228000    159.42               41.0                0.0   \n",
       "4      1  947.0    150.619333   1098.90                4.0                0.0   \n",
       "\n",
       "   last_rech_amt_ma  cnt_ma_rech90  fr_ma_rech90  sumamnt_ma_rech90  \\\n",
       "0              1539              2            21               3078   \n",
       "1              5787              1             0               5787   \n",
       "2              1539              1             0               1539   \n",
       "3               947              1             0                947   \n",
       "4              2309              8             2              23496   \n",
       "\n",
       "   medianamnt_ma_rech90  medianmarechprebal90  cnt_da_rech90  fr_da_rech90  \\\n",
       "0                1539.0                  7.50              0             0   \n",
       "1                5787.0                 61.04              0             0   \n",
       "2                1539.0                 66.32              0             0   \n",
       "3                 947.0                  2.50              0             0   \n",
       "4                2888.0                 35.00              0             0   \n",
       "\n",
       "   cnt_loans90  amnt_loans90  maxamnt_loans90  medianamnt_loans90  payback90  \\\n",
       "0          2.0            12                6                 0.0  29.000000   \n",
       "1          1.0            12               12                 0.0   0.000000   \n",
       "2          1.0             6                6                 0.0   0.000000   \n",
       "3          2.0            12                6                 0.0   0.000000   \n",
       "4          7.0            42                6                 0.0   2.333333   \n",
       "\n",
       "   pDay  pMonth  \n",
       "0    20       7  \n",
       "1    10       8  \n",
       "2    19       8  \n",
       "3     6       6  \n",
       "4    22       6  "
      ]
     },
     "execution_count": 19,
     "metadata": {},
     "output_type": "execute_result"
    }
   ],
   "source": [
    "df.head()"
   ]
  },
  {
   "cell_type": "markdown",
   "id": "e11776e2",
   "metadata": {},
   "source": [
    "At this point we have dealt with all the Catagorical Column"
   ]
  },
  {
   "cell_type": "markdown",
   "id": "222271fb",
   "metadata": {},
   "source": [
    "## Now we will try to find outlier in our dataset"
   ]
  },
  {
   "cell_type": "markdown",
   "id": "3134fde0",
   "metadata": {},
   "source": [
    "### Lets us now see all the Maximums and Minimums of our Dataset"
   ]
  },
  {
   "cell_type": "code",
   "execution_count": 20,
   "id": "25e5a82a",
   "metadata": {},
   "outputs": [
    {
     "data": {
      "text/html": [
       "<div>\n",
       "<style scoped>\n",
       "    .dataframe tbody tr th:only-of-type {\n",
       "        vertical-align: middle;\n",
       "    }\n",
       "\n",
       "    .dataframe tbody tr th {\n",
       "        vertical-align: top;\n",
       "    }\n",
       "\n",
       "    .dataframe thead th {\n",
       "        text-align: right;\n",
       "    }\n",
       "</style>\n",
       "<table border=\"1\" class=\"dataframe\">\n",
       "  <thead>\n",
       "    <tr style=\"text-align: right;\">\n",
       "      <th></th>\n",
       "      <th>label</th>\n",
       "      <th>aon</th>\n",
       "      <th>daily_decr90</th>\n",
       "      <th>rental90</th>\n",
       "      <th>last_rech_date_ma</th>\n",
       "      <th>last_rech_date_da</th>\n",
       "      <th>last_rech_amt_ma</th>\n",
       "      <th>cnt_ma_rech90</th>\n",
       "      <th>fr_ma_rech90</th>\n",
       "      <th>sumamnt_ma_rech90</th>\n",
       "      <th>medianamnt_ma_rech90</th>\n",
       "      <th>medianmarechprebal90</th>\n",
       "      <th>cnt_da_rech90</th>\n",
       "      <th>fr_da_rech90</th>\n",
       "      <th>cnt_loans90</th>\n",
       "      <th>amnt_loans90</th>\n",
       "      <th>maxamnt_loans90</th>\n",
       "      <th>medianamnt_loans90</th>\n",
       "      <th>payback90</th>\n",
       "      <th>pDay</th>\n",
       "      <th>pMonth</th>\n",
       "    </tr>\n",
       "  </thead>\n",
       "  <tbody>\n",
       "    <tr>\n",
       "      <th>count</th>\n",
       "      <td>209593.000000</td>\n",
       "      <td>209593.000000</td>\n",
       "      <td>209593.000000</td>\n",
       "      <td>209593.000000</td>\n",
       "      <td>209593.000000</td>\n",
       "      <td>209593.000000</td>\n",
       "      <td>209593.000000</td>\n",
       "      <td>209593.00000</td>\n",
       "      <td>209593.000000</td>\n",
       "      <td>209593.000000</td>\n",
       "      <td>209593.000000</td>\n",
       "      <td>209593.000000</td>\n",
       "      <td>209593.000000</td>\n",
       "      <td>209593.000000</td>\n",
       "      <td>209593.000000</td>\n",
       "      <td>209593.000000</td>\n",
       "      <td>209593.000000</td>\n",
       "      <td>209593.000000</td>\n",
       "      <td>209593.000000</td>\n",
       "      <td>209593.00000</td>\n",
       "      <td>209593.000000</td>\n",
       "    </tr>\n",
       "    <tr>\n",
       "      <th>mean</th>\n",
       "      <td>0.875177</td>\n",
       "      <td>8112.343445</td>\n",
       "      <td>6082.515068</td>\n",
       "      <td>3483.406534</td>\n",
       "      <td>3755.847800</td>\n",
       "      <td>3712.202921</td>\n",
       "      <td>2064.452797</td>\n",
       "      <td>6.31543</td>\n",
       "      <td>7.716780</td>\n",
       "      <td>12396.218352</td>\n",
       "      <td>1864.595821</td>\n",
       "      <td>92.025541</td>\n",
       "      <td>0.041495</td>\n",
       "      <td>0.045712</td>\n",
       "      <td>18.520919</td>\n",
       "      <td>23.645398</td>\n",
       "      <td>6.703134</td>\n",
       "      <td>0.046077</td>\n",
       "      <td>4.321485</td>\n",
       "      <td>14.39894</td>\n",
       "      <td>6.797321</td>\n",
       "    </tr>\n",
       "    <tr>\n",
       "      <th>std</th>\n",
       "      <td>0.330519</td>\n",
       "      <td>75696.082531</td>\n",
       "      <td>10918.812767</td>\n",
       "      <td>5770.461279</td>\n",
       "      <td>53905.892230</td>\n",
       "      <td>53374.833430</td>\n",
       "      <td>2370.786034</td>\n",
       "      <td>7.19347</td>\n",
       "      <td>12.590251</td>\n",
       "      <td>16857.793882</td>\n",
       "      <td>2081.680664</td>\n",
       "      <td>369.215658</td>\n",
       "      <td>0.397556</td>\n",
       "      <td>0.951386</td>\n",
       "      <td>224.797423</td>\n",
       "      <td>26.469861</td>\n",
       "      <td>2.103864</td>\n",
       "      <td>0.200692</td>\n",
       "      <td>10.308108</td>\n",
       "      <td>8.43890</td>\n",
       "      <td>0.741435</td>\n",
       "    </tr>\n",
       "    <tr>\n",
       "      <th>min</th>\n",
       "      <td>0.000000</td>\n",
       "      <td>-48.000000</td>\n",
       "      <td>-93.012667</td>\n",
       "      <td>-24720.580000</td>\n",
       "      <td>-29.000000</td>\n",
       "      <td>-29.000000</td>\n",
       "      <td>0.000000</td>\n",
       "      <td>0.00000</td>\n",
       "      <td>0.000000</td>\n",
       "      <td>0.000000</td>\n",
       "      <td>0.000000</td>\n",
       "      <td>-200.000000</td>\n",
       "      <td>0.000000</td>\n",
       "      <td>0.000000</td>\n",
       "      <td>0.000000</td>\n",
       "      <td>0.000000</td>\n",
       "      <td>0.000000</td>\n",
       "      <td>0.000000</td>\n",
       "      <td>0.000000</td>\n",
       "      <td>1.00000</td>\n",
       "      <td>6.000000</td>\n",
       "    </tr>\n",
       "    <tr>\n",
       "      <th>25%</th>\n",
       "      <td>1.000000</td>\n",
       "      <td>246.000000</td>\n",
       "      <td>42.692000</td>\n",
       "      <td>300.260000</td>\n",
       "      <td>1.000000</td>\n",
       "      <td>0.000000</td>\n",
       "      <td>770.000000</td>\n",
       "      <td>2.00000</td>\n",
       "      <td>0.000000</td>\n",
       "      <td>2317.000000</td>\n",
       "      <td>773.000000</td>\n",
       "      <td>14.600000</td>\n",
       "      <td>0.000000</td>\n",
       "      <td>0.000000</td>\n",
       "      <td>1.000000</td>\n",
       "      <td>6.000000</td>\n",
       "      <td>6.000000</td>\n",
       "      <td>0.000000</td>\n",
       "      <td>0.000000</td>\n",
       "      <td>7.00000</td>\n",
       "      <td>6.000000</td>\n",
       "    </tr>\n",
       "    <tr>\n",
       "      <th>50%</th>\n",
       "      <td>1.000000</td>\n",
       "      <td>527.000000</td>\n",
       "      <td>1500.000000</td>\n",
       "      <td>1334.000000</td>\n",
       "      <td>3.000000</td>\n",
       "      <td>0.000000</td>\n",
       "      <td>1539.000000</td>\n",
       "      <td>4.00000</td>\n",
       "      <td>2.000000</td>\n",
       "      <td>7226.000000</td>\n",
       "      <td>1539.000000</td>\n",
       "      <td>36.000000</td>\n",
       "      <td>0.000000</td>\n",
       "      <td>0.000000</td>\n",
       "      <td>2.000000</td>\n",
       "      <td>12.000000</td>\n",
       "      <td>6.000000</td>\n",
       "      <td>0.000000</td>\n",
       "      <td>1.666667</td>\n",
       "      <td>14.00000</td>\n",
       "      <td>7.000000</td>\n",
       "    </tr>\n",
       "    <tr>\n",
       "      <th>75%</th>\n",
       "      <td>1.000000</td>\n",
       "      <td>982.000000</td>\n",
       "      <td>7802.790000</td>\n",
       "      <td>4201.790000</td>\n",
       "      <td>7.000000</td>\n",
       "      <td>0.000000</td>\n",
       "      <td>2309.000000</td>\n",
       "      <td>8.00000</td>\n",
       "      <td>8.000000</td>\n",
       "      <td>16000.000000</td>\n",
       "      <td>1924.000000</td>\n",
       "      <td>79.310000</td>\n",
       "      <td>0.000000</td>\n",
       "      <td>0.000000</td>\n",
       "      <td>5.000000</td>\n",
       "      <td>30.000000</td>\n",
       "      <td>6.000000</td>\n",
       "      <td>0.000000</td>\n",
       "      <td>4.500000</td>\n",
       "      <td>21.00000</td>\n",
       "      <td>7.000000</td>\n",
       "    </tr>\n",
       "    <tr>\n",
       "      <th>max</th>\n",
       "      <td>1.000000</td>\n",
       "      <td>999860.755168</td>\n",
       "      <td>320630.000000</td>\n",
       "      <td>200148.110000</td>\n",
       "      <td>998650.377733</td>\n",
       "      <td>999171.809410</td>\n",
       "      <td>55000.000000</td>\n",
       "      <td>336.00000</td>\n",
       "      <td>88.000000</td>\n",
       "      <td>953036.000000</td>\n",
       "      <td>55000.000000</td>\n",
       "      <td>41456.500000</td>\n",
       "      <td>38.000000</td>\n",
       "      <td>64.000000</td>\n",
       "      <td>4997.517944</td>\n",
       "      <td>438.000000</td>\n",
       "      <td>12.000000</td>\n",
       "      <td>3.000000</td>\n",
       "      <td>171.500000</td>\n",
       "      <td>31.00000</td>\n",
       "      <td>8.000000</td>\n",
       "    </tr>\n",
       "  </tbody>\n",
       "</table>\n",
       "</div>"
      ],
      "text/plain": [
       "               label            aon   daily_decr90       rental90  \\\n",
       "count  209593.000000  209593.000000  209593.000000  209593.000000   \n",
       "mean        0.875177    8112.343445    6082.515068    3483.406534   \n",
       "std         0.330519   75696.082531   10918.812767    5770.461279   \n",
       "min         0.000000     -48.000000     -93.012667  -24720.580000   \n",
       "25%         1.000000     246.000000      42.692000     300.260000   \n",
       "50%         1.000000     527.000000    1500.000000    1334.000000   \n",
       "75%         1.000000     982.000000    7802.790000    4201.790000   \n",
       "max         1.000000  999860.755168  320630.000000  200148.110000   \n",
       "\n",
       "       last_rech_date_ma  last_rech_date_da  last_rech_amt_ma  cnt_ma_rech90  \\\n",
       "count      209593.000000      209593.000000     209593.000000   209593.00000   \n",
       "mean         3755.847800        3712.202921       2064.452797        6.31543   \n",
       "std         53905.892230       53374.833430       2370.786034        7.19347   \n",
       "min           -29.000000         -29.000000          0.000000        0.00000   \n",
       "25%             1.000000           0.000000        770.000000        2.00000   \n",
       "50%             3.000000           0.000000       1539.000000        4.00000   \n",
       "75%             7.000000           0.000000       2309.000000        8.00000   \n",
       "max        998650.377733      999171.809410      55000.000000      336.00000   \n",
       "\n",
       "        fr_ma_rech90  sumamnt_ma_rech90  medianamnt_ma_rech90  \\\n",
       "count  209593.000000      209593.000000         209593.000000   \n",
       "mean        7.716780       12396.218352           1864.595821   \n",
       "std        12.590251       16857.793882           2081.680664   \n",
       "min         0.000000           0.000000              0.000000   \n",
       "25%         0.000000        2317.000000            773.000000   \n",
       "50%         2.000000        7226.000000           1539.000000   \n",
       "75%         8.000000       16000.000000           1924.000000   \n",
       "max        88.000000      953036.000000          55000.000000   \n",
       "\n",
       "       medianmarechprebal90  cnt_da_rech90   fr_da_rech90    cnt_loans90  \\\n",
       "count         209593.000000  209593.000000  209593.000000  209593.000000   \n",
       "mean              92.025541       0.041495       0.045712      18.520919   \n",
       "std              369.215658       0.397556       0.951386     224.797423   \n",
       "min             -200.000000       0.000000       0.000000       0.000000   \n",
       "25%               14.600000       0.000000       0.000000       1.000000   \n",
       "50%               36.000000       0.000000       0.000000       2.000000   \n",
       "75%               79.310000       0.000000       0.000000       5.000000   \n",
       "max            41456.500000      38.000000      64.000000    4997.517944   \n",
       "\n",
       "        amnt_loans90  maxamnt_loans90  medianamnt_loans90      payback90  \\\n",
       "count  209593.000000    209593.000000       209593.000000  209593.000000   \n",
       "mean       23.645398         6.703134            0.046077       4.321485   \n",
       "std        26.469861         2.103864            0.200692      10.308108   \n",
       "min         0.000000         0.000000            0.000000       0.000000   \n",
       "25%         6.000000         6.000000            0.000000       0.000000   \n",
       "50%        12.000000         6.000000            0.000000       1.666667   \n",
       "75%        30.000000         6.000000            0.000000       4.500000   \n",
       "max       438.000000        12.000000            3.000000     171.500000   \n",
       "\n",
       "               pDay         pMonth  \n",
       "count  209593.00000  209593.000000  \n",
       "mean       14.39894       6.797321  \n",
       "std         8.43890       0.741435  \n",
       "min         1.00000       6.000000  \n",
       "25%         7.00000       6.000000  \n",
       "50%        14.00000       7.000000  \n",
       "75%        21.00000       7.000000  \n",
       "max        31.00000       8.000000  "
      ]
     },
     "execution_count": 20,
     "metadata": {},
     "output_type": "execute_result"
    }
   ],
   "source": [
    "df.describe()"
   ]
  },
  {
   "cell_type": "markdown",
   "id": "251a7428",
   "metadata": {},
   "source": [
    "### Lets Us see the boxplots of all these columns"
   ]
  },
  {
   "cell_type": "code",
   "execution_count": 21,
   "id": "6e48b1a6",
   "metadata": {},
   "outputs": [
    {
     "data": {
      "image/png": "[encoded data removed]",
      "text/plain": [
       "<Figure size 576x288 with 1 Axes>"
      ]
     },
     "metadata": {
      "needs_background": "light"
     },
     "output_type": "display_data"
    },
    {
     "data": {
      "image/png": "[encoded data removed]",
      "text/plain": [
       "<Figure size 576x288 with 1 Axes>"
      ]
     },
     "metadata": {
      "needs_background": "light"
     },
     "output_type": "display_data"
    },
    {
     "data": {
      "image/png": "[encoded data removed]",
      "text/plain": [
       "<Figure size 576x288 with 1 Axes>"
      ]
     },
     "metadata": {
      "needs_background": "light"
     },
     "output_type": "display_data"
    },
    {
     "data": {
      "image/png": "[encoded data removed]",
      "text/plain": [
       "<Figure size 576x288 with 1 Axes>"
      ]
     },
     "metadata": {
      "needs_background": "light"
     },
     "output_type": "display_data"
    },
    {
     "data": {
      "image/png": "[encoded data removed]",
      "text/plain": [
       "<Figure size 576x288 with 1 Axes>"
      ]
     },
     "metadata": {
      "needs_background": "light"
     },
     "output_type": "display_data"
    },
    {
     "data": {
      "image/png": "[encoded data removed]",
      "text/plain": [
       "<Figure size 576x288 with 1 Axes>"
      ]
     },
     "metadata": {
      "needs_background": "light"
     },
     "output_type": "display_data"
    },
    {
     "data": {
      "image/png": "[encoded data removed]",
      "text/plain": [
       "<Figure size 576x288 with 1 Axes>"
      ]
     },
     "metadata": {
      "needs_background": "light"
     },
     "output_type": "display_data"
    },
    {
     "data": {
      "image/png": "[encoded data removed]",
      "text/plain": [
       "<Figure size 576x288 with 1 Axes>"
      ]
     },
     "metadata": {
      "needs_background": "light"
     },
     "output_type": "display_data"
    },
    {
     "data": {
      "image/png": "[encoded data removed]",
      "text/plain": [
       "<Figure size 576x288 with 1 Axes>"
      ]
     },
     "metadata": {
      "needs_background": "light"
     },
     "output_type": "display_data"
    },
    {
     "data": {
      "image/png": "[encoded data removed]",
      "text/plain": [
       "<Figure size 576x288 with 1 Axes>"
      ]
     },
     "metadata": {
      "needs_background": "light"
     },
     "output_type": "display_data"
    },
    {
     "data": {
      "image/png": "[encoded data removed]",
      "text/plain": [
       "<Figure size 576x288 with 1 Axes>"
      ]
     },
     "metadata": {
      "needs_background": "light"
     },
     "output_type": "display_data"
    },
    {
     "data": {
      "image/png": "[encoded data removed]",
      "text/plain": [
       "<Figure size 576x288 with 1 Axes>"
      ]
     },
     "metadata": {
      "needs_background": "light"
     },
     "output_type": "display_data"
    },
    {
     "data": {
      "image/png": "[encoded data removed]",
      "text/plain": [
       "<Figure size 576x288 with 1 Axes>"
      ]
     },
     "metadata": {
      "needs_background": "light"
     },
     "output_type": "display_data"
    },
    {
     "data": {
      "image/png": "[encoded data removed]",
      "text/plain": [
       "<Figure size 576x288 with 1 Axes>"
      ]
     },
     "metadata": {
      "needs_background": "light"
     },
     "output_type": "display_data"
    },
    {
     "data": {
      "image/png": "[encoded data removed]",
      "text/plain": [
       "<Figure size 576x288 with 1 Axes>"
      ]
     },
     "metadata": {
      "needs_background": "light"
     },
     "output_type": "display_data"
    },
    {
     "data": {
      "image/png": "[encoded data removed]",
      "text/plain": [
       "<Figure size 576x288 with 1 Axes>"
      ]
     },
     "metadata": {
      "needs_background": "light"
     },
     "output_type": "display_data"
    },
    {
     "data": {
      "image/png": "[encoded data removed]",
      "text/plain": [
       "<Figure size 576x288 with 1 Axes>"
      ]
     },
     "metadata": {
      "needs_background": "light"
     },
     "output_type": "display_data"
    },
    {
     "data": {
      "image/png": "[encoded data removed]",
      "text/plain": [
       "<Figure size 576x288 with 1 Axes>"
      ]
     },
     "metadata": {
      "needs_background": "light"
     },
     "output_type": "display_data"
    },
    {
     "data": {
      "image/png": "[encoded data removed]",
      "text/plain": [
       "<Figure size 576x288 with 1 Axes>"
      ]
     },
     "metadata": {
      "needs_background": "light"
     },
     "output_type": "display_data"
    },
    {
     "data": {
      "image/png": "[encoded data removed]",
      "text/plain": [
       "<Figure size 576x288 with 1 Axes>"
      ]
     },
     "metadata": {
      "needs_background": "light"
     },
     "output_type": "display_data"
    },
    {
     "data": {
      "image/png": "[encoded data removed]",
      "text/plain": [
       "<Figure size 576x288 with 1 Axes>"
      ]
     },
     "metadata": {
      "needs_background": "light"
     },
     "output_type": "display_data"
    }
   ],
   "source": [
    "for column in df:\n",
    "        plt.figure(figsize=(8,4))\n",
    "        sn.boxplot(x=column,data=df)"
   ]
  },
  {
   "cell_type": "markdown",
   "id": "b635653b",
   "metadata": {},
   "source": [
    "### Treating aon column"
   ]
  },
  {
   "cell_type": "markdown",
   "id": "141c16cf",
   "metadata": {},
   "source": [
    "\"aon\" is defined as \"age on cellular network in days\" that means if we consider the average life expectency for Indonesia is \"71.72\" years so we will multiply 365 days to it to get the maximum days a person could have a number.This assumption is based upon the data provided on the internet and I am not considering the age limit to get a number to be on the safe side.\n",
    "\n",
    "So, 72*365=26,280 days . Any number more than this is an outlier and we will work on that row accordingly."
   ]
  },
  {
   "cell_type": "code",
   "execution_count": 22,
   "id": "500efbe6",
   "metadata": {},
   "outputs": [],
   "source": [
    "outliers=[]\n",
    "index=[]\n",
    "for i in range(len(df.aon)):\n",
    "    if (df.iloc[i,1])>26280:\n",
    "        outliers.append(df.iloc[i,1])\n",
    "        index.append(i)"
   ]
  },
  {
   "cell_type": "code",
   "execution_count": 23,
   "id": "7ac5c37c",
   "metadata": {},
   "outputs": [
    {
     "data": {
      "text/plain": [
       "2089"
      ]
     },
     "execution_count": 23,
     "metadata": {},
     "output_type": "execute_result"
    }
   ],
   "source": [
    "len(outliers)"
   ]
  },
  {
   "cell_type": "markdown",
   "id": "2c0a03a0",
   "metadata": {},
   "source": [
    "Now we will drop these rows because it could also contains values which is unreasonable for other ccolumns also."
   ]
  },
  {
   "cell_type": "markdown",
   "id": "6a4fbc2f",
   "metadata": {},
   "source": [
    "Also only .99% data we be lost which is in acceptable range"
   ]
  },
  {
   "cell_type": "code",
   "execution_count": 24,
   "id": "f0a9a047",
   "metadata": {},
   "outputs": [],
   "source": [
    "df.drop(df.index[index],inplace=True)"
   ]
  },
  {
   "cell_type": "code",
   "execution_count": 25,
   "id": "d5ceba2a",
   "metadata": {},
   "outputs": [
    {
     "data": {
      "text/html": [
       "<div>\n",
       "<style scoped>\n",
       "    .dataframe tbody tr th:only-of-type {\n",
       "        vertical-align: middle;\n",
       "    }\n",
       "\n",
       "    .dataframe tbody tr th {\n",
       "        vertical-align: top;\n",
       "    }\n",
       "\n",
       "    .dataframe thead th {\n",
       "        text-align: right;\n",
       "    }\n",
       "</style>\n",
       "<table border=\"1\" class=\"dataframe\">\n",
       "  <thead>\n",
       "    <tr style=\"text-align: right;\">\n",
       "      <th></th>\n",
       "      <th>label</th>\n",
       "      <th>aon</th>\n",
       "      <th>daily_decr90</th>\n",
       "      <th>rental90</th>\n",
       "      <th>last_rech_date_ma</th>\n",
       "      <th>last_rech_date_da</th>\n",
       "      <th>last_rech_amt_ma</th>\n",
       "      <th>cnt_ma_rech90</th>\n",
       "      <th>fr_ma_rech90</th>\n",
       "      <th>sumamnt_ma_rech90</th>\n",
       "      <th>medianamnt_ma_rech90</th>\n",
       "      <th>medianmarechprebal90</th>\n",
       "      <th>cnt_da_rech90</th>\n",
       "      <th>fr_da_rech90</th>\n",
       "      <th>cnt_loans90</th>\n",
       "      <th>amnt_loans90</th>\n",
       "      <th>maxamnt_loans90</th>\n",
       "      <th>medianamnt_loans90</th>\n",
       "      <th>payback90</th>\n",
       "      <th>pDay</th>\n",
       "      <th>pMonth</th>\n",
       "    </tr>\n",
       "  </thead>\n",
       "  <tbody>\n",
       "    <tr>\n",
       "      <th>0</th>\n",
       "      <td>0</td>\n",
       "      <td>272.0</td>\n",
       "      <td>3065.150000</td>\n",
       "      <td>260.13</td>\n",
       "      <td>2.0</td>\n",
       "      <td>0.0</td>\n",
       "      <td>1539</td>\n",
       "      <td>2</td>\n",
       "      <td>21</td>\n",
       "      <td>3078</td>\n",
       "      <td>1539.0</td>\n",
       "      <td>7.50</td>\n",
       "      <td>0</td>\n",
       "      <td>0</td>\n",
       "      <td>2.0</td>\n",
       "      <td>12</td>\n",
       "      <td>6</td>\n",
       "      <td>0.0</td>\n",
       "      <td>29.000000</td>\n",
       "      <td>20</td>\n",
       "      <td>7</td>\n",
       "    </tr>\n",
       "    <tr>\n",
       "      <th>1</th>\n",
       "      <td>1</td>\n",
       "      <td>712.0</td>\n",
       "      <td>12124.750000</td>\n",
       "      <td>3691.26</td>\n",
       "      <td>20.0</td>\n",
       "      <td>0.0</td>\n",
       "      <td>5787</td>\n",
       "      <td>1</td>\n",
       "      <td>0</td>\n",
       "      <td>5787</td>\n",
       "      <td>5787.0</td>\n",
       "      <td>61.04</td>\n",
       "      <td>0</td>\n",
       "      <td>0</td>\n",
       "      <td>1.0</td>\n",
       "      <td>12</td>\n",
       "      <td>12</td>\n",
       "      <td>0.0</td>\n",
       "      <td>0.000000</td>\n",
       "      <td>10</td>\n",
       "      <td>8</td>\n",
       "    </tr>\n",
       "    <tr>\n",
       "      <th>2</th>\n",
       "      <td>1</td>\n",
       "      <td>535.0</td>\n",
       "      <td>1398.000000</td>\n",
       "      <td>900.13</td>\n",
       "      <td>3.0</td>\n",
       "      <td>0.0</td>\n",
       "      <td>1539</td>\n",
       "      <td>1</td>\n",
       "      <td>0</td>\n",
       "      <td>1539</td>\n",
       "      <td>1539.0</td>\n",
       "      <td>66.32</td>\n",
       "      <td>0</td>\n",
       "      <td>0</td>\n",
       "      <td>1.0</td>\n",
       "      <td>6</td>\n",
       "      <td>6</td>\n",
       "      <td>0.0</td>\n",
       "      <td>0.000000</td>\n",
       "      <td>19</td>\n",
       "      <td>8</td>\n",
       "    </tr>\n",
       "    <tr>\n",
       "      <th>3</th>\n",
       "      <td>1</td>\n",
       "      <td>241.0</td>\n",
       "      <td>21.228000</td>\n",
       "      <td>159.42</td>\n",
       "      <td>41.0</td>\n",
       "      <td>0.0</td>\n",
       "      <td>947</td>\n",
       "      <td>1</td>\n",
       "      <td>0</td>\n",
       "      <td>947</td>\n",
       "      <td>947.0</td>\n",
       "      <td>2.50</td>\n",
       "      <td>0</td>\n",
       "      <td>0</td>\n",
       "      <td>2.0</td>\n",
       "      <td>12</td>\n",
       "      <td>6</td>\n",
       "      <td>0.0</td>\n",
       "      <td>0.000000</td>\n",
       "      <td>6</td>\n",
       "      <td>6</td>\n",
       "    </tr>\n",
       "    <tr>\n",
       "      <th>4</th>\n",
       "      <td>1</td>\n",
       "      <td>947.0</td>\n",
       "      <td>150.619333</td>\n",
       "      <td>1098.90</td>\n",
       "      <td>4.0</td>\n",
       "      <td>0.0</td>\n",
       "      <td>2309</td>\n",
       "      <td>8</td>\n",
       "      <td>2</td>\n",
       "      <td>23496</td>\n",
       "      <td>2888.0</td>\n",
       "      <td>35.00</td>\n",
       "      <td>0</td>\n",
       "      <td>0</td>\n",
       "      <td>7.0</td>\n",
       "      <td>42</td>\n",
       "      <td>6</td>\n",
       "      <td>0.0</td>\n",
       "      <td>2.333333</td>\n",
       "      <td>22</td>\n",
       "      <td>6</td>\n",
       "    </tr>\n",
       "  </tbody>\n",
       "</table>\n",
       "</div>"
      ],
      "text/plain": [
       "   label    aon  daily_decr90  rental90  last_rech_date_ma  last_rech_date_da  \\\n",
       "0      0  272.0   3065.150000    260.13                2.0                0.0   \n",
       "1      1  712.0  12124.750000   3691.26               20.0                0.0   \n",
       "2      1  535.0   1398.000000    900.13                3.0                0.0   \n",
       "3      1  241.0     21.228000    159.42               41.0                0.0   \n",
       "4      1  947.0    150.619333   1098.90                4.0                0.0   \n",
       "\n",
       "   last_rech_amt_ma  cnt_ma_rech90  fr_ma_rech90  sumamnt_ma_rech90  \\\n",
       "0              1539              2            21               3078   \n",
       "1              5787              1             0               5787   \n",
       "2              1539              1             0               1539   \n",
       "3               947              1             0                947   \n",
       "4              2309              8             2              23496   \n",
       "\n",
       "   medianamnt_ma_rech90  medianmarechprebal90  cnt_da_rech90  fr_da_rech90  \\\n",
       "0                1539.0                  7.50              0             0   \n",
       "1                5787.0                 61.04              0             0   \n",
       "2                1539.0                 66.32              0             0   \n",
       "3                 947.0                  2.50              0             0   \n",
       "4                2888.0                 35.00              0             0   \n",
       "\n",
       "   cnt_loans90  amnt_loans90  maxamnt_loans90  medianamnt_loans90  payback90  \\\n",
       "0          2.0            12                6                 0.0  29.000000   \n",
       "1          1.0            12               12                 0.0   0.000000   \n",
       "2          1.0             6                6                 0.0   0.000000   \n",
       "3          2.0            12                6                 0.0   0.000000   \n",
       "4          7.0            42                6                 0.0   2.333333   \n",
       "\n",
       "   pDay  pMonth  \n",
       "0    20       7  \n",
       "1    10       8  \n",
       "2    19       8  \n",
       "3     6       6  \n",
       "4    22       6  "
      ]
     },
     "execution_count": 25,
     "metadata": {},
     "output_type": "execute_result"
    }
   ],
   "source": [
    "df.head()"
   ]
  },
  {
   "cell_type": "markdown",
   "id": "58adb3eb",
   "metadata": {},
   "source": [
    "### Treating last_rech_date_ma column"
   ]
  },
  {
   "cell_type": "markdown",
   "id": "dd1716de",
   "metadata": {},
   "source": [
    "All the values in this columns are less then 100 and all the above values are too high to be the number of days. Also some of the values are in negative and days could not be in negative."
   ]
  },
  {
   "cell_type": "code",
   "execution_count": 26,
   "id": "ca4cd582",
   "metadata": {},
   "outputs": [],
   "source": [
    "outliers=[]\n",
    "index=[]\n",
    "for i in range(len(df.aon)):\n",
    "    if ((df.iloc[i,4]>100) or (df.iloc[i,4]<0)):\n",
    "        outliers.append(df.iloc[i,4])\n",
    "        index.append(i)"
   ]
  },
  {
   "cell_type": "code",
   "execution_count": 27,
   "id": "843ec045",
   "metadata": {},
   "outputs": [
    {
     "data": {
      "text/plain": [
       "2357"
      ]
     },
     "execution_count": 27,
     "metadata": {},
     "output_type": "execute_result"
    }
   ],
   "source": [
    "len(outliers)"
   ]
  },
  {
   "cell_type": "markdown",
   "id": "4f9d180e",
   "metadata": {},
   "source": [
    "We will drop these columns."
   ]
  },
  {
   "cell_type": "code",
   "execution_count": 28,
   "id": "2341d238",
   "metadata": {},
   "outputs": [],
   "source": [
    "df.drop(df.index[index],inplace=True)"
   ]
  },
  {
   "cell_type": "code",
   "execution_count": 29,
   "id": "cffc3c26",
   "metadata": {},
   "outputs": [
    {
     "data": {
      "text/html": [
       "<div>\n",
       "<style scoped>\n",
       "    .dataframe tbody tr th:only-of-type {\n",
       "        vertical-align: middle;\n",
       "    }\n",
       "\n",
       "    .dataframe tbody tr th {\n",
       "        vertical-align: top;\n",
       "    }\n",
       "\n",
       "    .dataframe thead th {\n",
       "        text-align: right;\n",
       "    }\n",
       "</style>\n",
       "<table border=\"1\" class=\"dataframe\">\n",
       "  <thead>\n",
       "    <tr style=\"text-align: right;\">\n",
       "      <th></th>\n",
       "      <th>label</th>\n",
       "      <th>aon</th>\n",
       "      <th>daily_decr90</th>\n",
       "      <th>rental90</th>\n",
       "      <th>last_rech_date_ma</th>\n",
       "      <th>last_rech_date_da</th>\n",
       "      <th>last_rech_amt_ma</th>\n",
       "      <th>cnt_ma_rech90</th>\n",
       "      <th>fr_ma_rech90</th>\n",
       "      <th>sumamnt_ma_rech90</th>\n",
       "      <th>medianamnt_ma_rech90</th>\n",
       "      <th>medianmarechprebal90</th>\n",
       "      <th>cnt_da_rech90</th>\n",
       "      <th>fr_da_rech90</th>\n",
       "      <th>cnt_loans90</th>\n",
       "      <th>amnt_loans90</th>\n",
       "      <th>maxamnt_loans90</th>\n",
       "      <th>medianamnt_loans90</th>\n",
       "      <th>payback90</th>\n",
       "      <th>pDay</th>\n",
       "      <th>pMonth</th>\n",
       "    </tr>\n",
       "  </thead>\n",
       "  <tbody>\n",
       "    <tr>\n",
       "      <th>0</th>\n",
       "      <td>0</td>\n",
       "      <td>272.0</td>\n",
       "      <td>3065.150000</td>\n",
       "      <td>260.13</td>\n",
       "      <td>2.0</td>\n",
       "      <td>0.0</td>\n",
       "      <td>1539</td>\n",
       "      <td>2</td>\n",
       "      <td>21</td>\n",
       "      <td>3078</td>\n",
       "      <td>1539.0</td>\n",
       "      <td>7.50</td>\n",
       "      <td>0</td>\n",
       "      <td>0</td>\n",
       "      <td>2.0</td>\n",
       "      <td>12</td>\n",
       "      <td>6</td>\n",
       "      <td>0.0</td>\n",
       "      <td>29.000000</td>\n",
       "      <td>20</td>\n",
       "      <td>7</td>\n",
       "    </tr>\n",
       "    <tr>\n",
       "      <th>1</th>\n",
       "      <td>1</td>\n",
       "      <td>712.0</td>\n",
       "      <td>12124.750000</td>\n",
       "      <td>3691.26</td>\n",
       "      <td>20.0</td>\n",
       "      <td>0.0</td>\n",
       "      <td>5787</td>\n",
       "      <td>1</td>\n",
       "      <td>0</td>\n",
       "      <td>5787</td>\n",
       "      <td>5787.0</td>\n",
       "      <td>61.04</td>\n",
       "      <td>0</td>\n",
       "      <td>0</td>\n",
       "      <td>1.0</td>\n",
       "      <td>12</td>\n",
       "      <td>12</td>\n",
       "      <td>0.0</td>\n",
       "      <td>0.000000</td>\n",
       "      <td>10</td>\n",
       "      <td>8</td>\n",
       "    </tr>\n",
       "    <tr>\n",
       "      <th>2</th>\n",
       "      <td>1</td>\n",
       "      <td>535.0</td>\n",
       "      <td>1398.000000</td>\n",
       "      <td>900.13</td>\n",
       "      <td>3.0</td>\n",
       "      <td>0.0</td>\n",
       "      <td>1539</td>\n",
       "      <td>1</td>\n",
       "      <td>0</td>\n",
       "      <td>1539</td>\n",
       "      <td>1539.0</td>\n",
       "      <td>66.32</td>\n",
       "      <td>0</td>\n",
       "      <td>0</td>\n",
       "      <td>1.0</td>\n",
       "      <td>6</td>\n",
       "      <td>6</td>\n",
       "      <td>0.0</td>\n",
       "      <td>0.000000</td>\n",
       "      <td>19</td>\n",
       "      <td>8</td>\n",
       "    </tr>\n",
       "    <tr>\n",
       "      <th>3</th>\n",
       "      <td>1</td>\n",
       "      <td>241.0</td>\n",
       "      <td>21.228000</td>\n",
       "      <td>159.42</td>\n",
       "      <td>41.0</td>\n",
       "      <td>0.0</td>\n",
       "      <td>947</td>\n",
       "      <td>1</td>\n",
       "      <td>0</td>\n",
       "      <td>947</td>\n",
       "      <td>947.0</td>\n",
       "      <td>2.50</td>\n",
       "      <td>0</td>\n",
       "      <td>0</td>\n",
       "      <td>2.0</td>\n",
       "      <td>12</td>\n",
       "      <td>6</td>\n",
       "      <td>0.0</td>\n",
       "      <td>0.000000</td>\n",
       "      <td>6</td>\n",
       "      <td>6</td>\n",
       "    </tr>\n",
       "    <tr>\n",
       "      <th>4</th>\n",
       "      <td>1</td>\n",
       "      <td>947.0</td>\n",
       "      <td>150.619333</td>\n",
       "      <td>1098.90</td>\n",
       "      <td>4.0</td>\n",
       "      <td>0.0</td>\n",
       "      <td>2309</td>\n",
       "      <td>8</td>\n",
       "      <td>2</td>\n",
       "      <td>23496</td>\n",
       "      <td>2888.0</td>\n",
       "      <td>35.00</td>\n",
       "      <td>0</td>\n",
       "      <td>0</td>\n",
       "      <td>7.0</td>\n",
       "      <td>42</td>\n",
       "      <td>6</td>\n",
       "      <td>0.0</td>\n",
       "      <td>2.333333</td>\n",
       "      <td>22</td>\n",
       "      <td>6</td>\n",
       "    </tr>\n",
       "  </tbody>\n",
       "</table>\n",
       "</div>"
      ],
      "text/plain": [
       "   label    aon  daily_decr90  rental90  last_rech_date_ma  last_rech_date_da  \\\n",
       "0      0  272.0   3065.150000    260.13                2.0                0.0   \n",
       "1      1  712.0  12124.750000   3691.26               20.0                0.0   \n",
       "2      1  535.0   1398.000000    900.13                3.0                0.0   \n",
       "3      1  241.0     21.228000    159.42               41.0                0.0   \n",
       "4      1  947.0    150.619333   1098.90                4.0                0.0   \n",
       "\n",
       "   last_rech_amt_ma  cnt_ma_rech90  fr_ma_rech90  sumamnt_ma_rech90  \\\n",
       "0              1539              2            21               3078   \n",
       "1              5787              1             0               5787   \n",
       "2              1539              1             0               1539   \n",
       "3               947              1             0                947   \n",
       "4              2309              8             2              23496   \n",
       "\n",
       "   medianamnt_ma_rech90  medianmarechprebal90  cnt_da_rech90  fr_da_rech90  \\\n",
       "0                1539.0                  7.50              0             0   \n",
       "1                5787.0                 61.04              0             0   \n",
       "2                1539.0                 66.32              0             0   \n",
       "3                 947.0                  2.50              0             0   \n",
       "4                2888.0                 35.00              0             0   \n",
       "\n",
       "   cnt_loans90  amnt_loans90  maxamnt_loans90  medianamnt_loans90  payback90  \\\n",
       "0          2.0            12                6                 0.0  29.000000   \n",
       "1          1.0            12               12                 0.0   0.000000   \n",
       "2          1.0             6                6                 0.0   0.000000   \n",
       "3          2.0            12                6                 0.0   0.000000   \n",
       "4          7.0            42                6                 0.0   2.333333   \n",
       "\n",
       "   pDay  pMonth  \n",
       "0    20       7  \n",
       "1    10       8  \n",
       "2    19       8  \n",
       "3     6       6  \n",
       "4    22       6  "
      ]
     },
     "execution_count": 29,
     "metadata": {},
     "output_type": "execute_result"
    }
   ],
   "source": [
    "df.head()"
   ]
  },
  {
   "cell_type": "markdown",
   "id": "15e5d024",
   "metadata": {},
   "source": [
    "### Treating last_rech_date_da column"
   ]
  },
  {
   "cell_type": "markdown",
   "id": "0e12e785",
   "metadata": {},
   "source": [
    "By looking at the xml file this column has mostly 0 as valuse.                                                         \n",
    "Hence I am checking how many 0 threr are."
   ]
  },
  {
   "cell_type": "code",
   "execution_count": 30,
   "id": "4cfc9508",
   "metadata": {},
   "outputs": [],
   "source": [
    "noz=0\n",
    "index=[]\n",
    "for i in range(len(df.last_rech_date_ma)):\n",
    "    if ((df.iloc[i,5])==0):\n",
    "        noz+=1"
   ]
  },
  {
   "cell_type": "code",
   "execution_count": 31,
   "id": "0225f8b8",
   "metadata": {},
   "outputs": [
    {
     "data": {
      "text/plain": [
       "198538"
      ]
     },
     "execution_count": 31,
     "metadata": {},
     "output_type": "execute_result"
    }
   ],
   "source": [
    "noz"
   ]
  },
  {
   "cell_type": "markdown",
   "id": "d21530e7",
   "metadata": {},
   "source": [
    "Deleting this column as 96.77% data is 0"
   ]
  },
  {
   "cell_type": "code",
   "execution_count": 32,
   "id": "4bec5987",
   "metadata": {},
   "outputs": [],
   "source": [
    "df.drop(columns={\"last_rech_date_da\"},inplace=True)"
   ]
  },
  {
   "cell_type": "code",
   "execution_count": 33,
   "id": "4a156dfc",
   "metadata": {},
   "outputs": [
    {
     "data": {
      "text/html": [
       "<div>\n",
       "<style scoped>\n",
       "    .dataframe tbody tr th:only-of-type {\n",
       "        vertical-align: middle;\n",
       "    }\n",
       "\n",
       "    .dataframe tbody tr th {\n",
       "        vertical-align: top;\n",
       "    }\n",
       "\n",
       "    .dataframe thead th {\n",
       "        text-align: right;\n",
       "    }\n",
       "</style>\n",
       "<table border=\"1\" class=\"dataframe\">\n",
       "  <thead>\n",
       "    <tr style=\"text-align: right;\">\n",
       "      <th></th>\n",
       "      <th>label</th>\n",
       "      <th>aon</th>\n",
       "      <th>daily_decr90</th>\n",
       "      <th>rental90</th>\n",
       "      <th>last_rech_date_ma</th>\n",
       "      <th>last_rech_amt_ma</th>\n",
       "      <th>cnt_ma_rech90</th>\n",
       "      <th>fr_ma_rech90</th>\n",
       "      <th>sumamnt_ma_rech90</th>\n",
       "      <th>medianamnt_ma_rech90</th>\n",
       "      <th>medianmarechprebal90</th>\n",
       "      <th>cnt_da_rech90</th>\n",
       "      <th>fr_da_rech90</th>\n",
       "      <th>cnt_loans90</th>\n",
       "      <th>amnt_loans90</th>\n",
       "      <th>maxamnt_loans90</th>\n",
       "      <th>medianamnt_loans90</th>\n",
       "      <th>payback90</th>\n",
       "      <th>pDay</th>\n",
       "      <th>pMonth</th>\n",
       "    </tr>\n",
       "  </thead>\n",
       "  <tbody>\n",
       "    <tr>\n",
       "      <th>0</th>\n",
       "      <td>0</td>\n",
       "      <td>272.0</td>\n",
       "      <td>3065.150000</td>\n",
       "      <td>260.13</td>\n",
       "      <td>2.0</td>\n",
       "      <td>1539</td>\n",
       "      <td>2</td>\n",
       "      <td>21</td>\n",
       "      <td>3078</td>\n",
       "      <td>1539.0</td>\n",
       "      <td>7.50</td>\n",
       "      <td>0</td>\n",
       "      <td>0</td>\n",
       "      <td>2.0</td>\n",
       "      <td>12</td>\n",
       "      <td>6</td>\n",
       "      <td>0.0</td>\n",
       "      <td>29.000000</td>\n",
       "      <td>20</td>\n",
       "      <td>7</td>\n",
       "    </tr>\n",
       "    <tr>\n",
       "      <th>1</th>\n",
       "      <td>1</td>\n",
       "      <td>712.0</td>\n",
       "      <td>12124.750000</td>\n",
       "      <td>3691.26</td>\n",
       "      <td>20.0</td>\n",
       "      <td>5787</td>\n",
       "      <td>1</td>\n",
       "      <td>0</td>\n",
       "      <td>5787</td>\n",
       "      <td>5787.0</td>\n",
       "      <td>61.04</td>\n",
       "      <td>0</td>\n",
       "      <td>0</td>\n",
       "      <td>1.0</td>\n",
       "      <td>12</td>\n",
       "      <td>12</td>\n",
       "      <td>0.0</td>\n",
       "      <td>0.000000</td>\n",
       "      <td>10</td>\n",
       "      <td>8</td>\n",
       "    </tr>\n",
       "    <tr>\n",
       "      <th>2</th>\n",
       "      <td>1</td>\n",
       "      <td>535.0</td>\n",
       "      <td>1398.000000</td>\n",
       "      <td>900.13</td>\n",
       "      <td>3.0</td>\n",
       "      <td>1539</td>\n",
       "      <td>1</td>\n",
       "      <td>0</td>\n",
       "      <td>1539</td>\n",
       "      <td>1539.0</td>\n",
       "      <td>66.32</td>\n",
       "      <td>0</td>\n",
       "      <td>0</td>\n",
       "      <td>1.0</td>\n",
       "      <td>6</td>\n",
       "      <td>6</td>\n",
       "      <td>0.0</td>\n",
       "      <td>0.000000</td>\n",
       "      <td>19</td>\n",
       "      <td>8</td>\n",
       "    </tr>\n",
       "    <tr>\n",
       "      <th>3</th>\n",
       "      <td>1</td>\n",
       "      <td>241.0</td>\n",
       "      <td>21.228000</td>\n",
       "      <td>159.42</td>\n",
       "      <td>41.0</td>\n",
       "      <td>947</td>\n",
       "      <td>1</td>\n",
       "      <td>0</td>\n",
       "      <td>947</td>\n",
       "      <td>947.0</td>\n",
       "      <td>2.50</td>\n",
       "      <td>0</td>\n",
       "      <td>0</td>\n",
       "      <td>2.0</td>\n",
       "      <td>12</td>\n",
       "      <td>6</td>\n",
       "      <td>0.0</td>\n",
       "      <td>0.000000</td>\n",
       "      <td>6</td>\n",
       "      <td>6</td>\n",
       "    </tr>\n",
       "    <tr>\n",
       "      <th>4</th>\n",
       "      <td>1</td>\n",
       "      <td>947.0</td>\n",
       "      <td>150.619333</td>\n",
       "      <td>1098.90</td>\n",
       "      <td>4.0</td>\n",
       "      <td>2309</td>\n",
       "      <td>8</td>\n",
       "      <td>2</td>\n",
       "      <td>23496</td>\n",
       "      <td>2888.0</td>\n",
       "      <td>35.00</td>\n",
       "      <td>0</td>\n",
       "      <td>0</td>\n",
       "      <td>7.0</td>\n",
       "      <td>42</td>\n",
       "      <td>6</td>\n",
       "      <td>0.0</td>\n",
       "      <td>2.333333</td>\n",
       "      <td>22</td>\n",
       "      <td>6</td>\n",
       "    </tr>\n",
       "  </tbody>\n",
       "</table>\n",
       "</div>"
      ],
      "text/plain": [
       "   label    aon  daily_decr90  rental90  last_rech_date_ma  last_rech_amt_ma  \\\n",
       "0      0  272.0   3065.150000    260.13                2.0              1539   \n",
       "1      1  712.0  12124.750000   3691.26               20.0              5787   \n",
       "2      1  535.0   1398.000000    900.13                3.0              1539   \n",
       "3      1  241.0     21.228000    159.42               41.0               947   \n",
       "4      1  947.0    150.619333   1098.90                4.0              2309   \n",
       "\n",
       "   cnt_ma_rech90  fr_ma_rech90  sumamnt_ma_rech90  medianamnt_ma_rech90  \\\n",
       "0              2            21               3078                1539.0   \n",
       "1              1             0               5787                5787.0   \n",
       "2              1             0               1539                1539.0   \n",
       "3              1             0                947                 947.0   \n",
       "4              8             2              23496                2888.0   \n",
       "\n",
       "   medianmarechprebal90  cnt_da_rech90  fr_da_rech90  cnt_loans90  \\\n",
       "0                  7.50              0             0          2.0   \n",
       "1                 61.04              0             0          1.0   \n",
       "2                 66.32              0             0          1.0   \n",
       "3                  2.50              0             0          2.0   \n",
       "4                 35.00              0             0          7.0   \n",
       "\n",
       "   amnt_loans90  maxamnt_loans90  medianamnt_loans90  payback90  pDay  pMonth  \n",
       "0            12                6                 0.0  29.000000    20       7  \n",
       "1            12               12                 0.0   0.000000    10       8  \n",
       "2             6                6                 0.0   0.000000    19       8  \n",
       "3            12                6                 0.0   0.000000     6       6  \n",
       "4            42                6                 0.0   2.333333    22       6  "
      ]
     },
     "execution_count": 33,
     "metadata": {},
     "output_type": "execute_result"
    }
   ],
   "source": [
    "df.head()"
   ]
  },
  {
   "cell_type": "markdown",
   "id": "70d00703",
   "metadata": {},
   "source": [
    "### Treating cnt_da_rech90 and fr_da_rech90 columns"
   ]
  },
  {
   "cell_type": "markdown",
   "id": "1e6fafb2",
   "metadata": {},
   "source": [
    "According to the df.describe() method we can safly say that more than 75% data is 0 which is of no use.So we are going to drop these columns as well."
   ]
  },
  {
   "cell_type": "code",
   "execution_count": 34,
   "id": "8357fbc0",
   "metadata": {},
   "outputs": [],
   "source": [
    "df.drop(columns={'cnt_da_rech90','fr_da_rech90'},inplace=True)"
   ]
  },
  {
   "cell_type": "markdown",
   "id": "5c697250",
   "metadata": {},
   "source": [
    "### Treating cnt_ma_rech90 and fr_ma_rech90 column"
   ]
  },
  {
   "cell_type": "markdown",
   "id": "141cb4ef",
   "metadata": {},
   "source": [
    "As both of these columns have the same definition according to the Data_Descriprion xml file so we are going to drop one of the column."
   ]
  },
  {
   "cell_type": "code",
   "execution_count": 35,
   "id": "495e39e4",
   "metadata": {},
   "outputs": [
    {
     "name": "stdout",
     "output_type": "stream",
     "text": [
      "0.2380271292897266 \n",
      " 0.08312770328064291\n"
     ]
    }
   ],
   "source": [
    "corr1=df.label.corr(df.cnt_ma_rech90)\n",
    "corr2=df.label.corr(df.fr_ma_rech90)\n",
    "print(corr1,'\\n',corr2)"
   ]
  },
  {
   "cell_type": "markdown",
   "id": "d728bbf6",
   "metadata": {},
   "source": [
    "As the correlation with our target variable is better in the case of cnt_ma_rech90 so we are going to keep this column and delete the other one."
   ]
  },
  {
   "cell_type": "code",
   "execution_count": 36,
   "id": "50350b6e",
   "metadata": {},
   "outputs": [],
   "source": [
    "df.drop(columns={'fr_ma_rech90'},inplace=True)"
   ]
  },
  {
   "cell_type": "markdown",
   "id": "5c578d6c",
   "metadata": {},
   "source": [
    "### Treating cnt_loans90 column"
   ]
  },
  {
   "cell_type": "markdown",
   "id": "a64e2f75",
   "metadata": {},
   "source": [
    "We can see there is a abnormal maximum value 4997.517944 in this column and 30 is the 75% of the values so we are going to delete any value higher than 100 just to be on the safe side."
   ]
  },
  {
   "cell_type": "code",
   "execution_count": 37,
   "id": "80499d4c",
   "metadata": {},
   "outputs": [
    {
     "data": {
      "text/html": [
       "<div>\n",
       "<style scoped>\n",
       "    .dataframe tbody tr th:only-of-type {\n",
       "        vertical-align: middle;\n",
       "    }\n",
       "\n",
       "    .dataframe tbody tr th {\n",
       "        vertical-align: top;\n",
       "    }\n",
       "\n",
       "    .dataframe thead th {\n",
       "        text-align: right;\n",
       "    }\n",
       "</style>\n",
       "<table border=\"1\" class=\"dataframe\">\n",
       "  <thead>\n",
       "    <tr style=\"text-align: right;\">\n",
       "      <th></th>\n",
       "      <th>label</th>\n",
       "      <th>aon</th>\n",
       "      <th>daily_decr90</th>\n",
       "      <th>rental90</th>\n",
       "      <th>last_rech_date_ma</th>\n",
       "      <th>last_rech_amt_ma</th>\n",
       "      <th>cnt_ma_rech90</th>\n",
       "      <th>sumamnt_ma_rech90</th>\n",
       "      <th>medianamnt_ma_rech90</th>\n",
       "      <th>medianmarechprebal90</th>\n",
       "      <th>cnt_loans90</th>\n",
       "      <th>amnt_loans90</th>\n",
       "      <th>maxamnt_loans90</th>\n",
       "      <th>medianamnt_loans90</th>\n",
       "      <th>payback90</th>\n",
       "      <th>pDay</th>\n",
       "      <th>pMonth</th>\n",
       "    </tr>\n",
       "  </thead>\n",
       "  <tbody>\n",
       "    <tr>\n",
       "      <th>count</th>\n",
       "      <td>205147.000000</td>\n",
       "      <td>205147.000000</td>\n",
       "      <td>205147.000000</td>\n",
       "      <td>205147.000000</td>\n",
       "      <td>205147.000000</td>\n",
       "      <td>205147.000000</td>\n",
       "      <td>205147.000000</td>\n",
       "      <td>205147.000000</td>\n",
       "      <td>205147.000000</td>\n",
       "      <td>205147.000000</td>\n",
       "      <td>205147.000000</td>\n",
       "      <td>205147.000000</td>\n",
       "      <td>205147.000000</td>\n",
       "      <td>205147.000000</td>\n",
       "      <td>205147.000000</td>\n",
       "      <td>205147.000000</td>\n",
       "      <td>205147.000000</td>\n",
       "    </tr>\n",
       "    <tr>\n",
       "      <th>mean</th>\n",
       "      <td>0.874490</td>\n",
       "      <td>654.999166</td>\n",
       "      <td>6119.884559</td>\n",
       "      <td>3503.501146</td>\n",
       "      <td>6.143268</td>\n",
       "      <td>2060.736989</td>\n",
       "      <td>6.339937</td>\n",
       "      <td>12437.602222</td>\n",
       "      <td>1861.056369</td>\n",
       "      <td>91.598069</td>\n",
       "      <td>18.572360</td>\n",
       "      <td>23.751895</td>\n",
       "      <td>6.708253</td>\n",
       "      <td>0.045874</td>\n",
       "      <td>4.345264</td>\n",
       "      <td>14.425909</td>\n",
       "      <td>6.802376</td>\n",
       "    </tr>\n",
       "    <tr>\n",
       "      <th>std</th>\n",
       "      <td>0.331297</td>\n",
       "      <td>499.389843</td>\n",
       "      <td>10930.008032</td>\n",
       "      <td>5783.970370</td>\n",
       "      <td>9.341881</td>\n",
       "      <td>2366.005813</td>\n",
       "      <td>7.203513</td>\n",
       "      <td>16883.980108</td>\n",
       "      <td>2076.990192</td>\n",
       "      <td>370.166308</td>\n",
       "      <td>225.292888</td>\n",
       "      <td>26.522203</td>\n",
       "      <td>2.109468</td>\n",
       "      <td>0.200225</td>\n",
       "      <td>10.326386</td>\n",
       "      <td>8.439841</td>\n",
       "      <td>0.740987</td>\n",
       "    </tr>\n",
       "    <tr>\n",
       "      <th>min</th>\n",
       "      <td>0.000000</td>\n",
       "      <td>-48.000000</td>\n",
       "      <td>-93.012667</td>\n",
       "      <td>-24720.580000</td>\n",
       "      <td>0.000000</td>\n",
       "      <td>0.000000</td>\n",
       "      <td>0.000000</td>\n",
       "      <td>0.000000</td>\n",
       "      <td>0.000000</td>\n",
       "      <td>-200.000000</td>\n",
       "      <td>0.000000</td>\n",
       "      <td>0.000000</td>\n",
       "      <td>0.000000</td>\n",
       "      <td>0.000000</td>\n",
       "      <td>0.000000</td>\n",
       "      <td>1.000000</td>\n",
       "      <td>6.000000</td>\n",
       "    </tr>\n",
       "    <tr>\n",
       "      <th>25%</th>\n",
       "      <td>1.000000</td>\n",
       "      <td>243.000000</td>\n",
       "      <td>43.899667</td>\n",
       "      <td>308.085000</td>\n",
       "      <td>1.000000</td>\n",
       "      <td>770.000000</td>\n",
       "      <td>2.000000</td>\n",
       "      <td>2317.000000</td>\n",
       "      <td>773.000000</td>\n",
       "      <td>14.525000</td>\n",
       "      <td>1.000000</td>\n",
       "      <td>6.000000</td>\n",
       "      <td>6.000000</td>\n",
       "      <td>0.000000</td>\n",
       "      <td>0.000000</td>\n",
       "      <td>7.000000</td>\n",
       "      <td>6.000000</td>\n",
       "    </tr>\n",
       "    <tr>\n",
       "      <th>50%</th>\n",
       "      <td>1.000000</td>\n",
       "      <td>519.000000</td>\n",
       "      <td>1531.780000</td>\n",
       "      <td>1352.060000</td>\n",
       "      <td>3.000000</td>\n",
       "      <td>1539.000000</td>\n",
       "      <td>4.000000</td>\n",
       "      <td>7307.000000</td>\n",
       "      <td>1539.000000</td>\n",
       "      <td>36.000000</td>\n",
       "      <td>2.000000</td>\n",
       "      <td>12.000000</td>\n",
       "      <td>6.000000</td>\n",
       "      <td>0.000000</td>\n",
       "      <td>1.666667</td>\n",
       "      <td>14.000000</td>\n",
       "      <td>7.000000</td>\n",
       "    </tr>\n",
       "    <tr>\n",
       "      <th>75%</th>\n",
       "      <td>1.000000</td>\n",
       "      <td>963.000000</td>\n",
       "      <td>7873.680000</td>\n",
       "      <td>4231.965000</td>\n",
       "      <td>7.000000</td>\n",
       "      <td>2309.000000</td>\n",
       "      <td>9.000000</td>\n",
       "      <td>16091.000000</td>\n",
       "      <td>1924.000000</td>\n",
       "      <td>79.000000</td>\n",
       "      <td>5.000000</td>\n",
       "      <td>30.000000</td>\n",
       "      <td>6.000000</td>\n",
       "      <td>0.000000</td>\n",
       "      <td>4.500000</td>\n",
       "      <td>21.000000</td>\n",
       "      <td>7.000000</td>\n",
       "    </tr>\n",
       "    <tr>\n",
       "      <th>max</th>\n",
       "      <td>1.000000</td>\n",
       "      <td>2440.000000</td>\n",
       "      <td>320630.000000</td>\n",
       "      <td>200148.110000</td>\n",
       "      <td>100.000000</td>\n",
       "      <td>55000.000000</td>\n",
       "      <td>336.000000</td>\n",
       "      <td>953036.000000</td>\n",
       "      <td>55000.000000</td>\n",
       "      <td>41456.500000</td>\n",
       "      <td>4997.517944</td>\n",
       "      <td>438.000000</td>\n",
       "      <td>12.000000</td>\n",
       "      <td>3.000000</td>\n",
       "      <td>171.500000</td>\n",
       "      <td>31.000000</td>\n",
       "      <td>8.000000</td>\n",
       "    </tr>\n",
       "  </tbody>\n",
       "</table>\n",
       "</div>"
      ],
      "text/plain": [
       "               label            aon   daily_decr90       rental90  \\\n",
       "count  205147.000000  205147.000000  205147.000000  205147.000000   \n",
       "mean        0.874490     654.999166    6119.884559    3503.501146   \n",
       "std         0.331297     499.389843   10930.008032    5783.970370   \n",
       "min         0.000000     -48.000000     -93.012667  -24720.580000   \n",
       "25%         1.000000     243.000000      43.899667     308.085000   \n",
       "50%         1.000000     519.000000    1531.780000    1352.060000   \n",
       "75%         1.000000     963.000000    7873.680000    4231.965000   \n",
       "max         1.000000    2440.000000  320630.000000  200148.110000   \n",
       "\n",
       "       last_rech_date_ma  last_rech_amt_ma  cnt_ma_rech90  sumamnt_ma_rech90  \\\n",
       "count      205147.000000     205147.000000  205147.000000      205147.000000   \n",
       "mean            6.143268       2060.736989       6.339937       12437.602222   \n",
       "std             9.341881       2366.005813       7.203513       16883.980108   \n",
       "min             0.000000          0.000000       0.000000           0.000000   \n",
       "25%             1.000000        770.000000       2.000000        2317.000000   \n",
       "50%             3.000000       1539.000000       4.000000        7307.000000   \n",
       "75%             7.000000       2309.000000       9.000000       16091.000000   \n",
       "max           100.000000      55000.000000     336.000000      953036.000000   \n",
       "\n",
       "       medianamnt_ma_rech90  medianmarechprebal90    cnt_loans90  \\\n",
       "count         205147.000000         205147.000000  205147.000000   \n",
       "mean            1861.056369             91.598069      18.572360   \n",
       "std             2076.990192            370.166308     225.292888   \n",
       "min                0.000000           -200.000000       0.000000   \n",
       "25%              773.000000             14.525000       1.000000   \n",
       "50%             1539.000000             36.000000       2.000000   \n",
       "75%             1924.000000             79.000000       5.000000   \n",
       "max            55000.000000          41456.500000    4997.517944   \n",
       "\n",
       "        amnt_loans90  maxamnt_loans90  medianamnt_loans90      payback90  \\\n",
       "count  205147.000000    205147.000000       205147.000000  205147.000000   \n",
       "mean       23.751895         6.708253            0.045874       4.345264   \n",
       "std        26.522203         2.109468            0.200225      10.326386   \n",
       "min         0.000000         0.000000            0.000000       0.000000   \n",
       "25%         6.000000         6.000000            0.000000       0.000000   \n",
       "50%        12.000000         6.000000            0.000000       1.666667   \n",
       "75%        30.000000         6.000000            0.000000       4.500000   \n",
       "max       438.000000        12.000000            3.000000     171.500000   \n",
       "\n",
       "                pDay         pMonth  \n",
       "count  205147.000000  205147.000000  \n",
       "mean       14.425909       6.802376  \n",
       "std         8.439841       0.740987  \n",
       "min         1.000000       6.000000  \n",
       "25%         7.000000       6.000000  \n",
       "50%        14.000000       7.000000  \n",
       "75%        21.000000       7.000000  \n",
       "max        31.000000       8.000000  "
      ]
     },
     "execution_count": 37,
     "metadata": {},
     "output_type": "execute_result"
    }
   ],
   "source": [
    "df.describe()"
   ]
  },
  {
   "cell_type": "code",
   "execution_count": 38,
   "id": "44c73a69",
   "metadata": {},
   "outputs": [],
   "source": [
    "abnormal=0\n",
    "index=[]\n",
    "for i in range(len(df.last_rech_date_ma)):\n",
    "    if ((df.iloc[i,10])>100):\n",
    "        abnormal+=1\n",
    "        index.append(i)"
   ]
  },
  {
   "cell_type": "code",
   "execution_count": 39,
   "id": "271bcc6a",
   "metadata": {},
   "outputs": [
    {
     "data": {
      "text/plain": [
       "1024"
      ]
     },
     "execution_count": 39,
     "metadata": {},
     "output_type": "execute_result"
    }
   ],
   "source": [
    "abnormal"
   ]
  },
  {
   "cell_type": "markdown",
   "id": "639183bf",
   "metadata": {},
   "source": [
    "now we are going to delete these columns."
   ]
  },
  {
   "cell_type": "code",
   "execution_count": 40,
   "id": "78a7d26d",
   "metadata": {},
   "outputs": [],
   "source": [
    "df.drop(df.index[index],inplace=True)"
   ]
  },
  {
   "cell_type": "code",
   "execution_count": 41,
   "id": "78a418bb",
   "metadata": {},
   "outputs": [
    {
     "data": {
      "text/html": [
       "<div>\n",
       "<style scoped>\n",
       "    .dataframe tbody tr th:only-of-type {\n",
       "        vertical-align: middle;\n",
       "    }\n",
       "\n",
       "    .dataframe tbody tr th {\n",
       "        vertical-align: top;\n",
       "    }\n",
       "\n",
       "    .dataframe thead th {\n",
       "        text-align: right;\n",
       "    }\n",
       "</style>\n",
       "<table border=\"1\" class=\"dataframe\">\n",
       "  <thead>\n",
       "    <tr style=\"text-align: right;\">\n",
       "      <th></th>\n",
       "      <th>label</th>\n",
       "      <th>aon</th>\n",
       "      <th>daily_decr90</th>\n",
       "      <th>rental90</th>\n",
       "      <th>last_rech_date_ma</th>\n",
       "      <th>last_rech_amt_ma</th>\n",
       "      <th>cnt_ma_rech90</th>\n",
       "      <th>sumamnt_ma_rech90</th>\n",
       "      <th>medianamnt_ma_rech90</th>\n",
       "      <th>medianmarechprebal90</th>\n",
       "      <th>cnt_loans90</th>\n",
       "      <th>amnt_loans90</th>\n",
       "      <th>maxamnt_loans90</th>\n",
       "      <th>medianamnt_loans90</th>\n",
       "      <th>payback90</th>\n",
       "      <th>pDay</th>\n",
       "      <th>pMonth</th>\n",
       "    </tr>\n",
       "  </thead>\n",
       "  <tbody>\n",
       "    <tr>\n",
       "      <th>0</th>\n",
       "      <td>0</td>\n",
       "      <td>272.0</td>\n",
       "      <td>3065.150000</td>\n",
       "      <td>260.13</td>\n",
       "      <td>2.0</td>\n",
       "      <td>1539</td>\n",
       "      <td>2</td>\n",
       "      <td>3078</td>\n",
       "      <td>1539.0</td>\n",
       "      <td>7.50</td>\n",
       "      <td>2.0</td>\n",
       "      <td>12</td>\n",
       "      <td>6</td>\n",
       "      <td>0.0</td>\n",
       "      <td>29.000000</td>\n",
       "      <td>20</td>\n",
       "      <td>7</td>\n",
       "    </tr>\n",
       "    <tr>\n",
       "      <th>1</th>\n",
       "      <td>1</td>\n",
       "      <td>712.0</td>\n",
       "      <td>12124.750000</td>\n",
       "      <td>3691.26</td>\n",
       "      <td>20.0</td>\n",
       "      <td>5787</td>\n",
       "      <td>1</td>\n",
       "      <td>5787</td>\n",
       "      <td>5787.0</td>\n",
       "      <td>61.04</td>\n",
       "      <td>1.0</td>\n",
       "      <td>12</td>\n",
       "      <td>12</td>\n",
       "      <td>0.0</td>\n",
       "      <td>0.000000</td>\n",
       "      <td>10</td>\n",
       "      <td>8</td>\n",
       "    </tr>\n",
       "    <tr>\n",
       "      <th>2</th>\n",
       "      <td>1</td>\n",
       "      <td>535.0</td>\n",
       "      <td>1398.000000</td>\n",
       "      <td>900.13</td>\n",
       "      <td>3.0</td>\n",
       "      <td>1539</td>\n",
       "      <td>1</td>\n",
       "      <td>1539</td>\n",
       "      <td>1539.0</td>\n",
       "      <td>66.32</td>\n",
       "      <td>1.0</td>\n",
       "      <td>6</td>\n",
       "      <td>6</td>\n",
       "      <td>0.0</td>\n",
       "      <td>0.000000</td>\n",
       "      <td>19</td>\n",
       "      <td>8</td>\n",
       "    </tr>\n",
       "    <tr>\n",
       "      <th>3</th>\n",
       "      <td>1</td>\n",
       "      <td>241.0</td>\n",
       "      <td>21.228000</td>\n",
       "      <td>159.42</td>\n",
       "      <td>41.0</td>\n",
       "      <td>947</td>\n",
       "      <td>1</td>\n",
       "      <td>947</td>\n",
       "      <td>947.0</td>\n",
       "      <td>2.50</td>\n",
       "      <td>2.0</td>\n",
       "      <td>12</td>\n",
       "      <td>6</td>\n",
       "      <td>0.0</td>\n",
       "      <td>0.000000</td>\n",
       "      <td>6</td>\n",
       "      <td>6</td>\n",
       "    </tr>\n",
       "    <tr>\n",
       "      <th>4</th>\n",
       "      <td>1</td>\n",
       "      <td>947.0</td>\n",
       "      <td>150.619333</td>\n",
       "      <td>1098.90</td>\n",
       "      <td>4.0</td>\n",
       "      <td>2309</td>\n",
       "      <td>8</td>\n",
       "      <td>23496</td>\n",
       "      <td>2888.0</td>\n",
       "      <td>35.00</td>\n",
       "      <td>7.0</td>\n",
       "      <td>42</td>\n",
       "      <td>6</td>\n",
       "      <td>0.0</td>\n",
       "      <td>2.333333</td>\n",
       "      <td>22</td>\n",
       "      <td>6</td>\n",
       "    </tr>\n",
       "  </tbody>\n",
       "</table>\n",
       "</div>"
      ],
      "text/plain": [
       "   label    aon  daily_decr90  rental90  last_rech_date_ma  last_rech_amt_ma  \\\n",
       "0      0  272.0   3065.150000    260.13                2.0              1539   \n",
       "1      1  712.0  12124.750000   3691.26               20.0              5787   \n",
       "2      1  535.0   1398.000000    900.13                3.0              1539   \n",
       "3      1  241.0     21.228000    159.42               41.0               947   \n",
       "4      1  947.0    150.619333   1098.90                4.0              2309   \n",
       "\n",
       "   cnt_ma_rech90  sumamnt_ma_rech90  medianamnt_ma_rech90  \\\n",
       "0              2               3078                1539.0   \n",
       "1              1               5787                5787.0   \n",
       "2              1               1539                1539.0   \n",
       "3              1                947                 947.0   \n",
       "4              8              23496                2888.0   \n",
       "\n",
       "   medianmarechprebal90  cnt_loans90  amnt_loans90  maxamnt_loans90  \\\n",
       "0                  7.50          2.0            12                6   \n",
       "1                 61.04          1.0            12               12   \n",
       "2                 66.32          1.0             6                6   \n",
       "3                  2.50          2.0            12                6   \n",
       "4                 35.00          7.0            42                6   \n",
       "\n",
       "   medianamnt_loans90  payback90  pDay  pMonth  \n",
       "0                 0.0  29.000000    20       7  \n",
       "1                 0.0   0.000000    10       8  \n",
       "2                 0.0   0.000000    19       8  \n",
       "3                 0.0   0.000000     6       6  \n",
       "4                 0.0   2.333333    22       6  "
      ]
     },
     "execution_count": 41,
     "metadata": {},
     "output_type": "execute_result"
    }
   ],
   "source": [
    "df.head()"
   ]
  },
  {
   "cell_type": "code",
   "execution_count": 42,
   "id": "31ffcea4",
   "metadata": {},
   "outputs": [
    {
     "data": {
      "text/html": [
       "<div>\n",
       "<style scoped>\n",
       "    .dataframe tbody tr th:only-of-type {\n",
       "        vertical-align: middle;\n",
       "    }\n",
       "\n",
       "    .dataframe tbody tr th {\n",
       "        vertical-align: top;\n",
       "    }\n",
       "\n",
       "    .dataframe thead th {\n",
       "        text-align: right;\n",
       "    }\n",
       "</style>\n",
       "<table border=\"1\" class=\"dataframe\">\n",
       "  <thead>\n",
       "    <tr style=\"text-align: right;\">\n",
       "      <th></th>\n",
       "      <th>label</th>\n",
       "      <th>aon</th>\n",
       "      <th>daily_decr90</th>\n",
       "      <th>rental90</th>\n",
       "      <th>last_rech_date_ma</th>\n",
       "      <th>last_rech_amt_ma</th>\n",
       "      <th>cnt_ma_rech90</th>\n",
       "      <th>sumamnt_ma_rech90</th>\n",
       "      <th>medianamnt_ma_rech90</th>\n",
       "      <th>medianmarechprebal90</th>\n",
       "      <th>cnt_loans90</th>\n",
       "      <th>amnt_loans90</th>\n",
       "      <th>maxamnt_loans90</th>\n",
       "      <th>medianamnt_loans90</th>\n",
       "      <th>payback90</th>\n",
       "      <th>pDay</th>\n",
       "      <th>pMonth</th>\n",
       "    </tr>\n",
       "  </thead>\n",
       "  <tbody>\n",
       "    <tr>\n",
       "      <th>count</th>\n",
       "      <td>204123.000000</td>\n",
       "      <td>204123.000000</td>\n",
       "      <td>204123.000000</td>\n",
       "      <td>204123.000000</td>\n",
       "      <td>204123.000000</td>\n",
       "      <td>204123.000000</td>\n",
       "      <td>204123.000000</td>\n",
       "      <td>204123.000000</td>\n",
       "      <td>204123.000000</td>\n",
       "      <td>204123.000000</td>\n",
       "      <td>204123.000000</td>\n",
       "      <td>204123.000000</td>\n",
       "      <td>204123.000000</td>\n",
       "      <td>204123.000000</td>\n",
       "      <td>204123.000000</td>\n",
       "      <td>204123.000000</td>\n",
       "      <td>204123.000000</td>\n",
       "    </tr>\n",
       "    <tr>\n",
       "      <th>mean</th>\n",
       "      <td>0.874438</td>\n",
       "      <td>654.859296</td>\n",
       "      <td>6118.978055</td>\n",
       "      <td>3502.953621</td>\n",
       "      <td>6.143561</td>\n",
       "      <td>2060.679179</td>\n",
       "      <td>6.337620</td>\n",
       "      <td>12433.950334</td>\n",
       "      <td>1860.850965</td>\n",
       "      <td>91.616338</td>\n",
       "      <td>3.709028</td>\n",
       "      <td>23.747241</td>\n",
       "      <td>6.708396</td>\n",
       "      <td>0.045884</td>\n",
       "      <td>4.346113</td>\n",
       "      <td>14.425797</td>\n",
       "      <td>6.802399</td>\n",
       "    </tr>\n",
       "    <tr>\n",
       "      <th>std</th>\n",
       "      <td>0.331355</td>\n",
       "      <td>499.329661</td>\n",
       "      <td>10933.495078</td>\n",
       "      <td>5783.442044</td>\n",
       "      <td>9.340763</td>\n",
       "      <td>2366.658645</td>\n",
       "      <td>7.202459</td>\n",
       "      <td>16886.825665</td>\n",
       "      <td>2077.087610</td>\n",
       "      <td>370.613596</td>\n",
       "      <td>4.035143</td>\n",
       "      <td>26.516075</td>\n",
       "      <td>2.109873</td>\n",
       "      <td>0.200262</td>\n",
       "      <td>10.331626</td>\n",
       "      <td>8.438902</td>\n",
       "      <td>0.740978</td>\n",
       "    </tr>\n",
       "    <tr>\n",
       "      <th>min</th>\n",
       "      <td>0.000000</td>\n",
       "      <td>-48.000000</td>\n",
       "      <td>-93.012667</td>\n",
       "      <td>-24720.580000</td>\n",
       "      <td>0.000000</td>\n",
       "      <td>0.000000</td>\n",
       "      <td>0.000000</td>\n",
       "      <td>0.000000</td>\n",
       "      <td>0.000000</td>\n",
       "      <td>-200.000000</td>\n",
       "      <td>0.000000</td>\n",
       "      <td>0.000000</td>\n",
       "      <td>0.000000</td>\n",
       "      <td>0.000000</td>\n",
       "      <td>0.000000</td>\n",
       "      <td>1.000000</td>\n",
       "      <td>6.000000</td>\n",
       "    </tr>\n",
       "    <tr>\n",
       "      <th>25%</th>\n",
       "      <td>1.000000</td>\n",
       "      <td>243.000000</td>\n",
       "      <td>43.899167</td>\n",
       "      <td>308.000000</td>\n",
       "      <td>1.000000</td>\n",
       "      <td>770.000000</td>\n",
       "      <td>2.000000</td>\n",
       "      <td>2317.000000</td>\n",
       "      <td>773.000000</td>\n",
       "      <td>14.500000</td>\n",
       "      <td>1.000000</td>\n",
       "      <td>6.000000</td>\n",
       "      <td>6.000000</td>\n",
       "      <td>0.000000</td>\n",
       "      <td>0.000000</td>\n",
       "      <td>7.000000</td>\n",
       "      <td>6.000000</td>\n",
       "    </tr>\n",
       "    <tr>\n",
       "      <th>50%</th>\n",
       "      <td>1.000000</td>\n",
       "      <td>519.000000</td>\n",
       "      <td>1532.000000</td>\n",
       "      <td>1351.890000</td>\n",
       "      <td>3.000000</td>\n",
       "      <td>1539.000000</td>\n",
       "      <td>4.000000</td>\n",
       "      <td>7304.000000</td>\n",
       "      <td>1539.000000</td>\n",
       "      <td>35.950000</td>\n",
       "      <td>2.000000</td>\n",
       "      <td>12.000000</td>\n",
       "      <td>6.000000</td>\n",
       "      <td>0.000000</td>\n",
       "      <td>1.666667</td>\n",
       "      <td>14.000000</td>\n",
       "      <td>7.000000</td>\n",
       "    </tr>\n",
       "    <tr>\n",
       "      <th>75%</th>\n",
       "      <td>1.000000</td>\n",
       "      <td>963.000000</td>\n",
       "      <td>7871.100000</td>\n",
       "      <td>4231.965000</td>\n",
       "      <td>7.000000</td>\n",
       "      <td>2309.000000</td>\n",
       "      <td>9.000000</td>\n",
       "      <td>16067.000000</td>\n",
       "      <td>1924.000000</td>\n",
       "      <td>79.000000</td>\n",
       "      <td>5.000000</td>\n",
       "      <td>30.000000</td>\n",
       "      <td>6.000000</td>\n",
       "      <td>0.000000</td>\n",
       "      <td>4.500000</td>\n",
       "      <td>21.000000</td>\n",
       "      <td>7.000000</td>\n",
       "    </tr>\n",
       "    <tr>\n",
       "      <th>max</th>\n",
       "      <td>1.000000</td>\n",
       "      <td>2440.000000</td>\n",
       "      <td>320630.000000</td>\n",
       "      <td>200148.110000</td>\n",
       "      <td>100.000000</td>\n",
       "      <td>55000.000000</td>\n",
       "      <td>336.000000</td>\n",
       "      <td>953036.000000</td>\n",
       "      <td>55000.000000</td>\n",
       "      <td>41456.500000</td>\n",
       "      <td>71.000000</td>\n",
       "      <td>438.000000</td>\n",
       "      <td>12.000000</td>\n",
       "      <td>3.000000</td>\n",
       "      <td>171.500000</td>\n",
       "      <td>31.000000</td>\n",
       "      <td>8.000000</td>\n",
       "    </tr>\n",
       "  </tbody>\n",
       "</table>\n",
       "</div>"
      ],
      "text/plain": [
       "               label            aon   daily_decr90       rental90  \\\n",
       "count  204123.000000  204123.000000  204123.000000  204123.000000   \n",
       "mean        0.874438     654.859296    6118.978055    3502.953621   \n",
       "std         0.331355     499.329661   10933.495078    5783.442044   \n",
       "min         0.000000     -48.000000     -93.012667  -24720.580000   \n",
       "25%         1.000000     243.000000      43.899167     308.000000   \n",
       "50%         1.000000     519.000000    1532.000000    1351.890000   \n",
       "75%         1.000000     963.000000    7871.100000    4231.965000   \n",
       "max         1.000000    2440.000000  320630.000000  200148.110000   \n",
       "\n",
       "       last_rech_date_ma  last_rech_amt_ma  cnt_ma_rech90  sumamnt_ma_rech90  \\\n",
       "count      204123.000000     204123.000000  204123.000000      204123.000000   \n",
       "mean            6.143561       2060.679179       6.337620       12433.950334   \n",
       "std             9.340763       2366.658645       7.202459       16886.825665   \n",
       "min             0.000000          0.000000       0.000000           0.000000   \n",
       "25%             1.000000        770.000000       2.000000        2317.000000   \n",
       "50%             3.000000       1539.000000       4.000000        7304.000000   \n",
       "75%             7.000000       2309.000000       9.000000       16067.000000   \n",
       "max           100.000000      55000.000000     336.000000      953036.000000   \n",
       "\n",
       "       medianamnt_ma_rech90  medianmarechprebal90    cnt_loans90  \\\n",
       "count         204123.000000         204123.000000  204123.000000   \n",
       "mean            1860.850965             91.616338       3.709028   \n",
       "std             2077.087610            370.613596       4.035143   \n",
       "min                0.000000           -200.000000       0.000000   \n",
       "25%              773.000000             14.500000       1.000000   \n",
       "50%             1539.000000             35.950000       2.000000   \n",
       "75%             1924.000000             79.000000       5.000000   \n",
       "max            55000.000000          41456.500000      71.000000   \n",
       "\n",
       "        amnt_loans90  maxamnt_loans90  medianamnt_loans90      payback90  \\\n",
       "count  204123.000000    204123.000000       204123.000000  204123.000000   \n",
       "mean       23.747241         6.708396            0.045884       4.346113   \n",
       "std        26.516075         2.109873            0.200262      10.331626   \n",
       "min         0.000000         0.000000            0.000000       0.000000   \n",
       "25%         6.000000         6.000000            0.000000       0.000000   \n",
       "50%        12.000000         6.000000            0.000000       1.666667   \n",
       "75%        30.000000         6.000000            0.000000       4.500000   \n",
       "max       438.000000        12.000000            3.000000     171.500000   \n",
       "\n",
       "                pDay         pMonth  \n",
       "count  204123.000000  204123.000000  \n",
       "mean       14.425797       6.802399  \n",
       "std         8.438902       0.740978  \n",
       "min         1.000000       6.000000  \n",
       "25%         7.000000       6.000000  \n",
       "50%        14.000000       7.000000  \n",
       "75%        21.000000       7.000000  \n",
       "max        31.000000       8.000000  "
      ]
     },
     "execution_count": 42,
     "metadata": {},
     "output_type": "execute_result"
    }
   ],
   "source": [
    "df.describe()"
   ]
  },
  {
   "cell_type": "markdown",
   "id": "8634b6b7",
   "metadata": {},
   "source": [
    "### Treating amnt_loans90 and maxamnt_loans90 column"
   ]
  },
  {
   "cell_type": "markdown",
   "id": "d277eeda",
   "metadata": {},
   "source": [
    "As these values could be only multiples of 6 se we are going to check exactly that and if we find some abnormalities then we are going to delete them."
   ]
  },
  {
   "cell_type": "code",
   "execution_count": 43,
   "id": "87d7bf5c",
   "metadata": {},
   "outputs": [],
   "source": [
    "abnormal=0\n",
    "index=[]\n",
    "for i in range(len(df.last_rech_date_ma)):\n",
    "    if ((df.iloc[i,11]%6)!=0):\n",
    "        abnormal+=1\n",
    "        index.append(i)"
   ]
  },
  {
   "cell_type": "code",
   "execution_count": 44,
   "id": "89f98085",
   "metadata": {},
   "outputs": [
    {
     "data": {
      "text/plain": [
       "0"
      ]
     },
     "execution_count": 44,
     "metadata": {},
     "output_type": "execute_result"
    }
   ],
   "source": [
    "abnormal"
   ]
  },
  {
   "cell_type": "code",
   "execution_count": 45,
   "id": "f62cf2d5",
   "metadata": {},
   "outputs": [],
   "source": [
    "abnormal=0\n",
    "index=[]\n",
    "for i in range(len(df.last_rech_date_ma)):\n",
    "    if ((df.iloc[i,12]%6)!=0):\n",
    "        abnormal+=1\n",
    "        index.append(i)"
   ]
  },
  {
   "cell_type": "code",
   "execution_count": 46,
   "id": "3ef0136e",
   "metadata": {},
   "outputs": [
    {
     "data": {
      "text/plain": [
       "0"
      ]
     },
     "execution_count": 46,
     "metadata": {},
     "output_type": "execute_result"
    }
   ],
   "source": [
    "abnormal"
   ]
  },
  {
   "cell_type": "markdown",
   "id": "ad084216",
   "metadata": {},
   "source": [
    "So The are are no abnormal data."
   ]
  },
  {
   "cell_type": "markdown",
   "id": "889f5029",
   "metadata": {},
   "source": [
    "### Treating medianamnt_loans90 column"
   ]
  },
  {
   "cell_type": "code",
   "execution_count": 47,
   "id": "3913f2b4",
   "metadata": {},
   "outputs": [
    {
     "data": {
      "text/html": [
       "<div>\n",
       "<style scoped>\n",
       "    .dataframe tbody tr th:only-of-type {\n",
       "        vertical-align: middle;\n",
       "    }\n",
       "\n",
       "    .dataframe tbody tr th {\n",
       "        vertical-align: top;\n",
       "    }\n",
       "\n",
       "    .dataframe thead th {\n",
       "        text-align: right;\n",
       "    }\n",
       "</style>\n",
       "<table border=\"1\" class=\"dataframe\">\n",
       "  <thead>\n",
       "    <tr style=\"text-align: right;\">\n",
       "      <th></th>\n",
       "      <th>label</th>\n",
       "      <th>aon</th>\n",
       "      <th>daily_decr90</th>\n",
       "      <th>rental90</th>\n",
       "      <th>last_rech_date_ma</th>\n",
       "      <th>last_rech_amt_ma</th>\n",
       "      <th>cnt_ma_rech90</th>\n",
       "      <th>sumamnt_ma_rech90</th>\n",
       "      <th>medianamnt_ma_rech90</th>\n",
       "      <th>medianmarechprebal90</th>\n",
       "      <th>cnt_loans90</th>\n",
       "      <th>amnt_loans90</th>\n",
       "      <th>maxamnt_loans90</th>\n",
       "      <th>medianamnt_loans90</th>\n",
       "      <th>payback90</th>\n",
       "      <th>pDay</th>\n",
       "      <th>pMonth</th>\n",
       "    </tr>\n",
       "  </thead>\n",
       "  <tbody>\n",
       "    <tr>\n",
       "      <th>count</th>\n",
       "      <td>204123.000000</td>\n",
       "      <td>204123.000000</td>\n",
       "      <td>204123.000000</td>\n",
       "      <td>204123.000000</td>\n",
       "      <td>204123.000000</td>\n",
       "      <td>204123.000000</td>\n",
       "      <td>204123.000000</td>\n",
       "      <td>204123.000000</td>\n",
       "      <td>204123.000000</td>\n",
       "      <td>204123.000000</td>\n",
       "      <td>204123.000000</td>\n",
       "      <td>204123.000000</td>\n",
       "      <td>204123.000000</td>\n",
       "      <td>204123.000000</td>\n",
       "      <td>204123.000000</td>\n",
       "      <td>204123.000000</td>\n",
       "      <td>204123.000000</td>\n",
       "    </tr>\n",
       "    <tr>\n",
       "      <th>mean</th>\n",
       "      <td>0.874438</td>\n",
       "      <td>654.859296</td>\n",
       "      <td>6118.978055</td>\n",
       "      <td>3502.953621</td>\n",
       "      <td>6.143561</td>\n",
       "      <td>2060.679179</td>\n",
       "      <td>6.337620</td>\n",
       "      <td>12433.950334</td>\n",
       "      <td>1860.850965</td>\n",
       "      <td>91.616338</td>\n",
       "      <td>3.709028</td>\n",
       "      <td>23.747241</td>\n",
       "      <td>6.708396</td>\n",
       "      <td>0.045884</td>\n",
       "      <td>4.346113</td>\n",
       "      <td>14.425797</td>\n",
       "      <td>6.802399</td>\n",
       "    </tr>\n",
       "    <tr>\n",
       "      <th>std</th>\n",
       "      <td>0.331355</td>\n",
       "      <td>499.329661</td>\n",
       "      <td>10933.495078</td>\n",
       "      <td>5783.442044</td>\n",
       "      <td>9.340763</td>\n",
       "      <td>2366.658645</td>\n",
       "      <td>7.202459</td>\n",
       "      <td>16886.825665</td>\n",
       "      <td>2077.087610</td>\n",
       "      <td>370.613596</td>\n",
       "      <td>4.035143</td>\n",
       "      <td>26.516075</td>\n",
       "      <td>2.109873</td>\n",
       "      <td>0.200262</td>\n",
       "      <td>10.331626</td>\n",
       "      <td>8.438902</td>\n",
       "      <td>0.740978</td>\n",
       "    </tr>\n",
       "    <tr>\n",
       "      <th>min</th>\n",
       "      <td>0.000000</td>\n",
       "      <td>-48.000000</td>\n",
       "      <td>-93.012667</td>\n",
       "      <td>-24720.580000</td>\n",
       "      <td>0.000000</td>\n",
       "      <td>0.000000</td>\n",
       "      <td>0.000000</td>\n",
       "      <td>0.000000</td>\n",
       "      <td>0.000000</td>\n",
       "      <td>-200.000000</td>\n",
       "      <td>0.000000</td>\n",
       "      <td>0.000000</td>\n",
       "      <td>0.000000</td>\n",
       "      <td>0.000000</td>\n",
       "      <td>0.000000</td>\n",
       "      <td>1.000000</td>\n",
       "      <td>6.000000</td>\n",
       "    </tr>\n",
       "    <tr>\n",
       "      <th>25%</th>\n",
       "      <td>1.000000</td>\n",
       "      <td>243.000000</td>\n",
       "      <td>43.899167</td>\n",
       "      <td>308.000000</td>\n",
       "      <td>1.000000</td>\n",
       "      <td>770.000000</td>\n",
       "      <td>2.000000</td>\n",
       "      <td>2317.000000</td>\n",
       "      <td>773.000000</td>\n",
       "      <td>14.500000</td>\n",
       "      <td>1.000000</td>\n",
       "      <td>6.000000</td>\n",
       "      <td>6.000000</td>\n",
       "      <td>0.000000</td>\n",
       "      <td>0.000000</td>\n",
       "      <td>7.000000</td>\n",
       "      <td>6.000000</td>\n",
       "    </tr>\n",
       "    <tr>\n",
       "      <th>50%</th>\n",
       "      <td>1.000000</td>\n",
       "      <td>519.000000</td>\n",
       "      <td>1532.000000</td>\n",
       "      <td>1351.890000</td>\n",
       "      <td>3.000000</td>\n",
       "      <td>1539.000000</td>\n",
       "      <td>4.000000</td>\n",
       "      <td>7304.000000</td>\n",
       "      <td>1539.000000</td>\n",
       "      <td>35.950000</td>\n",
       "      <td>2.000000</td>\n",
       "      <td>12.000000</td>\n",
       "      <td>6.000000</td>\n",
       "      <td>0.000000</td>\n",
       "      <td>1.666667</td>\n",
       "      <td>14.000000</td>\n",
       "      <td>7.000000</td>\n",
       "    </tr>\n",
       "    <tr>\n",
       "      <th>75%</th>\n",
       "      <td>1.000000</td>\n",
       "      <td>963.000000</td>\n",
       "      <td>7871.100000</td>\n",
       "      <td>4231.965000</td>\n",
       "      <td>7.000000</td>\n",
       "      <td>2309.000000</td>\n",
       "      <td>9.000000</td>\n",
       "      <td>16067.000000</td>\n",
       "      <td>1924.000000</td>\n",
       "      <td>79.000000</td>\n",
       "      <td>5.000000</td>\n",
       "      <td>30.000000</td>\n",
       "      <td>6.000000</td>\n",
       "      <td>0.000000</td>\n",
       "      <td>4.500000</td>\n",
       "      <td>21.000000</td>\n",
       "      <td>7.000000</td>\n",
       "    </tr>\n",
       "    <tr>\n",
       "      <th>max</th>\n",
       "      <td>1.000000</td>\n",
       "      <td>2440.000000</td>\n",
       "      <td>320630.000000</td>\n",
       "      <td>200148.110000</td>\n",
       "      <td>100.000000</td>\n",
       "      <td>55000.000000</td>\n",
       "      <td>336.000000</td>\n",
       "      <td>953036.000000</td>\n",
       "      <td>55000.000000</td>\n",
       "      <td>41456.500000</td>\n",
       "      <td>71.000000</td>\n",
       "      <td>438.000000</td>\n",
       "      <td>12.000000</td>\n",
       "      <td>3.000000</td>\n",
       "      <td>171.500000</td>\n",
       "      <td>31.000000</td>\n",
       "      <td>8.000000</td>\n",
       "    </tr>\n",
       "  </tbody>\n",
       "</table>\n",
       "</div>"
      ],
      "text/plain": [
       "               label            aon   daily_decr90       rental90  \\\n",
       "count  204123.000000  204123.000000  204123.000000  204123.000000   \n",
       "mean        0.874438     654.859296    6118.978055    3502.953621   \n",
       "std         0.331355     499.329661   10933.495078    5783.442044   \n",
       "min         0.000000     -48.000000     -93.012667  -24720.580000   \n",
       "25%         1.000000     243.000000      43.899167     308.000000   \n",
       "50%         1.000000     519.000000    1532.000000    1351.890000   \n",
       "75%         1.000000     963.000000    7871.100000    4231.965000   \n",
       "max         1.000000    2440.000000  320630.000000  200148.110000   \n",
       "\n",
       "       last_rech_date_ma  last_rech_amt_ma  cnt_ma_rech90  sumamnt_ma_rech90  \\\n",
       "count      204123.000000     204123.000000  204123.000000      204123.000000   \n",
       "mean            6.143561       2060.679179       6.337620       12433.950334   \n",
       "std             9.340763       2366.658645       7.202459       16886.825665   \n",
       "min             0.000000          0.000000       0.000000           0.000000   \n",
       "25%             1.000000        770.000000       2.000000        2317.000000   \n",
       "50%             3.000000       1539.000000       4.000000        7304.000000   \n",
       "75%             7.000000       2309.000000       9.000000       16067.000000   \n",
       "max           100.000000      55000.000000     336.000000      953036.000000   \n",
       "\n",
       "       medianamnt_ma_rech90  medianmarechprebal90    cnt_loans90  \\\n",
       "count         204123.000000         204123.000000  204123.000000   \n",
       "mean            1860.850965             91.616338       3.709028   \n",
       "std             2077.087610            370.613596       4.035143   \n",
       "min                0.000000           -200.000000       0.000000   \n",
       "25%              773.000000             14.500000       1.000000   \n",
       "50%             1539.000000             35.950000       2.000000   \n",
       "75%             1924.000000             79.000000       5.000000   \n",
       "max            55000.000000          41456.500000      71.000000   \n",
       "\n",
       "        amnt_loans90  maxamnt_loans90  medianamnt_loans90      payback90  \\\n",
       "count  204123.000000    204123.000000       204123.000000  204123.000000   \n",
       "mean       23.747241         6.708396            0.045884       4.346113   \n",
       "std        26.516075         2.109873            0.200262      10.331626   \n",
       "min         0.000000         0.000000            0.000000       0.000000   \n",
       "25%         6.000000         6.000000            0.000000       0.000000   \n",
       "50%        12.000000         6.000000            0.000000       1.666667   \n",
       "75%        30.000000         6.000000            0.000000       4.500000   \n",
       "max       438.000000        12.000000            3.000000     171.500000   \n",
       "\n",
       "                pDay         pMonth  \n",
       "count  204123.000000  204123.000000  \n",
       "mean       14.425797       6.802399  \n",
       "std         8.438902       0.740978  \n",
       "min         1.000000       6.000000  \n",
       "25%         7.000000       6.000000  \n",
       "50%        14.000000       7.000000  \n",
       "75%        21.000000       7.000000  \n",
       "max        31.000000       8.000000  "
      ]
     },
     "execution_count": 47,
     "metadata": {},
     "output_type": "execute_result"
    }
   ],
   "source": [
    "df.describe()"
   ]
  },
  {
   "cell_type": "markdown",
   "id": "7bad8f8e",
   "metadata": {},
   "source": [
    "As we can see from ths table that more than 75% of this column's data is 0 so we are going to delete this column."
   ]
  },
  {
   "cell_type": "code",
   "execution_count": 48,
   "id": "ce223d88",
   "metadata": {},
   "outputs": [],
   "source": [
    "df.drop(columns={\"medianamnt_loans90\"},inplace=True)"
   ]
  },
  {
   "cell_type": "markdown",
   "id": "a7950681",
   "metadata": {},
   "source": [
    "Uptill now we have cleaned our data now we are going to try to find some insite out of our data."
   ]
  },
  {
   "cell_type": "markdown",
   "id": "71baf9b2",
   "metadata": {},
   "source": [
    "# Visualising Our target variable with other Columns"
   ]
  },
  {
   "cell_type": "markdown",
   "id": "fe3bef2a",
   "metadata": {},
   "source": [
    "## Distplot"
   ]
  },
  {
   "cell_type": "code",
   "execution_count": 49,
   "id": "7427de8c",
   "metadata": {},
   "outputs": [
    {
     "data": {
      "image/png": "[encoded data removed]",
      "text/plain": [
       "<Figure size 360x360 with 1 Axes>"
      ]
     },
     "metadata": {
      "needs_background": "light"
     },
     "output_type": "display_data"
    },
    {
     "data": {
      "image/png": "[encoded data removed]",
      "text/plain": [
       "<Figure size 360x360 with 1 Axes>"
      ]
     },
     "metadata": {
      "needs_background": "light"
     },
     "output_type": "display_data"
    },
    {
     "data": {
      "image/png": "[encoded data removed]",
      "text/plain": [
       "<Figure size 360x360 with 1 Axes>"
      ]
     },
     "metadata": {
      "needs_background": "light"
     },
     "output_type": "display_data"
    },
    {
     "data": {
      "image/png": "[encoded data removed]",
      "text/plain": [
       "<Figure size 360x360 with 1 Axes>"
      ]
     },
     "metadata": {
      "needs_background": "light"
     },
     "output_type": "display_data"
    },
    {
     "data": {
      "image/png": "[encoded data removed]",
      "text/plain": [
       "<Figure size 360x360 with 1 Axes>"
      ]
     },
     "metadata": {
      "needs_background": "light"
     },
     "output_type": "display_data"
    },
    {
     "data": {
      "image/png": "[encoded data removed]",
      "text/plain": [
       "<Figure size 360x360 with 1 Axes>"
      ]
     },
     "metadata": {
      "needs_background": "light"
     },
     "output_type": "display_data"
    },
    {
     "data": {
      "image/png": "[encoded data removed]",
      "text/plain": [
       "<Figure size 360x360 with 1 Axes>"
      ]
     },
     "metadata": {
      "needs_background": "light"
     },
     "output_type": "display_data"
    },
    {
     "data": {
      "image/png": "[encoded data removed]",
      "text/plain": [
       "<Figure size 360x360 with 1 Axes>"
      ]
     },
     "metadata": {
      "needs_background": "light"
     },
     "output_type": "display_data"
    },
    {
     "data": {
      "image/png": "[encoded data removed]",
      "text/plain": [
       "<Figure size 360x360 with 1 Axes>"
      ]
     },
     "metadata": {
      "needs_background": "light"
     },
     "output_type": "display_data"
    },
    {
     "data": {
      "image/png": "[encoded data removed]",
      "text/plain": [
       "<Figure size 360x360 with 1 Axes>"
      ]
     },
     "metadata": {
      "needs_background": "light"
     },
     "output_type": "display_data"
    },
    {
     "data": {
      "image/png": "[encoded data removed]",
      "text/plain": [
       "<Figure size 360x360 with 1 Axes>"
      ]
     },
     "metadata": {
      "needs_background": "light"
     },
     "output_type": "display_data"
    },
    {
     "data": {
      "image/png": "[encoded data removed]",
      "text/plain": [
       "<Figure size 360x360 with 1 Axes>"
      ]
     },
     "metadata": {
      "needs_background": "light"
     },
     "output_type": "display_data"
    },
    {
     "data": {
      "image/png": "[encoded data removed]",
      "text/plain": [
       "<Figure size 360x360 with 1 Axes>"
      ]
     },
     "metadata": {
      "needs_background": "light"
     },
     "output_type": "display_data"
    },
    {
     "data": {
      "image/png": "[encoded data removed]",
      "text/plain": [
       "<Figure size 360x360 with 1 Axes>"
      ]
     },
     "metadata": {
      "needs_background": "light"
     },
     "output_type": "display_data"
    },
    {
     "data": {
      "image/png": "[encoded data removed]",
      "text/plain": [
       "<Figure size 360x360 with 1 Axes>"
      ]
     },
     "metadata": {
      "needs_background": "light"
     },
     "output_type": "display_data"
    },
    {
     "data": {
      "image/png": "[encoded data removed]",
      "text/plain": [
       "<Figure size 360x360 with 1 Axes>"
      ]
     },
     "metadata": {
      "needs_background": "light"
     },
     "output_type": "display_data"
    }
   ],
   "source": [
    "for column in df:\n",
    "        plt.figure(figsize=(5,5))\n",
    "        sn.distplot(df[column])"
   ]
  },
  {
   "cell_type": "markdown",
   "id": "db5b35a7",
   "metadata": {},
   "source": [
    "Most of the columns are right skewed"
   ]
  },
  {
   "cell_type": "markdown",
   "id": "6cf1fdcc",
   "metadata": {},
   "source": [
    "## Boxplot"
   ]
  },
  {
   "cell_type": "code",
   "execution_count": 50,
   "id": "a895d033",
   "metadata": {},
   "outputs": [
    {
     "data": {
      "image/png": "[encoded data removed]",
      "text/plain": [
       "<Figure size 576x288 with 1 Axes>"
      ]
     },
     "metadata": {
      "needs_background": "light"
     },
     "output_type": "display_data"
    },
    {
     "data": {
      "image/png": "[encoded data removed]",
      "text/plain": [
       "<Figure size 576x288 with 1 Axes>"
      ]
     },
     "metadata": {
      "needs_background": "light"
     },
     "output_type": "display_data"
    },
    {
     "data": {
      "image/png": "[encoded data removed]",
      "text/plain": [
       "<Figure size 576x288 with 1 Axes>"
      ]
     },
     "metadata": {
      "needs_background": "light"
     },
     "output_type": "display_data"
    },
    {
     "data": {
      "image/png": "[encoded data removed]",
      "text/plain": [
       "<Figure size 576x288 with 1 Axes>"
      ]
     },
     "metadata": {
      "needs_background": "light"
     },
     "output_type": "display_data"
    },
    {
     "data": {
      "image/png": "[encoded data removed]",
      "text/plain": [
       "<Figure size 576x288 with 1 Axes>"
      ]
     },
     "metadata": {
      "needs_background": "light"
     },
     "output_type": "display_data"
    },
    {
     "data": {
      "image/png": "[encoded data removed]",
      "text/plain": [
       "<Figure size 576x288 with 1 Axes>"
      ]
     },
     "metadata": {
      "needs_background": "light"
     },
     "output_type": "display_data"
    },
    {
     "data": {
      "image/png": "[encoded data removed]",
      "text/plain": [
       "<Figure size 576x288 with 1 Axes>"
      ]
     },
     "metadata": {
      "needs_background": "light"
     },
     "output_type": "display_data"
    },
    {
     "data": {
      "image/png": "[encoded data removed]",
      "text/plain": [
       "<Figure size 576x288 with 1 Axes>"
      ]
     },
     "metadata": {
      "needs_background": "light"
     },
     "output_type": "display_data"
    },
    {
     "data": {
      "image/png": "[encoded data removed]",
      "text/plain": [
       "<Figure size 576x288 with 1 Axes>"
      ]
     },
     "metadata": {
      "needs_background": "light"
     },
     "output_type": "display_data"
    },
    {
     "data": {
      "image/png": "[encoded data removed]",
      "text/plain": [
       "<Figure size 576x288 with 1 Axes>"
      ]
     },
     "metadata": {
      "needs_background": "light"
     },
     "output_type": "display_data"
    },
    {
     "data": {
      "image/png": "[encoded data removed]",
      "text/plain": [
       "<Figure size 576x288 with 1 Axes>"
      ]
     },
     "metadata": {
      "needs_background": "light"
     },
     "output_type": "display_data"
    },
    {
     "data": {
      "image/png": "[encoded data removed]",
      "text/plain": [
       "<Figure size 576x288 with 1 Axes>"
      ]
     },
     "metadata": {
      "needs_background": "light"
     },
     "output_type": "display_data"
    },
    {
     "data": {
      "image/png": "[encoded data removed]",
      "text/plain": [
       "<Figure size 576x288 with 1 Axes>"
      ]
     },
     "metadata": {
      "needs_background": "light"
     },
     "output_type": "display_data"
    },
    {
     "data": {
      "image/png": "[encoded data removed]",
      "text/plain": [
       "<Figure size 576x288 with 1 Axes>"
      ]
     },
     "metadata": {
      "needs_background": "light"
     },
     "output_type": "display_data"
    },
    {
     "data": {
      "image/png": "[encoded data removed]",
      "text/plain": [
       "<Figure size 576x288 with 1 Axes>"
      ]
     },
     "metadata": {
      "needs_background": "light"
     },
     "output_type": "display_data"
    },
    {
     "data": {
      "image/png": "[encoded data removed]",
      "text/plain": [
       "<Figure size 576x288 with 1 Axes>"
      ]
     },
     "metadata": {
      "needs_background": "light"
     },
     "output_type": "display_data"
    }
   ],
   "source": [
    "for column in df:\n",
    "        plt.figure(figsize=(8,4))\n",
    "        sn.boxplot(x=column,data=df)"
   ]
  },
  {
   "cell_type": "markdown",
   "id": "27397cdf",
   "metadata": {},
   "source": [
    "High amounts of outliers are still present"
   ]
  },
  {
   "cell_type": "code",
   "execution_count": 51,
   "id": "0a4d20c8",
   "metadata": {},
   "outputs": [
    {
     "data": {
      "text/plain": [
       "<AxesSubplot:>"
      ]
     },
     "execution_count": 51,
     "metadata": {},
     "output_type": "execute_result"
    },
    {
     "data": {
      "image/png": "[encoded data removed]",
      "text/plain": [
       "<Figure size 1008x720 with 2 Axes>"
      ]
     },
     "metadata": {
      "needs_background": "light"
     },
     "output_type": "display_data"
    }
   ],
   "source": [
    "plt.figure(figsize=(14,10))\n",
    "sn.heatmap(df.corr(),linewidths=.1,cmap=\"coolwarm\", annot=True)"
   ]
  },
  {
   "cell_type": "markdown",
   "id": "d4cd82e5",
   "metadata": {},
   "source": [
    "the maximum correlation with our target variable is 0.24"
   ]
  },
  {
   "cell_type": "markdown",
   "id": "e9b09c1c",
   "metadata": {},
   "source": [
    "## Countplot"
   ]
  },
  {
   "cell_type": "code",
   "execution_count": 52,
   "id": "a6a2a95b",
   "metadata": {},
   "outputs": [
    {
     "data": {
      "image/png": "[encoded data removed]",
      "text/plain": [
       "<Figure size 504x360 with 1 Axes>"
      ]
     },
     "metadata": {
      "needs_background": "light"
     },
     "output_type": "display_data"
    }
   ],
   "source": [
    "plt.figure(figsize=(7,5))\n",
    "ax=sn.countplot(df[\"label\"])\n",
    "ax.set_xticklabels(ax.get_xticklabels(), rotation=40, ha=\"right\")\n",
    "plt.tight_layout()\n",
    "plt.show()"
   ]
  },
  {
   "cell_type": "markdown",
   "id": "ce980da8",
   "metadata": {},
   "source": [
    "1 is in very high amount and 0 is not so much so we have to balance the column."
   ]
  },
  {
   "cell_type": "markdown",
   "id": "8c8f8dab",
   "metadata": {},
   "source": [
    "# Removing outliers"
   ]
  },
  {
   "cell_type": "code",
   "execution_count": 53,
   "id": "3646573e",
   "metadata": {},
   "outputs": [],
   "source": [
    "from scipy.stats import zscore"
   ]
  },
  {
   "cell_type": "code",
   "execution_count": 54,
   "id": "90560797",
   "metadata": {},
   "outputs": [],
   "source": [
    "z=np.abs(zscore(df))\n",
    "df=df[(z<3).all(axis=1)]"
   ]
  },
  {
   "cell_type": "markdown",
   "id": "5be17cb6",
   "metadata": {},
   "source": [
    "# Skewness Removal"
   ]
  },
  {
   "cell_type": "code",
   "execution_count": 55,
   "id": "ecea6017",
   "metadata": {},
   "outputs": [
    {
     "data": {
      "text/plain": [
       "label                  -2.188443\n",
       "aon                     0.906317\n",
       "daily_decr90            2.096030\n",
       "rental90                2.251464\n",
       "last_rech_date_ma       2.138909\n",
       "last_rech_amt_ma        2.122456\n",
       "cnt_ma_rech90           1.333383\n",
       "sumamnt_ma_rech90       1.727155\n",
       "medianamnt_ma_rech90    2.365904\n",
       "medianmarechprebal90    3.654364\n",
       "cnt_loans90             1.614208\n",
       "amnt_loans90            1.632689\n",
       "maxamnt_loans90         2.529180\n",
       "payback90               2.642263\n",
       "pDay                    0.153358\n",
       "pMonth                  0.442070\n",
       "dtype: float64"
      ]
     },
     "execution_count": 55,
     "metadata": {},
     "output_type": "execute_result"
    }
   ],
   "source": [
    "df.skew()"
   ]
  },
  {
   "cell_type": "code",
   "execution_count": 56,
   "id": "3dcd23ca",
   "metadata": {},
   "outputs": [],
   "source": [
    "from scipy.stats import boxcox"
   ]
  },
  {
   "cell_type": "markdown",
   "id": "c12a3be8",
   "metadata": {},
   "source": [
    "### daily_decr90"
   ]
  },
  {
   "cell_type": "code",
   "execution_count": 57,
   "id": "ca3473d1",
   "metadata": {},
   "outputs": [
    {
     "data": {
      "text/plain": [
       "0.06307763203178247"
      ]
     },
     "execution_count": 57,
     "metadata": {},
     "output_type": "execute_result"
    }
   ],
   "source": [
    "d=boxcox(df[\"daily_decr90\"]+100)[0]\n",
    "pd.Series(d).skew()"
   ]
  },
  {
   "cell_type": "code",
   "execution_count": 58,
   "id": "bab6949d",
   "metadata": {},
   "outputs": [],
   "source": [
    "df[\"daily_decr90\"]=d"
   ]
  },
  {
   "cell_type": "markdown",
   "id": "79eea88f",
   "metadata": {},
   "source": [
    "### last_rech_date_ma"
   ]
  },
  {
   "cell_type": "code",
   "execution_count": 59,
   "id": "2db9fe77",
   "metadata": {},
   "outputs": [
    {
     "data": {
      "text/plain": [
       "0.025545324217617547"
      ]
     },
     "execution_count": 59,
     "metadata": {},
     "output_type": "execute_result"
    }
   ],
   "source": [
    "l=boxcox(df[\"last_rech_date_ma\"]+1)[0]\n",
    "pd.Series(l).skew()"
   ]
  },
  {
   "cell_type": "code",
   "execution_count": 60,
   "id": "f744e309",
   "metadata": {},
   "outputs": [],
   "source": [
    "df[\"last_rech_date_ma\"]=l"
   ]
  },
  {
   "cell_type": "markdown",
   "id": "e86b5e16",
   "metadata": {},
   "source": [
    "### last_rech_amt_ma"
   ]
  },
  {
   "cell_type": "code",
   "execution_count": 61,
   "id": "af6f7cc4",
   "metadata": {},
   "outputs": [
    {
     "data": {
      "text/plain": [
       "-0.18348905741002178"
      ]
     },
     "execution_count": 61,
     "metadata": {},
     "output_type": "execute_result"
    }
   ],
   "source": [
    "l=boxcox(df[\"last_rech_amt_ma\"]+1)[0]\n",
    "pd.Series(l).skew()"
   ]
  },
  {
   "cell_type": "code",
   "execution_count": 62,
   "id": "b9bccb0e",
   "metadata": {},
   "outputs": [],
   "source": [
    "df[\"last_rech_amt_ma\"]=l"
   ]
  },
  {
   "cell_type": "markdown",
   "id": "6868fc08",
   "metadata": {},
   "source": [
    "### cnt_ma_rech90"
   ]
  },
  {
   "cell_type": "code",
   "execution_count": 63,
   "id": "5c13680f",
   "metadata": {},
   "outputs": [
    {
     "data": {
      "text/plain": [
       "0.06543929760164167"
      ]
     },
     "execution_count": 63,
     "metadata": {},
     "output_type": "execute_result"
    }
   ],
   "source": [
    "c=np.sqrt(df[\"cnt_ma_rech90\"])\n",
    "c.skew()"
   ]
  },
  {
   "cell_type": "code",
   "execution_count": 64,
   "id": "6543ec0c",
   "metadata": {},
   "outputs": [],
   "source": [
    "df[\"cnt_ma_rech90\"]=c"
   ]
  },
  {
   "cell_type": "markdown",
   "id": "1ec4a718",
   "metadata": {},
   "source": [
    "### sumamnt_ma_rech90"
   ]
  },
  {
   "cell_type": "code",
   "execution_count": 65,
   "id": "b2135dc3",
   "metadata": {},
   "outputs": [
    {
     "data": {
      "text/plain": [
       "0.3244368843045752"
      ]
     },
     "execution_count": 65,
     "metadata": {},
     "output_type": "execute_result"
    }
   ],
   "source": [
    "r=np.sqrt(df[\"sumamnt_ma_rech90\"])\n",
    "r.skew()"
   ]
  },
  {
   "cell_type": "code",
   "execution_count": 66,
   "id": "95b7ba79",
   "metadata": {},
   "outputs": [],
   "source": [
    "df[\"sumamnt_ma_rech90\"]=r"
   ]
  },
  {
   "cell_type": "markdown",
   "id": "632e7990",
   "metadata": {},
   "source": [
    "### medianamnt_ma_rech90"
   ]
  },
  {
   "cell_type": "code",
   "execution_count": 67,
   "id": "3a06beef",
   "metadata": {},
   "outputs": [
    {
     "data": {
      "text/plain": [
       "-0.17326084490467455"
      ]
     },
     "execution_count": 67,
     "metadata": {},
     "output_type": "execute_result"
    }
   ],
   "source": [
    "m=boxcox(df[\"medianamnt_ma_rech90\"]+1)[0]\n",
    "pd.Series(m).skew()"
   ]
  },
  {
   "cell_type": "code",
   "execution_count": 68,
   "id": "a2728e02",
   "metadata": {},
   "outputs": [],
   "source": [
    "df[\"medianamnt_ma_rech90\"]=m"
   ]
  },
  {
   "cell_type": "markdown",
   "id": "a9a516ab",
   "metadata": {},
   "source": [
    "### cnt_loans90"
   ]
  },
  {
   "cell_type": "code",
   "execution_count": 69,
   "id": "ae4d6474",
   "metadata": {},
   "outputs": [
    {
     "data": {
      "text/plain": [
       "0.17790841156880466"
      ]
     },
     "execution_count": 69,
     "metadata": {},
     "output_type": "execute_result"
    }
   ],
   "source": [
    "c=boxcox(df[\"cnt_loans90\"]+1)[0]\n",
    "pd.Series(c).skew()"
   ]
  },
  {
   "cell_type": "code",
   "execution_count": 70,
   "id": "644d9e47",
   "metadata": {},
   "outputs": [],
   "source": [
    "df[\"cnt_loans90\"]=c"
   ]
  },
  {
   "cell_type": "markdown",
   "id": "45b1c7fd",
   "metadata": {},
   "source": [
    "### amnt_loans90"
   ]
  },
  {
   "cell_type": "code",
   "execution_count": 71,
   "id": "c83b36f2",
   "metadata": {},
   "outputs": [
    {
     "data": {
      "text/plain": [
       "0.11160016582596312"
      ]
     },
     "execution_count": 71,
     "metadata": {},
     "output_type": "execute_result"
    }
   ],
   "source": [
    "a=boxcox(df[\"amnt_loans90\"]+1)[0]\n",
    "pd.Series(a).skew()"
   ]
  },
  {
   "cell_type": "code",
   "execution_count": 72,
   "id": "db09e77c",
   "metadata": {},
   "outputs": [],
   "source": [
    "df[\"amnt_loans90\"]=a"
   ]
  },
  {
   "cell_type": "markdown",
   "id": "b746feea",
   "metadata": {},
   "source": [
    "### payback90"
   ]
  },
  {
   "cell_type": "code",
   "execution_count": 73,
   "id": "d2fb73c1",
   "metadata": {},
   "outputs": [
    {
     "data": {
      "text/plain": [
       "0.192469758685089"
      ]
     },
     "execution_count": 73,
     "metadata": {},
     "output_type": "execute_result"
    }
   ],
   "source": [
    "p=boxcox(df[\"payback90\"]+1)[0]\n",
    "pd.Series(p).skew()"
   ]
  },
  {
   "cell_type": "code",
   "execution_count": 74,
   "id": "ee66d24c",
   "metadata": {},
   "outputs": [],
   "source": [
    "df[\"payback90\"]=p"
   ]
  },
  {
   "cell_type": "markdown",
   "id": "dc0effa4",
   "metadata": {},
   "source": [
    "# Input Splitting"
   ]
  },
  {
   "cell_type": "code",
   "execution_count": 75,
   "id": "ae929eaa",
   "metadata": {},
   "outputs": [],
   "source": [
    "x=df.drop([\"label\"],axis=1)"
   ]
  },
  {
   "cell_type": "code",
   "execution_count": 76,
   "id": "77b34f8d",
   "metadata": {},
   "outputs": [],
   "source": [
    "y=df[\"label\"]"
   ]
  },
  {
   "cell_type": "markdown",
   "id": "91be321a",
   "metadata": {},
   "source": [
    "# Oversampling"
   ]
  },
  {
   "cell_type": "code",
   "execution_count": 77,
   "id": "9560b17c",
   "metadata": {},
   "outputs": [],
   "source": [
    "from imblearn.over_sampling import RandomOverSampler"
   ]
  },
  {
   "cell_type": "code",
   "execution_count": 78,
   "id": "c077d0cc",
   "metadata": {},
   "outputs": [],
   "source": [
    "ros=RandomOverSampler(random_state=7)"
   ]
  },
  {
   "cell_type": "code",
   "execution_count": 79,
   "id": "59a8121a",
   "metadata": {},
   "outputs": [],
   "source": [
    "x,y=ros.fit_resample(x,y)"
   ]
  },
  {
   "cell_type": "markdown",
   "id": "ae601816",
   "metadata": {},
   "source": [
    "# Finding The Best Model"
   ]
  },
  {
   "cell_type": "code",
   "execution_count": 80,
   "id": "0b2e6af6",
   "metadata": {},
   "outputs": [],
   "source": [
    "from sklearn.tree import DecisionTreeClassifier\n",
    "from sklearn.linear_model import RidgeClassifier\n",
    "from sklearn.ensemble import RandomForestClassifier,ExtraTreesClassifier\n",
    "from sklearn.neighbors import KNeighborsClassifier\n",
    "import xgboost as xgb\n",
    "from sklearn.metrics import classification_report\n",
    "from sklearn import preprocessing"
   ]
  },
  {
   "cell_type": "code",
   "execution_count": 81,
   "id": "ecb846d8",
   "metadata": {},
   "outputs": [],
   "source": [
    "df.dropna(inplace=True)"
   ]
  },
  {
   "cell_type": "code",
   "execution_count": 82,
   "id": "662530c3",
   "metadata": {
    "scrolled": true
   },
   "outputs": [],
   "source": [
    "from sklearn.model_selection import cross_val_score,train_test_split\n",
    "X_train,X_test,Y_train,Y_test=train_test_split(x,y,train_size=0.10,random_state=7)"
   ]
  },
  {
   "cell_type": "code",
   "execution_count": 83,
   "id": "644a2dac",
   "metadata": {},
   "outputs": [],
   "source": [
    "#classify function\n",
    "def classify(model,x,y):\n",
    "    #train the model\n",
    "    model.fit(X_train,Y_train)\n",
    "    ac=model.score(X_test,Y_test)*100\n",
    "    print(\"Accuracy:\",ac)\n",
    "    \n",
    "    #cross validation\n",
    "    score=cross_val_score(model,x,y,cv=5)\n",
    "    cv=np.mean(score)*100\n",
    "    print(\"CV Score:\",cv)\n",
    "    \n",
    "    #diffrence between them\n",
    "    print(\"Diffrence:\",abs(ac-cv))"
   ]
  },
  {
   "cell_type": "code",
   "execution_count": 84,
   "id": "eae9db50",
   "metadata": {},
   "outputs": [
    {
     "name": "stdout",
     "output_type": "stream",
     "text": [
      "Accuracy: 84.39080501743688\n",
      "CV Score: 96.09132649374054\n",
      "Diffrence: 11.700521476303663\n"
     ]
    }
   ],
   "source": [
    "DTC = DecisionTreeClassifier()\n",
    "classify(DTC,x,y)"
   ]
  },
  {
   "cell_type": "code",
   "execution_count": 85,
   "id": "35d8a6da",
   "metadata": {},
   "outputs": [
    {
     "name": "stdout",
     "output_type": "stream",
     "text": [
      "Accuracy: 76.75838521791525\n",
      "CV Score: 76.83520099210044\n",
      "Diffrence: 0.07681577418519225\n"
     ]
    }
   ],
   "source": [
    "RC = RidgeClassifier()\n",
    "classify(RC,x,y)"
   ]
  },
  {
   "cell_type": "code",
   "execution_count": 86,
   "id": "c751a39c",
   "metadata": {},
   "outputs": [
    {
     "name": "stdout",
     "output_type": "stream",
     "text": [
      "Accuracy: 88.58222717230551\n",
      "CV Score: 97.77403134484244\n",
      "Diffrence: 9.191804172536933\n"
     ]
    }
   ],
   "source": [
    "RFC = RandomForestClassifier()\n",
    "classify(RFC,x,y)"
   ]
  },
  {
   "cell_type": "code",
   "execution_count": 87,
   "id": "180ab4db",
   "metadata": {},
   "outputs": [
    {
     "name": "stdout",
     "output_type": "stream",
     "text": [
      "Accuracy: 71.32319377750187\n",
      "CV Score: 85.99082490381737\n",
      "Diffrence: 14.667631126315499\n"
     ]
    }
   ],
   "source": [
    "KNN = KNeighborsClassifier()\n",
    "classify(KNN,x,y)"
   ]
  },
  {
   "cell_type": "code",
   "execution_count": 88,
   "id": "2450b7d2",
   "metadata": {},
   "outputs": [
    {
     "name": "stdout",
     "output_type": "stream",
     "text": [
      "Accuracy: 88.02753382387847\n",
      "CV Score: 98.46880427846291\n",
      "Diffrence: 10.44127045458444\n"
     ]
    }
   ],
   "source": [
    "ETC = ExtraTreesClassifier()\n",
    "classify(ETC,x,y)"
   ]
  },
  {
   "cell_type": "markdown",
   "id": "5cd51439",
   "metadata": {},
   "source": [
    "Ridge Classifier is our best model as the difference between cv and acc is the lowest"
   ]
  },
  {
   "cell_type": "markdown",
   "id": "7fb1894e",
   "metadata": {},
   "source": [
    "# ROC-AUC Curve"
   ]
  },
  {
   "cell_type": "code",
   "execution_count": 91,
   "id": "a874bacc",
   "metadata": {},
   "outputs": [],
   "source": [
    "DTC.fit(X_train, Y_train)\n",
    "y_pred_DTC = DTC.predict(X_test)"
   ]
  },
  {
   "cell_type": "code",
   "execution_count": 103,
   "id": "6d13ac17",
   "metadata": {},
   "outputs": [],
   "source": [
    "RC.fit(X_train, Y_train)\n",
    "y_pred_RC = RC.predict(X_test)"
   ]
  },
  {
   "cell_type": "code",
   "execution_count": 94,
   "id": "fb19c09f",
   "metadata": {},
   "outputs": [],
   "source": [
    "RFC.fit(X_train, Y_train)\n",
    "y_pred_RFC = RFC.predict(X_test)"
   ]
  },
  {
   "cell_type": "code",
   "execution_count": 96,
   "id": "a1774b24",
   "metadata": {},
   "outputs": [],
   "source": [
    "KNN.fit(X_train, Y_train)\n",
    "y_pred_KNN = KNN.predict(X_test)"
   ]
  },
  {
   "cell_type": "code",
   "execution_count": 98,
   "id": "9d2d0ccd",
   "metadata": {},
   "outputs": [],
   "source": [
    "ETC.fit(X_train, Y_train)\n",
    "y_pred_ETC = ETC.predict(X_test)"
   ]
  },
  {
   "cell_type": "code",
   "execution_count": 104,
   "id": "8fab2aa0",
   "metadata": {},
   "outputs": [
    {
     "data": {
      "image/png": "[encoded data removed]",
      "text/plain": [
       "<Figure size 500x500 with 1 Axes>"
      ]
     },
     "metadata": {
      "needs_background": "light"
     },
     "output_type": "display_data"
    }
   ],
   "source": [
    "from sklearn.metrics import roc_curve, auc\n",
    "\n",
    "DTC_fpr, DTC_tpr, threshold = roc_curve(Y_test, y_pred_DTC)\n",
    "auc_DTC = auc(DTC_fpr, DTC_tpr)\n",
    "RC_fpr, RC_tpr, threshold = roc_curve(Y_test, y_pred_RC)\n",
    "auc_RC = auc(RC_fpr, RC_tpr)\n",
    "RFC_fpr, RFC_tpr, threshold = roc_curve(Y_test, y_pred_RFC)\n",
    "auc_RFC = auc(RFC_fpr, RFC_tpr)\n",
    "KNN_fpr, KNN_tpr, threshold = roc_curve(Y_test, y_pred_KNN)\n",
    "auc_KNN = auc(KNN_fpr, KNN_tpr)\n",
    "ETC_fpr, ETC_tpr, threshold = roc_curve(Y_test, y_pred_ETC)\n",
    "auc_ETC = auc(ETC_fpr, ETC_tpr)\n",
    "\n",
    "\n",
    "plt.figure(figsize=(5, 5), dpi=100)\n",
    "plt.plot(DTC_fpr, DTC_tpr, linestyle='-', label='DTC (auc = %0.3f)' % auc_DTC)\n",
    "plt.plot(RC_fpr, RC_tpr, linestyle='-', label='RC (auc = %0.3f)' % auc_RC)\n",
    "plt.plot(RFC_fpr, RFC_tpr, linestyle='-', label='RFC (auc = %0.3f)' % auc_RFC)\n",
    "plt.plot(KNN_fpr, KNN_tpr, linestyle='-', label='KNN (auc = %0.3f)' % auc_KNN)\n",
    "plt.plot(ETC_fpr, ETC_tpr, linestyle='-', label='ETC (auc = %0.3f)' % auc_ETC)\n",
    "\n",
    "plt.xlabel('False Positive Rate -->')\n",
    "plt.ylabel('True Positive Rate -->')\n",
    "\n",
    "plt.legend()\n",
    "\n",
    "plt.show()"
   ]
  },
  {
   "cell_type": "markdown",
   "id": "79d1f162",
   "metadata": {},
   "source": [
    "# Hyper parameter tuning"
   ]
  },
  {
   "cell_type": "code",
   "execution_count": null,
   "id": "7cb4ed9c",
   "metadata": {},
   "outputs": [],
   "source": [
    "RC.get_params()"
   ]
  },
  {
   "cell_type": "code",
   "execution_count": null,
   "id": "9a176cee",
   "metadata": {},
   "outputs": [],
   "source": [
    "from sklearn.model_selection import GridSearchCV"
   ]
  },
  {
   "cell_type": "code",
   "execution_count": null,
   "id": "caaaef54",
   "metadata": {},
   "outputs": [],
   "source": [
    "params = {'alpha': [1,2,3,4,5],\n",
    "    'class_weight': ['dict', 'balanced'],\n",
    "    'max_iter': [2,4,8,16,32,50],\n",
    "    'solver': ['auto', 'svd', 'cholesky', 'lsqr', 'sparse_cg', 'sag', 'saga', 'lbfgs'],    \n",
    "    'normalize': [True, False]}"
   ]
  },
  {
   "cell_type": "code",
   "execution_count": null,
   "id": "e5249a22",
   "metadata": {},
   "outputs": [],
   "source": [
    "gs = GridSearchCV(RC, params, verbose = 1, cv=3, n_jobs = -1)"
   ]
  },
  {
   "cell_type": "code",
   "execution_count": null,
   "id": "b88c5f1a",
   "metadata": {},
   "outputs": [],
   "source": [
    "gs.fit(X_train, Y_train)"
   ]
  },
  {
   "cell_type": "code",
   "execution_count": null,
   "id": "cc8374ce",
   "metadata": {},
   "outputs": [],
   "source": [
    "gs.best_params_"
   ]
  },
  {
   "cell_type": "markdown",
   "id": "742d2326",
   "metadata": {},
   "source": [
    "# Checking Accuracy Score"
   ]
  },
  {
   "cell_type": "code",
   "execution_count": null,
   "id": "93236a25",
   "metadata": {},
   "outputs": [],
   "source": [
    "from sklearn.metrics import accuracy_score,confusion_matrix"
   ]
  },
  {
   "cell_type": "code",
   "execution_count": null,
   "id": "24f2a78a",
   "metadata": {},
   "outputs": [],
   "source": [
    "RC=RidgeClassifier(alpha= 3,\n",
    " class_weight= 'balanced',\n",
    " max_iter= 2,\n",
    " normalize= False,\n",
    " solver= 'auto')"
   ]
  },
  {
   "cell_type": "code",
   "execution_count": null,
   "id": "d2feec47",
   "metadata": {},
   "outputs": [],
   "source": [
    "RC.fit(X_train,Y_train)"
   ]
  },
  {
   "cell_type": "code",
   "execution_count": null,
   "id": "fb4ecc1d",
   "metadata": {},
   "outputs": [],
   "source": [
    "y_test_pred=RC.predict(X_test)"
   ]
  },
  {
   "cell_type": "code",
   "execution_count": null,
   "id": "eb634a0f",
   "metadata": {},
   "outputs": [],
   "source": [
    "accuracy_score(Y_test, y_test_pred)"
   ]
  },
  {
   "cell_type": "markdown",
   "id": "19f852b4",
   "metadata": {},
   "source": [
    "Our model has predicted the test set with an overall accuracy of 76%."
   ]
  },
  {
   "cell_type": "markdown",
   "id": "edb6a25a",
   "metadata": {},
   "source": [
    "# Finally Saving our model"
   ]
  },
  {
   "cell_type": "code",
   "execution_count": null,
   "id": "ad3904b5",
   "metadata": {},
   "outputs": [],
   "source": [
    "import joblib\n",
    "joblib.dump(RC,r\"C:\\Users\\Avinash\\Desktop\\Internship\\Project\\Micro-Credit-Project--3-\\Micro Credit Project\\label.pkl\")"
   ]
  },
  {
   "cell_type": "code",
   "execution_count": null,
   "id": "928b9e89",
   "metadata": {},
   "outputs": [],
   "source": []
  }
 ],
 "metadata": {
  "kernelspec": {
   "display_name": "Python 3",
   "language": "python",
   "name": "python3"
  },
  "language_info": {
   "codemirror_mode": {
    "name": "ipython",
    "version": 3
   },
   "file_extension": ".py",
   "mimetype": "text/x-python",
   "name": "python",
   "nbconvert_exporter": "python",
   "pygments_lexer": "ipython3",
   "version": "3.8.8"
  }
 },
 "nbformat": 4,
 "nbformat_minor": 5
}

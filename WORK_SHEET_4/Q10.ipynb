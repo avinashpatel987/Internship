{
 "cells": [
  {
   "cell_type": "code",
   "execution_count": 1,
   "id": "4d09d16a",
   "metadata": {},
   "outputs": [],
   "source": [
    "import selenium\n",
    "import pandas as pd\n",
    "from selenium import webdriver\n",
    "from selenium.webdriver.chrome.service import Service\n",
    "from selenium.webdriver.common.by import By\n",
    "import time\n",
    "import urllib\n",
    "import os\n",
    "from selenium.webdriver.common.keys import Keys"
   ]
  },
  {
   "cell_type": "code",
   "execution_count": 76,
   "id": "ad9b66e9",
   "metadata": {},
   "outputs": [],
   "source": [
    "s=Service(\"C:\\chromedriver_win32\\chromedriver.exe\")\n",
    "driver=webdriver.Chrome(service=s)\n",
    "driver.get('https://www.hostelworld.com/')"
   ]
  },
  {
   "cell_type": "code",
   "execution_count": 77,
   "id": "ecb5d1b9",
   "metadata": {},
   "outputs": [],
   "source": [
    "btn1=driver.find_element(By.XPATH,'//*[@id=\"location-text-input-field\"]')\n",
    "btn1.click() "
   ]
  },
  {
   "cell_type": "code",
   "execution_count": 79,
   "id": "703bfe1a",
   "metadata": {},
   "outputs": [],
   "source": [
    "driver.find_element(By.XPATH,'//*[@id=\"search-input-field\"]').send_keys(\"London\")"
   ]
  },
  {
   "cell_type": "code",
   "execution_count": 81,
   "id": "3228e2e8",
   "metadata": {},
   "outputs": [],
   "source": [
    "btn2=driver.find_element(By.XPATH,'//*[@id=\"predicted-search-results\"]/li[2]')\n",
    "btn2.click() "
   ]
  },
  {
   "cell_type": "code",
   "execution_count": 82,
   "id": "1df3ab94",
   "metadata": {},
   "outputs": [],
   "source": [
    "btn3=driver.find_element(By.XPATH,'//*[@id=\"search-button\"]')\n",
    "btn3.click() "
   ]
  },
  {
   "cell_type": "code",
   "execution_count": 134,
   "id": "547bac2f",
   "metadata": {},
   "outputs": [
    {
     "data": {
      "text/plain": [
       "[<selenium.webdriver.remote.webelement.WebElement (session=\"9f103cd8faf4b0c0e9ff6289a2caaa79\", element=\"21bc8482-e66b-4e40-b647-22774bdb5541\")>,\n",
       " <selenium.webdriver.remote.webelement.WebElement (session=\"9f103cd8faf4b0c0e9ff6289a2caaa79\", element=\"c0bab6de-b62b-436e-a975-9f8cd69a9b65\")>,\n",
       " <selenium.webdriver.remote.webelement.WebElement (session=\"9f103cd8faf4b0c0e9ff6289a2caaa79\", element=\"6c78c4ea-04c5-461e-bf0b-1484e0dab747\")>,\n",
       " <selenium.webdriver.remote.webelement.WebElement (session=\"9f103cd8faf4b0c0e9ff6289a2caaa79\", element=\"1b66c686-0e88-409a-9e0d-ebf63c28deff\")>]"
      ]
     },
     "execution_count": 134,
     "metadata": {},
     "output_type": "execute_result"
    }
   ],
   "source": [
    "name=driver.find_elements(By.XPATH,'//*[@class=\"title title-6\"]')\n",
    "name[0:4]"
   ]
  },
  {
   "cell_type": "code",
   "execution_count": 135,
   "id": "ccddaa08",
   "metadata": {},
   "outputs": [
    {
     "data": {
      "text/plain": [
       "[\"Wombat's The City Hostel London\",\n",
       " 'London Backpackers',\n",
       " 'Selina Camden',\n",
       " \"St Christopher's Village\"]"
      ]
     },
     "execution_count": 135,
     "metadata": {},
     "output_type": "execute_result"
    }
   ],
   "source": [
    "nam=[]\n",
    "for i in name:\n",
    "    temp=i.text\n",
    "    nam.append(temp)\n",
    "nam[0:4]"
   ]
  },
  {
   "cell_type": "code",
   "execution_count": 10,
   "id": "1b05cc23",
   "metadata": {},
   "outputs": [
    {
     "data": {
      "text/plain": [
       "[<selenium.webdriver.remote.webelement.WebElement (session=\"3d1ff432a631fc4f840ef07985de9aae\", element=\"def7d6cc-e9b0-44ca-af09-24c689d7490f\")>,\n",
       " <selenium.webdriver.remote.webelement.WebElement (session=\"3d1ff432a631fc4f840ef07985de9aae\", element=\"37329634-fae0-4eac-8c57-e9d523f42918\")>,\n",
       " <selenium.webdriver.remote.webelement.WebElement (session=\"3d1ff432a631fc4f840ef07985de9aae\", element=\"5e80b1f2-82b4-446b-a0db-f0ac9a8f5b87\")>,\n",
       " <selenium.webdriver.remote.webelement.WebElement (session=\"3d1ff432a631fc4f840ef07985de9aae\", element=\"2b63243b-ec87-4e95-9312-9227b7c9f23b\")>]"
      ]
     },
     "execution_count": 10,
     "metadata": {},
     "output_type": "execute_result"
    }
   ],
   "source": [
    "dist=driver.find_elements(By.XPATH,'//*[@class=\"description\"]')\n",
    "dist[0:4]"
   ]
  },
  {
   "cell_type": "code",
   "execution_count": 11,
   "id": "8213df5b",
   "metadata": {},
   "outputs": [
    {
     "data": {
      "text/plain": [
       "['Hostel - 5.5km from city centre',\n",
       " 'Hostel - 11.9km from city centre',\n",
       " 'Hostel - 3.6km from city centre',\n",
       " 'Hostel - 1.8km from city centre']"
      ]
     },
     "execution_count": 11,
     "metadata": {},
     "output_type": "execute_result"
    }
   ],
   "source": [
    "distance=[]\n",
    "for i in dist:\n",
    "    temp=i.text\n",
    "    distance.append(temp)\n",
    "distance[0:4]"
   ]
  },
  {
   "cell_type": "code",
   "execution_count": 12,
   "id": "032ef80f",
   "metadata": {},
   "outputs": [
    {
     "data": {
      "text/plain": [
       "[<selenium.webdriver.remote.webelement.WebElement (session=\"3d1ff432a631fc4f840ef07985de9aae\", element=\"55248d7a-1aa4-4e7b-b27c-fb26fd38220e\")>,\n",
       " <selenium.webdriver.remote.webelement.WebElement (session=\"3d1ff432a631fc4f840ef07985de9aae\", element=\"b049e0c2-6fbc-42ab-85b0-6672ef233731\")>,\n",
       " <selenium.webdriver.remote.webelement.WebElement (session=\"3d1ff432a631fc4f840ef07985de9aae\", element=\"0990508b-cd77-4586-a70d-1c3c0693008b\")>,\n",
       " <selenium.webdriver.remote.webelement.WebElement (session=\"3d1ff432a631fc4f840ef07985de9aae\", element=\"0249b068-c649-4385-9a18-01a9df008a65\")>]"
      ]
     },
     "execution_count": 12,
     "metadata": {},
     "output_type": "execute_result"
    }
   ],
   "source": [
    "rat=driver.find_elements(By.XPATH,'//*[@class=\"score orange big\"]')\n",
    "rat[0:4]"
   ]
  },
  {
   "cell_type": "code",
   "execution_count": 13,
   "id": "b935df3c",
   "metadata": {},
   "outputs": [
    {
     "data": {
      "text/plain": [
       "['9.1', '8.5', '8.7', '8.1']"
      ]
     },
     "execution_count": 13,
     "metadata": {},
     "output_type": "execute_result"
    }
   ],
   "source": [
    "rating=[]\n",
    "for i in rat:\n",
    "    temp=i.text\n",
    "    rating.append(temp)\n",
    "rating[0:4]"
   ]
  },
  {
   "cell_type": "code",
   "execution_count": 14,
   "id": "93402e5d",
   "metadata": {},
   "outputs": [
    {
     "data": {
      "text/plain": [
       "[<selenium.webdriver.remote.webelement.WebElement (session=\"3d1ff432a631fc4f840ef07985de9aae\", element=\"0497e7e9-e1d7-49e6-a25d-ed26730698af\")>,\n",
       " <selenium.webdriver.remote.webelement.WebElement (session=\"3d1ff432a631fc4f840ef07985de9aae\", element=\"ff886486-3d2b-44a9-a086-596b28cf672a\")>,\n",
       " <selenium.webdriver.remote.webelement.WebElement (session=\"3d1ff432a631fc4f840ef07985de9aae\", element=\"0003a8be-bff9-4fcd-b7c6-3253fab7ccef\")>,\n",
       " <selenium.webdriver.remote.webelement.WebElement (session=\"3d1ff432a631fc4f840ef07985de9aae\", element=\"12ba313e-fe86-4fe5-a0ee-1ca72d206721\")>]"
      ]
     },
     "execution_count": 14,
     "metadata": {},
     "output_type": "execute_result"
    }
   ],
   "source": [
    "totrat=driver.find_elements(By.XPATH,'//*[@class=\"reviews\"]')\n",
    "totrat[0:4]"
   ]
  },
  {
   "cell_type": "code",
   "execution_count": 15,
   "id": "28fbf8f1",
   "metadata": {},
   "outputs": [
    {
     "data": {
      "text/plain": [
       "['13 Total Reviews',\n",
       " '4165 Total Reviews',\n",
       " '13337 Total Reviews',\n",
       " '10947 Total Reviews']"
      ]
     },
     "execution_count": 15,
     "metadata": {},
     "output_type": "execute_result"
    }
   ],
   "source": [
    "totrating=[]\n",
    "for i in totrat:\n",
    "    temp=i.text\n",
    "    totrating.append(temp)\n",
    "totrating[0:4]"
   ]
  },
  {
   "cell_type": "code",
   "execution_count": 18,
   "id": "2e4fd870",
   "metadata": {},
   "outputs": [
    {
     "data": {
      "text/plain": [
       "[<selenium.webdriver.remote.webelement.WebElement (session=\"3d1ff432a631fc4f840ef07985de9aae\", element=\"a0402057-526d-4ca3-829c-628485558a89\")>,\n",
       " <selenium.webdriver.remote.webelement.WebElement (session=\"3d1ff432a631fc4f840ef07985de9aae\", element=\"90735d0c-ff8e-4ac9-81cb-85cc206e45a7\")>,\n",
       " <selenium.webdriver.remote.webelement.WebElement (session=\"3d1ff432a631fc4f840ef07985de9aae\", element=\"e5014204-ff7b-49f2-8f32-ab06837688a4\")>,\n",
       " <selenium.webdriver.remote.webelement.WebElement (session=\"3d1ff432a631fc4f840ef07985de9aae\", element=\"3b275308-b6ff-41e2-b759-89937631cf2e\")>]"
      ]
     },
     "execution_count": 18,
     "metadata": {},
     "output_type": "execute_result"
    }
   ],
   "source": [
    "k=driver.find_elements(By.XPATH,'//*[@class=\"keyword\"]')\n",
    "k=k[3:]\n",
    "k[:4]"
   ]
  },
  {
   "cell_type": "code",
   "execution_count": 19,
   "id": "452dc9c0",
   "metadata": {},
   "outputs": [
    {
     "data": {
      "text/plain": [
       "['Superb', 'Fabulous', 'Fabulous', 'Fabulous']"
      ]
     },
     "execution_count": 19,
     "metadata": {},
     "output_type": "execute_result"
    }
   ],
   "source": [
    "key=[]\n",
    "for i in k:\n",
    "    temp=i.text\n",
    "    key.append(temp)\n",
    "key[0:4]"
   ]
  },
  {
   "cell_type": "code",
   "execution_count": 20,
   "id": "587adcad",
   "metadata": {},
   "outputs": [
    {
     "data": {
      "text/plain": [
       "[<selenium.webdriver.remote.webelement.WebElement (session=\"3d1ff432a631fc4f840ef07985de9aae\", element=\"dd31fa8b-d8e2-48a9-ad76-775406cbb9fe\")>,\n",
       " <selenium.webdriver.remote.webelement.WebElement (session=\"3d1ff432a631fc4f840ef07985de9aae\", element=\"c70db4db-706e-41b2-92d6-ee27cc35d7f7\")>,\n",
       " <selenium.webdriver.remote.webelement.WebElement (session=\"3d1ff432a631fc4f840ef07985de9aae\", element=\"06e63a6c-bb7a-457c-9563-d65610a41a23\")>,\n",
       " <selenium.webdriver.remote.webelement.WebElement (session=\"3d1ff432a631fc4f840ef07985de9aae\", element=\"ddc734f4-6717-44eb-b8eb-834ff4f376c4\")>]"
      ]
     },
     "execution_count": 20,
     "metadata": {},
     "output_type": "execute_result"
    }
   ],
   "source": [
    "p=driver.find_elements(By.XPATH,'//*[@class=\"price-col\"]')\n",
    "p[0:4]"
   ]
  },
  {
   "cell_type": "code",
   "execution_count": 21,
   "id": "0062f851",
   "metadata": {},
   "outputs": [
    {
     "data": {
      "text/plain": [
       "['Privates From\\nRs16973',\n",
       " 'Dorms From\\nRs4525.8 Rs3847',\n",
       " 'No Privates Available',\n",
       " 'Dorms From\\nRs1177']"
      ]
     },
     "execution_count": 21,
     "metadata": {},
     "output_type": "execute_result"
    }
   ],
   "source": [
    "pr=[]\n",
    "for i in p:\n",
    "    temp=i.text\n",
    "    pr.append(temp)\n",
    "pr[0:4]"
   ]
  },
  {
   "cell_type": "code",
   "execution_count": 24,
   "id": "3892c499",
   "metadata": {},
   "outputs": [],
   "source": [
    "privatesprice=[]\n",
    "dormsprice=[]\n",
    "privatesprice=pr[::2]\n",
    "dormsprice=pr[1::2]"
   ]
  },
  {
   "cell_type": "code",
   "execution_count": 130,
   "id": "e7b6dea0",
   "metadata": {},
   "outputs": [],
   "source": [
    "description=[]\n",
    "def text(val,which):\n",
    "    if len(val) == 0:\n",
    "        which.append(\"-\")\n",
    "    else:\n",
    "        for i in val:\n",
    "            temp=i.text\n",
    "            which.append(temp)\n",
    "prod=3\n",
    "for i in range(len(name)):\n",
    "    xp1='/html/body/div[3]/div/div/div[1]/div[4]/div/div/div['+str(prod)+']/div[3]/a[2]/button'\n",
    "    try:\n",
    "        namclick=driver.find_element(By.XPATH,xp1)\n",
    "        namclick.click() \n",
    "        time.sleep(7)\n",
    "        d=driver.find_elements(By.XPATH,'/html/body/div[3]/div/div/div[1]/section/div[6]/div/div[2]/div/div/div[2]')\n",
    "        text(d,description)\n",
    "        driver.back()\n",
    "        time.sleep(5)\n",
    "    except:\n",
    "        description.append(\"-\")\n",
    "        driver.back()\n",
    "        time.sleep(5)\n",
    "    prod+=1"
   ]
  },
  {
   "cell_type": "code",
   "execution_count": 131,
   "id": "ed96b869",
   "metadata": {},
   "outputs": [
    {
     "data": {
      "text/plain": [
       "30"
      ]
     },
     "execution_count": 131,
     "metadata": {},
     "output_type": "execute_result"
    }
   ],
   "source": [
    "len(description)"
   ]
  },
  {
   "cell_type": "code",
   "execution_count": 137,
   "id": "2f554789",
   "metadata": {},
   "outputs": [
    {
     "data": {
      "text/html": [
       "<div>\n",
       "<style scoped>\n",
       "    .dataframe tbody tr th:only-of-type {\n",
       "        vertical-align: middle;\n",
       "    }\n",
       "\n",
       "    .dataframe tbody tr th {\n",
       "        vertical-align: top;\n",
       "    }\n",
       "\n",
       "    .dataframe thead th {\n",
       "        text-align: right;\n",
       "    }\n",
       "</style>\n",
       "<table border=\"1\" class=\"dataframe\">\n",
       "  <thead>\n",
       "    <tr style=\"text-align: right;\">\n",
       "      <th></th>\n",
       "      <th>Name</th>\n",
       "      <th>Distance</th>\n",
       "      <th>Rating</th>\n",
       "      <th>Number of ratings</th>\n",
       "      <th>Overall Review</th>\n",
       "      <th>Privates Price</th>\n",
       "      <th>Dorms Price</th>\n",
       "      <th>Description</th>\n",
       "    </tr>\n",
       "  </thead>\n",
       "  <tbody>\n",
       "    <tr>\n",
       "      <th>0</th>\n",
       "      <td>Wombat's The City Hostel London</td>\n",
       "      <td>Hostel - 5.5km from city centre</td>\n",
       "      <td>9.1</td>\n",
       "      <td>13 Total Reviews</td>\n",
       "      <td>Superb</td>\n",
       "      <td>Privates From\\nRs16973</td>\n",
       "      <td>Dorms From\\nRs4525.8 Rs3847</td>\n",
       "      <td>Wombat's The City Hostel London is definitely ...</td>\n",
       "    </tr>\n",
       "    <tr>\n",
       "      <th>1</th>\n",
       "      <td>London Backpackers</td>\n",
       "      <td>Hostel - 11.9km from city centre</td>\n",
       "      <td>8.5</td>\n",
       "      <td>4165 Total Reviews</td>\n",
       "      <td>Fabulous</td>\n",
       "      <td>No Privates Available</td>\n",
       "      <td>Dorms From\\nRs1177</td>\n",
       "      <td>IMPORTANT NOTICE: This hostel is for 18 - 35-y...</td>\n",
       "    </tr>\n",
       "    <tr>\n",
       "      <th>2</th>\n",
       "      <td>Selina Camden</td>\n",
       "      <td>Hostel - 3.6km from city centre</td>\n",
       "      <td>8.7</td>\n",
       "      <td>13337 Total Reviews</td>\n",
       "      <td>Fabulous</td>\n",
       "      <td>Privates From\\nRs11173.73 Rs9274</td>\n",
       "      <td>Dorms From\\nRs2747.21 Rs2060</td>\n",
       "      <td>Among underground music venues, innovative mus...</td>\n",
       "    </tr>\n",
       "    <tr>\n",
       "      <th>3</th>\n",
       "      <td>St Christopher's Village</td>\n",
       "      <td>Hostel - 1.8km from city centre</td>\n",
       "      <td>8.1</td>\n",
       "      <td>10947 Total Reviews</td>\n",
       "      <td>Fabulous</td>\n",
       "      <td>Privates From\\nRs9526.9 Rs8574</td>\n",
       "      <td>Dorms From\\nRs1172.23 Rs1055</td>\n",
       "      <td>COVID 19 Policy Update.\\nIn response to Corona...</td>\n",
       "    </tr>\n",
       "    <tr>\n",
       "      <th>4</th>\n",
       "      <td>Astor Museum Inn</td>\n",
       "      <td>Hostel - 2.2km from city centre</td>\n",
       "      <td>9.0</td>\n",
       "      <td>8793 Total Reviews</td>\n",
       "      <td>Superb</td>\n",
       "      <td>Privates From\\nRs6839</td>\n",
       "      <td>Dorms From\\nRs1676</td>\n",
       "      <td>With the British Museum literally on its doors...</td>\n",
       "    </tr>\n",
       "  </tbody>\n",
       "</table>\n",
       "</div>"
      ],
      "text/plain": [
       "                              Name                          Distance Rating  \\\n",
       "0  Wombat's The City Hostel London   Hostel - 5.5km from city centre    9.1   \n",
       "1               London Backpackers  Hostel - 11.9km from city centre    8.5   \n",
       "2                    Selina Camden   Hostel - 3.6km from city centre    8.7   \n",
       "3         St Christopher's Village   Hostel - 1.8km from city centre    8.1   \n",
       "4                 Astor Museum Inn   Hostel - 2.2km from city centre    9.0   \n",
       "\n",
       "     Number of ratings Overall Review                    Privates Price  \\\n",
       "0     13 Total Reviews         Superb            Privates From\\nRs16973   \n",
       "1   4165 Total Reviews       Fabulous             No Privates Available   \n",
       "2  13337 Total Reviews       Fabulous  Privates From\\nRs11173.73 Rs9274   \n",
       "3  10947 Total Reviews       Fabulous    Privates From\\nRs9526.9 Rs8574   \n",
       "4   8793 Total Reviews         Superb             Privates From\\nRs6839   \n",
       "\n",
       "                    Dorms Price  \\\n",
       "0   Dorms From\\nRs4525.8 Rs3847   \n",
       "1            Dorms From\\nRs1177   \n",
       "2  Dorms From\\nRs2747.21 Rs2060   \n",
       "3  Dorms From\\nRs1172.23 Rs1055   \n",
       "4            Dorms From\\nRs1676   \n",
       "\n",
       "                                         Description  \n",
       "0  Wombat's The City Hostel London is definitely ...  \n",
       "1  IMPORTANT NOTICE: This hostel is for 18 - 35-y...  \n",
       "2  Among underground music venues, innovative mus...  \n",
       "3  COVID 19 Policy Update.\\nIn response to Corona...  \n",
       "4  With the British Museum literally on its doors...  "
      ]
     },
     "execution_count": 137,
     "metadata": {},
     "output_type": "execute_result"
    }
   ],
   "source": [
    "dataset=pd.DataFrame()\n",
    "dataset['Name']=nam\n",
    "dataset['Distance']=distance\n",
    "dataset['Rating']=rating\n",
    "dataset['Number of ratings']=totrating\n",
    "dataset['Overall Review']=key\n",
    "dataset['Privates Price']=privatesprice\n",
    "dataset['Dorms Price']=dormsprice\n",
    "dataset['Description']=description\n",
    "dataset.head()"
   ]
  },
  {
   "cell_type": "code",
   "execution_count": null,
   "id": "88793862",
   "metadata": {},
   "outputs": [],
   "source": []
  }
 ],
 "metadata": {
  "kernelspec": {
   "display_name": "Python 3",
   "language": "python",
   "name": "python3"
  },
  "language_info": {
   "codemirror_mode": {
    "name": "ipython",
    "version": 3
   },
   "file_extension": ".py",
   "mimetype": "text/x-python",
   "name": "python",
   "nbconvert_exporter": "python",
   "pygments_lexer": "ipython3",
   "version": "3.8.8"
  }
 },
 "nbformat": 4,
 "nbformat_minor": 5
}

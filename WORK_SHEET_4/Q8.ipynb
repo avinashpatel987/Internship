{
 "cells": [
  {
   "cell_type": "code",
   "execution_count": 1,
   "id": "0b347649",
   "metadata": {},
   "outputs": [],
   "source": [
    "import selenium\n",
    "import pandas as pd\n",
    "from selenium import webdriver\n",
    "from selenium.webdriver.chrome.service import Service\n",
    "from selenium.webdriver.common.by import By\n",
    "import time\n",
    "import urllib\n",
    "import os"
   ]
  },
  {
   "cell_type": "code",
   "execution_count": 27,
   "id": "5c55c302",
   "metadata": {},
   "outputs": [],
   "source": [
    "s=Service(\"C:\\chromedriver_win32\\chromedriver.exe\")\n",
    "driver=webdriver.Chrome(service=s)\n",
    "driver.get('https://www.forbes.com/')"
   ]
  },
  {
   "cell_type": "code",
   "execution_count": 4,
   "id": "1d20925f",
   "metadata": {},
   "outputs": [],
   "source": [
    "btn1=driver.find_element(By.XPATH,\"/html/body/div[1]/header/nav/div[1]/button[1]\")\n",
    "btn1.click() "
   ]
  },
  {
   "cell_type": "code",
   "execution_count": 7,
   "id": "dba1c287",
   "metadata": {},
   "outputs": [],
   "source": [
    "from selenium.webdriver.common.action_chains import ActionChains\n",
    "a = ActionChains(driver)\n",
    "m= driver.find_element(By.XPATH,\"/html/body/div[1]/header/nav/div[3]/ul/li[1]\")\n",
    "a.move_to_element(m).perform()\n",
    "btn2=driver.find_element(By.XPATH,\"/html/body/div[1]/header/nav/div[3]/ul/li[1]/div[2]/ul/li[2]/a\")\n",
    "btn2.click() "
   ]
  },
  {
   "cell_type": "code",
   "execution_count": 9,
   "id": "808cf83e",
   "metadata": {},
   "outputs": [
    {
     "data": {
      "text/plain": [
       "[<selenium.webdriver.remote.webelement.WebElement (session=\"27c57e7610c3507bccb3887fdaaf6e3a\", element=\"8416f284-166e-4d7b-9b57-25cbc08482ab\")>,\n",
       " <selenium.webdriver.remote.webelement.WebElement (session=\"27c57e7610c3507bccb3887fdaaf6e3a\", element=\"2aca9af6-678e-4e19-b190-5a24db8772a2\")>,\n",
       " <selenium.webdriver.remote.webelement.WebElement (session=\"27c57e7610c3507bccb3887fdaaf6e3a\", element=\"84f2aa5f-e29f-447e-a020-126c3f4503da\")>,\n",
       " <selenium.webdriver.remote.webelement.WebElement (session=\"27c57e7610c3507bccb3887fdaaf6e3a\", element=\"3024c149-23c2-4391-9f7e-aceb968b8a59\")>]"
      ]
     },
     "execution_count": 9,
     "metadata": {},
     "output_type": "execute_result"
    }
   ],
   "source": [
    "name=driver.find_elements(By.XPATH,\"//*[@class='personName']\")\n",
    "name[0:4]"
   ]
  },
  {
   "cell_type": "code",
   "execution_count": 10,
   "id": "7f657f91",
   "metadata": {},
   "outputs": [
    {
     "data": {
      "text/plain": [
       "['Jeff Bezos', 'Elon Musk', 'Bernard Arnault & family', 'Bill Gates']"
      ]
     },
     "execution_count": 10,
     "metadata": {},
     "output_type": "execute_result"
    }
   ],
   "source": [
    "nam=[]\n",
    "for i in name:\n",
    "    temp=i.text\n",
    "    nam.append(temp)\n",
    "nam[0:4]"
   ]
  },
  {
   "cell_type": "code",
   "execution_count": 11,
   "id": "eafadd78",
   "metadata": {},
   "outputs": [
    {
     "data": {
      "text/plain": [
       "[<selenium.webdriver.remote.webelement.WebElement (session=\"27c57e7610c3507bccb3887fdaaf6e3a\", element=\"fdd6bf3b-2d4e-457d-9846-9524b9915ba5\")>,\n",
       " <selenium.webdriver.remote.webelement.WebElement (session=\"27c57e7610c3507bccb3887fdaaf6e3a\", element=\"1ea1a487-4e59-40c8-a9fb-954faafce30b\")>,\n",
       " <selenium.webdriver.remote.webelement.WebElement (session=\"27c57e7610c3507bccb3887fdaaf6e3a\", element=\"47c10800-94fa-4d38-8a5b-c4d067d947a3\")>,\n",
       " <selenium.webdriver.remote.webelement.WebElement (session=\"27c57e7610c3507bccb3887fdaaf6e3a\", element=\"91e558a2-09e4-41d5-848c-4e3982a503a0\")>]"
      ]
     },
     "execution_count": 11,
     "metadata": {},
     "output_type": "execute_result"
    }
   ],
   "source": [
    "netWorth=driver.find_elements(By.XPATH,\"//*[@class='netWorth']\")\n",
    "netWorth[0:4]"
   ]
  },
  {
   "cell_type": "code",
   "execution_count": 12,
   "id": "f312b1e6",
   "metadata": {},
   "outputs": [
    {
     "data": {
      "text/plain": [
       "['$177 B', '$151 B', '$150 B', '$124 B']"
      ]
     },
     "execution_count": 12,
     "metadata": {},
     "output_type": "execute_result"
    }
   ],
   "source": [
    "nw=[]\n",
    "for i in netWorth:\n",
    "    temp=i.text\n",
    "    nw.append(temp)\n",
    "nw[0:4]"
   ]
  },
  {
   "cell_type": "code",
   "execution_count": 14,
   "id": "549e5273",
   "metadata": {},
   "outputs": [
    {
     "data": {
      "text/plain": [
       "[<selenium.webdriver.remote.webelement.WebElement (session=\"27c57e7610c3507bccb3887fdaaf6e3a\", element=\"bf015a4c-b8bd-446e-befe-43d4d385abda\")>,\n",
       " <selenium.webdriver.remote.webelement.WebElement (session=\"27c57e7610c3507bccb3887fdaaf6e3a\", element=\"b4800079-2f86-47fb-b7ea-c890a2637b5e\")>,\n",
       " <selenium.webdriver.remote.webelement.WebElement (session=\"27c57e7610c3507bccb3887fdaaf6e3a\", element=\"51f2f874-ecfb-48ef-9639-14397c1f9e20\")>,\n",
       " <selenium.webdriver.remote.webelement.WebElement (session=\"27c57e7610c3507bccb3887fdaaf6e3a\", element=\"020e65e4-b010-495a-9f64-c131fee7cfb8\")>]"
      ]
     },
     "execution_count": 14,
     "metadata": {},
     "output_type": "execute_result"
    }
   ],
   "source": [
    "country=driver.find_elements(By.XPATH,\"//*[@class='countryOfCitizenship']\")\n",
    "country[0:4]"
   ]
  },
  {
   "cell_type": "code",
   "execution_count": 15,
   "id": "7df65d65",
   "metadata": {},
   "outputs": [
    {
     "data": {
      "text/plain": [
       "['United States', 'United States', 'France', 'United States']"
      ]
     },
     "execution_count": 15,
     "metadata": {},
     "output_type": "execute_result"
    }
   ],
   "source": [
    "c=[]\n",
    "for i in country:\n",
    "    temp=i.text\n",
    "    c.append(temp)\n",
    "c[0:4]"
   ]
  },
  {
   "cell_type": "code",
   "execution_count": 17,
   "id": "1ca774e9",
   "metadata": {},
   "outputs": [
    {
     "data": {
      "text/plain": [
       "[<selenium.webdriver.remote.webelement.WebElement (session=\"27c57e7610c3507bccb3887fdaaf6e3a\", element=\"8f058874-78f6-48a8-9e93-2ca83df63f6b\")>,\n",
       " <selenium.webdriver.remote.webelement.WebElement (session=\"27c57e7610c3507bccb3887fdaaf6e3a\", element=\"58c19709-65af-4319-8a06-e0a97edf73db\")>,\n",
       " <selenium.webdriver.remote.webelement.WebElement (session=\"27c57e7610c3507bccb3887fdaaf6e3a\", element=\"b9cfccb4-6105-4b6f-9a68-c37ad200509b\")>,\n",
       " <selenium.webdriver.remote.webelement.WebElement (session=\"27c57e7610c3507bccb3887fdaaf6e3a\", element=\"c208e826-ed82-4eb5-92af-1fa3bc5e7bb3\")>]"
      ]
     },
     "execution_count": 17,
     "metadata": {},
     "output_type": "execute_result"
    }
   ],
   "source": [
    "source=driver.find_elements(By.XPATH,\"//*[@class='source-column']\")\n",
    "source[0:4]"
   ]
  },
  {
   "cell_type": "code",
   "execution_count": 18,
   "id": "45bf2d19",
   "metadata": {},
   "outputs": [
    {
     "data": {
      "text/plain": [
       "['Amazon', 'Tesla, SpaceX', 'LVMH', 'Microsoft']"
      ]
     },
     "execution_count": 18,
     "metadata": {},
     "output_type": "execute_result"
    }
   ],
   "source": [
    "s=[]\n",
    "for i in source:\n",
    "    temp=i.text\n",
    "    s.append(temp)\n",
    "s[0:4]"
   ]
  },
  {
   "cell_type": "code",
   "execution_count": 19,
   "id": "6fb76374",
   "metadata": {},
   "outputs": [
    {
     "data": {
      "text/plain": [
       "[<selenium.webdriver.remote.webelement.WebElement (session=\"27c57e7610c3507bccb3887fdaaf6e3a\", element=\"df185b4d-6faf-4f3e-a68c-6f81953f3192\")>,\n",
       " <selenium.webdriver.remote.webelement.WebElement (session=\"27c57e7610c3507bccb3887fdaaf6e3a\", element=\"e59f971a-44a2-411e-80a2-1c907c8365fc\")>,\n",
       " <selenium.webdriver.remote.webelement.WebElement (session=\"27c57e7610c3507bccb3887fdaaf6e3a\", element=\"5da534ab-0502-452d-b1e7-40e54efa9aa6\")>,\n",
       " <selenium.webdriver.remote.webelement.WebElement (session=\"27c57e7610c3507bccb3887fdaaf6e3a\", element=\"05187cae-e481-40db-a5a9-be235faa7a47\")>]"
      ]
     },
     "execution_count": 19,
     "metadata": {},
     "output_type": "execute_result"
    }
   ],
   "source": [
    "catagory=driver.find_elements(By.XPATH,\"//*[@class='category']\")\n",
    "catagory[0:4]"
   ]
  },
  {
   "cell_type": "code",
   "execution_count": 20,
   "id": "823f246e",
   "metadata": {},
   "outputs": [
    {
     "data": {
      "text/plain": [
       "['Technology', 'Automotive', 'Fashion & Retail', 'Technology']"
      ]
     },
     "execution_count": 20,
     "metadata": {},
     "output_type": "execute_result"
    }
   ],
   "source": [
    "cg=[]\n",
    "for i in catagory:\n",
    "    temp=i.text\n",
    "    cg.append(temp)\n",
    "cg[0:4]"
   ]
  },
  {
   "cell_type": "code",
   "execution_count": 24,
   "id": "2eb37d7e",
   "metadata": {},
   "outputs": [
    {
     "data": {
      "text/plain": [
       "[<selenium.webdriver.remote.webelement.WebElement (session=\"27c57e7610c3507bccb3887fdaaf6e3a\", element=\"9ce0a582-4f58-4c92-a5f0-a500196797c1\")>,\n",
       " <selenium.webdriver.remote.webelement.WebElement (session=\"27c57e7610c3507bccb3887fdaaf6e3a\", element=\"847f45ae-ef9b-41eb-936b-9530958c244d\")>,\n",
       " <selenium.webdriver.remote.webelement.WebElement (session=\"27c57e7610c3507bccb3887fdaaf6e3a\", element=\"a3b914d7-c740-43e3-a787-f9b7021b94f1\")>,\n",
       " <selenium.webdriver.remote.webelement.WebElement (session=\"27c57e7610c3507bccb3887fdaaf6e3a\", element=\"e89af119-354f-42bb-8503-d90f18afd0ac\")>]"
      ]
     },
     "execution_count": 24,
     "metadata": {},
     "output_type": "execute_result"
    }
   ],
   "source": [
    "age=driver.find_elements(By.XPATH,\"//*[@class='age']\")\n",
    "age[0:4]"
   ]
  },
  {
   "cell_type": "code",
   "execution_count": 25,
   "id": "5020ddb5",
   "metadata": {},
   "outputs": [
    {
     "data": {
      "text/plain": [
       "['57', '49', '72', '65']"
      ]
     },
     "execution_count": 25,
     "metadata": {},
     "output_type": "execute_result"
    }
   ],
   "source": [
    "ag=[]\n",
    "for i in age:\n",
    "    temp=i.text\n",
    "    ag.append(temp)\n",
    "ag[0:4]"
   ]
  },
  {
   "cell_type": "code",
   "execution_count": 26,
   "id": "d7f1e73a",
   "metadata": {},
   "outputs": [
    {
     "data": {
      "text/html": [
       "<div>\n",
       "<style scoped>\n",
       "    .dataframe tbody tr th:only-of-type {\n",
       "        vertical-align: middle;\n",
       "    }\n",
       "\n",
       "    .dataframe tbody tr th {\n",
       "        vertical-align: top;\n",
       "    }\n",
       "\n",
       "    .dataframe thead th {\n",
       "        text-align: right;\n",
       "    }\n",
       "</style>\n",
       "<table border=\"1\" class=\"dataframe\">\n",
       "  <thead>\n",
       "    <tr style=\"text-align: right;\">\n",
       "      <th></th>\n",
       "      <th>Name</th>\n",
       "      <th>Net Worth</th>\n",
       "      <th>Company</th>\n",
       "      <th>Age</th>\n",
       "      <th>Country OF Citizenship</th>\n",
       "      <th>Industry</th>\n",
       "    </tr>\n",
       "  </thead>\n",
       "  <tbody>\n",
       "    <tr>\n",
       "      <th>0</th>\n",
       "      <td>Jeff Bezos</td>\n",
       "      <td>$177 B</td>\n",
       "      <td>Amazon</td>\n",
       "      <td>57</td>\n",
       "      <td>United States</td>\n",
       "      <td>Technology</td>\n",
       "    </tr>\n",
       "    <tr>\n",
       "      <th>1</th>\n",
       "      <td>Elon Musk</td>\n",
       "      <td>$151 B</td>\n",
       "      <td>Tesla, SpaceX</td>\n",
       "      <td>49</td>\n",
       "      <td>United States</td>\n",
       "      <td>Automotive</td>\n",
       "    </tr>\n",
       "    <tr>\n",
       "      <th>2</th>\n",
       "      <td>Bernard Arnault &amp; family</td>\n",
       "      <td>$150 B</td>\n",
       "      <td>LVMH</td>\n",
       "      <td>72</td>\n",
       "      <td>France</td>\n",
       "      <td>Fashion &amp; Retail</td>\n",
       "    </tr>\n",
       "    <tr>\n",
       "      <th>3</th>\n",
       "      <td>Bill Gates</td>\n",
       "      <td>$124 B</td>\n",
       "      <td>Microsoft</td>\n",
       "      <td>65</td>\n",
       "      <td>United States</td>\n",
       "      <td>Technology</td>\n",
       "    </tr>\n",
       "    <tr>\n",
       "      <th>4</th>\n",
       "      <td>Mark Zuckerberg</td>\n",
       "      <td>$97 B</td>\n",
       "      <td>Facebook</td>\n",
       "      <td>36</td>\n",
       "      <td>United States</td>\n",
       "      <td>Technology</td>\n",
       "    </tr>\n",
       "  </tbody>\n",
       "</table>\n",
       "</div>"
      ],
      "text/plain": [
       "                       Name Net Worth        Company Age  \\\n",
       "0                Jeff Bezos    $177 B         Amazon  57   \n",
       "1                 Elon Musk    $151 B  Tesla, SpaceX  49   \n",
       "2  Bernard Arnault & family    $150 B           LVMH  72   \n",
       "3                Bill Gates    $124 B      Microsoft  65   \n",
       "4           Mark Zuckerberg     $97 B       Facebook  36   \n",
       "\n",
       "  Country OF Citizenship          Industry  \n",
       "0          United States        Technology  \n",
       "1          United States        Automotive  \n",
       "2                 France  Fashion & Retail  \n",
       "3          United States        Technology  \n",
       "4          United States        Technology  "
      ]
     },
     "execution_count": 26,
     "metadata": {},
     "output_type": "execute_result"
    }
   ],
   "source": [
    "dataset=pd.DataFrame()\n",
    "dataset['Name']=nam\n",
    "dataset['Net Worth']=nw\n",
    "dataset['Company']=s\n",
    "dataset['Age']=ag\n",
    "dataset['Country OF Citizenship']=c\n",
    "dataset['Industry']=cg\n",
    "dataset.head()"
   ]
  },
  {
   "cell_type": "code",
   "execution_count": null,
   "id": "0d861559",
   "metadata": {},
   "outputs": [],
   "source": []
  }
 ],
 "metadata": {
  "kernelspec": {
   "display_name": "Python 3",
   "language": "python",
   "name": "python3"
  },
  "language_info": {
   "codemirror_mode": {
    "name": "ipython",
    "version": 3
   },
   "file_extension": ".py",
   "mimetype": "text/x-python",
   "name": "python",
   "nbconvert_exporter": "python",
   "pygments_lexer": "ipython3",
   "version": "3.8.8"
  }
 },
 "nbformat": 4,
 "nbformat_minor": 5
}

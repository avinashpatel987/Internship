{
 "cells": [
  {
   "cell_type": "markdown",
   "id": "57ce067b",
   "metadata": {},
   "source": [
    "# Importing Libraries"
   ]
  },
  {
   "cell_type": "code",
   "execution_count": 1,
   "id": "e1666cd1",
   "metadata": {},
   "outputs": [],
   "source": [
    "import pandas as pd\n",
    "import numpy as np\n",
    "import matplotlib.pyplot as plt\n",
    "import seaborn as sn\n",
    "\n",
    "import warnings\n",
    "%matplotlib inline\n",
    "warnings.filterwarnings('ignore')"
   ]
  },
  {
   "cell_type": "markdown",
   "id": "7d06cfb1",
   "metadata": {},
   "source": [
    "# Data Reading And Analysing the Dataset"
   ]
  },
  {
   "cell_type": "code",
   "execution_count": 2,
   "id": "9a7cc572",
   "metadata": {},
   "outputs": [
    {
     "data": {
      "text/html": [
       "<div>\n",
       "<style scoped>\n",
       "    .dataframe tbody tr th:only-of-type {\n",
       "        vertical-align: middle;\n",
       "    }\n",
       "\n",
       "    .dataframe tbody tr th {\n",
       "        vertical-align: top;\n",
       "    }\n",
       "\n",
       "    .dataframe thead th {\n",
       "        text-align: right;\n",
       "    }\n",
       "</style>\n",
       "<table border=\"1\" class=\"dataframe\">\n",
       "  <thead>\n",
       "    <tr style=\"text-align: right;\">\n",
       "      <th></th>\n",
       "      <th>Car Name</th>\n",
       "      <th>Transmission</th>\n",
       "      <th>Kilometers Run</th>\n",
       "      <th>Fuel Type</th>\n",
       "      <th>Body Type</th>\n",
       "      <th>Previous Owners</th>\n",
       "      <th>Price</th>\n",
       "    </tr>\n",
       "  </thead>\n",
       "  <tbody>\n",
       "    <tr>\n",
       "      <th>0</th>\n",
       "      <td>2015 Maruti Wagon R</td>\n",
       "      <td>automatic</td>\n",
       "      <td>61,885 kms</td>\n",
       "      <td>Petrol</td>\n",
       "      <td>Hatchback</td>\n",
       "      <td>1</td>\n",
       "      <td>3,42,000</td>\n",
       "    </tr>\n",
       "    <tr>\n",
       "      <th>1</th>\n",
       "      <td>2016 Maruti Wagon R</td>\n",
       "      <td>manual</td>\n",
       "      <td>70,368 kms</td>\n",
       "      <td>CNG</td>\n",
       "      <td>Hatchback</td>\n",
       "      <td>1</td>\n",
       "      <td>4,07,500</td>\n",
       "    </tr>\n",
       "    <tr>\n",
       "      <th>2</th>\n",
       "      <td>2020 Toyota Glanza</td>\n",
       "      <td>manual</td>\n",
       "      <td>12,903 kms</td>\n",
       "      <td>Petrol</td>\n",
       "      <td>Hatchback</td>\n",
       "      <td>1</td>\n",
       "      <td>7,38,000</td>\n",
       "    </tr>\n",
       "    <tr>\n",
       "      <th>3</th>\n",
       "      <td>2016 Maruti Celerio</td>\n",
       "      <td>automatic</td>\n",
       "      <td>1,06,690 kms</td>\n",
       "      <td>Petrol</td>\n",
       "      <td>Hatchback</td>\n",
       "      <td>1</td>\n",
       "      <td>3,69,000</td>\n",
       "    </tr>\n",
       "    <tr>\n",
       "      <th>4</th>\n",
       "      <td>2018 Maruti Swift</td>\n",
       "      <td>manual</td>\n",
       "      <td>37,449 kms</td>\n",
       "      <td>Petrol</td>\n",
       "      <td>Hatchback</td>\n",
       "      <td>1</td>\n",
       "      <td>5,52,000</td>\n",
       "    </tr>\n",
       "  </tbody>\n",
       "</table>\n",
       "</div>"
      ],
      "text/plain": [
       "              Car Name Transmission Kilometers Run Fuel Type  Body Type  \\\n",
       "0  2015 Maruti Wagon R    automatic     61,885 kms    Petrol  Hatchback   \n",
       "1  2016 Maruti Wagon R       manual     70,368 kms       CNG  Hatchback   \n",
       "2   2020 Toyota Glanza       manual     12,903 kms    Petrol  Hatchback   \n",
       "3  2016 Maruti Celerio    automatic   1,06,690 kms    Petrol  Hatchback   \n",
       "4    2018 Maruti Swift       manual     37,449 kms    Petrol  Hatchback   \n",
       "\n",
       "  Previous Owners     Price  \n",
       "0               1  3,42,000  \n",
       "1               1  4,07,500  \n",
       "2               1  7,38,000  \n",
       "3               1  3,69,000  \n",
       "4               1  5,52,000  "
      ]
     },
     "execution_count": 2,
     "metadata": {},
     "output_type": "execute_result"
    }
   ],
   "source": [
    "pd.set_option('display.max_columns', None)\n",
    "df=pd.read_csv(r\"C:\\Users\\Avinash\\Desktop\\Internship\\Project\\Car-Price_Prediction\\Car Price Prediction\\carpricedata.csv\")\n",
    "df.head()"
   ]
  },
  {
   "cell_type": "code",
   "execution_count": 3,
   "id": "5989ac97",
   "metadata": {},
   "outputs": [
    {
     "data": {
      "text/plain": [
       "(6506, 7)"
      ]
     },
     "execution_count": 3,
     "metadata": {},
     "output_type": "execute_result"
    }
   ],
   "source": [
    "df.shape"
   ]
  },
  {
   "cell_type": "code",
   "execution_count": 4,
   "id": "47af7376",
   "metadata": {},
   "outputs": [
    {
     "data": {
      "text/plain": [
       "Car Name           1989\n",
       "Transmission          5\n",
       "Kilometers Run     2885\n",
       "Fuel Type            11\n",
       "Body Type             9\n",
       "Previous Owners       5\n",
       "Price              1965\n",
       "dtype: int64"
      ]
     },
     "execution_count": 4,
     "metadata": {},
     "output_type": "execute_result"
    }
   ],
   "source": [
    "df.nunique()"
   ]
  },
  {
   "cell_type": "code",
   "execution_count": 5,
   "id": "aa5a1c0e",
   "metadata": {},
   "outputs": [
    {
     "data": {
      "text/plain": [
       "Car Name            0\n",
       "Transmission       38\n",
       "Kilometers Run      0\n",
       "Fuel Type           0\n",
       "Body Type           0\n",
       "Previous Owners     0\n",
       "Price               0\n",
       "dtype: int64"
      ]
     },
     "execution_count": 5,
     "metadata": {},
     "output_type": "execute_result"
    }
   ],
   "source": [
    "df.isna().sum()"
   ]
  },
  {
   "cell_type": "code",
   "execution_count": 6,
   "id": "50990aa7",
   "metadata": {},
   "outputs": [],
   "source": [
    "df.dropna(inplace=True)"
   ]
  },
  {
   "cell_type": "markdown",
   "id": "204f0072",
   "metadata": {},
   "source": [
    "### checking how many are categorical values"
   ]
  },
  {
   "cell_type": "code",
   "execution_count": 7,
   "id": "f805a9e4",
   "metadata": {},
   "outputs": [
    {
     "name": "stdout",
     "output_type": "stream",
     "text": [
      "Car Name ['2015 Maruti Wagon R' '2016 Maruti Wagon R' '2020 Toyota Glanza' ...\n",
      " 'BMW 3 Series 330i Sport Line' 'BMW 5 Series 530d M Sport [2017-2019]'\n",
      " 'Audi A4 40 TFSI Premium Plus']\n",
      "**********************************************************************\n",
      "Transmission ['automatic' 'manual' 'Manual' 'Automatic' 'Aautomatic']\n",
      "**********************************************************************\n",
      "Kilometers Run ['61,885 kms' '70,368 kms' '12,903 kms' ... '26,012 km' '67,129 km'\n",
      " '16,865 km']\n",
      "**********************************************************************\n",
      "Fuel Type ['Petrol' 'CNG' 'Diesel' 'LPG' 'Petrol + CNG' 'Petrol + 1' 'LPG + 1'\n",
      " 'CNG + 1' 'Electric' 'Hybrid' 'Diesel + 1']\n",
      "**********************************************************************\n",
      "Body Type ['Hatchback' 'Sedan' 'SUV' 'Minivan' 'MUV' 'luxary' 'Luxary Sedan'\n",
      " 'Luxary SUV' 'Coupe']\n",
      "**********************************************************************\n",
      "Previous Owners ['1' '2' '1st Owner' '2nd Owner' '3rd Owner']\n",
      "**********************************************************************\n",
      "Price ['3,42,000' '4,07,500' '7,38,000' ... '₹ 14.2 Lakh' '₹ 12.8 Lakh'\n",
      " '₹ 43 Lakh']\n",
      "**********************************************************************\n"
     ]
    }
   ],
   "source": [
    "catagory=[]\n",
    "catagory=df.select_dtypes(include=\"object\").columns\n",
    "for i in catagory:\n",
    "    print(i,df[i].unique())\n",
    "    print(\"**********************************************************************\")"
   ]
  },
  {
   "cell_type": "markdown",
   "id": "8950f34f",
   "metadata": {},
   "source": [
    "As we know Kilometers,Previous Owners,Price are numerical values.But due to some values associated to these numbers these are interpreated as categorical values."
   ]
  },
  {
   "cell_type": "markdown",
   "id": "af1aea29",
   "metadata": {},
   "source": [
    "## Treating Kilometers Column"
   ]
  },
  {
   "cell_type": "code",
   "execution_count": 8,
   "id": "8eb3c2fc",
   "metadata": {},
   "outputs": [],
   "source": [
    "import re\n",
    "km=[]\n",
    "for i in df[\"Kilometers Run\"]:\n",
    "    temp=re.sub(\"\\D\",\"\",i)\n",
    "    km.append(temp)"
   ]
  },
  {
   "cell_type": "code",
   "execution_count": 9,
   "id": "f53fc8c5",
   "metadata": {},
   "outputs": [
    {
     "data": {
      "text/plain": [
       "['61885', '70368', '12903', '106690']"
      ]
     },
     "execution_count": 9,
     "metadata": {},
     "output_type": "execute_result"
    }
   ],
   "source": [
    "km[:4]"
   ]
  },
  {
   "cell_type": "markdown",
   "id": "ede080bf",
   "metadata": {},
   "source": [
    "We have successfully converted the kilometer column into numerical column."
   ]
  },
  {
   "cell_type": "code",
   "execution_count": 10,
   "id": "4369bdc0",
   "metadata": {},
   "outputs": [],
   "source": [
    "df.drop(columns={\"Kilometers Run\"},inplace=True)"
   ]
  },
  {
   "cell_type": "code",
   "execution_count": 11,
   "id": "a8ca4d0f",
   "metadata": {},
   "outputs": [],
   "source": [
    "df[\"Kilometers Run\"]=km"
   ]
  },
  {
   "cell_type": "code",
   "execution_count": 12,
   "id": "1111fb6c",
   "metadata": {},
   "outputs": [],
   "source": [
    "df[\"Kilometers Run\"]=df[\"Kilometers Run\"].astype(int)"
   ]
  },
  {
   "cell_type": "markdown",
   "id": "e9a9a423",
   "metadata": {},
   "source": [
    "## Treating Previous Owners Column"
   ]
  },
  {
   "cell_type": "code",
   "execution_count": 13,
   "id": "58ad691d",
   "metadata": {},
   "outputs": [],
   "source": [
    "import re\n",
    "o=[]\n",
    "for i in df[\"Previous Owners\"]:\n",
    "    temp=re.sub(\"\\D\",\"\",i)\n",
    "    o.append(temp)"
   ]
  },
  {
   "cell_type": "code",
   "execution_count": 14,
   "id": "c403722e",
   "metadata": {},
   "outputs": [
    {
     "data": {
      "text/plain": [
       "['1', '1', '1', '1']"
      ]
     },
     "execution_count": 14,
     "metadata": {},
     "output_type": "execute_result"
    }
   ],
   "source": [
    "o[:4]"
   ]
  },
  {
   "cell_type": "code",
   "execution_count": 15,
   "id": "8cf8d3e6",
   "metadata": {},
   "outputs": [],
   "source": [
    "df.drop(columns={\"Previous Owners\"},inplace=True)"
   ]
  },
  {
   "cell_type": "code",
   "execution_count": 16,
   "id": "528d8485",
   "metadata": {},
   "outputs": [],
   "source": [
    "df[\"Previous Owners\"]=o"
   ]
  },
  {
   "cell_type": "code",
   "execution_count": 17,
   "id": "04be28c3",
   "metadata": {},
   "outputs": [],
   "source": [
    "df[\"Previous Owners\"]=df[\"Previous Owners\"].astype(int)"
   ]
  },
  {
   "cell_type": "markdown",
   "id": "e4cfe15a",
   "metadata": {},
   "source": [
    "## Treating Price Column"
   ]
  },
  {
   "cell_type": "code",
   "execution_count": 18,
   "id": "52802852",
   "metadata": {},
   "outputs": [],
   "source": [
    "df['Price']=df['Price'].str.replace('₹','')"
   ]
  },
  {
   "cell_type": "code",
   "execution_count": 19,
   "id": "4dd40668",
   "metadata": {},
   "outputs": [],
   "source": [
    "df['Price']=df['Price'].str.replace(',','')"
   ]
  },
  {
   "cell_type": "code",
   "execution_count": 20,
   "id": "0bc4f98c",
   "metadata": {},
   "outputs": [],
   "source": [
    "df['Price']=df['Price'].str.replace(' ','')"
   ]
  },
  {
   "cell_type": "code",
   "execution_count": 21,
   "id": "20252348",
   "metadata": {},
   "outputs": [],
   "source": [
    "p=[]\n",
    "for i in range(len(df[\"Price\"])):\n",
    "    if df[\"Price\"].iloc[i].endswith(\"Lakh\"):\n",
    "        temp=df['Price'].iloc[i].replace('Lakh','')\n",
    "        temp=pd.to_numeric(temp)\n",
    "        p.append(temp*100000)\n",
    "    elif df[\"Price\"].iloc[i].endswith(\"Crore\"):\n",
    "        temp=df['Price'].iloc[i].replace('Crore','')\n",
    "        temp=pd.to_numeric(temp)\n",
    "        p.append(temp*1000000)\n",
    "    else:\n",
    "        p.append(df['Price'].iloc[i])"
   ]
  },
  {
   "cell_type": "code",
   "execution_count": 22,
   "id": "ec6967a8",
   "metadata": {},
   "outputs": [],
   "source": [
    "df.drop(columns={\"Price\"},inplace=True)"
   ]
  },
  {
   "cell_type": "code",
   "execution_count": 23,
   "id": "e185f49f",
   "metadata": {},
   "outputs": [],
   "source": [
    "df[\"Price\"]=p"
   ]
  },
  {
   "cell_type": "code",
   "execution_count": 24,
   "id": "ead15227",
   "metadata": {},
   "outputs": [],
   "source": [
    "df[\"Price\"]=df[\"Price\"].astype(int)"
   ]
  },
  {
   "cell_type": "code",
   "execution_count": 25,
   "id": "868e5765",
   "metadata": {},
   "outputs": [
    {
     "data": {
      "text/html": [
       "<div>\n",
       "<style scoped>\n",
       "    .dataframe tbody tr th:only-of-type {\n",
       "        vertical-align: middle;\n",
       "    }\n",
       "\n",
       "    .dataframe tbody tr th {\n",
       "        vertical-align: top;\n",
       "    }\n",
       "\n",
       "    .dataframe thead th {\n",
       "        text-align: right;\n",
       "    }\n",
       "</style>\n",
       "<table border=\"1\" class=\"dataframe\">\n",
       "  <thead>\n",
       "    <tr style=\"text-align: right;\">\n",
       "      <th></th>\n",
       "      <th>Car Name</th>\n",
       "      <th>Transmission</th>\n",
       "      <th>Fuel Type</th>\n",
       "      <th>Body Type</th>\n",
       "      <th>Kilometers Run</th>\n",
       "      <th>Previous Owners</th>\n",
       "      <th>Price</th>\n",
       "    </tr>\n",
       "  </thead>\n",
       "  <tbody>\n",
       "    <tr>\n",
       "      <th>0</th>\n",
       "      <td>2015 Maruti Wagon R</td>\n",
       "      <td>automatic</td>\n",
       "      <td>Petrol</td>\n",
       "      <td>Hatchback</td>\n",
       "      <td>61885</td>\n",
       "      <td>1</td>\n",
       "      <td>342000</td>\n",
       "    </tr>\n",
       "    <tr>\n",
       "      <th>1</th>\n",
       "      <td>2016 Maruti Wagon R</td>\n",
       "      <td>manual</td>\n",
       "      <td>CNG</td>\n",
       "      <td>Hatchback</td>\n",
       "      <td>70368</td>\n",
       "      <td>1</td>\n",
       "      <td>407500</td>\n",
       "    </tr>\n",
       "    <tr>\n",
       "      <th>2</th>\n",
       "      <td>2020 Toyota Glanza</td>\n",
       "      <td>manual</td>\n",
       "      <td>Petrol</td>\n",
       "      <td>Hatchback</td>\n",
       "      <td>12903</td>\n",
       "      <td>1</td>\n",
       "      <td>738000</td>\n",
       "    </tr>\n",
       "    <tr>\n",
       "      <th>3</th>\n",
       "      <td>2016 Maruti Celerio</td>\n",
       "      <td>automatic</td>\n",
       "      <td>Petrol</td>\n",
       "      <td>Hatchback</td>\n",
       "      <td>106690</td>\n",
       "      <td>1</td>\n",
       "      <td>369000</td>\n",
       "    </tr>\n",
       "    <tr>\n",
       "      <th>4</th>\n",
       "      <td>2018 Maruti Swift</td>\n",
       "      <td>manual</td>\n",
       "      <td>Petrol</td>\n",
       "      <td>Hatchback</td>\n",
       "      <td>37449</td>\n",
       "      <td>1</td>\n",
       "      <td>552000</td>\n",
       "    </tr>\n",
       "    <tr>\n",
       "      <th>...</th>\n",
       "      <td>...</td>\n",
       "      <td>...</td>\n",
       "      <td>...</td>\n",
       "      <td>...</td>\n",
       "      <td>...</td>\n",
       "      <td>...</td>\n",
       "      <td>...</td>\n",
       "    </tr>\n",
       "    <tr>\n",
       "      <th>6501</th>\n",
       "      <td>Audi A4 40 TFSI Premium Plus</td>\n",
       "      <td>Automatic</td>\n",
       "      <td>Petrol</td>\n",
       "      <td>Sedan</td>\n",
       "      <td>10000</td>\n",
       "      <td>2</td>\n",
       "      <td>3700000</td>\n",
       "    </tr>\n",
       "    <tr>\n",
       "      <th>6502</th>\n",
       "      <td>BMW 7 Series 730Ld Sedan</td>\n",
       "      <td>Automatic</td>\n",
       "      <td>Diesel</td>\n",
       "      <td>Sedan</td>\n",
       "      <td>97000</td>\n",
       "      <td>2</td>\n",
       "      <td>2300000</td>\n",
       "    </tr>\n",
       "    <tr>\n",
       "      <th>6503</th>\n",
       "      <td>Mercedes-Benz C-Class C 200 Avantgarde</td>\n",
       "      <td>Automatic</td>\n",
       "      <td>Petrol</td>\n",
       "      <td>Sedan</td>\n",
       "      <td>25000</td>\n",
       "      <td>2</td>\n",
       "      <td>2400000</td>\n",
       "    </tr>\n",
       "    <tr>\n",
       "      <th>6504</th>\n",
       "      <td>Mercedes-Benz C-Class 200 CGI</td>\n",
       "      <td>Automatic</td>\n",
       "      <td>Petrol</td>\n",
       "      <td>Sedan</td>\n",
       "      <td>70000</td>\n",
       "      <td>2</td>\n",
       "      <td>900000</td>\n",
       "    </tr>\n",
       "    <tr>\n",
       "      <th>6505</th>\n",
       "      <td>BMW 5 Series 530d M Sport [2013-2017]</td>\n",
       "      <td>Automatic</td>\n",
       "      <td>Diesel</td>\n",
       "      <td>Sedan</td>\n",
       "      <td>70000</td>\n",
       "      <td>2</td>\n",
       "      <td>1650000</td>\n",
       "    </tr>\n",
       "  </tbody>\n",
       "</table>\n",
       "<p>6468 rows × 7 columns</p>\n",
       "</div>"
      ],
      "text/plain": [
       "                                    Car Name Transmission Fuel Type  \\\n",
       "0                        2015 Maruti Wagon R    automatic    Petrol   \n",
       "1                        2016 Maruti Wagon R       manual       CNG   \n",
       "2                         2020 Toyota Glanza       manual    Petrol   \n",
       "3                        2016 Maruti Celerio    automatic    Petrol   \n",
       "4                          2018 Maruti Swift       manual    Petrol   \n",
       "...                                      ...          ...       ...   \n",
       "6501            Audi A4 40 TFSI Premium Plus    Automatic    Petrol   \n",
       "6502                BMW 7 Series 730Ld Sedan    Automatic    Diesel   \n",
       "6503  Mercedes-Benz C-Class C 200 Avantgarde    Automatic    Petrol   \n",
       "6504           Mercedes-Benz C-Class 200 CGI    Automatic    Petrol   \n",
       "6505   BMW 5 Series 530d M Sport [2013-2017]    Automatic    Diesel   \n",
       "\n",
       "      Body Type  Kilometers Run  Previous Owners    Price  \n",
       "0     Hatchback           61885                1   342000  \n",
       "1     Hatchback           70368                1   407500  \n",
       "2     Hatchback           12903                1   738000  \n",
       "3     Hatchback          106690                1   369000  \n",
       "4     Hatchback           37449                1   552000  \n",
       "...         ...             ...              ...      ...  \n",
       "6501      Sedan           10000                2  3700000  \n",
       "6502      Sedan           97000                2  2300000  \n",
       "6503      Sedan           25000                2  2400000  \n",
       "6504      Sedan           70000                2   900000  \n",
       "6505      Sedan           70000                2  1650000  \n",
       "\n",
       "[6468 rows x 7 columns]"
      ]
     },
     "execution_count": 25,
     "metadata": {},
     "output_type": "execute_result"
    }
   ],
   "source": [
    "df"
   ]
  },
  {
   "cell_type": "markdown",
   "id": "3737efa1",
   "metadata": {},
   "source": [
    "## Treating Fuel Type"
   ]
  },
  {
   "cell_type": "code",
   "execution_count": 26,
   "id": "c60f2ee9",
   "metadata": {},
   "outputs": [],
   "source": [
    "df['Fuel Type']=df['Fuel Type'].str.replace('+',',')"
   ]
  },
  {
   "cell_type": "code",
   "execution_count": 27,
   "id": "5ff6c487",
   "metadata": {},
   "outputs": [],
   "source": [
    "df['Fuel Type']=df['Fuel Type'].str.replace('[0-9]','')"
   ]
  },
  {
   "cell_type": "code",
   "execution_count": 28,
   "id": "219e906e",
   "metadata": {},
   "outputs": [],
   "source": [
    "df['Fuel Type']=df['Fuel Type'].str.replace(' ','')"
   ]
  },
  {
   "cell_type": "code",
   "execution_count": 29,
   "id": "39e4a05a",
   "metadata": {},
   "outputs": [],
   "source": [
    "for i in range(len(df[\"Fuel Type\"])):\n",
    "    if df[\"Fuel Type\"].iloc[i].endswith(\",\"):\n",
    "        df['Fuel Type'].iloc[i]=df['Fuel Type'].iloc[i].replace(',','')"
   ]
  },
  {
   "cell_type": "code",
   "execution_count": 30,
   "id": "74af347c",
   "metadata": {},
   "outputs": [
    {
     "name": "stdout",
     "output_type": "stream",
     "text": [
      "Car Name ['2015 Maruti Wagon R' '2016 Maruti Wagon R' '2020 Toyota Glanza' ...\n",
      " 'BMW 3 Series 330i Sport Line' 'BMW 5 Series 530d M Sport [2017-2019]'\n",
      " 'Audi A4 40 TFSI Premium Plus']\n",
      "**********************************************************************\n",
      "Transmission ['automatic' 'manual' 'Manual' 'Automatic' 'Aautomatic']\n",
      "**********************************************************************\n",
      "Fuel Type ['Petrol' 'CNG' 'Diesel' 'LPG' 'Petrol,CNG' 'Electric' 'Hybrid']\n",
      "**********************************************************************\n",
      "Body Type ['Hatchback' 'Sedan' 'SUV' 'Minivan' 'MUV' 'luxary' 'Luxary Sedan'\n",
      " 'Luxary SUV' 'Coupe']\n",
      "**********************************************************************\n"
     ]
    }
   ],
   "source": [
    "catagory=[]\n",
    "catagory=df.select_dtypes(include=\"object\").columns\n",
    "for i in catagory:\n",
    "    print(i,df[i].unique())\n",
    "    print(\"**********************************************************************\")"
   ]
  },
  {
   "cell_type": "markdown",
   "id": "3a303de6",
   "metadata": {},
   "source": [
    "## Treating Transmission"
   ]
  },
  {
   "cell_type": "code",
   "execution_count": 31,
   "id": "d083cf44",
   "metadata": {},
   "outputs": [],
   "source": [
    "for i in range(len(df[\"Transmission\"])):\n",
    "    if df[\"Transmission\"].iloc[i] in [\"automatic\",\"Automatic\",\"Aautomatic\"]:\n",
    "        df['Transmission'].iloc[i]=df['Transmission'].iloc[i].replace(df['Transmission'].iloc[i],'Automatic')"
   ]
  },
  {
   "cell_type": "code",
   "execution_count": 32,
   "id": "a4b1be34",
   "metadata": {},
   "outputs": [],
   "source": [
    "for i in range(len(df[\"Transmission\"])):\n",
    "    if df[\"Transmission\"].iloc[i] in [\"manual\",\"Manual\"]:\n",
    "        df['Transmission'].iloc[i]=df['Transmission'].iloc[i].replace(df['Transmission'].iloc[i],'Manual')"
   ]
  },
  {
   "cell_type": "code",
   "execution_count": 33,
   "id": "d451f4f1",
   "metadata": {},
   "outputs": [
    {
     "name": "stdout",
     "output_type": "stream",
     "text": [
      "Car Name ['2015 Maruti Wagon R' '2016 Maruti Wagon R' '2020 Toyota Glanza' ...\n",
      " 'BMW 3 Series 330i Sport Line' 'BMW 5 Series 530d M Sport [2017-2019]'\n",
      " 'Audi A4 40 TFSI Premium Plus']\n",
      "**********************************************************************\n",
      "Transmission ['Automatic' 'Manual']\n",
      "**********************************************************************\n",
      "Fuel Type ['Petrol' 'CNG' 'Diesel' 'LPG' 'Petrol,CNG' 'Electric' 'Hybrid']\n",
      "**********************************************************************\n",
      "Body Type ['Hatchback' 'Sedan' 'SUV' 'Minivan' 'MUV' 'luxary' 'Luxary Sedan'\n",
      " 'Luxary SUV' 'Coupe']\n",
      "**********************************************************************\n"
     ]
    }
   ],
   "source": [
    "catagory=[]\n",
    "catagory=df.select_dtypes(include=\"object\").columns\n",
    "for i in catagory:\n",
    "    print(i,df[i].unique())\n",
    "    print(\"**********************************************************************\")"
   ]
  },
  {
   "cell_type": "markdown",
   "id": "660029ee",
   "metadata": {},
   "source": [
    "we are dropping the Car Name column as it does not hepl in our model building"
   ]
  },
  {
   "cell_type": "code",
   "execution_count": 34,
   "id": "3146d9ab",
   "metadata": {},
   "outputs": [],
   "source": [
    "df.drop(columns={\"Car Name\"},inplace=True)"
   ]
  },
  {
   "cell_type": "markdown",
   "id": "826d44e6",
   "metadata": {},
   "source": [
    "# We have successfully cleaned our data"
   ]
  },
  {
   "cell_type": "code",
   "execution_count": 35,
   "id": "e5112869",
   "metadata": {
    "scrolled": true
   },
   "outputs": [
    {
     "data": {
      "text/html": [
       "<div>\n",
       "<style scoped>\n",
       "    .dataframe tbody tr th:only-of-type {\n",
       "        vertical-align: middle;\n",
       "    }\n",
       "\n",
       "    .dataframe tbody tr th {\n",
       "        vertical-align: top;\n",
       "    }\n",
       "\n",
       "    .dataframe thead th {\n",
       "        text-align: right;\n",
       "    }\n",
       "</style>\n",
       "<table border=\"1\" class=\"dataframe\">\n",
       "  <thead>\n",
       "    <tr style=\"text-align: right;\">\n",
       "      <th></th>\n",
       "      <th>Transmission</th>\n",
       "      <th>Fuel Type</th>\n",
       "      <th>Body Type</th>\n",
       "      <th>Kilometers Run</th>\n",
       "      <th>Previous Owners</th>\n",
       "      <th>Price</th>\n",
       "    </tr>\n",
       "  </thead>\n",
       "  <tbody>\n",
       "    <tr>\n",
       "      <th>0</th>\n",
       "      <td>Automatic</td>\n",
       "      <td>Petrol</td>\n",
       "      <td>Hatchback</td>\n",
       "      <td>61885</td>\n",
       "      <td>1</td>\n",
       "      <td>342000</td>\n",
       "    </tr>\n",
       "    <tr>\n",
       "      <th>1</th>\n",
       "      <td>Manual</td>\n",
       "      <td>CNG</td>\n",
       "      <td>Hatchback</td>\n",
       "      <td>70368</td>\n",
       "      <td>1</td>\n",
       "      <td>407500</td>\n",
       "    </tr>\n",
       "    <tr>\n",
       "      <th>2</th>\n",
       "      <td>Manual</td>\n",
       "      <td>Petrol</td>\n",
       "      <td>Hatchback</td>\n",
       "      <td>12903</td>\n",
       "      <td>1</td>\n",
       "      <td>738000</td>\n",
       "    </tr>\n",
       "    <tr>\n",
       "      <th>3</th>\n",
       "      <td>Automatic</td>\n",
       "      <td>Petrol</td>\n",
       "      <td>Hatchback</td>\n",
       "      <td>106690</td>\n",
       "      <td>1</td>\n",
       "      <td>369000</td>\n",
       "    </tr>\n",
       "    <tr>\n",
       "      <th>4</th>\n",
       "      <td>Manual</td>\n",
       "      <td>Petrol</td>\n",
       "      <td>Hatchback</td>\n",
       "      <td>37449</td>\n",
       "      <td>1</td>\n",
       "      <td>552000</td>\n",
       "    </tr>\n",
       "  </tbody>\n",
       "</table>\n",
       "</div>"
      ],
      "text/plain": [
       "  Transmission Fuel Type  Body Type  Kilometers Run  Previous Owners   Price\n",
       "0    Automatic    Petrol  Hatchback           61885                1  342000\n",
       "1       Manual       CNG  Hatchback           70368                1  407500\n",
       "2       Manual    Petrol  Hatchback           12903                1  738000\n",
       "3    Automatic    Petrol  Hatchback          106690                1  369000\n",
       "4       Manual    Petrol  Hatchback           37449                1  552000"
      ]
     },
     "execution_count": 35,
     "metadata": {},
     "output_type": "execute_result"
    }
   ],
   "source": [
    "df.head()"
   ]
  },
  {
   "cell_type": "markdown",
   "id": "5c7bac60",
   "metadata": {},
   "source": [
    "# EDA"
   ]
  },
  {
   "cell_type": "markdown",
   "id": "27e38854",
   "metadata": {},
   "source": [
    "### Seperating the numerical and categorical column"
   ]
  },
  {
   "cell_type": "code",
   "execution_count": 36,
   "id": "860e9c35",
   "metadata": {},
   "outputs": [],
   "source": [
    "numerical=df.select_dtypes(include=\"int\").columns"
   ]
  },
  {
   "cell_type": "code",
   "execution_count": 37,
   "id": "3945dfce",
   "metadata": {},
   "outputs": [
    {
     "data": {
      "text/plain": [
       "Index(['Kilometers Run', 'Previous Owners', 'Price'], dtype='object')"
      ]
     },
     "execution_count": 37,
     "metadata": {},
     "output_type": "execute_result"
    }
   ],
   "source": [
    "numerical"
   ]
  },
  {
   "cell_type": "code",
   "execution_count": 38,
   "id": "8e9df4f3",
   "metadata": {},
   "outputs": [],
   "source": [
    "catagory=df.select_dtypes(include=\"object\").columns"
   ]
  },
  {
   "cell_type": "code",
   "execution_count": 39,
   "id": "1a4ecc9d",
   "metadata": {},
   "outputs": [
    {
     "data": {
      "text/plain": [
       "Index(['Transmission', 'Fuel Type', 'Body Type'], dtype='object')"
      ]
     },
     "execution_count": 39,
     "metadata": {},
     "output_type": "execute_result"
    }
   ],
   "source": [
    "catagory"
   ]
  },
  {
   "cell_type": "markdown",
   "id": "a971b939",
   "metadata": {},
   "source": [
    "## CatPlot For Catagorical Data"
   ]
  },
  {
   "cell_type": "code",
   "execution_count": 40,
   "id": "0c635d72",
   "metadata": {},
   "outputs": [
    {
     "data": {
      "text/plain": [
       "<seaborn.axisgrid.FacetGrid at 0x1a7e260dc40>"
      ]
     },
     "execution_count": 40,
     "metadata": {},
     "output_type": "execute_result"
    },
    {
     "data": {
      "image/png": "[encoded data removed]",
      "text/plain": [
       "<Figure size 1152x576 with 1 Axes>"
      ]
     },
     "metadata": {
      "needs_background": "light"
     },
     "output_type": "display_data"
    }
   ],
   "source": [
    "a=sn.catplot(y=\"Price\",x=\"Transmission\",data=df.sort_values(\"Price\",ascending=False),kind=\"boxen\", height = 8, aspect = 2)\n",
    "a.set_xticklabels(rotation=30)"
   ]
  },
  {
   "cell_type": "markdown",
   "id": "647f1544",
   "metadata": {},
   "source": [
    "We can see that Automatic Transmission has overall higher Price Than the Manual Transmission"
   ]
  },
  {
   "cell_type": "code",
   "execution_count": 41,
   "id": "0837dfe8",
   "metadata": {},
   "outputs": [
    {
     "data": {
      "text/plain": [
       "<seaborn.axisgrid.FacetGrid at 0x1a7e2406ac0>"
      ]
     },
     "execution_count": 41,
     "metadata": {},
     "output_type": "execute_result"
    },
    {
     "data": {
      "image/png": "[encoded data removed]",
      "text/plain": [
       "<Figure size 1152x576 with 1 Axes>"
      ]
     },
     "metadata": {
      "needs_background": "light"
     },
     "output_type": "display_data"
    }
   ],
   "source": [
    "a=sn.catplot(y=\"Price\",x=\"Fuel Type\",data=df.sort_values(\"Price\",ascending=False),kind=\"boxen\", height = 8, aspect = 2)\n",
    "a.set_xticklabels(rotation=30)"
   ]
  },
  {
   "cell_type": "markdown",
   "id": "94377a5a",
   "metadata": {},
   "source": [
    "From Here We can conclude that most of the cars runs on Either Diesel or Petrol and Diesel cars tend to have a higher price than the Petrol"
   ]
  },
  {
   "cell_type": "code",
   "execution_count": 42,
   "id": "0e230b9a",
   "metadata": {},
   "outputs": [
    {
     "data": {
      "text/plain": [
       "<seaborn.axisgrid.FacetGrid at 0x1a7e2f95eb0>"
      ]
     },
     "execution_count": 42,
     "metadata": {},
     "output_type": "execute_result"
    },
    {
     "data": {
      "image/png": "[encoded data removed]",
      "text/plain": [
       "<Figure size 1152x576 with 1 Axes>"
      ]
     },
     "metadata": {
      "needs_background": "light"
     },
     "output_type": "display_data"
    }
   ],
   "source": [
    "a=sn.catplot(y=\"Price\",x=\"Body Type\",data=df.sort_values(\"Price\",ascending=False),kind=\"boxen\", height = 8, aspect = 2)\n",
    "a.set_xticklabels(rotation=30)"
   ]
  },
  {
   "cell_type": "markdown",
   "id": "483868b7",
   "metadata": {},
   "source": [
    "Coupe and Luxary vehicles have a consistent price and SUV Sedan and Coupe has the hiest price among all"
   ]
  },
  {
   "cell_type": "markdown",
   "id": "0ec7667a",
   "metadata": {},
   "source": [
    "# Distplot"
   ]
  },
  {
   "cell_type": "code",
   "execution_count": 44,
   "id": "b5a23a6c",
   "metadata": {},
   "outputs": [
    {
     "data": {
      "image/png": "[encoded data removed]",
      "text/plain": [
       "<Figure size 360x360 with 1 Axes>"
      ]
     },
     "metadata": {
      "needs_background": "light"
     },
     "output_type": "display_data"
    },
    {
     "data": {
      "image/png": "[encoded data removed]",
      "text/plain": [
       "<Figure size 360x360 with 1 Axes>"
      ]
     },
     "metadata": {
      "needs_background": "light"
     },
     "output_type": "display_data"
    },
    {
     "data": {
      "image/png": "[encoded data removed]",
      "text/plain": [
       "<Figure size 360x360 with 1 Axes>"
      ]
     },
     "metadata": {
      "needs_background": "light"
     },
     "output_type": "display_data"
    }
   ],
   "source": [
    "for column in numerical:\n",
    "        plt.figure(figsize=(5,5))\n",
    "        sn.distplot(df[column])"
   ]
  },
  {
   "cell_type": "markdown",
   "id": "77e16bfa",
   "metadata": {},
   "source": [
    "We can see that Kilometers and Price is right skewed which we will handle later."
   ]
  },
  {
   "cell_type": "markdown",
   "id": "44812642",
   "metadata": {},
   "source": [
    "# Boxplot"
   ]
  },
  {
   "cell_type": "code",
   "execution_count": 45,
   "id": "dad37ce6",
   "metadata": {
    "scrolled": true
   },
   "outputs": [
    {
     "data": {
      "image/png": "[encoded data removed]",
      "text/plain": [
       "<Figure size 576x288 with 1 Axes>"
      ]
     },
     "metadata": {
      "needs_background": "light"
     },
     "output_type": "display_data"
    },
    {
     "data": {
      "image/png": "[encoded data removed]",
      "text/plain": [
       "<Figure size 576x288 with 1 Axes>"
      ]
     },
     "metadata": {
      "needs_background": "light"
     },
     "output_type": "display_data"
    },
    {
     "data": {
      "image/png": "[encoded data removed]",
      "text/plain": [
       "<Figure size 576x288 with 1 Axes>"
      ]
     },
     "metadata": {
      "needs_background": "light"
     },
     "output_type": "display_data"
    }
   ],
   "source": [
    "for column in numerical:\n",
    "        plt.figure(figsize=(8,4))\n",
    "        sn.boxplot(x=column,data=df)"
   ]
  },
  {
   "cell_type": "markdown",
   "id": "b5612012",
   "metadata": {},
   "source": [
    "We can see that Kilometers and Price has many outliers."
   ]
  },
  {
   "cell_type": "markdown",
   "id": "5c2cbb57",
   "metadata": {},
   "source": [
    "# Encoding"
   ]
  },
  {
   "cell_type": "code",
   "execution_count": 47,
   "id": "652ff62d",
   "metadata": {},
   "outputs": [],
   "source": [
    "from sklearn.preprocessing import LabelEncoder"
   ]
  },
  {
   "cell_type": "code",
   "execution_count": 48,
   "id": "d3407a27",
   "metadata": {},
   "outputs": [],
   "source": [
    "le = LabelEncoder()\n",
    "\n",
    "for i in catagory:\n",
    "    df[i] = le.fit_transform(df[i].astype(str))"
   ]
  },
  {
   "cell_type": "markdown",
   "id": "7da5bc5a",
   "metadata": {},
   "source": [
    "# Histogram"
   ]
  },
  {
   "cell_type": "code",
   "execution_count": 51,
   "id": "28cd4a97",
   "metadata": {},
   "outputs": [
    {
     "data": {
      "text/plain": [
       "array([[<AxesSubplot:title={'center':'Transmission'}>,\n",
       "        <AxesSubplot:title={'center':'Fuel Type'}>],\n",
       "       [<AxesSubplot:title={'center':'Body Type'}>,\n",
       "        <AxesSubplot:title={'center':'Kilometers Run'}>],\n",
       "       [<AxesSubplot:title={'center':'Previous Owners'}>,\n",
       "        <AxesSubplot:title={'center':'Price'}>]], dtype=object)"
      ]
     },
     "execution_count": 51,
     "metadata": {},
     "output_type": "execute_result"
    },
    {
     "data": {
      "image/png": "[encoded data removed]",
      "text/plain": [
       "<Figure size 1440x1080 with 6 Axes>"
      ]
     },
     "metadata": {
      "needs_background": "light"
     },
     "output_type": "display_data"
    }
   ],
   "source": [
    "df.hist(bins=50,figsize=(20,15))"
   ]
  },
  {
   "cell_type": "code",
   "execution_count": 54,
   "id": "9eced1d1",
   "metadata": {},
   "outputs": [
    {
     "data": {
      "text/plain": [
       "<seaborn.axisgrid.PairGrid at 0x1a7ef6b3af0>"
      ]
     },
     "execution_count": 54,
     "metadata": {},
     "output_type": "execute_result"
    },
    {
     "data": {
      "image/png": "[encoded data removed]",
      "text/plain": [
       "<Figure size 1080x1080 with 42 Axes>"
      ]
     },
     "metadata": {
      "needs_background": "light"
     },
     "output_type": "display_data"
    }
   ],
   "source": [
    "sn.pairplot(df)"
   ]
  },
  {
   "cell_type": "code",
   "execution_count": 59,
   "id": "a4d459e8",
   "metadata": {},
   "outputs": [
    {
     "data": {
      "text/plain": [
       "<AxesSubplot:>"
      ]
     },
     "execution_count": 59,
     "metadata": {},
     "output_type": "execute_result"
    },
    {
     "data": {
      "image/png": "[encoded data removed]",
      "text/plain": [
       "<Figure size 720x576 with 2 Axes>"
      ]
     },
     "metadata": {
      "needs_background": "light"
     },
     "output_type": "display_data"
    }
   ],
   "source": [
    "plt.figure(figsize=(10,8))\n",
    "sn.heatmap(df.corr(),linewidths=.1,cmap=\"coolwarm\", annot=True)"
   ]
  },
  {
   "cell_type": "markdown",
   "id": "25c5baca",
   "metadata": {},
   "source": [
    "Transmission has a high negetive correlation with Price"
   ]
  },
  {
   "cell_type": "markdown",
   "id": "81a250fe",
   "metadata": {},
   "source": [
    "# Removing Outliers"
   ]
  },
  {
   "cell_type": "code",
   "execution_count": 60,
   "id": "e887d944",
   "metadata": {},
   "outputs": [],
   "source": [
    "from scipy.stats import zscore"
   ]
  },
  {
   "cell_type": "code",
   "execution_count": 63,
   "id": "df35711b",
   "metadata": {},
   "outputs": [],
   "source": [
    "z=np.abs(zscore(df))\n",
    "df=df[(z<3).all(axis=1)]"
   ]
  },
  {
   "cell_type": "code",
   "execution_count": 65,
   "id": "45f5c7ee",
   "metadata": {},
   "outputs": [
    {
     "data": {
      "text/plain": [
       "(6266, 6)"
      ]
     },
     "execution_count": 65,
     "metadata": {},
     "output_type": "execute_result"
    }
   ],
   "source": [
    "df.shape"
   ]
  },
  {
   "cell_type": "markdown",
   "id": "7ffce6ca",
   "metadata": {},
   "source": [
    "# Skewness Removal"
   ]
  },
  {
   "cell_type": "code",
   "execution_count": 66,
   "id": "9218e55f",
   "metadata": {},
   "outputs": [
    {
     "data": {
      "text/plain": [
       "Transmission      -0.682029\n",
       "Fuel Type         -0.127240\n",
       "Body Type         -0.427204\n",
       "Kilometers Run     1.309334\n",
       "Previous Owners    0.526211\n",
       "Price              2.256921\n",
       "dtype: float64"
      ]
     },
     "execution_count": 66,
     "metadata": {},
     "output_type": "execute_result"
    }
   ],
   "source": [
    "df.skew()"
   ]
  },
  {
   "cell_type": "code",
   "execution_count": 68,
   "id": "0c52d722",
   "metadata": {},
   "outputs": [],
   "source": [
    "from scipy.stats import boxcox"
   ]
  },
  {
   "cell_type": "markdown",
   "id": "a5498d08",
   "metadata": {},
   "source": [
    "### Kilometers Run"
   ]
  },
  {
   "cell_type": "code",
   "execution_count": 73,
   "id": "5ad16328",
   "metadata": {},
   "outputs": [
    {
     "data": {
      "text/plain": [
       "0.013217632716092926"
      ]
     },
     "execution_count": 73,
     "metadata": {},
     "output_type": "execute_result"
    }
   ],
   "source": [
    "k=boxcox(df[\"Kilometers Run\"])[0]\n",
    "pd.Series(k).skew()"
   ]
  },
  {
   "cell_type": "code",
   "execution_count": 74,
   "id": "76572d77",
   "metadata": {},
   "outputs": [],
   "source": [
    "df[\"Kilometers Run\"]=k"
   ]
  },
  {
   "cell_type": "markdown",
   "id": "260a50c1",
   "metadata": {},
   "source": [
    "### Price"
   ]
  },
  {
   "cell_type": "code",
   "execution_count": 75,
   "id": "8124150f",
   "metadata": {},
   "outputs": [
    {
     "data": {
      "text/plain": [
       "-0.01101032824264524"
      ]
     },
     "execution_count": 75,
     "metadata": {},
     "output_type": "execute_result"
    }
   ],
   "source": [
    "p=boxcox(df[\"Price\"])[0]\n",
    "pd.Series(p).skew()"
   ]
  },
  {
   "cell_type": "code",
   "execution_count": 76,
   "id": "67baa61c",
   "metadata": {},
   "outputs": [],
   "source": [
    "df[\"Price\"]=p"
   ]
  },
  {
   "cell_type": "markdown",
   "id": "d7869fc4",
   "metadata": {},
   "source": [
    "# Input Splitting"
   ]
  },
  {
   "cell_type": "code",
   "execution_count": 77,
   "id": "f354870d",
   "metadata": {},
   "outputs": [],
   "source": [
    "x=df.drop([\"Price\"],axis=1)"
   ]
  },
  {
   "cell_type": "code",
   "execution_count": 78,
   "id": "1b10e1c1",
   "metadata": {},
   "outputs": [],
   "source": [
    "y=df[\"Price\"]"
   ]
  },
  {
   "cell_type": "markdown",
   "id": "33a4dc22",
   "metadata": {},
   "source": [
    "# Finding The Best Model"
   ]
  },
  {
   "cell_type": "code",
   "execution_count": 79,
   "id": "b46ddd3c",
   "metadata": {},
   "outputs": [],
   "source": [
    "from sklearn.linear_model import LinearRegression\n",
    "from sklearn.tree import DecisionTreeRegressor\n",
    "from sklearn.linear_model import Ridge\n",
    "from sklearn.linear_model import Lasso\n",
    "from sklearn.ensemble import RandomForestRegressor\n",
    "from xgboost import XGBRegressor\n",
    "from sklearn.neighbors import KNeighborsRegressor\n",
    "from sklearn.metrics import classification_report\n",
    "from sklearn import preprocessing"
   ]
  },
  {
   "cell_type": "code",
   "execution_count": 84,
   "id": "17f24365",
   "metadata": {},
   "outputs": [],
   "source": [
    "X_train,X_test,Y_train,Y_test=train_test_split(x,y,train_size=0.20,random_state=7)"
   ]
  },
  {
   "cell_type": "code",
   "execution_count": 85,
   "id": "8de7ed8c",
   "metadata": {},
   "outputs": [],
   "source": [
    "#regress function\n",
    "from sklearn.model_selection import cross_val_score,train_test_split\n",
    "def regress(model,x,y):\n",
    "    \n",
    "    #train the model\n",
    "    model.fit(X_train,Y_train)\n",
    "    ac=model.score(X_test,Y_test)*100\n",
    "    print(\"R2:\",ac)\n",
    "    \n",
    "    #cross validation\n",
    "    score=cross_val_score(model,x,y,cv=5)\n",
    "    cv=np.mean(score)*100\n",
    "    print(\"CV Score:\",cv)\n",
    "    \n",
    "    #diffrence between them\n",
    "    print(\"Diffrence:\",abs(ac-cv))"
   ]
  },
  {
   "cell_type": "code",
   "execution_count": 86,
   "id": "7e65ab09",
   "metadata": {},
   "outputs": [
    {
     "name": "stdout",
     "output_type": "stream",
     "text": [
      "R2: 56.19229261051502\n",
      "CV Score: 45.84958829804607\n",
      "Diffrence: 10.342704312468946\n"
     ]
    }
   ],
   "source": [
    "LR=LinearRegression()\n",
    "regress(LR,x,y)"
   ]
  },
  {
   "cell_type": "code",
   "execution_count": 87,
   "id": "d5613b25",
   "metadata": {},
   "outputs": [
    {
     "name": "stdout",
     "output_type": "stream",
     "text": [
      "R2: 37.31856341520915\n",
      "CV Score: 27.240007994491798\n",
      "Diffrence: 10.07855542071735\n"
     ]
    }
   ],
   "source": [
    "DTR = DecisionTreeRegressor()\n",
    "regress(DTR,x,y)"
   ]
  },
  {
   "cell_type": "code",
   "execution_count": 88,
   "id": "6ca19095",
   "metadata": {},
   "outputs": [
    {
     "name": "stdout",
     "output_type": "stream",
     "text": [
      "R2: 56.18635798506186\n",
      "CV Score: 45.853948384783\n",
      "Diffrence: 10.332409600278858\n"
     ]
    }
   ],
   "source": [
    "RDG=Ridge()\n",
    "regress(RDG,x,y)"
   ]
  },
  {
   "cell_type": "code",
   "execution_count": 89,
   "id": "9b7bf8f4",
   "metadata": {},
   "outputs": [
    {
     "name": "stdout",
     "output_type": "stream",
     "text": [
      "R2: 4.0324965357741105\n",
      "CV Score: -14.463301217767368\n",
      "Diffrence: 18.495797753541478\n"
     ]
    }
   ],
   "source": [
    "LSO=Lasso()\n",
    "regress(LSO,x,y)"
   ]
  },
  {
   "cell_type": "code",
   "execution_count": 90,
   "id": "726569ff",
   "metadata": {},
   "outputs": [
    {
     "name": "stdout",
     "output_type": "stream",
     "text": [
      "R2: 57.094825771694026\n",
      "CV Score: 43.68630878100647\n",
      "Diffrence: 13.40851699068756\n"
     ]
    }
   ],
   "source": [
    "RFR=RandomForestRegressor()\n",
    "regress(RFR,x,y)"
   ]
  },
  {
   "cell_type": "code",
   "execution_count": 91,
   "id": "9256a711",
   "metadata": {},
   "outputs": [
    {
     "name": "stdout",
     "output_type": "stream",
     "text": [
      "R2: 20.531292684030234\n",
      "CV Score: 16.931336981720793\n",
      "Diffrence: 3.5999557023094404\n"
     ]
    }
   ],
   "source": [
    "KNR=KNeighborsRegressor()\n",
    "regress(KNR,x,y)"
   ]
  },
  {
   "cell_type": "code",
   "execution_count": 92,
   "id": "746b0d1e",
   "metadata": {},
   "outputs": [
    {
     "name": "stdout",
     "output_type": "stream",
     "text": [
      "R2: 57.35404298294235\n",
      "CV Score: 51.95196644657678\n",
      "Diffrence: 5.40207653636557\n"
     ]
    }
   ],
   "source": [
    "XGB=XGBRegressor()\n",
    "regress(XGB,x,y)"
   ]
  },
  {
   "cell_type": "markdown",
   "id": "b4b9aeab",
   "metadata": {},
   "source": [
    "XGBRegressor is our best model"
   ]
  },
  {
   "cell_type": "markdown",
   "id": "8baaa6ea",
   "metadata": {},
   "source": [
    "# Hyper Parameter Tuning¶"
   ]
  },
  {
   "cell_type": "code",
   "execution_count": 93,
   "id": "7e54b799",
   "metadata": {},
   "outputs": [
    {
     "data": {
      "text/plain": [
       "{'objective': 'reg:squarederror',\n",
       " 'base_score': 0.5,\n",
       " 'booster': 'gbtree',\n",
       " 'colsample_bylevel': 1,\n",
       " 'colsample_bynode': 1,\n",
       " 'colsample_bytree': 1,\n",
       " 'enable_categorical': False,\n",
       " 'gamma': 0,\n",
       " 'gpu_id': -1,\n",
       " 'importance_type': None,\n",
       " 'interaction_constraints': '',\n",
       " 'learning_rate': 0.300000012,\n",
       " 'max_delta_step': 0,\n",
       " 'max_depth': 6,\n",
       " 'min_child_weight': 1,\n",
       " 'missing': nan,\n",
       " 'monotone_constraints': '()',\n",
       " 'n_estimators': 100,\n",
       " 'n_jobs': 12,\n",
       " 'num_parallel_tree': 1,\n",
       " 'predictor': 'auto',\n",
       " 'random_state': 0,\n",
       " 'reg_alpha': 0,\n",
       " 'reg_lambda': 1,\n",
       " 'scale_pos_weight': 1,\n",
       " 'subsample': 1,\n",
       " 'tree_method': 'exact',\n",
       " 'validate_parameters': 1,\n",
       " 'verbosity': None}"
      ]
     },
     "execution_count": 93,
     "metadata": {},
     "output_type": "execute_result"
    }
   ],
   "source": [
    "XGB.get_params()"
   ]
  },
  {
   "cell_type": "code",
   "execution_count": 102,
   "id": "9cad3837",
   "metadata": {},
   "outputs": [],
   "source": [
    "params = {  'max_depth':[2,4,6],\n",
    "    'min_child_weight': [1,2,3],\n",
    "    'eta':[.1,.2,.3],\n",
    "    'subsample': [1,2,3],\n",
    "    'colsample_bytree': [1,2,3],\n",
    "    'objective':['reg:squarederror','binary:logistic','multi:softmax']}"
   ]
  },
  {
   "cell_type": "code",
   "execution_count": 103,
   "id": "459a7cc4",
   "metadata": {},
   "outputs": [],
   "source": [
    "from sklearn.model_selection import GridSearchCV"
   ]
  },
  {
   "cell_type": "code",
   "execution_count": 104,
   "id": "3c62a8b7",
   "metadata": {},
   "outputs": [],
   "source": [
    "gs = GridSearchCV(XGB, params, verbose = 1, cv=3, n_jobs = -1)"
   ]
  },
  {
   "cell_type": "code",
   "execution_count": 105,
   "id": "b6042ffd",
   "metadata": {},
   "outputs": [
    {
     "name": "stdout",
     "output_type": "stream",
     "text": [
      "Fitting 3 folds for each of 729 candidates, totalling 2187 fits\n"
     ]
    },
    {
     "data": {
      "text/plain": [
       "GridSearchCV(cv=3,\n",
       "             estimator=XGBRegressor(base_score=0.5, booster='gbtree',\n",
       "                                    colsample_bylevel=1, colsample_bynode=1,\n",
       "                                    colsample_bytree=1,\n",
       "                                    enable_categorical=False, eta=0.1, gamma=0,\n",
       "                                    gpu_id=-1, importance_type=None,\n",
       "                                    interaction_constraints='',\n",
       "                                    learning_rate=0.100000001, max_delta_step=0,\n",
       "                                    max_depth=2, min_child_weight=2,\n",
       "                                    missing=nan, monotone_constraints='()',\n",
       "                                    n_estima...\n",
       "                                    predictor='auto', random_state=0,\n",
       "                                    reg_alpha=0, reg_lambda=1,\n",
       "                                    scale_pos_weight=1, subsample=1,\n",
       "                                    tree_method='exact', validate_parameters=1,\n",
       "                                    verbosity=None),\n",
       "             n_jobs=-1,\n",
       "             param_grid={'colsample_bytree': [1, 2, 3], 'eta': [0.1, 0.2, 0.3],\n",
       "                         'max_depth': [2, 4, 6], 'min_child_weight': [1, 2, 3],\n",
       "                         'objective': ['reg:squarederror', 'binary:logistic',\n",
       "                                       'multi:softmax'],\n",
       "                         'subsample': [1, 2, 3]},\n",
       "             verbose=1)"
      ]
     },
     "execution_count": 105,
     "metadata": {},
     "output_type": "execute_result"
    }
   ],
   "source": [
    "X_train,X_test,Y_train,Y_test=train_test_split(x,y,train_size=0.25,random_state=7)\n",
    "gs.fit(X_train, Y_train)"
   ]
  },
  {
   "cell_type": "code",
   "execution_count": 106,
   "id": "9c2ee617",
   "metadata": {},
   "outputs": [
    {
     "data": {
      "text/plain": [
       "{'colsample_bytree': 1,\n",
       " 'eta': 0.1,\n",
       " 'max_depth': 2,\n",
       " 'min_child_weight': 3,\n",
       " 'objective': 'reg:squarederror',\n",
       " 'subsample': 1}"
      ]
     },
     "execution_count": 106,
     "metadata": {},
     "output_type": "execute_result"
    }
   ],
   "source": [
    "gs.best_params_"
   ]
  },
  {
   "cell_type": "markdown",
   "id": "d182ca41",
   "metadata": {},
   "source": [
    "# Checking Accuracy Score"
   ]
  },
  {
   "cell_type": "code",
   "execution_count": 107,
   "id": "2f0a3eb0",
   "metadata": {},
   "outputs": [],
   "source": [
    "XGB=XGBRegressor(colsample_bytree= 1,\n",
    " eta= 0.1,\n",
    " max_depth= 2,\n",
    " min_child_weight= 2,\n",
    " objective= 'reg:squarederror',\n",
    " subsample= 1)"
   ]
  },
  {
   "cell_type": "code",
   "execution_count": 108,
   "id": "7fb076a2",
   "metadata": {},
   "outputs": [
    {
     "data": {
      "text/plain": [
       "XGBRegressor(base_score=0.5, booster='gbtree', colsample_bylevel=1,\n",
       "             colsample_bynode=1, colsample_bytree=1, enable_categorical=False,\n",
       "             eta=0.1, gamma=0, gpu_id=-1, importance_type=None,\n",
       "             interaction_constraints='', learning_rate=0.100000001,\n",
       "             max_delta_step=0, max_depth=2, min_child_weight=2, missing=nan,\n",
       "             monotone_constraints='()', n_estimators=100, n_jobs=12,\n",
       "             num_parallel_tree=1, predictor='auto', random_state=0, reg_alpha=0,\n",
       "             reg_lambda=1, scale_pos_weight=1, subsample=1, tree_method='exact',\n",
       "             validate_parameters=1, verbosity=None)"
      ]
     },
     "execution_count": 108,
     "metadata": {},
     "output_type": "execute_result"
    }
   ],
   "source": [
    "XGB.fit(X_train,Y_train)"
   ]
  },
  {
   "cell_type": "code",
   "execution_count": 109,
   "id": "308ec383",
   "metadata": {},
   "outputs": [
    {
     "data": {
      "text/plain": [
       "0.6548835704598877"
      ]
     },
     "execution_count": 109,
     "metadata": {},
     "output_type": "execute_result"
    }
   ],
   "source": [
    "XGB.score(X_test,Y_test)"
   ]
  },
  {
   "cell_type": "code",
   "execution_count": 110,
   "id": "a62c217a",
   "metadata": {},
   "outputs": [],
   "source": [
    "y_test_pred=XGB.predict(X_test)"
   ]
  },
  {
   "cell_type": "code",
   "execution_count": 111,
   "id": "fa9ffb8e",
   "metadata": {},
   "outputs": [
    {
     "name": "stdout",
     "output_type": "stream",
     "text": [
      "1.0\n"
     ]
    }
   ],
   "source": [
    "print(XGB.score(X_test, y_test_pred))"
   ]
  },
  {
   "cell_type": "markdown",
   "id": "1c43a506",
   "metadata": {},
   "source": [
    "# Finally Saving our model"
   ]
  },
  {
   "cell_type": "code",
   "execution_count": 113,
   "id": "d6557d8f",
   "metadata": {},
   "outputs": [
    {
     "data": {
      "text/plain": [
       "['C:\\\\Users\\\\Avinash\\\\Desktop\\\\Internship\\\\Project\\\\Car-Price_Prediction\\\\Car Price Prediction\\\\price.pkl']"
      ]
     },
     "execution_count": 113,
     "metadata": {},
     "output_type": "execute_result"
    }
   ],
   "source": [
    "import joblib\n",
    "joblib.dump(XGB,r\"C:\\Users\\Avinash\\Desktop\\Internship\\Project\\Car-Price_Prediction\\Car Price Prediction\\price.pkl\")"
   ]
  },
  {
   "cell_type": "code",
   "execution_count": null,
   "id": "b4df9838",
   "metadata": {},
   "outputs": [],
   "source": []
  }
 ],
 "metadata": {
  "kernelspec": {
   "display_name": "Python 3",
   "language": "python",
   "name": "python3"
  },
  "language_info": {
   "codemirror_mode": {
    "name": "ipython",
    "version": 3
   },
   "file_extension": ".py",
   "mimetype": "text/x-python",
   "name": "python",
   "nbconvert_exporter": "python",
   "pygments_lexer": "ipython3",
   "version": "3.8.8"
  }
 },
 "nbformat": 4,
 "nbformat_minor": 5
}

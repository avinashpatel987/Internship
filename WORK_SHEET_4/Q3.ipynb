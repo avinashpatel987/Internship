{
 "cells": [
  {
   "cell_type": "code",
   "execution_count": 23,
   "id": "2ed99b4f",
   "metadata": {},
   "outputs": [],
   "source": [
    "import selenium\n",
    "import pandas as pd\n",
    "from selenium import webdriver\n",
    "from selenium.webdriver.chrome.service import Service\n",
    "from selenium.webdriver.common.by import By\n",
    "import time\n",
    "import urllib\n",
    "import os"
   ]
  },
  {
   "cell_type": "code",
   "execution_count": 24,
   "id": "ff96f1f3",
   "metadata": {},
   "outputs": [],
   "source": [
    "s=Service(\"C:\\chromedriver_win32\\chromedriver.exe\")\n",
    "driver=webdriver.Chrome(service=s)\n",
    "driver.get('https://www.google.com/imghp?hl=en')"
   ]
  },
  {
   "cell_type": "code",
   "execution_count": 25,
   "id": "075e7ed8",
   "metadata": {},
   "outputs": [
    {
     "name": "stdout",
     "output_type": "stream",
     "text": [
      "Enter the thing you want to search:dog\n"
     ]
    }
   ],
   "source": [
    "var=input(\"Enter the thing you want to search:\")"
   ]
  },
  {
   "cell_type": "code",
   "execution_count": 26,
   "id": "af5fc018",
   "metadata": {},
   "outputs": [],
   "source": [
    "driver.find_element(By.XPATH,\"/html/body/div[1]/div[3]/form/div[1]/div[1]/div[1]/div[2]/div[2]/input\").send_keys(var)"
   ]
  },
  {
   "cell_type": "code",
   "execution_count": 27,
   "id": "52c839ee",
   "metadata": {},
   "outputs": [],
   "source": [
    "from selenium.webdriver.common.keys import Keys\n",
    "driver.find_element(By.XPATH,\"/html/body/div[1]/div[3]/form/div[1]/div[1]/div[1]/div[2]/div[2]/input\").send_keys(Keys.ENTER)"
   ]
  },
  {
   "cell_type": "code",
   "execution_count": 40,
   "id": "3563d485",
   "metadata": {
    "scrolled": true
   },
   "outputs": [],
   "source": [
    "path_dir=r'C:\\Users\\Avinash\\Desktop\\images'\n",
    "img=driver.find_element(By.ID,\"islmp\"or\"islrg\")\n",
    "sub=img.find_elements_by_tag_name('img')\n",
    "for i,j in enumerate(sub):\n",
    "    if i<100:\n",
    "        src=j.get_attribute('src')\n",
    "        if src!=None:\n",
    "            src=str(src)\n",
    "            urllib.request.urlretrieve(src,os.path.join(path_dir,str(i)+\".jpg\"))"
   ]
  }
 ],
 "metadata": {
  "kernelspec": {
   "display_name": "Python 3",
   "language": "python",
   "name": "python3"
  },
  "language_info": {
   "codemirror_mode": {
    "name": "ipython",
    "version": 3
   },
   "file_extension": ".py",
   "mimetype": "text/x-python",
   "name": "python",
   "nbconvert_exporter": "python",
   "pygments_lexer": "ipython3",
   "version": "3.8.8"
  }
 },
 "nbformat": 4,
 "nbformat_minor": 5
}

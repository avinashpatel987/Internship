{
 "cells": [
  {
   "cell_type": "code",
   "execution_count": 22,
   "id": "48337ab5",
   "metadata": {},
   "outputs": [],
   "source": [
    "import selenium\n",
    "import pandas as pd\n",
    "from selenium import webdriver\n",
    "from selenium.webdriver.chrome.service import Service\n",
    "from selenium.webdriver.common.by import By\n",
    "import time\n",
    "import urllib\n",
    "import os\n",
    "from selenium.webdriver.common.keys import Keys"
   ]
  },
  {
   "cell_type": "code",
   "execution_count": 31,
   "id": "aa0fadcf",
   "metadata": {},
   "outputs": [],
   "source": [
    "s=Service(\"C:\\chromedriver_win32\\chromedriver.exe\")\n",
    "driver=webdriver.Chrome(service=s)"
   ]
  },
  {
   "cell_type": "code",
   "execution_count": 28,
   "id": "f3f0ef43",
   "metadata": {},
   "outputs": [
    {
     "name": "stdout",
     "output_type": "stream",
     "text": [
      "Enter youtube video link:https://www.youtube.com/watch?v=pZsWArAptkk\n"
     ]
    }
   ],
   "source": [
    "link=input(\"Enter youtube video link:\")"
   ]
  },
  {
   "cell_type": "code",
   "execution_count": 32,
   "id": "60e9104a",
   "metadata": {},
   "outputs": [],
   "source": [
    "driver.get(link)"
   ]
  },
  {
   "cell_type": "code",
   "execution_count": 36,
   "id": "5c8b500e",
   "metadata": {},
   "outputs": [],
   "source": [
    "comm=[]\n",
    "upvote=[]\n",
    "postTime=[]\n",
    "def text(val,which):\n",
    "    if len(val) == 0:\n",
    "        which.append(\"-\")\n",
    "    else:\n",
    "        for i in val:\n",
    "            temp=i.text\n",
    "            which.append(temp)\n",
    "try:\n",
    "    for i in range (10):\n",
    "        driver.find_element(By.XPATH,'/html/body').send_keys(Keys.PAGE_DOWN)\n",
    "        driver.find_element(By.XPATH,'/html/body').send_keys(Keys.PAGE_DOWN)\n",
    "        time.sleep(2)\n",
    "    cmt=driver.find_elements(By.XPATH,'//*[@id=\"content-text\"]')\n",
    "    text(cmt,comm)\n",
    "    up=driver.find_elements(By.XPATH,'//*[@id=\"vote-count-middle\"]')\n",
    "    text(up,upvote)\n",
    "    pt=driver.find_elements(By.XPATH,'//*[@id=\"header-author\"]/yt-formatted-string/a')\n",
    "    text(pt,postTime)\n",
    "except:\n",
    "    print(\"ERROR!!!\")"
   ]
  },
  {
   "cell_type": "code",
   "execution_count": 37,
   "id": "58e87698",
   "metadata": {},
   "outputs": [
    {
     "data": {
      "text/html": [
       "<div>\n",
       "<style scoped>\n",
       "    .dataframe tbody tr th:only-of-type {\n",
       "        vertical-align: middle;\n",
       "    }\n",
       "\n",
       "    .dataframe tbody tr th {\n",
       "        vertical-align: top;\n",
       "    }\n",
       "\n",
       "    .dataframe thead th {\n",
       "        text-align: right;\n",
       "    }\n",
       "</style>\n",
       "<table border=\"1\" class=\"dataframe\">\n",
       "  <thead>\n",
       "    <tr style=\"text-align: right;\">\n",
       "      <th></th>\n",
       "      <th>Comments</th>\n",
       "      <th>Up Votes</th>\n",
       "      <th>Post Time</th>\n",
       "    </tr>\n",
       "  </thead>\n",
       "  <tbody>\n",
       "    <tr>\n",
       "      <th>0</th>\n",
       "      <td>Yoru is the scariest when played correctly lol...</td>\n",
       "      <td>192</td>\n",
       "      <td>3 months ago</td>\n",
       "    </tr>\n",
       "    <tr>\n",
       "      <th>1</th>\n",
       "      <td>I love how always when there's a clutch there'...</td>\n",
       "      <td>206</td>\n",
       "      <td>3 months ago</td>\n",
       "    </tr>\n",
       "    <tr>\n",
       "      <th>2</th>\n",
       "      <td>0:40  Gotta give credit to reyna too, she was ...</td>\n",
       "      <td>11</td>\n",
       "      <td>1 month ago</td>\n",
       "    </tr>\n",
       "    <tr>\n",
       "      <th>3</th>\n",
       "      <td>bronze people being bronze does not make oppon...</td>\n",
       "      <td>76</td>\n",
       "      <td>3 months ago</td>\n",
       "    </tr>\n",
       "    <tr>\n",
       "      <th>4</th>\n",
       "      <td>80% aim\\n20% mind games</td>\n",
       "      <td>6</td>\n",
       "      <td>3 months ago</td>\n",
       "    </tr>\n",
       "  </tbody>\n",
       "</table>\n",
       "</div>"
      ],
      "text/plain": [
       "                                            Comments Up Votes     Post Time\n",
       "0  Yoru is the scariest when played correctly lol...      192  3 months ago\n",
       "1  I love how always when there's a clutch there'...      206  3 months ago\n",
       "2  0:40  Gotta give credit to reyna too, she was ...       11   1 month ago\n",
       "3  bronze people being bronze does not make oppon...       76  3 months ago\n",
       "4                            80% aim\\n20% mind games        6  3 months ago"
      ]
     },
     "execution_count": 37,
     "metadata": {},
     "output_type": "execute_result"
    }
   ],
   "source": [
    "dataset=pd.DataFrame()\n",
    "dataset['Comments']=comm\n",
    "dataset['Up Votes']=upvote\n",
    "dataset['Post Time']=postTime\n",
    "dataset.head()"
   ]
  },
  {
   "cell_type": "code",
   "execution_count": null,
   "id": "f1801292",
   "metadata": {},
   "outputs": [],
   "source": []
  }
 ],
 "metadata": {
  "kernelspec": {
   "display_name": "Python 3",
   "language": "python",
   "name": "python3"
  },
  "language_info": {
   "codemirror_mode": {
    "name": "ipython",
    "version": 3
   },
   "file_extension": ".py",
   "mimetype": "text/x-python",
   "name": "python",
   "nbconvert_exporter": "python",
   "pygments_lexer": "ipython3",
   "version": "3.8.8"
  }
 },
 "nbformat": 4,
 "nbformat_minor": 5
}

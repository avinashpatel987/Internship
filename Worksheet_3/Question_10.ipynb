{
 "cells": [
  {
   "cell_type": "code",
   "execution_count": 1,
   "id": "90875b43",
   "metadata": {},
   "outputs": [],
   "source": [
    "import selenium\n",
    "import pandas as pd\n",
    "from selenium import webdriver\n",
    "from selenium.webdriver.chrome.service import Service\n",
    "from selenium.webdriver.common.by import By"
   ]
  },
  {
   "cell_type": "code",
   "execution_count": 2,
   "id": "f51b7896",
   "metadata": {},
   "outputs": [],
   "source": [
    "s=Service(\"C:\\chromedriver_win32\\chromedriver.exe\")\n",
    "driver=webdriver.Chrome(service=s)\n",
    "driver.get('https://www.ambitionbox.com/')"
   ]
  },
  {
   "cell_type": "code",
   "execution_count": 3,
   "id": "be2dbaaa",
   "metadata": {},
   "outputs": [],
   "source": [
    "btn1=driver.find_element(By.XPATH,\"//*[@id='headerWrapper']/nav/nav/a[4]\")\n",
    "btn1.click()"
   ]
  },
  {
   "cell_type": "code",
   "execution_count": 10,
   "id": "a073cebe",
   "metadata": {},
   "outputs": [],
   "source": [
    "driver.find_element(By.XPATH,'//*[@id=\"fixed-typeahead\"]/div/div/div[1]/span/input').send_keys(\"Data Scientist\")"
   ]
  },
  {
   "cell_type": "code",
   "execution_count": 11,
   "id": "d76a19ae",
   "metadata": {},
   "outputs": [],
   "source": [
    "ch=driver.find_element(By.XPATH,'//*[@id=\"fixed-typeahead\"]/div/div/div[1]/span/div/div[2]/div[2]/div[2]/div/p')\n",
    "ch.click()"
   ]
  },
  {
   "cell_type": "code",
   "execution_count": 12,
   "id": "aadab502",
   "metadata": {},
   "outputs": [],
   "source": [
    "search=driver.find_element(By.XPATH,'//*[@id=\"fixed-typeahead\"]/div/div/button/span')\n",
    "search.click()"
   ]
  },
  {
   "cell_type": "code",
   "execution_count": 13,
   "id": "46404e5e",
   "metadata": {},
   "outputs": [
    {
     "data": {
      "text/plain": [
       "[<selenium.webdriver.remote.webelement.WebElement (session=\"442380512d01d37b1ea0e6f0cb31f412\", element=\"11f04438-93db-4cca-bf56-2a3f5bb07fe3\")>,\n",
       " <selenium.webdriver.remote.webelement.WebElement (session=\"442380512d01d37b1ea0e6f0cb31f412\", element=\"2949669e-7d1d-46bf-a7d9-e35395ae2d30\")>,\n",
       " <selenium.webdriver.remote.webelement.WebElement (session=\"442380512d01d37b1ea0e6f0cb31f412\", element=\"ed440a1f-0564-456e-bf10-47d1b79db189\")>,\n",
       " <selenium.webdriver.remote.webelement.WebElement (session=\"442380512d01d37b1ea0e6f0cb31f412\", element=\"abc28124-9ed2-43d9-b47f-eafb59094702\")>]"
      ]
     },
     "execution_count": 13,
     "metadata": {},
     "output_type": "execute_result"
    }
   ],
   "source": [
    "name=driver.find_elements(By.XPATH,\"//div[@class='name']\")\n",
    "name[0:4]"
   ]
  },
  {
   "cell_type": "code",
   "execution_count": 14,
   "id": "cdd6748a",
   "metadata": {},
   "outputs": [
    {
     "data": {
      "text/plain": [
       "['TCS\\n(741 Salaries)',\n",
       " 'Accenture\\n(481 Salaries)',\n",
       " 'IBM\\n(405 Salaries)',\n",
       " 'Cognizant\\n(326 Salaries)',\n",
       " 'Infosys\\n(325 Salaries)',\n",
       " 'Capgemini\\n(261 Salaries)',\n",
       " 'Amazon\\n(219 Salaries)',\n",
       " 'Wipro\\n(209 Salaries)',\n",
       " 'Tech Mahindra\\n(206 Salaries)',\n",
       " 'Fractal Analytics\\n(155 Salaries)']"
      ]
     },
     "execution_count": 14,
     "metadata": {},
     "output_type": "execute_result"
    }
   ],
   "source": [
    "nam=[]\n",
    "for i in name:\n",
    "    temp=i.text\n",
    "    nam.append(temp)\n",
    "nam"
   ]
  },
  {
   "cell_type": "code",
   "execution_count": 34,
   "id": "8cc097ac",
   "metadata": {},
   "outputs": [
    {
     "data": {
      "text/plain": [
       "[<selenium.webdriver.remote.webelement.WebElement (session=\"442380512d01d37b1ea0e6f0cb31f412\", element=\"9cd7df00-1221-4629-934c-794d61e480a4\")>,\n",
       " <selenium.webdriver.remote.webelement.WebElement (session=\"442380512d01d37b1ea0e6f0cb31f412\", element=\"72b84281-5f25-4f57-887e-0076407b2a5f\")>,\n",
       " <selenium.webdriver.remote.webelement.WebElement (session=\"442380512d01d37b1ea0e6f0cb31f412\", element=\"12488fa6-65d5-4ef8-b525-0f28c9a7eb78\")>,\n",
       " <selenium.webdriver.remote.webelement.WebElement (session=\"442380512d01d37b1ea0e6f0cb31f412\", element=\"a03ac4a4-9c53-4df4-a797-6b03f76a652c\")>]"
      ]
     },
     "execution_count": 34,
     "metadata": {},
     "output_type": "execute_result"
    }
   ],
   "source": [
    "exp=driver.find_elements(By.XPATH,\"//div[@class='salaries one-line sbold-list-header']\")\n",
    "exp[0:4]"
   ]
  },
  {
   "cell_type": "code",
   "execution_count": 35,
   "id": "f716ecad",
   "metadata": {},
   "outputs": [
    {
     "data": {
      "text/plain": [
       "['0-16 yrs exp',\n",
       " '0-18 yrs exp',\n",
       " '0-18 yrs exp',\n",
       " '0-16 yrs exp',\n",
       " '1-16 yrs exp',\n",
       " '0-13 yrs exp',\n",
       " '1-15 yrs exp',\n",
       " '1-15 yrs exp',\n",
       " '1-18 yrs exp',\n",
       " '0-10 yrs exp']"
      ]
     },
     "execution_count": 35,
     "metadata": {},
     "output_type": "execute_result"
    }
   ],
   "source": [
    "e=[]\n",
    "for i in exp:\n",
    "    temp=i.text\n",
    "    e.append(temp)\n",
    "e"
   ]
  },
  {
   "cell_type": "code",
   "execution_count": 30,
   "id": "4015354f",
   "metadata": {},
   "outputs": [
    {
     "data": {
      "text/plain": [
       "[<selenium.webdriver.remote.webelement.WebElement (session=\"442380512d01d37b1ea0e6f0cb31f412\", element=\"4394363b-a1ff-4ad1-bc2e-5c71bb75779e\")>,\n",
       " <selenium.webdriver.remote.webelement.WebElement (session=\"442380512d01d37b1ea0e6f0cb31f412\", element=\"59ba961f-f5b6-453a-b6fd-f02cc48ace90\")>,\n",
       " <selenium.webdriver.remote.webelement.WebElement (session=\"442380512d01d37b1ea0e6f0cb31f412\", element=\"53ef9727-ce1f-49d5-86db-e55c3e51d107\")>,\n",
       " <selenium.webdriver.remote.webelement.WebElement (session=\"442380512d01d37b1ea0e6f0cb31f412\", element=\"7bd561b6-dafc-41f5-a15c-84a40f7d6ddb\")>]"
      ]
     },
     "execution_count": 30,
     "metadata": {},
     "output_type": "execute_result"
    }
   ],
   "source": [
    "sal=driver.find_elements(By.XPATH,\"//div[@class='value body-medium']\")\n",
    "sal[0:4]"
   ]
  },
  {
   "cell_type": "code",
   "execution_count": 31,
   "id": "63c71306",
   "metadata": {},
   "outputs": [
    {
     "data": {
      "text/plain": [
       "['₹ 2.8L',\n",
       " '₹ 18.0L',\n",
       " '₹ 3.0L',\n",
       " '₹ 20.1L',\n",
       " '₹ 8.5L',\n",
       " '₹ 40.0L',\n",
       " '',\n",
       " '',\n",
       " '',\n",
       " '',\n",
       " '',\n",
       " '',\n",
       " '',\n",
       " '',\n",
       " '',\n",
       " '',\n",
       " '',\n",
       " '',\n",
       " '₹ 4.3L',\n",
       " '₹ 17.8L',\n",
       " '₹ 5.4L',\n",
       " '₹ 22.0L',\n",
       " '₹ 5.0L',\n",
       " '₹ 23.0L',\n",
       " '₹ 4.8L',\n",
       " '₹ 18.0L',\n",
       " '₹ 4.5L',\n",
       " '₹ 24.0L',\n",
       " '₹ 4.5L',\n",
       " '₹ 15.7L',\n",
       " '₹ 10.0L',\n",
       " '₹ 50.0L',\n",
       " '₹ 4.2L',\n",
       " '₹ 18.0L',\n",
       " '₹ 4.1L',\n",
       " '₹ 17.5L',\n",
       " '₹ 9.0L',\n",
       " '₹ 22.0L']"
      ]
     },
     "execution_count": 31,
     "metadata": {},
     "output_type": "execute_result"
    }
   ],
   "source": [
    "s=[]\n",
    "for i in sal:\n",
    "    temp=i.text\n",
    "    s.append(temp)\n",
    "s"
   ]
  },
  {
   "cell_type": "code",
   "execution_count": 24,
   "id": "21344a63",
   "metadata": {},
   "outputs": [
    {
     "data": {
      "text/plain": [
       "['₹ 4.3L',\n",
       " '₹ 5.4L',\n",
       " '₹ 5.0L',\n",
       " '₹ 4.8L',\n",
       " '₹ 4.5L',\n",
       " '₹ 4.5L',\n",
       " '₹ 10.0L',\n",
       " '₹ 4.2L',\n",
       " '₹ 4.1L',\n",
       " '₹ 9.0L']"
      ]
     },
     "execution_count": 24,
     "metadata": {},
     "output_type": "execute_result"
    }
   ],
   "source": [
    "upp=[]\n",
    "low=[]\n",
    "upp=e[19::2]\n",
    "low=e[18::2]"
   ]
  },
  {
   "cell_type": "code",
   "execution_count": 27,
   "id": "099d660b",
   "metadata": {},
   "outputs": [
    {
     "data": {
      "text/plain": [
       "[<selenium.webdriver.remote.webelement.WebElement (session=\"442380512d01d37b1ea0e6f0cb31f412\", element=\"5b9d772f-837e-477a-a6bf-c76d5dc2477e\")>,\n",
       " <selenium.webdriver.remote.webelement.WebElement (session=\"442380512d01d37b1ea0e6f0cb31f412\", element=\"2b5588f8-7cf7-4a75-b0ca-6142b0cb92f3\")>,\n",
       " <selenium.webdriver.remote.webelement.WebElement (session=\"442380512d01d37b1ea0e6f0cb31f412\", element=\"3089bdbf-f9cc-45b0-b7f9-96d5fe07a9fe\")>,\n",
       " <selenium.webdriver.remote.webelement.WebElement (session=\"442380512d01d37b1ea0e6f0cb31f412\", element=\"c6a0f7c6-364e-4920-92b9-7b14a31c58c8\")>]"
      ]
     },
     "execution_count": 27,
     "metadata": {},
     "output_type": "execute_result"
    }
   ],
   "source": [
    "aexp=driver.find_elements(By.XPATH,\"//p[@class='averageCtc']\")\n",
    "aexp[0:4]"
   ]
  },
  {
   "cell_type": "code",
   "execution_count": 28,
   "id": "5cbcec04",
   "metadata": {},
   "outputs": [
    {
     "data": {
      "text/plain": [
       "['₹ 7.0L',\n",
       " '₹ 7.2L',\n",
       " '₹ 19.0L',\n",
       " '',\n",
       " '',\n",
       " '',\n",
       " '',\n",
       " '',\n",
       " '',\n",
       " '₹ 8.0L',\n",
       " '₹ 12.2L',\n",
       " '₹ 11.9L',\n",
       " '₹ 9.4L',\n",
       " '₹ 10.9L',\n",
       " '₹ 8.4L',\n",
       " '₹ 25.0L',\n",
       " '₹ 9.1L',\n",
       " '₹ 8.3L',\n",
       " '₹ 14.6L']"
      ]
     },
     "execution_count": 28,
     "metadata": {},
     "output_type": "execute_result"
    }
   ],
   "source": [
    "ae=[]\n",
    "for i in aexp:\n",
    "    temp=i.text\n",
    "    ae.append(temp)\n",
    "ae"
   ]
  },
  {
   "cell_type": "code",
   "execution_count": 29,
   "id": "059fbc46",
   "metadata": {},
   "outputs": [
    {
     "data": {
      "text/plain": [
       "['₹ 8.0L',\n",
       " '₹ 12.2L',\n",
       " '₹ 11.9L',\n",
       " '₹ 9.4L',\n",
       " '₹ 10.9L',\n",
       " '₹ 8.4L',\n",
       " '₹ 25.0L',\n",
       " '₹ 9.1L',\n",
       " '₹ 8.3L',\n",
       " '₹ 14.6L']"
      ]
     },
     "execution_count": 29,
     "metadata": {},
     "output_type": "execute_result"
    }
   ],
   "source": [
    "avgsal=[]\n",
    "avgsal=ae[9:]\n",
    "avgsal"
   ]
  },
  {
   "cell_type": "code",
   "execution_count": 36,
   "id": "6f8eccac",
   "metadata": {},
   "outputs": [
    {
     "data": {
      "text/html": [
       "<div>\n",
       "<style scoped>\n",
       "    .dataframe tbody tr th:only-of-type {\n",
       "        vertical-align: middle;\n",
       "    }\n",
       "\n",
       "    .dataframe tbody tr th {\n",
       "        vertical-align: top;\n",
       "    }\n",
       "\n",
       "    .dataframe thead th {\n",
       "        text-align: right;\n",
       "    }\n",
       "</style>\n",
       "<table border=\"1\" class=\"dataframe\">\n",
       "  <thead>\n",
       "    <tr style=\"text-align: right;\">\n",
       "      <th></th>\n",
       "      <th>Company Name</th>\n",
       "      <th>Experiance Required</th>\n",
       "      <th>Lowest Salary</th>\n",
       "      <th>Average Salary</th>\n",
       "      <th>Highest Salary</th>\n",
       "    </tr>\n",
       "  </thead>\n",
       "  <tbody>\n",
       "    <tr>\n",
       "      <th>0</th>\n",
       "      <td>TCS\\n(741 Salaries)</td>\n",
       "      <td>0-16 yrs exp</td>\n",
       "      <td>₹ 4.3L</td>\n",
       "      <td>₹ 8.0L</td>\n",
       "      <td>₹ 17.8L</td>\n",
       "    </tr>\n",
       "    <tr>\n",
       "      <th>1</th>\n",
       "      <td>Accenture\\n(481 Salaries)</td>\n",
       "      <td>0-18 yrs exp</td>\n",
       "      <td>₹ 5.4L</td>\n",
       "      <td>₹ 12.2L</td>\n",
       "      <td>₹ 22.0L</td>\n",
       "    </tr>\n",
       "    <tr>\n",
       "      <th>2</th>\n",
       "      <td>IBM\\n(405 Salaries)</td>\n",
       "      <td>0-18 yrs exp</td>\n",
       "      <td>₹ 5.0L</td>\n",
       "      <td>₹ 11.9L</td>\n",
       "      <td>₹ 23.0L</td>\n",
       "    </tr>\n",
       "    <tr>\n",
       "      <th>3</th>\n",
       "      <td>Cognizant\\n(326 Salaries)</td>\n",
       "      <td>0-16 yrs exp</td>\n",
       "      <td>₹ 4.8L</td>\n",
       "      <td>₹ 9.4L</td>\n",
       "      <td>₹ 18.0L</td>\n",
       "    </tr>\n",
       "    <tr>\n",
       "      <th>4</th>\n",
       "      <td>Infosys\\n(325 Salaries)</td>\n",
       "      <td>1-16 yrs exp</td>\n",
       "      <td>₹ 4.5L</td>\n",
       "      <td>₹ 10.9L</td>\n",
       "      <td>₹ 24.0L</td>\n",
       "    </tr>\n",
       "  </tbody>\n",
       "</table>\n",
       "</div>"
      ],
      "text/plain": [
       "                Company Name Experiance Required Lowest Salary Average Salary  \\\n",
       "0        TCS\\n(741 Salaries)        0-16 yrs exp        ₹ 4.3L         ₹ 8.0L   \n",
       "1  Accenture\\n(481 Salaries)        0-18 yrs exp        ₹ 5.4L        ₹ 12.2L   \n",
       "2        IBM\\n(405 Salaries)        0-18 yrs exp        ₹ 5.0L        ₹ 11.9L   \n",
       "3  Cognizant\\n(326 Salaries)        0-16 yrs exp        ₹ 4.8L         ₹ 9.4L   \n",
       "4    Infosys\\n(325 Salaries)        1-16 yrs exp        ₹ 4.5L        ₹ 10.9L   \n",
       "\n",
       "  Highest Salary  \n",
       "0        ₹ 17.8L  \n",
       "1        ₹ 22.0L  \n",
       "2        ₹ 23.0L  \n",
       "3        ₹ 18.0L  \n",
       "4        ₹ 24.0L  "
      ]
     },
     "execution_count": 36,
     "metadata": {},
     "output_type": "execute_result"
    }
   ],
   "source": [
    "dataset=pd.DataFrame()\n",
    "dataset['Company Name']=nam[0:10]\n",
    "dataset['Experiance Required']=e[0:10]\n",
    "dataset['Lowest Salary']=low[0:10]\n",
    "dataset['Average Salary']=avgsal[0:10]\n",
    "dataset['Highest Salary']=upp[0:10]\n",
    "dataset.head()"
   ]
  }
 ],
 "metadata": {
  "kernelspec": {
   "display_name": "Python 3",
   "language": "python",
   "name": "python3"
  },
  "language_info": {
   "codemirror_mode": {
    "name": "ipython",
    "version": 3
   },
   "file_extension": ".py",
   "mimetype": "text/x-python",
   "name": "python",
   "nbconvert_exporter": "python",
   "pygments_lexer": "ipython3",
   "version": "3.8.8"
  }
 },
 "nbformat": 4,
 "nbformat_minor": 5
}

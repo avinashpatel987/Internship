{
 "cells": [
  {
   "cell_type": "code",
   "execution_count": 66,
   "id": "71fd00a7",
   "metadata": {},
   "outputs": [],
   "source": [
    "import selenium\n",
    "import pandas as pd\n",
    "from selenium import webdriver\n",
    "from selenium.webdriver.chrome.service import Service\n",
    "from selenium.webdriver.common.by import By\n",
    "import time"
   ]
  },
  {
   "cell_type": "code",
   "execution_count": 87,
   "id": "5628af6a",
   "metadata": {},
   "outputs": [],
   "source": [
    "s=Service(\"C:\\chromedriver_win32\\chromedriver.exe\")\n",
    "driver=webdriver.Chrome(service=s)\n",
    "driver.get('https://www.myntra.com/shoes')"
   ]
  },
  {
   "cell_type": "code",
   "execution_count": 88,
   "id": "4208e4f3",
   "metadata": {},
   "outputs": [],
   "source": [
    "btn1=driver.find_element(By.XPATH,\"//*[@id='mountRoot']/div/div[1]/main/div[3]/div[1]/section/div/div[5]/ul/li[2]/label/div\")\n",
    "btn1.click()"
   ]
  },
  {
   "cell_type": "code",
   "execution_count": 89,
   "id": "42b2da57",
   "metadata": {},
   "outputs": [],
   "source": [
    "btn2=driver.find_element(By.XPATH,\"/html/body/div[2]/div/div[1]/main/div[3]/div[1]/section/div/div[6]/ul/li[1]/label/div\")\n",
    "btn2.click()"
   ]
  },
  {
   "cell_type": "code",
   "execution_count": 61,
   "id": "384267a6",
   "metadata": {},
   "outputs": [],
   "source": [
    "pname=[]\n",
    "prce=[]\n",
    "product=[]\n",
    "num=0"
   ]
  },
  {
   "cell_type": "code",
   "execution_count": 62,
   "id": "56d5cb34",
   "metadata": {},
   "outputs": [],
   "source": [
    "for i in range(3):\n",
    "    time.sleep(1)\n",
    "    name=driver.find_elements(By.XPATH,\"//*[@class='product-brand']\")\n",
    "    for i in name:\n",
    "        temp=i.text\n",
    "        pname.append(temp)\n",
    "    price=driver.find_elements(By.XPATH,\"//*[@class='product-price']\")\n",
    "    for i in price:\n",
    "        temp=i.text\n",
    "        prce.append(temp)\n",
    "    prod=driver.find_elements(By.XPATH,\"//*[@class='product-product']\")\n",
    "    for i in prod:\n",
    "        temp=i.text\n",
    "        product.append(temp)\n",
    "    if num==0:\n",
    "        next=driver.find_element(By.XPATH,\"//*[@id='desktopSearchResults']/div[2]/section/div[2]/ul/li[12]/a\")\n",
    "        next.click()\n",
    "        num=num+1\n",
    "    else:\n",
    "        next=driver.find_element(By.XPATH,\"//*[@id='desktopSearchResults']/div[2]/section/div[2]/ul/li[13]/a\")\n",
    "        next.click()"
   ]
  },
  {
   "cell_type": "code",
   "execution_count": 65,
   "id": "d949cf5d",
   "metadata": {},
   "outputs": [
    {
     "data": {
      "text/html": [
       "<div>\n",
       "<style scoped>\n",
       "    .dataframe tbody tr th:only-of-type {\n",
       "        vertical-align: middle;\n",
       "    }\n",
       "\n",
       "    .dataframe tbody tr th {\n",
       "        vertical-align: top;\n",
       "    }\n",
       "\n",
       "    .dataframe thead th {\n",
       "        text-align: right;\n",
       "    }\n",
       "</style>\n",
       "<table border=\"1\" class=\"dataframe\">\n",
       "  <thead>\n",
       "    <tr style=\"text-align: right;\">\n",
       "      <th></th>\n",
       "      <th>Product Name</th>\n",
       "      <th>Price</th>\n",
       "      <th>Description</th>\n",
       "    </tr>\n",
       "  </thead>\n",
       "  <tbody>\n",
       "    <tr>\n",
       "      <th>0</th>\n",
       "      <td>Nike</td>\n",
       "      <td>Rs. 9995</td>\n",
       "      <td>AIR ZOOM PEGASUS Running Shoes</td>\n",
       "    </tr>\n",
       "    <tr>\n",
       "      <th>1</th>\n",
       "      <td>Nike</td>\n",
       "      <td>Rs. 8295</td>\n",
       "      <td>LEBRON WITNESS Basketball Shoe</td>\n",
       "    </tr>\n",
       "    <tr>\n",
       "      <th>2</th>\n",
       "      <td>Hush Puppies</td>\n",
       "      <td>Rs. 8099Rs. 8999(10% OFF)</td>\n",
       "      <td>Men Solid Leather Formal Slip-Ons</td>\n",
       "    </tr>\n",
       "    <tr>\n",
       "      <th>3</th>\n",
       "      <td>Nike</td>\n",
       "      <td>Rs. 7195</td>\n",
       "      <td>Men Zoom Span 4 Running Shoes</td>\n",
       "    </tr>\n",
       "    <tr>\n",
       "      <th>4</th>\n",
       "      <td>Nike</td>\n",
       "      <td>Rs. 11495</td>\n",
       "      <td>Air Zoom Pegasus 38 Shield Run</td>\n",
       "    </tr>\n",
       "  </tbody>\n",
       "</table>\n",
       "</div>"
      ],
      "text/plain": [
       "   Product Name                      Price                        Description\n",
       "0          Nike                   Rs. 9995     AIR ZOOM PEGASUS Running Shoes\n",
       "1          Nike                   Rs. 8295     LEBRON WITNESS Basketball Shoe\n",
       "2  Hush Puppies  Rs. 8099Rs. 8999(10% OFF)  Men Solid Leather Formal Slip-Ons\n",
       "3          Nike                   Rs. 7195      Men Zoom Span 4 Running Shoes\n",
       "4          Nike                  Rs. 11495     Air Zoom Pegasus 38 Shield Run"
      ]
     },
     "execution_count": 65,
     "metadata": {},
     "output_type": "execute_result"
    }
   ],
   "source": [
    "dataset=pd.DataFrame()\n",
    "dataset['Product Name']=pname\n",
    "dataset['Price']=prce\n",
    "dataset['Description']=product\n",
    "dataset.head()"
   ]
  },
  {
   "cell_type": "code",
   "execution_count": null,
   "id": "bc9d2802",
   "metadata": {},
   "outputs": [],
   "source": []
  }
 ],
 "metadata": {
  "kernelspec": {
   "display_name": "Python 3",
   "language": "python",
   "name": "python3"
  },
  "language_info": {
   "codemirror_mode": {
    "name": "ipython",
    "version": 3
   },
   "file_extension": ".py",
   "mimetype": "text/x-python",
   "name": "python",
   "nbconvert_exporter": "python",
   "pygments_lexer": "ipython3",
   "version": "3.8.8"
  }
 },
 "nbformat": 4,
 "nbformat_minor": 5
}

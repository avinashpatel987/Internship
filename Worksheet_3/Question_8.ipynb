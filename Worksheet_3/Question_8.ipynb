{
 "cells": [
  {
   "cell_type": "code",
   "execution_count": 16,
   "id": "75054c32",
   "metadata": {},
   "outputs": [],
   "source": [
    "import selenium\n",
    "import pandas as pd\n",
    "from selenium import webdriver\n",
    "from selenium.webdriver.chrome.service import Service\n",
    "from selenium.webdriver.common.by import By"
   ]
  },
  {
   "cell_type": "code",
   "execution_count": 17,
   "id": "d42d5608",
   "metadata": {},
   "outputs": [],
   "source": [
    "s=Service(\"C:\\chromedriver_win32\\chromedriver.exe\")\n",
    "driver=webdriver.Chrome(service=s)\n",
    "driver.get('https://www.amazon.in/')"
   ]
  },
  {
   "cell_type": "code",
   "execution_count": 18,
   "id": "4ebe9d70",
   "metadata": {},
   "outputs": [],
   "source": [
    "driver.find_element(By.ID,\"twotabsearchtextbox\").send_keys(\"Laptops\")"
   ]
  },
  {
   "cell_type": "code",
   "execution_count": 76,
   "id": "8ca80e35",
   "metadata": {},
   "outputs": [],
   "source": [
    "btn1=driver.find_element(By.XPATH,\"//*[@id='nav-search-submit-button']\")\n",
    "btn1.click()"
   ]
  },
  {
   "cell_type": "markdown",
   "id": "654b9057",
   "metadata": {},
   "source": [
    "# For i7"
   ]
  },
  {
   "cell_type": "code",
   "execution_count": 22,
   "id": "d16f6acd",
   "metadata": {},
   "outputs": [],
   "source": [
    "ch1=driver.find_element(By.XPATH,\"/html/body/div[1]/div[2]/div[1]/div[2]/div/div[3]/span/div[1]/span/div/div/div[6]/ul[5]/li[13]/span/a/div/label/i\")\n",
    "ch1.click()"
   ]
  },
  {
   "cell_type": "code",
   "execution_count": 62,
   "id": "84c62aae",
   "metadata": {},
   "outputs": [
    {
     "data": {
      "text/plain": [
       "[<selenium.webdriver.remote.webelement.WebElement (session=\"2efb81950ae93c2c35852985ca265b8b\", element=\"e12520e4-c931-4dc5-aa18-7061306efac0\")>,\n",
       " <selenium.webdriver.remote.webelement.WebElement (session=\"2efb81950ae93c2c35852985ca265b8b\", element=\"8b3b20ed-91ae-448f-a7a4-8087eee3dfde\")>,\n",
       " <selenium.webdriver.remote.webelement.WebElement (session=\"2efb81950ae93c2c35852985ca265b8b\", element=\"a71da034-f7d3-461b-8f12-8444cb7fc09f\")>,\n",
       " <selenium.webdriver.remote.webelement.WebElement (session=\"2efb81950ae93c2c35852985ca265b8b\", element=\"952d17d6-d7a4-4320-b5dd-79b410ec0c3a\")>]"
      ]
     },
     "execution_count": 62,
     "metadata": {},
     "output_type": "execute_result"
    }
   ],
   "source": [
    "name=driver.find_elements(By.XPATH,\"//*[@class='a-size-medium a-color-base a-text-normal']\")\n",
    "name[0:4]"
   ]
  },
  {
   "cell_type": "code",
   "execution_count": 63,
   "id": "8761deb4",
   "metadata": {},
   "outputs": [
    {
     "data": {
      "text/plain": [
       "['ASUS ZenBook 14 (2020) Intel Core i7-1165G7 11th Gen 14-inch (35.56 cms) FHD Thin & Light Laptop (16GB/512GB SSD/Office 2019/Windows 10/Intel Iris Xᵉ Graphics/Pine Grey/1.17 kg), UX425EA-KI701TS',\n",
       " 'ASUS ZenBook 13 OLED (2021) Intel Core i7-1165G7 11th Gen 14\" (35.56cms) FHD Thin and Light Laptop (16GB/512GB SSD/Windows 10/Office 2019/Intel Iris Xᵉ Graphics/Pine Grey/1.14 kg), UX325EA-KG722TS',\n",
       " 'HP Pavilion x360 (2021) 11th Gen Intel Core i7 14 inches FHD Touchscreen Laptop, 8 GB RAM, 512GB SSD, 2-in-1 Convertible, Windows 10, MS Office, Finger Print Reader, 1.61 kg (14-dw1040TU)',\n",
       " 'Mi Notebook Horizon Edition 14 Intel Core i7-10510U 10th Gen Thin and Light Laptop(8GB/512GB SSD/Windows 10/Nvidia MX350 2GB Graphics/Grey/1.35Kg)(Without Webcam) XMA1904-AF']"
      ]
     },
     "execution_count": 63,
     "metadata": {},
     "output_type": "execute_result"
    }
   ],
   "source": [
    "nam=[]\n",
    "for i in name:\n",
    "    temp=i.text\n",
    "    nam.append(temp)\n",
    "nam[0:4]"
   ]
  },
  {
   "cell_type": "code",
   "execution_count": 72,
   "id": "329a8162",
   "metadata": {},
   "outputs": [
    {
     "data": {
      "text/plain": [
       "[<selenium.webdriver.remote.webelement.WebElement (session=\"2efb81950ae93c2c35852985ca265b8b\", element=\"6a5370fe-ff1e-4eb4-8876-6ff6ef13c5d1\")>,\n",
       " <selenium.webdriver.remote.webelement.WebElement (session=\"2efb81950ae93c2c35852985ca265b8b\", element=\"ac2b6552-44e6-4572-a693-1c65c88befea\")>,\n",
       " <selenium.webdriver.remote.webelement.WebElement (session=\"2efb81950ae93c2c35852985ca265b8b\", element=\"183f90f1-f100-4b1b-8b18-25adbb60c32f\")>,\n",
       " <selenium.webdriver.remote.webelement.WebElement (session=\"2efb81950ae93c2c35852985ca265b8b\", element=\"02977684-8baa-4674-82a3-d8a93361b6c0\")>]"
      ]
     },
     "execution_count": 72,
     "metadata": {},
     "output_type": "execute_result"
    }
   ],
   "source": [
    "star=driver.find_elements(By.XPATH,\"//*[@class='a-popover-trigger a-declarative']\")\n",
    "star[0:4]"
   ]
  },
  {
   "cell_type": "code",
   "execution_count": 73,
   "id": "ebd31233",
   "metadata": {},
   "outputs": [
    {
     "data": {
      "text/plain": [
       "['', '', '', '']"
      ]
     },
     "execution_count": 73,
     "metadata": {},
     "output_type": "execute_result"
    }
   ],
   "source": [
    "st=[]\n",
    "for i in star:\n",
    "    temp=i.text\n",
    "    st.append(temp)\n",
    "st[0:4]"
   ]
  },
  {
   "cell_type": "code",
   "execution_count": 68,
   "id": "22513dec",
   "metadata": {},
   "outputs": [
    {
     "data": {
      "text/plain": [
       "[<selenium.webdriver.remote.webelement.WebElement (session=\"2efb81950ae93c2c35852985ca265b8b\", element=\"f8ce9c4b-bf81-4b5d-89a4-e22d12e06797\")>,\n",
       " <selenium.webdriver.remote.webelement.WebElement (session=\"2efb81950ae93c2c35852985ca265b8b\", element=\"7a16b6d6-fe13-40b0-ab29-539f15fe5021\")>,\n",
       " <selenium.webdriver.remote.webelement.WebElement (session=\"2efb81950ae93c2c35852985ca265b8b\", element=\"a8516630-30ad-4068-b378-8429b4e9befb\")>,\n",
       " <selenium.webdriver.remote.webelement.WebElement (session=\"2efb81950ae93c2c35852985ca265b8b\", element=\"50633cba-5c48-480e-ac17-5cd77df8f2ab\")>]"
      ]
     },
     "execution_count": 68,
     "metadata": {},
     "output_type": "execute_result"
    }
   ],
   "source": [
    "prce=driver.find_elements(By.XPATH,\"//*[@class='a-price-whole']\")\n",
    "prce[0:4]"
   ]
  },
  {
   "cell_type": "code",
   "execution_count": 70,
   "id": "aae2de20",
   "metadata": {},
   "outputs": [
    {
     "data": {
      "text/plain": [
       "['96,990', '98,990', '59,990', '84,990']"
      ]
     },
     "execution_count": 70,
     "metadata": {},
     "output_type": "execute_result"
    }
   ],
   "source": [
    "pr=[]\n",
    "for i in prce:\n",
    "    temp=i.text\n",
    "    pr.append(temp)\n",
    "pr[0:4]"
   ]
  },
  {
   "cell_type": "code",
   "execution_count": 75,
   "id": "d92ec9e0",
   "metadata": {},
   "outputs": [
    {
     "data": {
      "text/html": [
       "<div>\n",
       "<style scoped>\n",
       "    .dataframe tbody tr th:only-of-type {\n",
       "        vertical-align: middle;\n",
       "    }\n",
       "\n",
       "    .dataframe tbody tr th {\n",
       "        vertical-align: top;\n",
       "    }\n",
       "\n",
       "    .dataframe thead th {\n",
       "        text-align: right;\n",
       "    }\n",
       "</style>\n",
       "<table border=\"1\" class=\"dataframe\">\n",
       "  <thead>\n",
       "    <tr style=\"text-align: right;\">\n",
       "      <th></th>\n",
       "      <th>Name</th>\n",
       "      <th>star</th>\n",
       "      <th>Price</th>\n",
       "    </tr>\n",
       "  </thead>\n",
       "  <tbody>\n",
       "    <tr>\n",
       "      <th>0</th>\n",
       "      <td>ASUS ZenBook 14 (2020) Intel Core i7-1165G7 11...</td>\n",
       "      <td></td>\n",
       "      <td>96,990</td>\n",
       "    </tr>\n",
       "    <tr>\n",
       "      <th>1</th>\n",
       "      <td>ASUS ZenBook 13 OLED (2021) Intel Core i7-1165...</td>\n",
       "      <td></td>\n",
       "      <td>98,990</td>\n",
       "    </tr>\n",
       "    <tr>\n",
       "      <th>2</th>\n",
       "      <td>HP Pavilion x360 (2021) 11th Gen Intel Core i7...</td>\n",
       "      <td></td>\n",
       "      <td>59,990</td>\n",
       "    </tr>\n",
       "    <tr>\n",
       "      <th>3</th>\n",
       "      <td>Mi Notebook Horizon Edition 14 Intel Core i7-1...</td>\n",
       "      <td></td>\n",
       "      <td>84,990</td>\n",
       "    </tr>\n",
       "    <tr>\n",
       "      <th>4</th>\n",
       "      <td>HP Pavilion (2021) Intel 11th Gen Core i7 14 i...</td>\n",
       "      <td></td>\n",
       "      <td>85,990</td>\n",
       "    </tr>\n",
       "  </tbody>\n",
       "</table>\n",
       "</div>"
      ],
      "text/plain": [
       "                                                Name star   Price\n",
       "0  ASUS ZenBook 14 (2020) Intel Core i7-1165G7 11...       96,990\n",
       "1  ASUS ZenBook 13 OLED (2021) Intel Core i7-1165...       98,990\n",
       "2  HP Pavilion x360 (2021) 11th Gen Intel Core i7...       59,990\n",
       "3  Mi Notebook Horizon Edition 14 Intel Core i7-1...       84,990\n",
       "4  HP Pavilion (2021) Intel 11th Gen Core i7 14 i...       85,990"
      ]
     },
     "execution_count": 75,
     "metadata": {},
     "output_type": "execute_result"
    }
   ],
   "source": [
    "dataset=pd.DataFrame()\n",
    "dataset['Name']=nam[0:10]\n",
    "dataset['star']=st[0:10]\n",
    "dataset['Price']=pr[0:10]\n",
    "dataset.head()"
   ]
  },
  {
   "cell_type": "markdown",
   "id": "7677e525",
   "metadata": {},
   "source": [
    "# For i9"
   ]
  },
  {
   "cell_type": "code",
   "execution_count": null,
   "id": "a356f5b5",
   "metadata": {},
   "outputs": [],
   "source": [
    "btn2=driver.find_element(By.XPATH,\"//*[@id='nav-search-submit-button']\")\n",
    "btn2.click()"
   ]
  },
  {
   "cell_type": "code",
   "execution_count": 78,
   "id": "d44e93d7",
   "metadata": {},
   "outputs": [],
   "source": [
    "ch2=driver.find_element(By.XPATH,\"//*[@id='p_n_feature_thirteen_browse-bin/16757432031']/span/a/span\")\n",
    "ch2.click()"
   ]
  },
  {
   "cell_type": "code",
   "execution_count": 79,
   "id": "e5551e3c",
   "metadata": {},
   "outputs": [
    {
     "data": {
      "text/plain": [
       "[<selenium.webdriver.remote.webelement.WebElement (session=\"2efb81950ae93c2c35852985ca265b8b\", element=\"c0dc0044-a8fa-405e-aa63-a79acf2d8781\")>,\n",
       " <selenium.webdriver.remote.webelement.WebElement (session=\"2efb81950ae93c2c35852985ca265b8b\", element=\"005a7341-3e56-45c2-8952-0eaa66aa34e4\")>,\n",
       " <selenium.webdriver.remote.webelement.WebElement (session=\"2efb81950ae93c2c35852985ca265b8b\", element=\"4010ee2c-5324-483a-acff-cdc046833dc0\")>,\n",
       " <selenium.webdriver.remote.webelement.WebElement (session=\"2efb81950ae93c2c35852985ca265b8b\", element=\"0d8a70de-0ffb-4bf6-b107-b91bfdd3c8ed\")>]"
      ]
     },
     "execution_count": 79,
     "metadata": {},
     "output_type": "execute_result"
    }
   ],
   "source": [
    "name=driver.find_elements(By.XPATH,\"//*[@class='a-size-medium a-color-base a-text-normal']\")\n",
    "name[0:4]"
   ]
  },
  {
   "cell_type": "code",
   "execution_count": 80,
   "id": "9e8dbaee",
   "metadata": {},
   "outputs": [
    {
     "data": {
      "text/plain": [
       "['ASUS TUF Gaming F15 (2021), 15.6-inch (39.62 cms) FHD 240Hz/3ms, Intel Core i9-11900H 11th Gen, RTX 3060 6GB Graphics Gaming Laptop (16GB/1TB SSD/Office 2019/Windows 10/Black/2.3 kg), FX506HM-AZ099TS',\n",
       " 'ASUS TUF Gaming F15 (2021), 15.6\" (39.62 cms) FHD 240Hz, Intel Core i9-11900H 11th Gen, GeForce RTX 3060 6GB Graphics, Gaming Laptop(16GB/1TB SSD/Office 2019/Windows 10/Gray/2.3 Kg), FX566HM-AZ096TS',\n",
       " 'ASUS ROG Strix Scar 17 (2020), 17.3\" FHD 300Hz/3ms, Intel Core i9-10980HK 10th Gen, RTX 2080 Super GDDR6 8GB Graphics, Gaming Laptop (32GB/2TB RAID 0 SSD/Windows 10/Black/2.99 Kg), G732LXS-HG059T',\n",
       " 'Lenovo Legion 7 10th Gen Intel Core i9 15.6 inch Full HD Gaming Laptop (16GB/1TB SSD/Windows 10/MS Office 2019/144 Hz/NVIDIA RTX 2080 8GB GDDR6 Graphics/Slate Grey/2.25Kg), 81YU006HIN']"
      ]
     },
     "execution_count": 80,
     "metadata": {},
     "output_type": "execute_result"
    }
   ],
   "source": [
    "nam=[]\n",
    "for i in name:\n",
    "    temp=i.text\n",
    "    nam.append(temp)\n",
    "nam[0:4]"
   ]
  },
  {
   "cell_type": "code",
   "execution_count": 93,
   "id": "e1cc21cd",
   "metadata": {},
   "outputs": [
    {
     "data": {
      "text/plain": [
       "[<selenium.webdriver.remote.webelement.WebElement (session=\"2efb81950ae93c2c35852985ca265b8b\", element=\"a809f051-3919-4ca5-b074-afb0cf956b62\")>,\n",
       " <selenium.webdriver.remote.webelement.WebElement (session=\"2efb81950ae93c2c35852985ca265b8b\", element=\"71e163a5-8543-4ce2-9767-f99513288f3f\")>,\n",
       " <selenium.webdriver.remote.webelement.WebElement (session=\"2efb81950ae93c2c35852985ca265b8b\", element=\"4bb0c3b0-17d3-421f-84a0-511e7024c613\")>,\n",
       " <selenium.webdriver.remote.webelement.WebElement (session=\"2efb81950ae93c2c35852985ca265b8b\", element=\"4ed3d4ae-1df0-4461-9a9e-46281b1ec7cc\")>,\n",
       " <selenium.webdriver.remote.webelement.WebElement (session=\"2efb81950ae93c2c35852985ca265b8b\", element=\"c2c4592c-40b9-4882-88cb-69bec4956d2d\")>]"
      ]
     },
     "execution_count": 93,
     "metadata": {},
     "output_type": "execute_result"
    }
   ],
   "source": [
    "star2=driver.find_elements(By.XPATH,\"//*[@class='a-icon-alt']\")\n",
    "star2"
   ]
  },
  {
   "cell_type": "code",
   "execution_count": 94,
   "id": "83cc0d7a",
   "metadata": {},
   "outputs": [
    {
     "data": {
      "text/plain": [
       "['', '', '', '', '']"
      ]
     },
     "execution_count": 94,
     "metadata": {},
     "output_type": "execute_result"
    }
   ],
   "source": [
    "st2=[]\n",
    "for i in star2:\n",
    "    temp=i.text\n",
    "    st2.append(temp)\n",
    "st2"
   ]
  },
  {
   "cell_type": "code",
   "execution_count": 83,
   "id": "f490042c",
   "metadata": {},
   "outputs": [
    {
     "data": {
      "text/plain": [
       "[<selenium.webdriver.remote.webelement.WebElement (session=\"2efb81950ae93c2c35852985ca265b8b\", element=\"6732dc40-378a-4628-a3a5-8aba1b5af12b\")>,\n",
       " <selenium.webdriver.remote.webelement.WebElement (session=\"2efb81950ae93c2c35852985ca265b8b\", element=\"3dc9b2f1-849c-4625-9521-92a21277818a\")>,\n",
       " <selenium.webdriver.remote.webelement.WebElement (session=\"2efb81950ae93c2c35852985ca265b8b\", element=\"6d472fe4-74b8-4ea9-a808-0c5a845e3dc1\")>,\n",
       " <selenium.webdriver.remote.webelement.WebElement (session=\"2efb81950ae93c2c35852985ca265b8b\", element=\"1721cdbc-dc76-4ee5-94a1-c54891fe884d\")>]"
      ]
     },
     "execution_count": 83,
     "metadata": {},
     "output_type": "execute_result"
    }
   ],
   "source": [
    "prce=driver.find_elements(By.XPATH,\"//*[@class='a-price-whole']\")\n",
    "prce[0:4]"
   ]
  },
  {
   "cell_type": "code",
   "execution_count": 84,
   "id": "19a3cedf",
   "metadata": {},
   "outputs": [
    {
     "data": {
      "text/plain": [
       "['1,59,985', '1,46,575', '2,79,990', '2,25,000']"
      ]
     },
     "execution_count": 84,
     "metadata": {},
     "output_type": "execute_result"
    }
   ],
   "source": [
    "pr=[]\n",
    "for i in prce:\n",
    "    temp=i.text\n",
    "    pr.append(temp)\n",
    "pr[0:4]"
   ]
  },
  {
   "cell_type": "code",
   "execution_count": 95,
   "id": "3a84e9fc",
   "metadata": {},
   "outputs": [
    {
     "data": {
      "text/html": [
       "<div>\n",
       "<style scoped>\n",
       "    .dataframe tbody tr th:only-of-type {\n",
       "        vertical-align: middle;\n",
       "    }\n",
       "\n",
       "    .dataframe tbody tr th {\n",
       "        vertical-align: top;\n",
       "    }\n",
       "\n",
       "    .dataframe thead th {\n",
       "        text-align: right;\n",
       "    }\n",
       "</style>\n",
       "<table border=\"1\" class=\"dataframe\">\n",
       "  <thead>\n",
       "    <tr style=\"text-align: right;\">\n",
       "      <th></th>\n",
       "      <th>Name</th>\n",
       "      <th>star</th>\n",
       "      <th>Price</th>\n",
       "    </tr>\n",
       "  </thead>\n",
       "  <tbody>\n",
       "    <tr>\n",
       "      <th>0</th>\n",
       "      <td>ASUS TUF Gaming F15 (2021), 15.6-inch (39.62 c...</td>\n",
       "      <td></td>\n",
       "      <td>1,59,985</td>\n",
       "    </tr>\n",
       "    <tr>\n",
       "      <th>1</th>\n",
       "      <td>ASUS TUF Gaming F15 (2021), 15.6\" (39.62 cms) ...</td>\n",
       "      <td></td>\n",
       "      <td>1,46,575</td>\n",
       "    </tr>\n",
       "    <tr>\n",
       "      <th>2</th>\n",
       "      <td>ASUS ROG Strix Scar 17 (2020), 17.3\" FHD 300Hz...</td>\n",
       "      <td></td>\n",
       "      <td>2,79,990</td>\n",
       "    </tr>\n",
       "    <tr>\n",
       "      <th>3</th>\n",
       "      <td>Lenovo Legion 7 10th Gen Intel Core i9 15.6 in...</td>\n",
       "      <td></td>\n",
       "      <td>2,25,000</td>\n",
       "    </tr>\n",
       "  </tbody>\n",
       "</table>\n",
       "</div>"
      ],
      "text/plain": [
       "                                                Name star     Price\n",
       "0  ASUS TUF Gaming F15 (2021), 15.6-inch (39.62 c...       1,59,985\n",
       "1  ASUS TUF Gaming F15 (2021), 15.6\" (39.62 cms) ...       1,46,575\n",
       "2  ASUS ROG Strix Scar 17 (2020), 17.3\" FHD 300Hz...       2,79,990\n",
       "3  Lenovo Legion 7 10th Gen Intel Core i9 15.6 in...       2,25,000"
      ]
     },
     "execution_count": 95,
     "metadata": {},
     "output_type": "execute_result"
    }
   ],
   "source": [
    "dataset=pd.DataFrame()\n",
    "dataset['Name']=nam[0:4]\n",
    "dataset['star']=st[0:4]\n",
    "dataset['Price']=pr[0:4]\n",
    "dataset.head()"
   ]
  }
 ],
 "metadata": {
  "kernelspec": {
   "display_name": "Python 3",
   "language": "python",
   "name": "python3"
  },
  "language_info": {
   "codemirror_mode": {
    "name": "ipython",
    "version": 3
   },
   "file_extension": ".py",
   "mimetype": "text/x-python",
   "name": "python",
   "nbconvert_exporter": "python",
   "pygments_lexer": "ipython3",
   "version": "3.8.8"
  }
 },
 "nbformat": 4,
 "nbformat_minor": 5
}

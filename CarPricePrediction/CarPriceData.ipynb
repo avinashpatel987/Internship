{
 "cells": [
  {
   "cell_type": "code",
   "execution_count": 1,
   "id": "e07b9bfc",
   "metadata": {},
   "outputs": [],
   "source": [
    "import selenium\n",
    "import pandas as pd\n",
    "from selenium import webdriver\n",
    "from selenium.webdriver.chrome.service import Service\n",
    "from selenium.webdriver.common.by import By\n",
    "from selenium.webdriver.common.keys import Keys\n",
    "import time\n",
    "import urllib\n",
    "import os\n",
    "from selenium.webdriver import ActionChains"
   ]
  },
  {
   "cell_type": "code",
   "execution_count": 2,
   "id": "d648686e",
   "metadata": {},
   "outputs": [],
   "source": [
    "def text(val,which):\n",
    "    if len(val) == 0:\n",
    "        which.append(\"-\")\n",
    "    else:\n",
    "        for i in val:\n",
    "            temp=i.text\n",
    "            which.append(temp)"
   ]
  },
  {
   "cell_type": "markdown",
   "id": "5fa9fb57",
   "metadata": {},
   "source": [
    "# Cardekho"
   ]
  },
  {
   "cell_type": "code",
   "execution_count": 102,
   "id": "545b0a12",
   "metadata": {},
   "outputs": [],
   "source": [
    "s=Service(\"C:\\chromedriver_win32\\chromedriver.exe\")\n",
    "driver=webdriver.Chrome(service=s)\n",
    "driver.get('https://www.cardekho.com')"
   ]
  },
  {
   "cell_type": "code",
   "execution_count": 103,
   "id": "937734de",
   "metadata": {},
   "outputs": [],
   "source": [
    "btn4=driver.find_element(By.XPATH,\"//*[@id='rf01']/header/div[2]/div/div/nav/ul/li[2]/span/span\")\n",
    "btn4.click()"
   ]
  },
  {
   "cell_type": "code",
   "execution_count": 105,
   "id": "0475d14e",
   "metadata": {},
   "outputs": [],
   "source": [
    "btn5=driver.find_element(By.XPATH,\"//*[@id='cityPopUp']/div/div[2]/section/div[2]/ul/li[4]/a/span[1]\")\n",
    "btn5.click()"
   ]
  },
  {
   "cell_type": "markdown",
   "id": "54604ddc",
   "metadata": {},
   "source": [
    "## hatchback"
   ]
  },
  {
   "cell_type": "markdown",
   "id": "037513b0",
   "metadata": {},
   "source": [
    "### Firstowner"
   ]
  },
  {
   "cell_type": "code",
   "execution_count": 106,
   "id": "03ba5e9b",
   "metadata": {},
   "outputs": [],
   "source": [
    "#scrolling the inner div in webpage\n",
    "scrolling_element= driver.find_element(By.XPATH,'//*[@id=\"rf01\"]/div[1]/div/div/main/div[1]/div[2]/div')    \n",
    "driver.execute_script('arguments[0].scrollTop = arguments[0].scrollHeight', scrolling_element)"
   ]
  },
  {
   "cell_type": "code",
   "execution_count": 107,
   "id": "1f6f2d0c",
   "metadata": {},
   "outputs": [],
   "source": [
    "hatchback=driver.find_element(By.XPATH,'//*[@id=\"rf01\"]/div[1]/div/div/main/div[1]/div[2]/div/div[10]/div[2]/ul/li[1]/label/span[3]')\n",
    "hatchback.click()"
   ]
  },
  {
   "cell_type": "code",
   "execution_count": 108,
   "id": "68c59ca5",
   "metadata": {},
   "outputs": [],
   "source": [
    "#scrolling the inner div in webpage\n",
    "scrolling_element= driver.find_element(By.XPATH,'//*[@id=\"rf01\"]/div[1]/div/div/main/div[1]/div[2]/div')    \n",
    "driver.execute_script('arguments[0].scrollTop = arguments[0].scrollHeight', scrolling_element)"
   ]
  },
  {
   "cell_type": "code",
   "execution_count": 109,
   "id": "804b72ae",
   "metadata": {
    "scrolled": true
   },
   "outputs": [],
   "source": [
    "ow1=driver.find_element(By.XPATH,'//*[@id=\"rf01\"]/div[1]/div/div/main/div[1]/div[2]/div/div[14]/div[2]/ul/li[1]/label/span')\n",
    "ow1.click()"
   ]
  },
  {
   "cell_type": "code",
   "execution_count": 140,
   "id": "9d5ab1ae",
   "metadata": {},
   "outputs": [],
   "source": [
    "driver.execute_script(\"window.scrollTo(0, document.body.scrollHeight);\")"
   ]
  },
  {
   "cell_type": "code",
   "execution_count": 145,
   "id": "7b29f30e",
   "metadata": {},
   "outputs": [],
   "source": [
    "n=driver.find_elements(By.XPATH,\"//div[@class='gsc_col-xs-7  carsName']/a\")\n",
    "p=driver.find_elements(By.XPATH,\"//div[@class='gsc_col-xs-5 text-right price']/span\")\n",
    "t=driver.find_elements(By.XPATH,\"//div[@class='truncate dotlist']/span[3]\")\n",
    "k=driver.find_elements(By.XPATH,\"//div[@class='truncate dotlist']/span[1]\")\n",
    "f=driver.find_elements(By.XPATH,\"//div[@class='truncate dotlist']/span[2]\")"
   ]
  },
  {
   "cell_type": "code",
   "execution_count": 152,
   "id": "83857c28",
   "metadata": {},
   "outputs": [],
   "source": [
    "name=[]\n",
    "price=[]\n",
    "trans=[]\n",
    "km=[]\n",
    "fuel=[]\n",
    "owner=[]\n",
    "type_=[]\n",
    "text(n,name)\n",
    "text(p,price)\n",
    "text(t,trans)\n",
    "text(k,km)\n",
    "text(f,fuel)"
   ]
  },
  {
   "cell_type": "code",
   "execution_count": 153,
   "id": "0af1c4e1",
   "metadata": {},
   "outputs": [],
   "source": [
    "for i in range(len(n)):\n",
    "    owner.append(1)\n",
    "    type_.append(\"Hatchback\")"
   ]
  },
  {
   "cell_type": "markdown",
   "id": "f2358dd0",
   "metadata": {},
   "source": [
    "### Second owner"
   ]
  },
  {
   "cell_type": "code",
   "execution_count": 157,
   "id": "cde82f03",
   "metadata": {},
   "outputs": [],
   "source": [
    "#scrolling the inner div in webpage\n",
    "scrolling_element= driver.find_element(By.XPATH,'//*[@id=\"rf01\"]/div[1]/div/div/main/div[1]/div[2]/div')    \n",
    "driver.execute_script('arguments[0].scrollTop = arguments[0].scrollHeight', scrolling_element)"
   ]
  },
  {
   "cell_type": "code",
   "execution_count": 159,
   "id": "87ae1751",
   "metadata": {},
   "outputs": [],
   "source": [
    "ow1=driver.find_element(By.XPATH,'//*[@id=\"rf01\"]/div[1]/div/div/main/div[1]/div[2]/div/div[14]/div[2]/ul/li[1]/label/span')\n",
    "ow1.click()"
   ]
  },
  {
   "cell_type": "code",
   "execution_count": 158,
   "id": "37714c3f",
   "metadata": {},
   "outputs": [],
   "source": [
    "ow2=driver.find_element(By.XPATH,'//*[@id=\"rf01\"]/div[1]/div/div/main/div[1]/div[2]/div/div[14]/div[2]/ul/li[2]/label/span')\n",
    "ow2.click()"
   ]
  },
  {
   "cell_type": "code",
   "execution_count": 160,
   "id": "88e20e8b",
   "metadata": {},
   "outputs": [],
   "source": [
    "n=driver.find_elements(By.XPATH,\"//div[@class='gsc_col-xs-7  carsName']/a\")\n",
    "p=driver.find_elements(By.XPATH,\"//div[@class='gsc_col-xs-5 text-right price']/span\")\n",
    "t=driver.find_elements(By.XPATH,\"//div[@class='truncate dotlist']/span[3]\")\n",
    "k=driver.find_elements(By.XPATH,\"//div[@class='truncate dotlist']/span[1]\")\n",
    "f=driver.find_elements(By.XPATH,\"//div[@class='truncate dotlist']/span[2]\")"
   ]
  },
  {
   "cell_type": "code",
   "execution_count": 161,
   "id": "6eb1bd4a",
   "metadata": {},
   "outputs": [],
   "source": [
    "text(n,name)\n",
    "text(p,price)\n",
    "text(t,trans)\n",
    "text(k,km)\n",
    "text(f,fuel)"
   ]
  },
  {
   "cell_type": "code",
   "execution_count": 163,
   "id": "8ab6646a",
   "metadata": {},
   "outputs": [],
   "source": [
    "for i in range(len(n)):\n",
    "    owner.append(2)\n",
    "    type_.append(\"Hatchback\")"
   ]
  },
  {
   "cell_type": "markdown",
   "id": "a86dacff",
   "metadata": {},
   "source": [
    "## Sedan"
   ]
  },
  {
   "cell_type": "markdown",
   "id": "f2ed1d9b",
   "metadata": {},
   "source": [
    "### First Owner"
   ]
  },
  {
   "cell_type": "code",
   "execution_count": 165,
   "id": "0fedec2b",
   "metadata": {},
   "outputs": [],
   "source": [
    "#scrolling the inner div in webpage\n",
    "scrolling_element= driver.find_element(By.XPATH,'//*[@id=\"rf01\"]/div[1]/div/div/main/div[1]/div[2]/div')    \n",
    "driver.execute_script('arguments[0].scrollTop = arguments[0].scrollHeight', scrolling_element)"
   ]
  },
  {
   "cell_type": "code",
   "execution_count": 168,
   "id": "cf50d03a",
   "metadata": {},
   "outputs": [],
   "source": [
    "hatchback=driver.find_element(By.XPATH,'//*[@id=\"rf01\"]/div[1]/div/div/main/div[1]/div[2]/div/div[10]/div[2]/ul/li[1]/label/span[1]')\n",
    "hatchback.click()"
   ]
  },
  {
   "cell_type": "code",
   "execution_count": 166,
   "id": "05e36907",
   "metadata": {},
   "outputs": [],
   "source": [
    "sedan=driver.find_element(By.XPATH,'//*[@id=\"rf01\"]/div[1]/div/div/main/div[1]/div[2]/div/div[10]/div[2]/ul/li[2]/label/span[2]')\n",
    "sedan.click()"
   ]
  },
  {
   "cell_type": "code",
   "execution_count": 169,
   "id": "6c6c8d04",
   "metadata": {},
   "outputs": [],
   "source": [
    "#scrolling the inner div in webpage\n",
    "scrolling_element= driver.find_element(By.XPATH,'//*[@id=\"rf01\"]/div[1]/div/div/main/div[1]/div[2]/div')    \n",
    "driver.execute_script('arguments[0].scrollTop = arguments[0].scrollHeight', scrolling_element)"
   ]
  },
  {
   "cell_type": "code",
   "execution_count": 170,
   "id": "1d491e4a",
   "metadata": {},
   "outputs": [],
   "source": [
    "ow2=driver.find_element(By.XPATH,'//*[@id=\"rf01\"]/div[1]/div/div/main/div[1]/div[2]/div/div[14]/div[2]/ul/li[2]/label/span')\n",
    "ow2.click()"
   ]
  },
  {
   "cell_type": "code",
   "execution_count": 172,
   "id": "787ca267",
   "metadata": {},
   "outputs": [],
   "source": [
    "#scrolling the inner div in webpage\n",
    "scrolling_element= driver.find_element(By.XPATH,'//*[@id=\"rf01\"]/div[1]/div/div/main/div[1]/div[2]/div')    \n",
    "driver.execute_script('arguments[0].scrollTop = arguments[0].scrollHeight', scrolling_element)"
   ]
  },
  {
   "cell_type": "code",
   "execution_count": 173,
   "id": "27715039",
   "metadata": {},
   "outputs": [],
   "source": [
    "ow1=driver.find_element(By.XPATH,'//*[@id=\"rf01\"]/div[1]/div/div/main/div[1]/div[2]/div/div[14]/div[2]/ul/li[1]/label/span')\n",
    "ow1.click()"
   ]
  },
  {
   "cell_type": "code",
   "execution_count": 174,
   "id": "18d01595",
   "metadata": {},
   "outputs": [],
   "source": [
    "n=driver.find_elements(By.XPATH,\"//div[@class='gsc_col-xs-7  carsName']/a\")\n",
    "p=driver.find_elements(By.XPATH,\"//div[@class='gsc_col-xs-5 text-right price']/span\")\n",
    "t=driver.find_elements(By.XPATH,\"//div[@class='truncate dotlist']/span[3]\")\n",
    "k=driver.find_elements(By.XPATH,\"//div[@class='truncate dotlist']/span[1]\")\n",
    "f=driver.find_elements(By.XPATH,\"//div[@class='truncate dotlist']/span[2]\")"
   ]
  },
  {
   "cell_type": "code",
   "execution_count": 175,
   "id": "ba901f73",
   "metadata": {},
   "outputs": [],
   "source": [
    "text(n,name)\n",
    "text(p,price)\n",
    "text(t,trans)\n",
    "text(k,km)\n",
    "text(f,fuel)"
   ]
  },
  {
   "cell_type": "code",
   "execution_count": 176,
   "id": "96f2f73d",
   "metadata": {},
   "outputs": [],
   "source": [
    "for i in range(len(n)):\n",
    "    owner.append(1)\n",
    "    type_.append(\"Sedan\")"
   ]
  },
  {
   "cell_type": "markdown",
   "id": "d450908e",
   "metadata": {},
   "source": [
    "### Second owner"
   ]
  },
  {
   "cell_type": "code",
   "execution_count": 182,
   "id": "c26a1337",
   "metadata": {},
   "outputs": [],
   "source": [
    "#scrolling the inner div in webpage\n",
    "scrolling_element= driver.find_element(By.XPATH,'//*[@id=\"rf01\"]/div[1]/div/div/main/div[1]/div[2]/div')    \n",
    "driver.execute_script('arguments[0].scrollTop = arguments[0].scrollHeight', scrolling_element)"
   ]
  },
  {
   "cell_type": "code",
   "execution_count": 183,
   "id": "71bb13cd",
   "metadata": {},
   "outputs": [],
   "source": [
    "ow1=driver.find_element(By.XPATH,'//*[@id=\"rf01\"]/div[1]/div/div/main/div[1]/div[2]/div/div[14]/div[2]/ul/li[1]/label/span')\n",
    "ow1.click()"
   ]
  },
  {
   "cell_type": "code",
   "execution_count": 184,
   "id": "b3632439",
   "metadata": {},
   "outputs": [],
   "source": [
    "#scrolling the inner div in webpage\n",
    "scrolling_element= driver.find_element(By.XPATH,'//*[@id=\"rf01\"]/div[1]/div/div/main/div[1]/div[2]/div')    \n",
    "driver.execute_script('arguments[0].scrollTop = arguments[0].scrollHeight', scrolling_element)"
   ]
  },
  {
   "cell_type": "code",
   "execution_count": 185,
   "id": "5385a1b0",
   "metadata": {},
   "outputs": [],
   "source": [
    "ow2=driver.find_element(By.XPATH,'//*[@id=\"rf01\"]/div[1]/div/div/main/div[1]/div[2]/div/div[14]/div[2]/ul/li[2]/label/span')\n",
    "ow2.click()"
   ]
  },
  {
   "cell_type": "code",
   "execution_count": 186,
   "id": "33ce1797",
   "metadata": {},
   "outputs": [],
   "source": [
    "n=driver.find_elements(By.XPATH,\"//div[@class='gsc_col-xs-7  carsName']/a\")\n",
    "p=driver.find_elements(By.XPATH,\"//div[@class='gsc_col-xs-5 text-right price']/span\")\n",
    "t=driver.find_elements(By.XPATH,\"//div[@class='truncate dotlist']/span[3]\")\n",
    "k=driver.find_elements(By.XPATH,\"//div[@class='truncate dotlist']/span[1]\")\n",
    "f=driver.find_elements(By.XPATH,\"//div[@class='truncate dotlist']/span[2]\")"
   ]
  },
  {
   "cell_type": "code",
   "execution_count": 187,
   "id": "079f22d6",
   "metadata": {},
   "outputs": [],
   "source": [
    "text(n,name)\n",
    "text(p,price)\n",
    "text(t,trans)\n",
    "text(k,km)\n",
    "text(f,fuel)"
   ]
  },
  {
   "cell_type": "code",
   "execution_count": 188,
   "id": "1ee2dad0",
   "metadata": {},
   "outputs": [],
   "source": [
    "for i in range(len(n)):\n",
    "    owner.append(2)\n",
    "    type_.append(\"Sedan\")"
   ]
  },
  {
   "cell_type": "markdown",
   "id": "a62b05ac",
   "metadata": {},
   "source": [
    "## SUV"
   ]
  },
  {
   "cell_type": "markdown",
   "id": "fe31f3ac",
   "metadata": {},
   "source": [
    "### First Owner"
   ]
  },
  {
   "cell_type": "code",
   "execution_count": 195,
   "id": "654d47de",
   "metadata": {},
   "outputs": [],
   "source": [
    "sedan=driver.find_element(By.XPATH,'//*[@id=\"rf01\"]/div[1]/div/div/main/div[1]/div[2]/div/div[10]/div[2]/ul/li[2]/label/span[1]')\n",
    "sedan.click()"
   ]
  },
  {
   "cell_type": "code",
   "execution_count": 196,
   "id": "ed9c4aea",
   "metadata": {},
   "outputs": [],
   "source": [
    "SUV=driver.find_element(By.XPATH,'//*[@id=\"rf01\"]/div[1]/div/div/main/div[1]/div[2]/div/div[10]/div[2]/ul/li[3]/label')\n",
    "SUV.click()"
   ]
  },
  {
   "cell_type": "code",
   "execution_count": 191,
   "id": "b0b13de8",
   "metadata": {},
   "outputs": [],
   "source": [
    "#scrolling the inner div in webpage\n",
    "scrolling_element= driver.find_element(By.XPATH,'//*[@id=\"rf01\"]/div[1]/div/div/main/div[1]/div[2]/div')    \n",
    "driver.execute_script('arguments[0].scrollTop = arguments[0].scrollHeight', scrolling_element)"
   ]
  },
  {
   "cell_type": "code",
   "execution_count": 192,
   "id": "1c680699",
   "metadata": {},
   "outputs": [],
   "source": [
    "ow2=driver.find_element(By.XPATH,'//*[@id=\"rf01\"]/div[1]/div/div/main/div[1]/div[2]/div/div[14]/div[2]/ul/li[2]/label/span')\n",
    "ow2.click()"
   ]
  },
  {
   "cell_type": "code",
   "execution_count": 193,
   "id": "224c0b64",
   "metadata": {},
   "outputs": [],
   "source": [
    "#scrolling the inner div in webpage\n",
    "scrolling_element= driver.find_element(By.XPATH,'//*[@id=\"rf01\"]/div[1]/div/div/main/div[1]/div[2]/div')    \n",
    "driver.execute_script('arguments[0].scrollTop = arguments[0].scrollHeight', scrolling_element)"
   ]
  },
  {
   "cell_type": "code",
   "execution_count": 194,
   "id": "b97a6b32",
   "metadata": {},
   "outputs": [],
   "source": [
    "ow1=driver.find_element(By.XPATH,'//*[@id=\"rf01\"]/div[1]/div/div/main/div[1]/div[2]/div/div[14]/div[2]/ul/li[1]/label/span')\n",
    "ow1.click()"
   ]
  },
  {
   "cell_type": "code",
   "execution_count": 197,
   "id": "494e306a",
   "metadata": {},
   "outputs": [],
   "source": [
    "n=driver.find_elements(By.XPATH,\"//div[@class='gsc_col-xs-7  carsName']/a\")\n",
    "p=driver.find_elements(By.XPATH,\"//div[@class='gsc_col-xs-5 text-right price']/span\")\n",
    "t=driver.find_elements(By.XPATH,\"//div[@class='truncate dotlist']/span[3]\")\n",
    "k=driver.find_elements(By.XPATH,\"//div[@class='truncate dotlist']/span[1]\")\n",
    "f=driver.find_elements(By.XPATH,\"//div[@class='truncate dotlist']/span[2]\")"
   ]
  },
  {
   "cell_type": "code",
   "execution_count": 198,
   "id": "925711c7",
   "metadata": {},
   "outputs": [],
   "source": [
    "text(n,name)\n",
    "text(p,price)\n",
    "text(t,trans)\n",
    "text(k,km)\n",
    "text(f,fuel)"
   ]
  },
  {
   "cell_type": "code",
   "execution_count": 199,
   "id": "55b01156",
   "metadata": {},
   "outputs": [],
   "source": [
    "for i in range(len(n)):\n",
    "    owner.append(1)\n",
    "    type_.append(\"SUV\")"
   ]
  },
  {
   "cell_type": "markdown",
   "id": "73fe493f",
   "metadata": {},
   "source": [
    "### Second Owner"
   ]
  },
  {
   "cell_type": "code",
   "execution_count": 205,
   "id": "7d23c790",
   "metadata": {},
   "outputs": [],
   "source": [
    "#scrolling the inner div in webpage\n",
    "scrolling_element= driver.find_element(By.XPATH,'//*[@id=\"rf01\"]/div[1]/div/div/main/div[1]/div[2]/div')    \n",
    "driver.execute_script('arguments[0].scrollTop = arguments[0].scrollHeight', scrolling_element)"
   ]
  },
  {
   "cell_type": "code",
   "execution_count": 206,
   "id": "4137d2cc",
   "metadata": {},
   "outputs": [],
   "source": [
    "ow1=driver.find_element(By.XPATH,'//*[@id=\"rf01\"]/div[1]/div/div/main/div[1]/div[2]/div/div[14]/div[2]/ul/li[1]/label/span')\n",
    "ow1.click()"
   ]
  },
  {
   "cell_type": "code",
   "execution_count": 207,
   "id": "21d8cf85",
   "metadata": {},
   "outputs": [],
   "source": [
    "#scrolling the inner div in webpage\n",
    "scrolling_element= driver.find_element(By.XPATH,'//*[@id=\"rf01\"]/div[1]/div/div/main/div[1]/div[2]/div')    \n",
    "driver.execute_script('arguments[0].scrollTop = arguments[0].scrollHeight', scrolling_element)"
   ]
  },
  {
   "cell_type": "code",
   "execution_count": 208,
   "id": "6bf86e89",
   "metadata": {},
   "outputs": [],
   "source": [
    "ow2=driver.find_element(By.XPATH,'//*[@id=\"rf01\"]/div[1]/div/div/main/div[1]/div[2]/div/div[14]/div[2]/ul/li[2]/label/span')\n",
    "ow2.click()"
   ]
  },
  {
   "cell_type": "code",
   "execution_count": 209,
   "id": "e74d9afb",
   "metadata": {},
   "outputs": [],
   "source": [
    "n=driver.find_elements(By.XPATH,\"//div[@class='gsc_col-xs-7  carsName']/a\")\n",
    "p=driver.find_elements(By.XPATH,\"//div[@class='gsc_col-xs-5 text-right price']/span\")\n",
    "t=driver.find_elements(By.XPATH,\"//div[@class='truncate dotlist']/span[3]\")\n",
    "k=driver.find_elements(By.XPATH,\"//div[@class='truncate dotlist']/span[1]\")\n",
    "f=driver.find_elements(By.XPATH,\"//div[@class='truncate dotlist']/span[2]\")"
   ]
  },
  {
   "cell_type": "code",
   "execution_count": 210,
   "id": "2cc8cf91",
   "metadata": {},
   "outputs": [],
   "source": [
    "text(n,name)\n",
    "text(p,price)\n",
    "text(t,trans)\n",
    "text(k,km)\n",
    "text(f,fuel)"
   ]
  },
  {
   "cell_type": "code",
   "execution_count": 211,
   "id": "3692c163",
   "metadata": {},
   "outputs": [],
   "source": [
    "for i in range(len(n)):\n",
    "    owner.append(2)\n",
    "    type_.append(\"SUV\")"
   ]
  },
  {
   "cell_type": "markdown",
   "id": "cf5da6ca",
   "metadata": {},
   "source": [
    "## Minivan"
   ]
  },
  {
   "cell_type": "markdown",
   "id": "d9527bd9",
   "metadata": {},
   "source": [
    "### First Owner"
   ]
  },
  {
   "cell_type": "code",
   "execution_count": 213,
   "id": "73a9470a",
   "metadata": {},
   "outputs": [],
   "source": [
    "#scrolling the inner div in webpage\n",
    "scrolling_element= driver.find_element(By.XPATH,'//*[@id=\"rf01\"]/div[1]/div/div/main/div[1]/div[2]/div')    \n",
    "driver.execute_script('arguments[0].scrollTop = arguments[0].scrollHeight', scrolling_element)"
   ]
  },
  {
   "cell_type": "code",
   "execution_count": 214,
   "id": "afa9cef1",
   "metadata": {},
   "outputs": [],
   "source": [
    "SUV=driver.find_element(By.XPATH,'//*[@id=\"rf01\"]/div[1]/div/div/main/div[1]/div[2]/div/div[10]/div[2]/ul/li[3]/label/span[1]')\n",
    "SUV.click()"
   ]
  },
  {
   "cell_type": "code",
   "execution_count": 215,
   "id": "011e58eb",
   "metadata": {},
   "outputs": [],
   "source": [
    "minivan=driver.find_element(By.XPATH,'//*[@id=\"rf01\"]/div[1]/div/div/main/div[1]/div[2]/div/div[10]/div[2]/ul/li[5]/label/span[1]')\n",
    "minivan.click()"
   ]
  },
  {
   "cell_type": "code",
   "execution_count": 231,
   "id": "096706e3",
   "metadata": {},
   "outputs": [],
   "source": [
    "#scrolling the inner div in webpage\n",
    "scrolling_element= driver.find_element(By.XPATH,'//*[@id=\"rf01\"]/div[1]/div/div/main/div[1]/div[2]/div')    \n",
    "driver.execute_script('arguments[0].scrollTop = arguments[0].scrollHeight', scrolling_element)"
   ]
  },
  {
   "cell_type": "code",
   "execution_count": 234,
   "id": "6a550849",
   "metadata": {},
   "outputs": [],
   "source": [
    "ow1=driver.find_element(By.XPATH,'//*[@id=\"rf01\"]/div[1]/div/div/main/div[1]/div[2]/div/div[13]/div[2]/ul/li[1]/label/span')\n",
    "ow1.click()"
   ]
  },
  {
   "cell_type": "code",
   "execution_count": 239,
   "id": "a183970c",
   "metadata": {},
   "outputs": [],
   "source": [
    "#scrolling the inner div in webpage\n",
    "scrolling_element= driver.find_element(By.XPATH,'//*[@id=\"rf01\"]/div[1]/div/div/main/div[1]/div[2]/div')    \n",
    "driver.execute_script('arguments[0].scrollTop = arguments[0].scrollHeight', scrolling_element)"
   ]
  },
  {
   "cell_type": "code",
   "execution_count": 241,
   "id": "664492b0",
   "metadata": {},
   "outputs": [],
   "source": [
    "ow2=driver.find_element(By.XPATH,'//*[@id=\"rf01\"]/div[1]/div/div/main/div[1]/div[2]/div/div[13]/div[2]/ul/li[2]/label/span')\n",
    "ow2.click()"
   ]
  },
  {
   "cell_type": "code",
   "execution_count": 242,
   "id": "2a744ab9",
   "metadata": {},
   "outputs": [],
   "source": [
    "n=driver.find_elements(By.XPATH,\"//div[@class='gsc_col-xs-7  carsName']/a\")\n",
    "p=driver.find_elements(By.XPATH,\"//div[@class='gsc_col-xs-5 text-right price']/span\")\n",
    "t=driver.find_elements(By.XPATH,\"//div[@class='truncate dotlist']/span[3]\")\n",
    "k=driver.find_elements(By.XPATH,\"//div[@class='truncate dotlist']/span[1]\")\n",
    "f=driver.find_elements(By.XPATH,\"//div[@class='truncate dotlist']/span[2]\")"
   ]
  },
  {
   "cell_type": "code",
   "execution_count": 243,
   "id": "5ddca067",
   "metadata": {},
   "outputs": [],
   "source": [
    "text(n,name)\n",
    "text(p,price)\n",
    "text(t,trans)\n",
    "text(k,km)\n",
    "text(f,fuel)"
   ]
  },
  {
   "cell_type": "code",
   "execution_count": 244,
   "id": "fbbe2afe",
   "metadata": {},
   "outputs": [],
   "source": [
    "for i in range(len(n)):\n",
    "    owner.append(1)\n",
    "    type_.append(\"Minivan\")"
   ]
  },
  {
   "cell_type": "markdown",
   "id": "69723f2e",
   "metadata": {},
   "source": [
    "### Second user"
   ]
  },
  {
   "cell_type": "code",
   "execution_count": 245,
   "id": "f97d7219",
   "metadata": {},
   "outputs": [],
   "source": [
    "#scrolling the inner div in webpage\n",
    "scrolling_element= driver.find_element(By.XPATH,'//*[@id=\"rf01\"]/div[1]/div/div/main/div[1]/div[2]/div')    \n",
    "driver.execute_script('arguments[0].scrollTop = arguments[0].scrollHeight', scrolling_element)"
   ]
  },
  {
   "cell_type": "code",
   "execution_count": 246,
   "id": "05282610",
   "metadata": {},
   "outputs": [],
   "source": [
    "ow1=driver.find_element(By.XPATH,'//*[@id=\"rf01\"]/div[1]/div/div/main/div[1]/div[2]/div/div[13]/div[2]/ul/li[1]/label/span')\n",
    "ow1.click()"
   ]
  },
  {
   "cell_type": "code",
   "execution_count": 248,
   "id": "488d8e82",
   "metadata": {},
   "outputs": [],
   "source": [
    "#scrolling the inner div in webpage\n",
    "scrolling_element= driver.find_element(By.XPATH,'//*[@id=\"rf01\"]/div[1]/div/div/main/div[1]/div[2]/div')    \n",
    "driver.execute_script('arguments[0].scrollTop = arguments[0].scrollHeight', scrolling_element)"
   ]
  },
  {
   "cell_type": "code",
   "execution_count": 249,
   "id": "400cf8a1",
   "metadata": {},
   "outputs": [],
   "source": [
    "ow2=driver.find_element(By.XPATH,'//*[@id=\"rf01\"]/div[1]/div/div/main/div[1]/div[2]/div/div[13]/div[2]/ul/li[2]/label/span')\n",
    "ow2.click()"
   ]
  },
  {
   "cell_type": "code",
   "execution_count": 250,
   "id": "835c98af",
   "metadata": {},
   "outputs": [],
   "source": [
    "n=driver.find_elements(By.XPATH,\"//div[@class='gsc_col-xs-7  carsName']/a\")\n",
    "p=driver.find_elements(By.XPATH,\"//div[@class='gsc_col-xs-5 text-right price']/span\")\n",
    "t=driver.find_elements(By.XPATH,\"//div[@class='truncate dotlist']/span[3]\")\n",
    "k=driver.find_elements(By.XPATH,\"//div[@class='truncate dotlist']/span[1]\")\n",
    "f=driver.find_elements(By.XPATH,\"//div[@class='truncate dotlist']/span[2]\")"
   ]
  },
  {
   "cell_type": "code",
   "execution_count": 251,
   "id": "3a646de1",
   "metadata": {},
   "outputs": [],
   "source": [
    "text(n,name)\n",
    "text(p,price)\n",
    "text(t,trans)\n",
    "text(k,km)\n",
    "text(f,fuel)"
   ]
  },
  {
   "cell_type": "code",
   "execution_count": 252,
   "id": "89ab52b8",
   "metadata": {},
   "outputs": [],
   "source": [
    "for i in range(len(n)):\n",
    "    owner.append(2)\n",
    "    type_.append(\"Minivan\")"
   ]
  },
  {
   "cell_type": "markdown",
   "id": "acfbe423",
   "metadata": {},
   "source": [
    "## MUV"
   ]
  },
  {
   "cell_type": "markdown",
   "id": "55b7fbb5",
   "metadata": {},
   "source": [
    "### First Owner"
   ]
  },
  {
   "cell_type": "code",
   "execution_count": 255,
   "id": "3d871f27",
   "metadata": {},
   "outputs": [],
   "source": [
    "#scrolling the inner div in webpage\n",
    "scrolling_element= driver.find_element(By.XPATH,'//*[@id=\"rf01\"]/div[1]/div/div/main/div[1]/div[2]/div')    \n",
    "driver.execute_script('arguments[0].scrollTop = arguments[0].scrollHeight', scrolling_element)"
   ]
  },
  {
   "cell_type": "code",
   "execution_count": 259,
   "id": "ad6dee7f",
   "metadata": {},
   "outputs": [],
   "source": [
    "minivan=driver.find_element(By.XPATH,'//*[@id=\"rf01\"]/div[1]/div/div/main/div[1]/div[2]/div/div[10]/div[2]/ul/li[7]/label/span[1]')\n",
    "minivan.click()"
   ]
  },
  {
   "cell_type": "code",
   "execution_count": null,
   "id": "2688aeb5",
   "metadata": {},
   "outputs": [],
   "source": [
    "MUV=driver.find_element(By.XPATH,'//*[@id=\"rf01\"]/div[1]/div/div/main/div[1]/div[2]/div/div[10]/div[2]/ul/li[4]/label/span[2]')\n",
    "MUV.click()"
   ]
  },
  {
   "cell_type": "code",
   "execution_count": 261,
   "id": "bd22e0ee",
   "metadata": {},
   "outputs": [],
   "source": [
    "#scrolling the inner div in webpage\n",
    "scrolling_element= driver.find_element(By.XPATH,'//*[@id=\"rf01\"]/div[1]/div/div/main/div[1]/div[2]/div')    \n",
    "driver.execute_script('arguments[0].scrollTop = arguments[0].scrollHeight', scrolling_element)"
   ]
  },
  {
   "cell_type": "code",
   "execution_count": 262,
   "id": "ec96f47b",
   "metadata": {},
   "outputs": [],
   "source": [
    "ow2=driver.find_element(By.XPATH,'//*[@id=\"rf01\"]/div[1]/div/div/main/div[1]/div[2]/div/div[14]/div[2]/ul/li[2]/label/span')\n",
    "ow2.click()"
   ]
  },
  {
   "cell_type": "code",
   "execution_count": 263,
   "id": "557da37c",
   "metadata": {},
   "outputs": [],
   "source": [
    "#scrolling the inner div in webpage\n",
    "scrolling_element= driver.find_element(By.XPATH,'//*[@id=\"rf01\"]/div[1]/div/div/main/div[1]/div[2]/div')    \n",
    "driver.execute_script('arguments[0].scrollTop = arguments[0].scrollHeight', scrolling_element)"
   ]
  },
  {
   "cell_type": "code",
   "execution_count": 266,
   "id": "f87b6763",
   "metadata": {},
   "outputs": [],
   "source": [
    "ow1=driver.find_element(By.XPATH,'//*[@id=\"rf01\"]/div[1]/div/div/main/div[1]/div[2]/div/div[14]/div[2]/ul/li[1]/label/span')\n",
    "ow1.click()"
   ]
  },
  {
   "cell_type": "code",
   "execution_count": 267,
   "id": "622d7c05",
   "metadata": {},
   "outputs": [],
   "source": [
    "n=driver.find_elements(By.XPATH,\"//div[@class='gsc_col-xs-7  carsName']/a\")\n",
    "p=driver.find_elements(By.XPATH,\"//div[@class='gsc_col-xs-5 text-right price']/span\")\n",
    "t=driver.find_elements(By.XPATH,\"//div[@class='truncate dotlist']/span[3]\")\n",
    "k=driver.find_elements(By.XPATH,\"//div[@class='truncate dotlist']/span[1]\")\n",
    "f=driver.find_elements(By.XPATH,\"//div[@class='truncate dotlist']/span[2]\")"
   ]
  },
  {
   "cell_type": "code",
   "execution_count": 268,
   "id": "2adc64dd",
   "metadata": {},
   "outputs": [],
   "source": [
    "text(n,name)\n",
    "text(p,price)\n",
    "text(t,trans)\n",
    "text(k,km)\n",
    "text(f,fuel)"
   ]
  },
  {
   "cell_type": "code",
   "execution_count": 269,
   "id": "3aa7fa15",
   "metadata": {},
   "outputs": [],
   "source": [
    "for i in range(len(n)):\n",
    "    owner.append(1)\n",
    "    type_.append(\"MUV\")"
   ]
  },
  {
   "cell_type": "markdown",
   "id": "d4def444",
   "metadata": {},
   "source": [
    "### Second User"
   ]
  },
  {
   "cell_type": "code",
   "execution_count": 272,
   "id": "50265d0e",
   "metadata": {},
   "outputs": [],
   "source": [
    "#scrolling the inner div in webpage\n",
    "scrolling_element= driver.find_element(By.XPATH,'//*[@id=\"rf01\"]/div[1]/div/div/main/div[1]/div[2]/div')    \n",
    "driver.execute_script('arguments[0].scrollTop = arguments[0].scrollHeight', scrolling_element)"
   ]
  },
  {
   "cell_type": "code",
   "execution_count": 273,
   "id": "1f103ade",
   "metadata": {},
   "outputs": [],
   "source": [
    "ow1=driver.find_element(By.XPATH,'//*[@id=\"rf01\"]/div[1]/div/div/main/div[1]/div[2]/div/div[14]/div[2]/ul/li[1]/label/span')\n",
    "ow1.click()"
   ]
  },
  {
   "cell_type": "code",
   "execution_count": 274,
   "id": "28fd9c95",
   "metadata": {},
   "outputs": [],
   "source": [
    "#scrolling the inner div in webpage\n",
    "scrolling_element= driver.find_element(By.XPATH,'//*[@id=\"rf01\"]/div[1]/div/div/main/div[1]/div[2]/div')    \n",
    "driver.execute_script('arguments[0].scrollTop = arguments[0].scrollHeight', scrolling_element)"
   ]
  },
  {
   "cell_type": "code",
   "execution_count": 275,
   "id": "5d432d5e",
   "metadata": {},
   "outputs": [],
   "source": [
    "ow2=driver.find_element(By.XPATH,'//*[@id=\"rf01\"]/div[1]/div/div/main/div[1]/div[2]/div/div[14]/div[2]/ul/li[2]/label/span')\n",
    "ow2.click()"
   ]
  },
  {
   "cell_type": "code",
   "execution_count": 276,
   "id": "4a760fed",
   "metadata": {},
   "outputs": [],
   "source": [
    "n=driver.find_elements(By.XPATH,\"//div[@class='gsc_col-xs-7  carsName']/a\")\n",
    "p=driver.find_elements(By.XPATH,\"//div[@class='gsc_col-xs-5 text-right price']/span\")\n",
    "t=driver.find_elements(By.XPATH,\"//div[@class='truncate dotlist']/span[3]\")\n",
    "k=driver.find_elements(By.XPATH,\"//div[@class='truncate dotlist']/span[1]\")\n",
    "f=driver.find_elements(By.XPATH,\"//div[@class='truncate dotlist']/span[2]\")"
   ]
  },
  {
   "cell_type": "code",
   "execution_count": 277,
   "id": "3f885473",
   "metadata": {},
   "outputs": [],
   "source": [
    "text(n,name)\n",
    "text(p,price)\n",
    "text(t,trans)\n",
    "text(k,km)\n",
    "text(f,fuel)"
   ]
  },
  {
   "cell_type": "code",
   "execution_count": 278,
   "id": "8bf77c96",
   "metadata": {},
   "outputs": [],
   "source": [
    "for i in range(len(n)):\n",
    "    owner.append(2)\n",
    "    type_.append(\"MUV\")"
   ]
  },
  {
   "cell_type": "markdown",
   "id": "1196d047",
   "metadata": {},
   "source": [
    "## Luxary"
   ]
  },
  {
   "cell_type": "code",
   "execution_count": 280,
   "id": "950e6b21",
   "metadata": {},
   "outputs": [],
   "source": [
    "#scrolling the inner div in webpage\n",
    "scrolling_element= driver.find_element(By.XPATH,'//*[@id=\"rf01\"]/div[1]/div/div/main/div[1]/div[2]/div')    \n",
    "driver.execute_script('arguments[0].scrollTop = arguments[0].scrollHeight', scrolling_element)"
   ]
  },
  {
   "cell_type": "code",
   "execution_count": 281,
   "id": "39448bd6",
   "metadata": {},
   "outputs": [],
   "source": [
    "MUV=driver.find_element(By.XPATH,'//*[@id=\"rf01\"]/div[1]/div/div/main/div[1]/div[2]/div/div[10]/div[2]/ul/li[4]/label/span[1]')\n",
    "MUV.click()"
   ]
  },
  {
   "cell_type": "code",
   "execution_count": 282,
   "id": "c5f71b0d",
   "metadata": {},
   "outputs": [],
   "source": [
    "luxary=driver.find_element(By.XPATH,'//*[@id=\"rf01\"]/div[1]/div/div/main/div[1]/div[2]/div/div[10]/div[2]/ul/li[6]/label/span[2]')\n",
    "luxary.click()"
   ]
  },
  {
   "cell_type": "code",
   "execution_count": 294,
   "id": "b61f483e",
   "metadata": {},
   "outputs": [],
   "source": [
    "#scrolling the inner div in webpage\n",
    "scrolling_element= driver.find_element(By.XPATH,'//*[@id=\"rf01\"]/div[1]/div/div/main/div[1]/div[2]/div')    \n",
    "driver.execute_script('arguments[0].scrollTop = arguments[0].scrollHeight', scrolling_element)"
   ]
  },
  {
   "cell_type": "code",
   "execution_count": 296,
   "id": "bdd5dc61",
   "metadata": {},
   "outputs": [],
   "source": [
    "ow2=driver.find_element(By.XPATH,'//*[@id=\"rf01\"]/div[1]/div/div/main/div[1]/div[2]/div/div[13]/div[2]/ul/li[1]/label/span')\n",
    "ow2.click()"
   ]
  },
  {
   "cell_type": "code",
   "execution_count": 301,
   "id": "35149110",
   "metadata": {},
   "outputs": [],
   "source": [
    "#scrolling the inner div in webpage\n",
    "scrolling_element= driver.find_element(By.XPATH,'//*[@id=\"rf01\"]/div[1]/div/div/main/div[1]/div[2]/div')    \n",
    "driver.execute_script('arguments[0].scrollTop = arguments[0].scrollHeight', scrolling_element)"
   ]
  },
  {
   "cell_type": "code",
   "execution_count": 303,
   "id": "7ed4a59c",
   "metadata": {},
   "outputs": [],
   "source": [
    "ow1=driver.find_element(By.XPATH,'//*[@id=\"rf01\"]/div[1]/div/div/main/div[1]/div[2]/div/div[13]/div[2]/ul/li[2]/label/span')\n",
    "ow1.click()"
   ]
  },
  {
   "cell_type": "code",
   "execution_count": 304,
   "id": "1afc7c41",
   "metadata": {},
   "outputs": [],
   "source": [
    "n=driver.find_elements(By.XPATH,\"//div[@class='gsc_col-xs-7  carsName']/a\")\n",
    "p=driver.find_elements(By.XPATH,\"//div[@class='gsc_col-xs-5 text-right price']/span\")\n",
    "t=driver.find_elements(By.XPATH,\"//div[@class='truncate dotlist']/span[3]\")\n",
    "k=driver.find_elements(By.XPATH,\"//div[@class='truncate dotlist']/span[1]\")\n",
    "f=driver.find_elements(By.XPATH,\"//div[@class='truncate dotlist']/span[2]\")"
   ]
  },
  {
   "cell_type": "code",
   "execution_count": 305,
   "id": "daed260d",
   "metadata": {},
   "outputs": [],
   "source": [
    "text(n,name)\n",
    "text(p,price)\n",
    "text(t,trans)\n",
    "text(k,km)\n",
    "text(f,fuel)"
   ]
  },
  {
   "cell_type": "code",
   "execution_count": 306,
   "id": "ee2f06e0",
   "metadata": {},
   "outputs": [],
   "source": [
    "for i in range(len(n)):\n",
    "    owner.append(1)\n",
    "    type_.append(\"luxary\")"
   ]
  },
  {
   "cell_type": "markdown",
   "id": "710da937",
   "metadata": {},
   "source": [
    "### Second Owner"
   ]
  },
  {
   "cell_type": "code",
   "execution_count": 307,
   "id": "4900acf3",
   "metadata": {},
   "outputs": [],
   "source": [
    "#scrolling the inner div in webpage\n",
    "scrolling_element= driver.find_element(By.XPATH,'//*[@id=\"rf01\"]/div[1]/div/div/main/div[1]/div[2]/div')    \n",
    "driver.execute_script('arguments[0].scrollTop = arguments[0].scrollHeight', scrolling_element)"
   ]
  },
  {
   "cell_type": "code",
   "execution_count": 308,
   "id": "85aebbd7",
   "metadata": {},
   "outputs": [],
   "source": [
    "ow1=driver.find_element(By.XPATH,'//*[@id=\"rf01\"]/div[1]/div/div/main/div[1]/div[2]/div/div[13]/div[2]/ul/li[2]/label/span')\n",
    "ow1.click()"
   ]
  },
  {
   "cell_type": "code",
   "execution_count": 309,
   "id": "586c7cb2",
   "metadata": {},
   "outputs": [],
   "source": [
    "#scrolling the inner div in webpage\n",
    "scrolling_element= driver.find_element(By.XPATH,'//*[@id=\"rf01\"]/div[1]/div/div/main/div[1]/div[2]/div')    \n",
    "driver.execute_script('arguments[0].scrollTop = arguments[0].scrollHeight', scrolling_element)"
   ]
  },
  {
   "cell_type": "code",
   "execution_count": 310,
   "id": "508ed035",
   "metadata": {},
   "outputs": [],
   "source": [
    "ow2=driver.find_element(By.XPATH,'//*[@id=\"rf01\"]/div[1]/div/div/main/div[1]/div[2]/div/div[13]/div[2]/ul/li[1]/label/span')\n",
    "ow2.click()"
   ]
  },
  {
   "cell_type": "code",
   "execution_count": 311,
   "id": "4ae45beb",
   "metadata": {},
   "outputs": [],
   "source": [
    "n=driver.find_elements(By.XPATH,\"//div[@class='gsc_col-xs-7  carsName']/a\")\n",
    "p=driver.find_elements(By.XPATH,\"//div[@class='gsc_col-xs-5 text-right price']/span\")\n",
    "t=driver.find_elements(By.XPATH,\"//div[@class='truncate dotlist']/span[3]\")\n",
    "k=driver.find_elements(By.XPATH,\"//div[@class='truncate dotlist']/span[1]\")\n",
    "f=driver.find_elements(By.XPATH,\"//div[@class='truncate dotlist']/span[2]\")"
   ]
  },
  {
   "cell_type": "code",
   "execution_count": 312,
   "id": "68bc7920",
   "metadata": {},
   "outputs": [],
   "source": [
    "text(n,name)\n",
    "text(p,price)\n",
    "text(t,trans)\n",
    "text(k,km)\n",
    "text(f,fuel)"
   ]
  },
  {
   "cell_type": "code",
   "execution_count": 313,
   "id": "b180af14",
   "metadata": {},
   "outputs": [],
   "source": [
    "for i in range(len(n)):\n",
    "    owner.append(2)\n",
    "    type_.append(\"luxary\")"
   ]
  },
  {
   "cell_type": "markdown",
   "id": "7f65d036",
   "metadata": {},
   "source": [
    "# Creating Dataset Foe the data in cardekho"
   ]
  },
  {
   "cell_type": "code",
   "execution_count": 314,
   "id": "d8bcddd2",
   "metadata": {},
   "outputs": [
    {
     "data": {
      "text/html": [
       "<div>\n",
       "<style scoped>\n",
       "    .dataframe tbody tr th:only-of-type {\n",
       "        vertical-align: middle;\n",
       "    }\n",
       "\n",
       "    .dataframe tbody tr th {\n",
       "        vertical-align: top;\n",
       "    }\n",
       "\n",
       "    .dataframe thead th {\n",
       "        text-align: right;\n",
       "    }\n",
       "</style>\n",
       "<table border=\"1\" class=\"dataframe\">\n",
       "  <thead>\n",
       "    <tr style=\"text-align: right;\">\n",
       "      <th></th>\n",
       "      <th>Car Name</th>\n",
       "      <th>Transmission</th>\n",
       "      <th>Kilometers Run</th>\n",
       "      <th>Fuel Type</th>\n",
       "      <th>Body Type</th>\n",
       "      <th>Previous Owners</th>\n",
       "      <th>Price</th>\n",
       "    </tr>\n",
       "  </thead>\n",
       "  <tbody>\n",
       "    <tr>\n",
       "      <th>0</th>\n",
       "      <td>2015 Maruti Wagon R</td>\n",
       "      <td>automatic</td>\n",
       "      <td>61,885 kms</td>\n",
       "      <td>Petrol</td>\n",
       "      <td>Hatchback</td>\n",
       "      <td>1</td>\n",
       "      <td>3,42,000</td>\n",
       "    </tr>\n",
       "    <tr>\n",
       "      <th>1</th>\n",
       "      <td>2016 Maruti Wagon R</td>\n",
       "      <td>manual</td>\n",
       "      <td>70,368 kms</td>\n",
       "      <td>CNG</td>\n",
       "      <td>Hatchback</td>\n",
       "      <td>1</td>\n",
       "      <td>4,07,500</td>\n",
       "    </tr>\n",
       "    <tr>\n",
       "      <th>2</th>\n",
       "      <td>2020 Toyota Glanza</td>\n",
       "      <td>manual</td>\n",
       "      <td>12,903 kms</td>\n",
       "      <td>Petrol</td>\n",
       "      <td>Hatchback</td>\n",
       "      <td>1</td>\n",
       "      <td>7,38,000</td>\n",
       "    </tr>\n",
       "    <tr>\n",
       "      <th>3</th>\n",
       "      <td>2016 Maruti Celerio</td>\n",
       "      <td>automatic</td>\n",
       "      <td>1,06,690 kms</td>\n",
       "      <td>Petrol</td>\n",
       "      <td>Hatchback</td>\n",
       "      <td>1</td>\n",
       "      <td>3,69,000</td>\n",
       "    </tr>\n",
       "    <tr>\n",
       "      <th>4</th>\n",
       "      <td>2018 Maruti Swift</td>\n",
       "      <td>manual</td>\n",
       "      <td>37,449 kms</td>\n",
       "      <td>Petrol</td>\n",
       "      <td>Hatchback</td>\n",
       "      <td>1</td>\n",
       "      <td>5,52,000</td>\n",
       "    </tr>\n",
       "  </tbody>\n",
       "</table>\n",
       "</div>"
      ],
      "text/plain": [
       "              Car Name Transmission Kilometers Run Fuel Type  Body Type  \\\n",
       "0  2015 Maruti Wagon R    automatic     61,885 kms    Petrol  Hatchback   \n",
       "1  2016 Maruti Wagon R       manual     70,368 kms       CNG  Hatchback   \n",
       "2   2020 Toyota Glanza       manual     12,903 kms    Petrol  Hatchback   \n",
       "3  2016 Maruti Celerio    automatic   1,06,690 kms    Petrol  Hatchback   \n",
       "4    2018 Maruti Swift       manual     37,449 kms    Petrol  Hatchback   \n",
       "\n",
       "   Previous Owners     Price  \n",
       "0                1  3,42,000  \n",
       "1                1  4,07,500  \n",
       "2                1  7,38,000  \n",
       "3                1  3,69,000  \n",
       "4                1  5,52,000  "
      ]
     },
     "execution_count": 314,
     "metadata": {},
     "output_type": "execute_result"
    }
   ],
   "source": [
    "dataset=pd.DataFrame()\n",
    "dataset['Car Name']=name\n",
    "dataset['Transmission']=trans\n",
    "dataset['Kilometers Run']=km\n",
    "dataset['Fuel Type']=fuel\n",
    "dataset['Body Type']=type_\n",
    "dataset['Previous Owners']=owner\n",
    "dataset['Price']=price\n",
    "dataset.head()"
   ]
  },
  {
   "cell_type": "markdown",
   "id": "6db695eb",
   "metadata": {},
   "source": [
    "# Saving to CSV File"
   ]
  },
  {
   "cell_type": "code",
   "execution_count": 316,
   "id": "c9326741",
   "metadata": {},
   "outputs": [],
   "source": [
    "dataset.to_csv(r'C:\\Users\\Avinash\\Desktop\\Internship\\Project\\Car-Price_Prediction\\Car Price Prediction\\carpricedata.csv', index = False)"
   ]
  },
  {
   "cell_type": "markdown",
   "id": "7e4d0f57",
   "metadata": {},
   "source": [
    "# Cars24"
   ]
  },
  {
   "cell_type": "code",
   "execution_count": 87,
   "id": "87f2fb73",
   "metadata": {},
   "outputs": [],
   "source": [
    "s=Service(\"C:\\chromedriver_win32\\chromedriver.exe\")\n",
    "driver=webdriver.Chrome(service=s)\n",
    "driver.get('https://www.cars24.com')"
   ]
  },
  {
   "cell_type": "code",
   "execution_count": 88,
   "id": "b4c734d1",
   "metadata": {},
   "outputs": [],
   "source": [
    "cross=driver.find_element(By.XPATH,'/html/body/div[1]/div[5]/div/div/h3/div/img')\n",
    "cross.click()"
   ]
  },
  {
   "cell_type": "code",
   "execution_count": 89,
   "id": "5cd20e42",
   "metadata": {},
   "outputs": [],
   "source": [
    "buc=driver.find_element(By.XPATH,'/html/body/div[1]/div[1]/div[2]/div/div/div[2]/ul/li[3]/a')\n",
    "buc.click()"
   ]
  },
  {
   "cell_type": "markdown",
   "id": "51adddf4",
   "metadata": {},
   "source": [
    "### Hatchback"
   ]
  },
  {
   "cell_type": "code",
   "execution_count": 76,
   "id": "d529efbd",
   "metadata": {},
   "outputs": [],
   "source": [
    "n=driver.find_elements(By.XPATH,\"//h2[@class='_3FpCg']\")\n",
    "p=driver.find_elements(By.XPATH,\"//div[@class='_7udZZ']\")\n",
    "t=driver.find_elements(By.XPATH,\"//p[@class='cvakB']/span\")\n",
    "k=driver.find_elements(By.XPATH,\"//ul[@class='bVR0c']/li[1]\")\n",
    "f=driver.find_elements(By.XPATH,\"//ul[@class='bVR0c']/li[3]\")\n",
    "o=driver.find_elements(By.XPATH,\"//ul[@class='bVR0c']/li[2]\")"
   ]
  },
  {
   "cell_type": "code",
   "execution_count": 77,
   "id": "aeaea910",
   "metadata": {},
   "outputs": [],
   "source": [
    "name=[]\n",
    "price=[]\n",
    "trans=[]\n",
    "km=[]\n",
    "fuel=[]\n",
    "owner=[]\n",
    "type_=[]\n",
    "text(n,name)\n",
    "text(p,price)\n",
    "text(t,trans)\n",
    "text(k,km)\n",
    "text(f,fuel)\n",
    "text(o,owner)"
   ]
  },
  {
   "cell_type": "code",
   "execution_count": 78,
   "id": "e23fb5cb",
   "metadata": {},
   "outputs": [],
   "source": [
    "for i in range(len(n)):\n",
    "    type_.append(\"Hatchback\")"
   ]
  },
  {
   "cell_type": "markdown",
   "id": "fd2d665c",
   "metadata": {},
   "source": [
    "### Sedan"
   ]
  },
  {
   "cell_type": "code",
   "execution_count": 80,
   "id": "4510ddfc",
   "metadata": {},
   "outputs": [],
   "source": [
    "n=driver.find_elements(By.XPATH,\"//h2[@class='_3FpCg']\")\n",
    "p=driver.find_elements(By.XPATH,\"//div[@class='_7udZZ']\")\n",
    "t=driver.find_elements(By.XPATH,\"//p[@class='cvakB']/span\")\n",
    "k=driver.find_elements(By.XPATH,\"//ul[@class='bVR0c']/li[1]\")\n",
    "f=driver.find_elements(By.XPATH,\"//ul[@class='bVR0c']/li[3]\")\n",
    "o=driver.find_elements(By.XPATH,\"//ul[@class='bVR0c']/li[2]\")"
   ]
  },
  {
   "cell_type": "code",
   "execution_count": 81,
   "id": "a0c3d0b4",
   "metadata": {},
   "outputs": [],
   "source": [
    "text(n,name)\n",
    "text(p,price)\n",
    "text(t,trans)\n",
    "text(k,km)\n",
    "text(f,fuel)\n",
    "text(o,owner)"
   ]
  },
  {
   "cell_type": "code",
   "execution_count": 82,
   "id": "63860322",
   "metadata": {},
   "outputs": [],
   "source": [
    "for i in range(len(n)):\n",
    "    type_.append(\"Sedan\")"
   ]
  },
  {
   "cell_type": "markdown",
   "id": "c8f3b098",
   "metadata": {},
   "source": [
    "### SUV"
   ]
  },
  {
   "cell_type": "code",
   "execution_count": 84,
   "id": "7f9ca36f",
   "metadata": {},
   "outputs": [],
   "source": [
    "n=driver.find_elements(By.XPATH,\"//h2[@class='_3FpCg']\")\n",
    "p=driver.find_elements(By.XPATH,\"//div[@class='_7udZZ']\")\n",
    "t=driver.find_elements(By.XPATH,\"//p[@class='cvakB']/span\")\n",
    "k=driver.find_elements(By.XPATH,\"//ul[@class='bVR0c']/li[1]\")\n",
    "f=driver.find_elements(By.XPATH,\"//ul[@class='bVR0c']/li[3]\")\n",
    "o=driver.find_elements(By.XPATH,\"//ul[@class='bVR0c']/li[2]\")"
   ]
  },
  {
   "cell_type": "code",
   "execution_count": 85,
   "id": "c86993a3",
   "metadata": {},
   "outputs": [],
   "source": [
    "text(n,name)\n",
    "text(p,price)\n",
    "text(t,trans)\n",
    "text(k,km)\n",
    "text(f,fuel)\n",
    "text(o,owner)"
   ]
  },
  {
   "cell_type": "code",
   "execution_count": 86,
   "id": "f6eff400",
   "metadata": {},
   "outputs": [],
   "source": [
    "for i in range(len(n)):\n",
    "    type_.append(\"SUV\")"
   ]
  },
  {
   "cell_type": "markdown",
   "id": "9614761a",
   "metadata": {},
   "source": [
    "### Luxary Sedan"
   ]
  },
  {
   "cell_type": "code",
   "execution_count": 90,
   "id": "ffc057ff",
   "metadata": {},
   "outputs": [],
   "source": [
    "n=driver.find_elements(By.XPATH,\"//h2[@class='_3FpCg']\")\n",
    "p=driver.find_elements(By.XPATH,\"//div[@class='_7udZZ']\")\n",
    "t=driver.find_elements(By.XPATH,\"//p[@class='cvakB']/span\")\n",
    "k=driver.find_elements(By.XPATH,\"//ul[@class='bVR0c']/li[1]\")\n",
    "f=driver.find_elements(By.XPATH,\"//ul[@class='bVR0c']/li[3]\")\n",
    "o=driver.find_elements(By.XPATH,\"//ul[@class='bVR0c']/li[2]\")"
   ]
  },
  {
   "cell_type": "code",
   "execution_count": 91,
   "id": "b1c00c59",
   "metadata": {},
   "outputs": [],
   "source": [
    "text(n,name)\n",
    "text(p,price)\n",
    "text(t,trans)\n",
    "text(k,km)\n",
    "text(f,fuel)\n",
    "text(o,owner)"
   ]
  },
  {
   "cell_type": "code",
   "execution_count": 92,
   "id": "397dff8d",
   "metadata": {},
   "outputs": [],
   "source": [
    "for i in range(len(n)):\n",
    "    type_.append(\"Luxary Sedan\")"
   ]
  },
  {
   "cell_type": "markdown",
   "id": "2e79184b",
   "metadata": {},
   "source": [
    "### Luxary SUV"
   ]
  },
  {
   "cell_type": "code",
   "execution_count": 94,
   "id": "a018fc1b",
   "metadata": {},
   "outputs": [],
   "source": [
    "n=driver.find_elements(By.XPATH,\"//h2[@class='_3FpCg']\")\n",
    "p=driver.find_elements(By.XPATH,\"//div[@class='_7udZZ']\")\n",
    "t=driver.find_elements(By.XPATH,\"//p[@class='cvakB']/span\")\n",
    "k=driver.find_elements(By.XPATH,\"//ul[@class='bVR0c']/li[1]\")\n",
    "f=driver.find_elements(By.XPATH,\"//ul[@class='bVR0c']/li[3]\")\n",
    "o=driver.find_elements(By.XPATH,\"//ul[@class='bVR0c']/li[2]\")"
   ]
  },
  {
   "cell_type": "code",
   "execution_count": 95,
   "id": "fec6d5be",
   "metadata": {},
   "outputs": [],
   "source": [
    "text(n,name)\n",
    "text(p,price)\n",
    "text(t,trans)\n",
    "text(k,km)\n",
    "text(f,fuel)\n",
    "text(o,owner)"
   ]
  },
  {
   "cell_type": "code",
   "execution_count": 96,
   "id": "36ca9c4b",
   "metadata": {},
   "outputs": [],
   "source": [
    "for i in range(len(n)):\n",
    "    type_.append(\"Luxary SUV\")"
   ]
  },
  {
   "cell_type": "markdown",
   "id": "6bafd3c7",
   "metadata": {},
   "source": [
    "# creating dataset for crs24"
   ]
  },
  {
   "cell_type": "code",
   "execution_count": 98,
   "id": "9cf300cf",
   "metadata": {},
   "outputs": [
    {
     "data": {
      "text/html": [
       "<div>\n",
       "<style scoped>\n",
       "    .dataframe tbody tr th:only-of-type {\n",
       "        vertical-align: middle;\n",
       "    }\n",
       "\n",
       "    .dataframe tbody tr th {\n",
       "        vertical-align: top;\n",
       "    }\n",
       "\n",
       "    .dataframe thead th {\n",
       "        text-align: right;\n",
       "    }\n",
       "</style>\n",
       "<table border=\"1\" class=\"dataframe\">\n",
       "  <thead>\n",
       "    <tr style=\"text-align: right;\">\n",
       "      <th></th>\n",
       "      <th>Car Name</th>\n",
       "      <th>Transmission</th>\n",
       "      <th>Kilometers Run</th>\n",
       "      <th>Fuel Type</th>\n",
       "      <th>Body Type</th>\n",
       "      <th>Previous Owners</th>\n",
       "      <th>Price</th>\n",
       "    </tr>\n",
       "  </thead>\n",
       "  <tbody>\n",
       "    <tr>\n",
       "      <th>0</th>\n",
       "      <td>2015 Maruti Swift</td>\n",
       "      <td>Manual</td>\n",
       "      <td>76,264 km</td>\n",
       "      <td>Diesel</td>\n",
       "      <td>Hatchback</td>\n",
       "      <td>1st Owner</td>\n",
       "      <td>₹4,00,599</td>\n",
       "    </tr>\n",
       "    <tr>\n",
       "      <th>1</th>\n",
       "      <td>2016 Maruti Baleno</td>\n",
       "      <td>Manual</td>\n",
       "      <td>67,332 km</td>\n",
       "      <td>Diesel</td>\n",
       "      <td>Hatchback</td>\n",
       "      <td>1st Owner</td>\n",
       "      <td>₹5,72,199</td>\n",
       "    </tr>\n",
       "    <tr>\n",
       "      <th>2</th>\n",
       "      <td>2018 Maruti Wagon R 1.0</td>\n",
       "      <td>Manual</td>\n",
       "      <td>13,375 km</td>\n",
       "      <td>Petrol</td>\n",
       "      <td>Hatchback</td>\n",
       "      <td>1st Owner</td>\n",
       "      <td>₹4,77,299</td>\n",
       "    </tr>\n",
       "    <tr>\n",
       "      <th>3</th>\n",
       "      <td>2017 Maruti IGNIS</td>\n",
       "      <td>Manual</td>\n",
       "      <td>15,302 km</td>\n",
       "      <td>Petrol</td>\n",
       "      <td>Hatchback</td>\n",
       "      <td>1st Owner</td>\n",
       "      <td>₹5,66,199</td>\n",
       "    </tr>\n",
       "    <tr>\n",
       "      <th>4</th>\n",
       "      <td>2017 Datsun Redi Go</td>\n",
       "      <td>Manual</td>\n",
       "      <td>20,977 km</td>\n",
       "      <td>Petrol</td>\n",
       "      <td>Hatchback</td>\n",
       "      <td>2nd Owner</td>\n",
       "      <td>₹2,64,599</td>\n",
       "    </tr>\n",
       "  </tbody>\n",
       "</table>\n",
       "</div>"
      ],
      "text/plain": [
       "                  Car Name Transmission Kilometers Run Fuel Type  Body Type  \\\n",
       "0        2015 Maruti Swift       Manual      76,264 km    Diesel  Hatchback   \n",
       "1       2016 Maruti Baleno       Manual      67,332 km    Diesel  Hatchback   \n",
       "2  2018 Maruti Wagon R 1.0       Manual      13,375 km    Petrol  Hatchback   \n",
       "3        2017 Maruti IGNIS       Manual      15,302 km    Petrol  Hatchback   \n",
       "4      2017 Datsun Redi Go       Manual      20,977 km    Petrol  Hatchback   \n",
       "\n",
       "  Previous Owners      Price  \n",
       "0       1st Owner  ₹4,00,599  \n",
       "1       1st Owner  ₹5,72,199  \n",
       "2       1st Owner  ₹4,77,299  \n",
       "3       1st Owner  ₹5,66,199  \n",
       "4       2nd Owner  ₹2,64,599  "
      ]
     },
     "execution_count": 98,
     "metadata": {},
     "output_type": "execute_result"
    }
   ],
   "source": [
    "dataset=pd.DataFrame()\n",
    "dataset['Car Name']=name\n",
    "dataset['Transmission']=trans\n",
    "dataset['Kilometers Run']=km\n",
    "dataset['Fuel Type']=fuel\n",
    "dataset['Body Type']=type_\n",
    "dataset['Previous Owners']=owner\n",
    "dataset['Price']=price\n",
    "dataset.head()"
   ]
  },
  {
   "cell_type": "markdown",
   "id": "68a452a8",
   "metadata": {},
   "source": [
    "# Appending data to the csv file"
   ]
  },
  {
   "cell_type": "code",
   "execution_count": 100,
   "id": "b2962cc8",
   "metadata": {},
   "outputs": [],
   "source": [
    "dataset.to_csv(r'C:\\Users\\Avinash\\Desktop\\Internship\\Project\\Car-Price_Prediction\\Car Price Prediction\\carpricedata.csv', mode='a', index=False, header=False)"
   ]
  },
  {
   "cell_type": "markdown",
   "id": "6cc45cd1",
   "metadata": {},
   "source": [
    "# Carwale"
   ]
  },
  {
   "cell_type": "code",
   "execution_count": 21,
   "id": "b8695ea5",
   "metadata": {},
   "outputs": [],
   "source": [
    "s=Service(\"C:\\chromedriver_win32\\chromedriver.exe\")\n",
    "driver=webdriver.Chrome(service=s)\n",
    "driver.get('https://www.carwale.com/used/cars-for-sale/#sc=-1&so=-1&pn=1')"
   ]
  },
  {
   "cell_type": "markdown",
   "id": "eb1a2864",
   "metadata": {},
   "source": [
    "## Hatchback"
   ]
  },
  {
   "cell_type": "markdown",
   "id": "fa2bd3f0",
   "metadata": {},
   "source": [
    "### Manual one owner"
   ]
  },
  {
   "cell_type": "code",
   "execution_count": 59,
   "id": "70e80cc6",
   "metadata": {},
   "outputs": [],
   "source": [
    "n=driver.find_elements(By.XPATH,\"//span[@class='spancarname card-detail-block__title-text-with-year']\")\n",
    "p=driver.find_elements(By.XPATH,\"//span[@class='rupee-lac slprice']\")\n",
    "k=driver.find_elements(By.XPATH,\"//span[@class='slkms vehicle-data__item']\")\n",
    "f=driver.find_elements(By.XPATH,\"//span[@class='fuel vehicle-data__item']\")"
   ]
  },
  {
   "cell_type": "code",
   "execution_count": 60,
   "id": "4269028e",
   "metadata": {},
   "outputs": [],
   "source": [
    "name=[]\n",
    "price=[]\n",
    "trans=[]\n",
    "km=[]\n",
    "fuel=[]\n",
    "owner=[]\n",
    "type_=[]\n",
    "text(n,name)\n",
    "text(p,price)\n",
    "text(k,km)\n",
    "text(f,fuel)"
   ]
  },
  {
   "cell_type": "code",
   "execution_count": 61,
   "id": "8751f346",
   "metadata": {},
   "outputs": [],
   "source": [
    "for i in range(len(n)):\n",
    "    owner.append(1)\n",
    "    type_.append(\"Hatchback\")\n",
    "    trans.append(\"Manual\")"
   ]
  },
  {
   "cell_type": "markdown",
   "id": "9b5cd14d",
   "metadata": {},
   "source": [
    "### Auto one owner"
   ]
  },
  {
   "cell_type": "code",
   "execution_count": 62,
   "id": "10493812",
   "metadata": {},
   "outputs": [],
   "source": [
    "n=driver.find_elements(By.XPATH,\"//span[@class='spancarname card-detail-block__title-text-with-year']\")\n",
    "p=driver.find_elements(By.XPATH,\"//span[@class='rupee-lac slprice']\")\n",
    "k=driver.find_elements(By.XPATH,\"//span[@class='slkms vehicle-data__item']\")\n",
    "f=driver.find_elements(By.XPATH,\"//span[@class='fuel vehicle-data__item']\")"
   ]
  },
  {
   "cell_type": "code",
   "execution_count": 63,
   "id": "2c2cbf0d",
   "metadata": {},
   "outputs": [],
   "source": [
    "text(n,name)\n",
    "text(p,price)\n",
    "text(k,km)\n",
    "text(f,fuel)"
   ]
  },
  {
   "cell_type": "code",
   "execution_count": 64,
   "id": "eafa0251",
   "metadata": {},
   "outputs": [],
   "source": [
    "for i in range(len(n)):\n",
    "    owner.append(1)\n",
    "    type_.append(\"Hatchback\")\n",
    "    trans.append(\"Automatic\")"
   ]
  },
  {
   "cell_type": "markdown",
   "id": "24afdc63",
   "metadata": {},
   "source": [
    "### Manual two owner"
   ]
  },
  {
   "cell_type": "code",
   "execution_count": 65,
   "id": "5e96ab9b",
   "metadata": {},
   "outputs": [],
   "source": [
    "n=driver.find_elements(By.XPATH,\"//span[@class='spancarname card-detail-block__title-text-with-year']\")\n",
    "p=driver.find_elements(By.XPATH,\"//span[@class='rupee-lac slprice']\")\n",
    "k=driver.find_elements(By.XPATH,\"//span[@class='slkms vehicle-data__item']\")\n",
    "f=driver.find_elements(By.XPATH,\"//span[@class='fuel vehicle-data__item']\")"
   ]
  },
  {
   "cell_type": "code",
   "execution_count": 66,
   "id": "77f76bdd",
   "metadata": {},
   "outputs": [],
   "source": [
    "text(n,name)\n",
    "text(p,price)\n",
    "text(k,km)\n",
    "text(f,fuel)"
   ]
  },
  {
   "cell_type": "code",
   "execution_count": 67,
   "id": "129d323c",
   "metadata": {},
   "outputs": [],
   "source": [
    "for i in range(len(n)):\n",
    "    owner.append(2)\n",
    "    type_.append(\"Hatchback\")\n",
    "    trans.append(\"Manual\")"
   ]
  },
  {
   "cell_type": "markdown",
   "id": "0d362689",
   "metadata": {},
   "source": [
    "### Auto two owner"
   ]
  },
  {
   "cell_type": "code",
   "execution_count": 68,
   "id": "4c739b97",
   "metadata": {},
   "outputs": [],
   "source": [
    "n=driver.find_elements(By.XPATH,\"//span[@class='spancarname card-detail-block__title-text-with-year']\")\n",
    "p=driver.find_elements(By.XPATH,\"//span[@class='rupee-lac slprice']\")\n",
    "k=driver.find_elements(By.XPATH,\"//span[@class='slkms vehicle-data__item']\")\n",
    "f=driver.find_elements(By.XPATH,\"//span[@class='fuel vehicle-data__item']\")"
   ]
  },
  {
   "cell_type": "code",
   "execution_count": 69,
   "id": "1c9e9709",
   "metadata": {},
   "outputs": [],
   "source": [
    "text(n,name)\n",
    "text(p,price)\n",
    "text(k,km)\n",
    "text(f,fuel)"
   ]
  },
  {
   "cell_type": "code",
   "execution_count": 70,
   "id": "84eb0ffc",
   "metadata": {},
   "outputs": [],
   "source": [
    "for i in range(len(n)):\n",
    "    owner.append(2)\n",
    "    type_.append(\"Hatchback\")\n",
    "    trans.append(\"Automatic\")"
   ]
  },
  {
   "cell_type": "markdown",
   "id": "07de8f57",
   "metadata": {},
   "source": [
    "# Coupe"
   ]
  },
  {
   "cell_type": "markdown",
   "id": "10ecb72a",
   "metadata": {},
   "source": [
    "### manual one owner"
   ]
  },
  {
   "cell_type": "code",
   "execution_count": 71,
   "id": "940c4230",
   "metadata": {},
   "outputs": [],
   "source": [
    "n=driver.find_elements(By.XPATH,\"//span[@class='spancarname card-detail-block__title-text-with-year']\")\n",
    "p=driver.find_elements(By.XPATH,\"//span[@class='rupee-lac slprice']\")\n",
    "k=driver.find_elements(By.XPATH,\"//span[@class='slkms vehicle-data__item']\")\n",
    "f=driver.find_elements(By.XPATH,\"//span[@class='fuel vehicle-data__item']\")"
   ]
  },
  {
   "cell_type": "code",
   "execution_count": 72,
   "id": "54515794",
   "metadata": {},
   "outputs": [],
   "source": [
    "text(n,name)\n",
    "text(p,price)\n",
    "text(k,km)\n",
    "text(f,fuel)"
   ]
  },
  {
   "cell_type": "code",
   "execution_count": 73,
   "id": "c3ac78f9",
   "metadata": {},
   "outputs": [],
   "source": [
    "for i in range(len(n)):\n",
    "    owner.append(1)\n",
    "    type_.append(\"Coupe\")\n",
    "    trans.append(\"Manual\")"
   ]
  },
  {
   "cell_type": "markdown",
   "id": "3477086e",
   "metadata": {},
   "source": [
    "### Auto one"
   ]
  },
  {
   "cell_type": "code",
   "execution_count": 74,
   "id": "ba66080b",
   "metadata": {},
   "outputs": [],
   "source": [
    "n=driver.find_elements(By.XPATH,\"//span[@class='spancarname card-detail-block__title-text-with-year']\")\n",
    "p=driver.find_elements(By.XPATH,\"//span[@class='rupee-lac slprice']\")\n",
    "k=driver.find_elements(By.XPATH,\"//span[@class='slkms vehicle-data__item']\")\n",
    "f=driver.find_elements(By.XPATH,\"//span[@class='fuel vehicle-data__item']\")"
   ]
  },
  {
   "cell_type": "code",
   "execution_count": 75,
   "id": "362b8ae4",
   "metadata": {},
   "outputs": [],
   "source": [
    "text(n,name)\n",
    "text(p,price)\n",
    "text(k,km)\n",
    "text(f,fuel)"
   ]
  },
  {
   "cell_type": "code",
   "execution_count": 76,
   "id": "280880fa",
   "metadata": {},
   "outputs": [],
   "source": [
    "for i in range(len(n)):\n",
    "    owner.append(1)\n",
    "    type_.append(\"Coupe\")\n",
    "    trans.append(\"Aautomatic\")"
   ]
  },
  {
   "cell_type": "markdown",
   "id": "165dbbcf",
   "metadata": {},
   "source": [
    "### Manual two"
   ]
  },
  {
   "cell_type": "code",
   "execution_count": 77,
   "id": "43ef72eb",
   "metadata": {},
   "outputs": [],
   "source": [
    "n=driver.find_elements(By.XPATH,\"//span[@class='spancarname card-detail-block__title-text-with-year']\")\n",
    "p=driver.find_elements(By.XPATH,\"//span[@class='rupee-lac slprice']\")\n",
    "k=driver.find_elements(By.XPATH,\"//span[@class='slkms vehicle-data__item']\")\n",
    "f=driver.find_elements(By.XPATH,\"//span[@class='fuel vehicle-data__item']\")"
   ]
  },
  {
   "cell_type": "code",
   "execution_count": 78,
   "id": "2240fd93",
   "metadata": {},
   "outputs": [],
   "source": [
    "text(n,name)\n",
    "text(p,price)\n",
    "text(k,km)\n",
    "text(f,fuel)"
   ]
  },
  {
   "cell_type": "code",
   "execution_count": 79,
   "id": "ea3c8ca4",
   "metadata": {},
   "outputs": [],
   "source": [
    "for i in range(len(n)):\n",
    "    owner.append(2)\n",
    "    type_.append(\"Coupe\")\n",
    "    trans.append(\"Manual\")"
   ]
  },
  {
   "cell_type": "markdown",
   "id": "61d766a4",
   "metadata": {},
   "source": [
    "### Auto two"
   ]
  },
  {
   "cell_type": "code",
   "execution_count": 80,
   "id": "910b8ef5",
   "metadata": {},
   "outputs": [],
   "source": [
    "n=driver.find_elements(By.XPATH,\"//span[@class='spancarname card-detail-block__title-text-with-year']\")\n",
    "p=driver.find_elements(By.XPATH,\"//span[@class='rupee-lac slprice']\")\n",
    "k=driver.find_elements(By.XPATH,\"//span[@class='slkms vehicle-data__item']\")\n",
    "f=driver.find_elements(By.XPATH,\"//span[@class='fuel vehicle-data__item']\")"
   ]
  },
  {
   "cell_type": "code",
   "execution_count": 81,
   "id": "9938ad0e",
   "metadata": {},
   "outputs": [],
   "source": [
    "text(n,name)\n",
    "text(p,price)\n",
    "text(k,km)\n",
    "text(f,fuel)"
   ]
  },
  {
   "cell_type": "code",
   "execution_count": 82,
   "id": "94c6a35f",
   "metadata": {},
   "outputs": [],
   "source": [
    "for i in range(len(n)):\n",
    "    owner.append(2)\n",
    "    type_.append(\"Coupe\")\n",
    "    trans.append(\"Automatic\")"
   ]
  },
  {
   "cell_type": "markdown",
   "id": "d7ea3e96",
   "metadata": {},
   "source": [
    "# SUV"
   ]
  },
  {
   "cell_type": "markdown",
   "id": "c7365e4c",
   "metadata": {},
   "source": [
    "### manual one"
   ]
  },
  {
   "cell_type": "code",
   "execution_count": 83,
   "id": "b87b2146",
   "metadata": {},
   "outputs": [],
   "source": [
    "n=driver.find_elements(By.XPATH,\"//span[@class='spancarname card-detail-block__title-text-with-year']\")\n",
    "p=driver.find_elements(By.XPATH,\"//span[@class='rupee-lac slprice']\")\n",
    "k=driver.find_elements(By.XPATH,\"//span[@class='slkms vehicle-data__item']\")\n",
    "f=driver.find_elements(By.XPATH,\"//span[@class='fuel vehicle-data__item']\")"
   ]
  },
  {
   "cell_type": "code",
   "execution_count": 84,
   "id": "ce0b19a1",
   "metadata": {},
   "outputs": [],
   "source": [
    "text(n,name)\n",
    "text(p,price)\n",
    "text(k,km)\n",
    "text(f,fuel)"
   ]
  },
  {
   "cell_type": "code",
   "execution_count": 85,
   "id": "1bf38a90",
   "metadata": {},
   "outputs": [],
   "source": [
    "for i in range(len(n)):\n",
    "    owner.append(1)\n",
    "    type_.append(\"SUV\")\n",
    "    trans.append(\"Manual\")"
   ]
  },
  {
   "cell_type": "markdown",
   "id": "255371e6",
   "metadata": {},
   "source": [
    "### auto one"
   ]
  },
  {
   "cell_type": "code",
   "execution_count": 86,
   "id": "38638ce8",
   "metadata": {},
   "outputs": [],
   "source": [
    "n=driver.find_elements(By.XPATH,\"//span[@class='spancarname card-detail-block__title-text-with-year']\")\n",
    "p=driver.find_elements(By.XPATH,\"//span[@class='rupee-lac slprice']\")\n",
    "k=driver.find_elements(By.XPATH,\"//span[@class='slkms vehicle-data__item']\")\n",
    "f=driver.find_elements(By.XPATH,\"//span[@class='fuel vehicle-data__item']\")"
   ]
  },
  {
   "cell_type": "code",
   "execution_count": 87,
   "id": "4263c29e",
   "metadata": {},
   "outputs": [],
   "source": [
    "text(n,name)\n",
    "text(p,price)\n",
    "text(k,km)\n",
    "text(f,fuel)"
   ]
  },
  {
   "cell_type": "code",
   "execution_count": 88,
   "id": "a7006b40",
   "metadata": {},
   "outputs": [],
   "source": [
    "for i in range(len(n)):\n",
    "    owner.append(1)\n",
    "    type_.append(\"SUV\")\n",
    "    trans.append(\"Automatic\")"
   ]
  },
  {
   "cell_type": "markdown",
   "id": "bd632bae",
   "metadata": {},
   "source": [
    "### manual two"
   ]
  },
  {
   "cell_type": "code",
   "execution_count": 89,
   "id": "8d1d2e5b",
   "metadata": {},
   "outputs": [],
   "source": [
    "n=driver.find_elements(By.XPATH,\"//span[@class='spancarname card-detail-block__title-text-with-year']\")\n",
    "p=driver.find_elements(By.XPATH,\"//span[@class='rupee-lac slprice']\")\n",
    "k=driver.find_elements(By.XPATH,\"//span[@class='slkms vehicle-data__item']\")\n",
    "f=driver.find_elements(By.XPATH,\"//span[@class='fuel vehicle-data__item']\")"
   ]
  },
  {
   "cell_type": "code",
   "execution_count": 90,
   "id": "976eb832",
   "metadata": {},
   "outputs": [],
   "source": [
    "text(n,name)\n",
    "text(p,price)\n",
    "text(k,km)\n",
    "text(f,fuel)"
   ]
  },
  {
   "cell_type": "code",
   "execution_count": 91,
   "id": "9083faa0",
   "metadata": {},
   "outputs": [],
   "source": [
    "for i in range(len(n)):\n",
    "    owner.append(2)\n",
    "    type_.append(\"SUV\")\n",
    "    trans.append(\"Manual\")"
   ]
  },
  {
   "cell_type": "markdown",
   "id": "4491f28f",
   "metadata": {},
   "source": [
    "### auto two"
   ]
  },
  {
   "cell_type": "code",
   "execution_count": 92,
   "id": "0e391472",
   "metadata": {},
   "outputs": [],
   "source": [
    "n=driver.find_elements(By.XPATH,\"//span[@class='spancarname card-detail-block__title-text-with-year']\")\n",
    "p=driver.find_elements(By.XPATH,\"//span[@class='rupee-lac slprice']\")\n",
    "k=driver.find_elements(By.XPATH,\"//span[@class='slkms vehicle-data__item']\")\n",
    "f=driver.find_elements(By.XPATH,\"//span[@class='fuel vehicle-data__item']\")"
   ]
  },
  {
   "cell_type": "code",
   "execution_count": 93,
   "id": "5f6b9470",
   "metadata": {},
   "outputs": [],
   "source": [
    "text(n,name)\n",
    "text(p,price)\n",
    "text(k,km)\n",
    "text(f,fuel)"
   ]
  },
  {
   "cell_type": "code",
   "execution_count": 94,
   "id": "1d9227d0",
   "metadata": {},
   "outputs": [],
   "source": [
    "for i in range(len(n)):\n",
    "    owner.append(2)\n",
    "    type_.append(\"SUV\")\n",
    "    trans.append(\"Automatic\")"
   ]
  },
  {
   "cell_type": "markdown",
   "id": "9ae4dc70",
   "metadata": {},
   "source": [
    "# Minivan"
   ]
  },
  {
   "cell_type": "markdown",
   "id": "d6d1739f",
   "metadata": {},
   "source": [
    "### manual one"
   ]
  },
  {
   "cell_type": "code",
   "execution_count": 95,
   "id": "6c895e23",
   "metadata": {},
   "outputs": [],
   "source": [
    "n=driver.find_elements(By.XPATH,\"//span[@class='spancarname card-detail-block__title-text-with-year']\")\n",
    "p=driver.find_elements(By.XPATH,\"//span[@class='rupee-lac slprice']\")\n",
    "k=driver.find_elements(By.XPATH,\"//span[@class='slkms vehicle-data__item']\")\n",
    "f=driver.find_elements(By.XPATH,\"//span[@class='fuel vehicle-data__item']\")"
   ]
  },
  {
   "cell_type": "code",
   "execution_count": 96,
   "id": "d05da4fe",
   "metadata": {},
   "outputs": [],
   "source": [
    "text(n,name)\n",
    "text(p,price)\n",
    "text(k,km)\n",
    "text(f,fuel)"
   ]
  },
  {
   "cell_type": "code",
   "execution_count": 97,
   "id": "b2d6f0f7",
   "metadata": {},
   "outputs": [],
   "source": [
    "for i in range(len(n)):\n",
    "    owner.append(1)\n",
    "    type_.append(\"Minivan\")\n",
    "    trans.append(\"Manual\")"
   ]
  },
  {
   "cell_type": "markdown",
   "id": "82d29a72",
   "metadata": {},
   "source": [
    "### auto one"
   ]
  },
  {
   "cell_type": "code",
   "execution_count": 98,
   "id": "d8ad25c9",
   "metadata": {},
   "outputs": [],
   "source": [
    "n=driver.find_elements(By.XPATH,\"//span[@class='spancarname card-detail-block__title-text-with-year']\")\n",
    "p=driver.find_elements(By.XPATH,\"//span[@class='rupee-lac slprice']\")\n",
    "k=driver.find_elements(By.XPATH,\"//span[@class='slkms vehicle-data__item']\")\n",
    "f=driver.find_elements(By.XPATH,\"//span[@class='fuel vehicle-data__item']\")"
   ]
  },
  {
   "cell_type": "code",
   "execution_count": 99,
   "id": "d3f50065",
   "metadata": {},
   "outputs": [],
   "source": [
    "text(n,name)\n",
    "text(p,price)\n",
    "text(k,km)\n",
    "text(f,fuel)"
   ]
  },
  {
   "cell_type": "code",
   "execution_count": 100,
   "id": "a6c8de4a",
   "metadata": {},
   "outputs": [],
   "source": [
    "for i in range(len(n)):\n",
    "    owner.append(1)\n",
    "    type_.append(\"Minivan\")\n",
    "    trans.append(\"Automatic\")"
   ]
  },
  {
   "cell_type": "markdown",
   "id": "573f7864",
   "metadata": {},
   "source": [
    "### manual two"
   ]
  },
  {
   "cell_type": "code",
   "execution_count": 101,
   "id": "d3422b38",
   "metadata": {},
   "outputs": [],
   "source": [
    "n=driver.find_elements(By.XPATH,\"//span[@class='spancarname card-detail-block__title-text-with-year']\")\n",
    "p=driver.find_elements(By.XPATH,\"//span[@class='rupee-lac slprice']\")\n",
    "k=driver.find_elements(By.XPATH,\"//span[@class='slkms vehicle-data__item']\")\n",
    "f=driver.find_elements(By.XPATH,\"//span[@class='fuel vehicle-data__item']\")"
   ]
  },
  {
   "cell_type": "code",
   "execution_count": 102,
   "id": "e36d1da2",
   "metadata": {},
   "outputs": [],
   "source": [
    "text(n,name)\n",
    "text(p,price)\n",
    "text(k,km)\n",
    "text(f,fuel)"
   ]
  },
  {
   "cell_type": "code",
   "execution_count": 103,
   "id": "79958bda",
   "metadata": {},
   "outputs": [],
   "source": [
    "for i in range(len(n)):\n",
    "    owner.append(2)\n",
    "    type_.append(\"Minivan\")\n",
    "    trans.append(\"Manual\")"
   ]
  },
  {
   "cell_type": "markdown",
   "id": "fba65f83",
   "metadata": {},
   "source": [
    "### auto two"
   ]
  },
  {
   "cell_type": "code",
   "execution_count": 104,
   "id": "e7700d61",
   "metadata": {},
   "outputs": [],
   "source": [
    "n=driver.find_elements(By.XPATH,\"//span[@class='spancarname card-detail-block__title-text-with-year']\")\n",
    "p=driver.find_elements(By.XPATH,\"//span[@class='rupee-lac slprice']\")\n",
    "k=driver.find_elements(By.XPATH,\"//span[@class='slkms vehicle-data__item']\")\n",
    "f=driver.find_elements(By.XPATH,\"//span[@class='fuel vehicle-data__item']\")"
   ]
  },
  {
   "cell_type": "code",
   "execution_count": 105,
   "id": "17a00f19",
   "metadata": {},
   "outputs": [],
   "source": [
    "text(n,name)\n",
    "text(p,price)\n",
    "text(k,km)\n",
    "text(f,fuel)"
   ]
  },
  {
   "cell_type": "code",
   "execution_count": 106,
   "id": "930aae4b",
   "metadata": {},
   "outputs": [],
   "source": [
    "for i in range(len(n)):\n",
    "    owner.append(2)\n",
    "    type_.append(\"Minivan\")\n",
    "    trans.append(\"Automatic\")"
   ]
  },
  {
   "cell_type": "markdown",
   "id": "a2bfccd5",
   "metadata": {},
   "source": [
    "# Sedan"
   ]
  },
  {
   "cell_type": "markdown",
   "id": "9520bd37",
   "metadata": {},
   "source": [
    "### manual one"
   ]
  },
  {
   "cell_type": "code",
   "execution_count": 107,
   "id": "84019058",
   "metadata": {},
   "outputs": [],
   "source": [
    "n=driver.find_elements(By.XPATH,\"//span[@class='spancarname card-detail-block__title-text-with-year']\")\n",
    "p=driver.find_elements(By.XPATH,\"//span[@class='rupee-lac slprice']\")\n",
    "k=driver.find_elements(By.XPATH,\"//span[@class='slkms vehicle-data__item']\")\n",
    "f=driver.find_elements(By.XPATH,\"//span[@class='fuel vehicle-data__item']\")"
   ]
  },
  {
   "cell_type": "code",
   "execution_count": 108,
   "id": "92934ff0",
   "metadata": {},
   "outputs": [],
   "source": [
    "text(n,name)\n",
    "text(p,price)\n",
    "text(k,km)\n",
    "text(f,fuel)"
   ]
  },
  {
   "cell_type": "code",
   "execution_count": 109,
   "id": "8c1d0d90",
   "metadata": {},
   "outputs": [],
   "source": [
    "for i in range(len(n)):\n",
    "    owner.append(1)\n",
    "    type_.append(\"Sedan\")\n",
    "    trans.append(\"Manual\")"
   ]
  },
  {
   "cell_type": "markdown",
   "id": "53e816ef",
   "metadata": {},
   "source": [
    "### auto one"
   ]
  },
  {
   "cell_type": "code",
   "execution_count": 110,
   "id": "113ac5f4",
   "metadata": {},
   "outputs": [],
   "source": [
    "n=driver.find_elements(By.XPATH,\"//span[@class='spancarname card-detail-block__title-text-with-year']\")\n",
    "p=driver.find_elements(By.XPATH,\"//span[@class='rupee-lac slprice']\")\n",
    "k=driver.find_elements(By.XPATH,\"//span[@class='slkms vehicle-data__item']\")\n",
    "f=driver.find_elements(By.XPATH,\"//span[@class='fuel vehicle-data__item']\")"
   ]
  },
  {
   "cell_type": "code",
   "execution_count": 111,
   "id": "e2126b84",
   "metadata": {},
   "outputs": [],
   "source": [
    "text(n,name)\n",
    "text(p,price)\n",
    "text(k,km)\n",
    "text(f,fuel)"
   ]
  },
  {
   "cell_type": "code",
   "execution_count": 112,
   "id": "a44015cc",
   "metadata": {},
   "outputs": [],
   "source": [
    "for i in range(len(n)):\n",
    "    owner.append(1)\n",
    "    type_.append(\"Sedan\")\n",
    "    trans.append(\"Automatic\")"
   ]
  },
  {
   "cell_type": "markdown",
   "id": "9af760ba",
   "metadata": {},
   "source": [
    "### manual two"
   ]
  },
  {
   "cell_type": "code",
   "execution_count": 113,
   "id": "f7ab3d6b",
   "metadata": {},
   "outputs": [],
   "source": [
    "n=driver.find_elements(By.XPATH,\"//span[@class='spancarname card-detail-block__title-text-with-year']\")\n",
    "p=driver.find_elements(By.XPATH,\"//span[@class='rupee-lac slprice']\")\n",
    "k=driver.find_elements(By.XPATH,\"//span[@class='slkms vehicle-data__item']\")\n",
    "f=driver.find_elements(By.XPATH,\"//span[@class='fuel vehicle-data__item']\")"
   ]
  },
  {
   "cell_type": "code",
   "execution_count": 114,
   "id": "64dea2ca",
   "metadata": {},
   "outputs": [],
   "source": [
    "text(n,name)\n",
    "text(p,price)\n",
    "text(k,km)\n",
    "text(f,fuel)"
   ]
  },
  {
   "cell_type": "code",
   "execution_count": 115,
   "id": "6cf617fb",
   "metadata": {},
   "outputs": [],
   "source": [
    "for i in range(len(n)):\n",
    "    owner.append(2)\n",
    "    type_.append(\"Sedan\")\n",
    "    trans.append(\"Manual\")"
   ]
  },
  {
   "cell_type": "markdown",
   "id": "2ac89290",
   "metadata": {},
   "source": [
    "### auto two"
   ]
  },
  {
   "cell_type": "code",
   "execution_count": 116,
   "id": "fbe35427",
   "metadata": {},
   "outputs": [],
   "source": [
    "n=driver.find_elements(By.XPATH,\"//span[@class='spancarname card-detail-block__title-text-with-year']\")\n",
    "p=driver.find_elements(By.XPATH,\"//span[@class='rupee-lac slprice']\")\n",
    "k=driver.find_elements(By.XPATH,\"//span[@class='slkms vehicle-data__item']\")\n",
    "f=driver.find_elements(By.XPATH,\"//span[@class='fuel vehicle-data__item']\")"
   ]
  },
  {
   "cell_type": "code",
   "execution_count": 117,
   "id": "874ff2ba",
   "metadata": {},
   "outputs": [],
   "source": [
    "text(n,name)\n",
    "text(p,price)\n",
    "text(k,km)\n",
    "text(f,fuel)"
   ]
  },
  {
   "cell_type": "code",
   "execution_count": 118,
   "id": "2a575234",
   "metadata": {},
   "outputs": [],
   "source": [
    "for i in range(len(n)):\n",
    "    owner.append(2)\n",
    "    type_.append(\"Sedan\")\n",
    "    trans.append(\"Automatic\")"
   ]
  },
  {
   "cell_type": "markdown",
   "id": "5e3454ca",
   "metadata": {},
   "source": [
    "# carwale dataset"
   ]
  },
  {
   "cell_type": "code",
   "execution_count": 121,
   "id": "0edec055",
   "metadata": {
    "scrolled": true
   },
   "outputs": [
    {
     "data": {
      "text/html": [
       "<div>\n",
       "<style scoped>\n",
       "    .dataframe tbody tr th:only-of-type {\n",
       "        vertical-align: middle;\n",
       "    }\n",
       "\n",
       "    .dataframe tbody tr th {\n",
       "        vertical-align: top;\n",
       "    }\n",
       "\n",
       "    .dataframe thead th {\n",
       "        text-align: right;\n",
       "    }\n",
       "</style>\n",
       "<table border=\"1\" class=\"dataframe\">\n",
       "  <thead>\n",
       "    <tr style=\"text-align: right;\">\n",
       "      <th></th>\n",
       "      <th>Car Name</th>\n",
       "      <th>Transmission</th>\n",
       "      <th>Kilometers Run</th>\n",
       "      <th>Fuel Type</th>\n",
       "      <th>Body Type</th>\n",
       "      <th>Previous Owners</th>\n",
       "      <th>Price</th>\n",
       "    </tr>\n",
       "  </thead>\n",
       "  <tbody>\n",
       "    <tr>\n",
       "      <th>0</th>\n",
       "      <td>Renault Kwid 1.0 RXT [2016-2019]</td>\n",
       "      <td>Manual</td>\n",
       "      <td>25,000 km</td>\n",
       "      <td>Petrol</td>\n",
       "      <td>Hatchback</td>\n",
       "      <td>1</td>\n",
       "      <td>₹ 2.95 Lakh</td>\n",
       "    </tr>\n",
       "    <tr>\n",
       "      <th>1</th>\n",
       "      <td>Hyundai i10 Sportz 1.2 Kappa2</td>\n",
       "      <td>Manual</td>\n",
       "      <td>26,000 km</td>\n",
       "      <td>Petrol</td>\n",
       "      <td>Hatchback</td>\n",
       "      <td>1</td>\n",
       "      <td>₹ 2.75 Lakh</td>\n",
       "    </tr>\n",
       "    <tr>\n",
       "      <th>2</th>\n",
       "      <td>Maruti Suzuki Ritz VXI BS-IV</td>\n",
       "      <td>Manual</td>\n",
       "      <td>24,000 km</td>\n",
       "      <td>Petrol</td>\n",
       "      <td>Hatchback</td>\n",
       "      <td>1</td>\n",
       "      <td>₹ 2.5 Lakh</td>\n",
       "    </tr>\n",
       "    <tr>\n",
       "      <th>3</th>\n",
       "      <td>Volkswagen Polo Highline1.2L (P)</td>\n",
       "      <td>Manual</td>\n",
       "      <td>68,018 km</td>\n",
       "      <td>Petrol</td>\n",
       "      <td>Hatchback</td>\n",
       "      <td>1</td>\n",
       "      <td>₹ 3.45 Lakh</td>\n",
       "    </tr>\n",
       "    <tr>\n",
       "      <th>4</th>\n",
       "      <td>Maruti Suzuki Alto 800 Lxi</td>\n",
       "      <td>Manual</td>\n",
       "      <td>80,337 km</td>\n",
       "      <td>Petrol</td>\n",
       "      <td>Hatchback</td>\n",
       "      <td>1</td>\n",
       "      <td>₹ 2.5 Lakh</td>\n",
       "    </tr>\n",
       "  </tbody>\n",
       "</table>\n",
       "</div>"
      ],
      "text/plain": [
       "                           Car Name Transmission Kilometers Run Fuel Type  \\\n",
       "0  Renault Kwid 1.0 RXT [2016-2019]       Manual      25,000 km    Petrol   \n",
       "1     Hyundai i10 Sportz 1.2 Kappa2       Manual      26,000 km    Petrol   \n",
       "2      Maruti Suzuki Ritz VXI BS-IV       Manual      24,000 km    Petrol   \n",
       "3  Volkswagen Polo Highline1.2L (P)       Manual      68,018 km    Petrol   \n",
       "4        Maruti Suzuki Alto 800 Lxi       Manual      80,337 km    Petrol   \n",
       "\n",
       "   Body Type  Previous Owners        Price  \n",
       "0  Hatchback                1  ₹ 2.95 Lakh  \n",
       "1  Hatchback                1  ₹ 2.75 Lakh  \n",
       "2  Hatchback                1   ₹ 2.5 Lakh  \n",
       "3  Hatchback                1  ₹ 3.45 Lakh  \n",
       "4  Hatchback                1   ₹ 2.5 Lakh  "
      ]
     },
     "execution_count": 121,
     "metadata": {},
     "output_type": "execute_result"
    }
   ],
   "source": [
    "dataset=pd.DataFrame()\n",
    "dataset['Car Name']=name\n",
    "dataset['Transmission']=trans\n",
    "dataset['Kilometers Run']=km\n",
    "dataset['Fuel Type']=fuel\n",
    "dataset['Body Type']=type_\n",
    "dataset['Previous Owners']=owner\n",
    "dataset['Price']=price\n",
    "dataset.head()"
   ]
  },
  {
   "cell_type": "markdown",
   "id": "ea44ae80",
   "metadata": {},
   "source": [
    "# saving the dataset"
   ]
  },
  {
   "cell_type": "code",
   "execution_count": 122,
   "id": "f685dab1",
   "metadata": {},
   "outputs": [],
   "source": [
    "dataset.to_csv(r'C:\\Users\\Avinash\\Desktop\\Internship\\Project\\Car-Price_Prediction\\Car Price Prediction\\carpricedata.csv', mode='a', index=False, header=False)"
   ]
  },
  {
   "cell_type": "code",
   "execution_count": null,
   "id": "b0484157",
   "metadata": {},
   "outputs": [],
   "source": []
  }
 ],
 "metadata": {
  "kernelspec": {
   "display_name": "Python 3",
   "language": "python",
   "name": "python3"
  },
  "language_info": {
   "codemirror_mode": {
    "name": "ipython",
    "version": 3
   },
   "file_extension": ".py",
   "mimetype": "text/x-python",
   "name": "python",
   "nbconvert_exporter": "python",
   "pygments_lexer": "ipython3",
   "version": "3.8.8"
  }
 },
 "nbformat": 4,
 "nbformat_minor": 5
}

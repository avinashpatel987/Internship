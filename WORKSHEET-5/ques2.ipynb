{
 "cells": [
  {
   "cell_type": "code",
   "execution_count": 1,
   "id": "7f5adcae",
   "metadata": {},
   "outputs": [],
   "source": [
    "import selenium\n",
    "import pandas as pd\n",
    "from selenium import webdriver\n",
    "from selenium.webdriver.chrome.service import Service\n",
    "from selenium.webdriver.common.by import By\n",
    "from selenium.webdriver.common.keys import Keys\n",
    "import time\n",
    "from selenium.webdriver.common.action_chains import ActionChains"
   ]
  },
  {
   "cell_type": "code",
   "execution_count": 2,
   "id": "96f67c79",
   "metadata": {},
   "outputs": [],
   "source": [
    "s=Service(\"C:\\chromedriver_win32\\chromedriver.exe\")\n",
    "driver=webdriver.Chrome(service=s)\n",
    "driver.get('https://www.bcci.tv/')"
   ]
  },
  {
   "cell_type": "code",
   "execution_count": 3,
   "id": "1368be26",
   "metadata": {},
   "outputs": [],
   "source": [
    "element_to_hover_over = driver.find_element(By.XPATH,\"/html/body/div[3]/div/div[2]/div[2]/nav/ul/li[2]/div[2]\")\n",
    "hover = ActionChains(driver).move_to_element(element_to_hover_over)\n",
    "hover.perform()"
   ]
  },
  {
   "cell_type": "code",
   "execution_count": 4,
   "id": "022b9c07",
   "metadata": {},
   "outputs": [],
   "source": [
    "btn2=driver.find_element(By.XPATH,\"/html/body/div[3]/div/div[2]/div[2]/nav/ul/li[2]/div[2]/div/ul/li[2]/a\")\n",
    "btn2.click()"
   ]
  },
  {
   "cell_type": "code",
   "execution_count": 5,
   "id": "95a21b39",
   "metadata": {},
   "outputs": [],
   "source": [
    "def text(val,which):\n",
    "    if len(val) == 0:\n",
    "        which.append(\"-\")\n",
    "    else:\n",
    "        for i in val:\n",
    "            temp=i.text\n",
    "            which.append(temp)"
   ]
  },
  {
   "cell_type": "code",
   "execution_count": 6,
   "id": "eca2d83c",
   "metadata": {},
   "outputs": [],
   "source": [
    "n=driver.find_elements(By.XPATH,\"//div[@class='eventDetails']/h1\")"
   ]
  },
  {
   "cell_type": "code",
   "execution_count": 7,
   "id": "4a9ed70c",
   "metadata": {},
   "outputs": [
    {
     "data": {
      "text/plain": [
       "['Punjab v Assam',\n",
       " 'Vidarbha v Jharkhand',\n",
       " 'Uttar Pradesh v Odisha',\n",
       " 'Haryana v J & K']"
      ]
     },
     "execution_count": 7,
     "metadata": {},
     "output_type": "execute_result"
    }
   ],
   "source": [
    "name=[]\n",
    "text(n,name)\n",
    "name[0:4]"
   ]
  },
  {
   "cell_type": "code",
   "execution_count": 8,
   "id": "b3efa21e",
   "metadata": {},
   "outputs": [],
   "source": [
    "dt=driver.find_elements(By.XPATH,\"//div[@class='eventDetails']/p[1]\")"
   ]
  },
  {
   "cell_type": "code",
   "execution_count": 9,
   "id": "b6d9f3d7",
   "metadata": {},
   "outputs": [
    {
     "data": {
      "text/plain": [
       "['20 December 2021, 09:00 IST, Azam Campus, Pune',\n",
       " '20 December 2021, 09:00 IST, D Y Patil Academy, Ambi, Pune',\n",
       " '20 December 2021, 09:00 IST, Deccan Gymkhana Cricket Ground, Pune',\n",
       " '20 December 2021, 09:00 IST, Dr. Y.S. Rajasekhara Reddy ACA VDCA Cricket Stadium, Vizag']"
      ]
     },
     "execution_count": 9,
     "metadata": {},
     "output_type": "execute_result"
    }
   ],
   "source": [
    "date_time=[]\n",
    "text(dt,date_time)\n",
    "date_time[0:4]"
   ]
  },
  {
   "cell_type": "code",
   "execution_count": 10,
   "id": "6c348e9d",
   "metadata": {},
   "outputs": [],
   "source": [
    "s=driver.find_elements(By.XPATH,\"//div[@class='eventDetails']/p[2]\")"
   ]
  },
  {
   "cell_type": "code",
   "execution_count": 11,
   "id": "185f38d4",
   "metadata": {},
   "outputs": [
    {
     "data": {
      "text/plain": [
       "['Round IV - Elite Group A, Cooch Behar Trophy',\n",
       " 'Round IV - Elite Group A, Cooch Behar Trophy',\n",
       " 'Round IV - Elite Group A, Cooch Behar Trophy',\n",
       " 'Round IV - Elite Group E, Cooch Behar Trophy']"
      ]
     },
     "execution_count": 11,
     "metadata": {},
     "output_type": "execute_result"
    }
   ],
   "source": [
    "series=[]\n",
    "text(s,series)\n",
    "series[0:4]"
   ]
  },
  {
   "cell_type": "code",
   "execution_count": 25,
   "id": "2d0fb5e4",
   "metadata": {},
   "outputs": [],
   "source": [
    "date=[]\n",
    "time=[]\n",
    "place=[]\n",
    "for i in range(len(date_time)):\n",
    "    date.append(date_time[i].split(\",\")[0])\n",
    "    time.append(date_time[i].split(\",\")[1])\n",
    "    place.append(date_time[i].split(\",\")[2])\n"
   ]
  },
  {
   "cell_type": "code",
   "execution_count": 29,
   "id": "3f8aa9a0",
   "metadata": {},
   "outputs": [
    {
     "data": {
      "text/html": [
       "<div>\n",
       "<style scoped>\n",
       "    .dataframe tbody tr th:only-of-type {\n",
       "        vertical-align: middle;\n",
       "    }\n",
       "\n",
       "    .dataframe tbody tr th {\n",
       "        vertical-align: top;\n",
       "    }\n",
       "\n",
       "    .dataframe thead th {\n",
       "        text-align: right;\n",
       "    }\n",
       "</style>\n",
       "<table border=\"1\" class=\"dataframe\">\n",
       "  <thead>\n",
       "    <tr style=\"text-align: right;\">\n",
       "      <th></th>\n",
       "      <th>Event Details</th>\n",
       "      <th>Date</th>\n",
       "      <th>Time</th>\n",
       "      <th>Place</th>\n",
       "      <th>Seriese</th>\n",
       "    </tr>\n",
       "  </thead>\n",
       "  <tbody>\n",
       "    <tr>\n",
       "      <th>0</th>\n",
       "      <td>Punjab v Assam</td>\n",
       "      <td>20 December 2021</td>\n",
       "      <td>09:00 IST</td>\n",
       "      <td>Azam Campus</td>\n",
       "      <td>Round IV - Elite Group A, Cooch Behar Trophy</td>\n",
       "    </tr>\n",
       "    <tr>\n",
       "      <th>1</th>\n",
       "      <td>Vidarbha v Jharkhand</td>\n",
       "      <td>20 December 2021</td>\n",
       "      <td>09:00 IST</td>\n",
       "      <td>D Y Patil Academy</td>\n",
       "      <td>Round IV - Elite Group A, Cooch Behar Trophy</td>\n",
       "    </tr>\n",
       "    <tr>\n",
       "      <th>2</th>\n",
       "      <td>Uttar Pradesh v Odisha</td>\n",
       "      <td>20 December 2021</td>\n",
       "      <td>09:00 IST</td>\n",
       "      <td>Deccan Gymkhana Cricket Ground</td>\n",
       "      <td>Round IV - Elite Group A, Cooch Behar Trophy</td>\n",
       "    </tr>\n",
       "    <tr>\n",
       "      <th>3</th>\n",
       "      <td>Haryana v J &amp; K</td>\n",
       "      <td>20 December 2021</td>\n",
       "      <td>09:00 IST</td>\n",
       "      <td>Dr. Y.S. Rajasekhara Reddy ACA VDCA Cricket S...</td>\n",
       "      <td>Round IV - Elite Group E, Cooch Behar Trophy</td>\n",
       "    </tr>\n",
       "    <tr>\n",
       "      <th>4</th>\n",
       "      <td>Mumbai v Karnataka</td>\n",
       "      <td>20 December 2021</td>\n",
       "      <td>09:00 IST</td>\n",
       "      <td>Dr P.V.G. Raju ACA Sports Complex</td>\n",
       "      <td>Round IV - Elite Group E, Cooch Behar Trophy</td>\n",
       "    </tr>\n",
       "  </tbody>\n",
       "</table>\n",
       "</div>"
      ],
      "text/plain": [
       "            Event Details              Date        Time  \\\n",
       "0          Punjab v Assam  20 December 2021   09:00 IST   \n",
       "1    Vidarbha v Jharkhand  20 December 2021   09:00 IST   \n",
       "2  Uttar Pradesh v Odisha  20 December 2021   09:00 IST   \n",
       "3         Haryana v J & K  20 December 2021   09:00 IST   \n",
       "4      Mumbai v Karnataka  20 December 2021   09:00 IST   \n",
       "\n",
       "                                               Place  \\\n",
       "0                                        Azam Campus   \n",
       "1                                  D Y Patil Academy   \n",
       "2                     Deccan Gymkhana Cricket Ground   \n",
       "3   Dr. Y.S. Rajasekhara Reddy ACA VDCA Cricket S...   \n",
       "4                  Dr P.V.G. Raju ACA Sports Complex   \n",
       "\n",
       "                                        Seriese  \n",
       "0  Round IV - Elite Group A, Cooch Behar Trophy  \n",
       "1  Round IV - Elite Group A, Cooch Behar Trophy  \n",
       "2  Round IV - Elite Group A, Cooch Behar Trophy  \n",
       "3  Round IV - Elite Group E, Cooch Behar Trophy  \n",
       "4  Round IV - Elite Group E, Cooch Behar Trophy  "
      ]
     },
     "execution_count": 29,
     "metadata": {},
     "output_type": "execute_result"
    }
   ],
   "source": [
    "dataset=pd.DataFrame()\n",
    "dataset['Event Details']=name\n",
    "dataset['Date']=date\n",
    "dataset['Time']=time\n",
    "dataset['Place']=place\n",
    "dataset['Seriese']=series\n",
    "dataset.head()"
   ]
  },
  {
   "cell_type": "code",
   "execution_count": null,
   "id": "d14641cb",
   "metadata": {},
   "outputs": [],
   "source": []
  }
 ],
 "metadata": {
  "kernelspec": {
   "display_name": "Python 3",
   "language": "python",
   "name": "python3"
  },
  "language_info": {
   "codemirror_mode": {
    "name": "ipython",
    "version": 3
   },
   "file_extension": ".py",
   "mimetype": "text/x-python",
   "name": "python",
   "nbconvert_exporter": "python",
   "pygments_lexer": "ipython3",
   "version": "3.8.8"
  }
 },
 "nbformat": 4,
 "nbformat_minor": 5
}

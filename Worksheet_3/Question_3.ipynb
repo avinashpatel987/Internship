{
 "cells": [
  {
   "cell_type": "code",
   "execution_count": 2,
   "id": "87037d04",
   "metadata": {},
   "outputs": [],
   "source": [
    "import selenium\n",
    "import pandas as pd\n",
    "from selenium import webdriver\n",
    "from selenium.webdriver.chrome.service import Service\n",
    "from selenium.webdriver.common.by import By"
   ]
  },
  {
   "cell_type": "code",
   "execution_count": 3,
   "id": "744beb78",
   "metadata": {},
   "outputs": [],
   "source": [
    "s=Service(\"C:\\chromedriver_win32\\chromedriver.exe\")\n",
    "driver=webdriver.Chrome(service=s)\n",
    "driver.get('https://www.naukri.com/')"
   ]
  },
  {
   "cell_type": "code",
   "execution_count": 4,
   "id": "0cde4e4b",
   "metadata": {},
   "outputs": [],
   "source": [
    "driver.find_element(By.NAME,\"keyword\").send_keys(\"Data Scientist\")"
   ]
  },
  {
   "cell_type": "code",
   "execution_count": 5,
   "id": "7edb8650",
   "metadata": {},
   "outputs": [],
   "source": [
    "btn1=driver.find_element(By.XPATH,\"//*[@id='root']/div[3]/div[2]/section/div/form/div[3]/button\")\n",
    "btn1.click()"
   ]
  },
  {
   "cell_type": "code",
   "execution_count": 6,
   "id": "52c32697",
   "metadata": {},
   "outputs": [],
   "source": []
  },
  {
   "cell_type": "code",
   "execution_count": 7,
   "id": "6b0b1dd9",
   "metadata": {},
   "outputs": [],
   "source": [
    "btn3=driver.find_element(By.XPATH,\"//*[@id='root']/div[3]/div[2]/section[1]/div[2]/div[4]/div[2]/div[3]/label/i\")\n",
    "btn3.click()"
   ]
  },
  {
   "cell_type": "code",
   "execution_count": 8,
   "id": "95ba4af3",
   "metadata": {},
   "outputs": [],
   "source": [
    "job_title=[]\n",
    "job_location=[] \n",
    "company_name=[] "
   ]
  },
  {
   "cell_type": "code",
   "execution_count": 8,
   "id": "34d14be3",
   "metadata": {},
   "outputs": [
    {
     "data": {
      "text/plain": [
       "[<selenium.webdriver.remote.webelement.WebElement (session=\"00393496484b7119413557f1ac53c611\", element=\"437de333-e48f-4749-b78b-acbbffedae93\")>,\n",
       " <selenium.webdriver.remote.webelement.WebElement (session=\"00393496484b7119413557f1ac53c611\", element=\"bda2b7bb-fb64-495b-8d31-589704bc1c6f\")>,\n",
       " <selenium.webdriver.remote.webelement.WebElement (session=\"00393496484b7119413557f1ac53c611\", element=\"ff8b1465-fa98-42df-b58e-14059ccbc5d9\")>,\n",
       " <selenium.webdriver.remote.webelement.WebElement (session=\"00393496484b7119413557f1ac53c611\", element=\"4e7248d1-4302-43e4-aa0c-a65891430a28\")>]"
      ]
     },
     "execution_count": 8,
     "metadata": {},
     "output_type": "execute_result"
    }
   ],
   "source": [
    "job_t=driver.find_elements(By.XPATH,\"//*[@class='title fw500 ellipsis']\")\n",
    "job_t[0:4]"
   ]
  },
  {
   "cell_type": "code",
   "execution_count": 9,
   "id": "d6fd2aec",
   "metadata": {},
   "outputs": [
    {
     "data": {
      "text/plain": [
       "['Co-Founder - Principal Data Scientist/Senior Data Scientist',\n",
       " 'Job Opportunity || Data Scientist || HCL Technologies',\n",
       " 'Lead Data Scientist',\n",
       " 'Data Scientist - Analytics & Insights Team - Food Services Firm - IIT/',\n",
       " 'Urgent Hiring || Data Scientist || Delhi',\n",
       " 'Data Scientist',\n",
       " 'Data Scientist',\n",
       " 'Data Scientist - Academics',\n",
       " 'Data Scientist',\n",
       " 'Data Scientist',\n",
       " 'Data Scientist - Analytics & Insights Team - Food Services Firm - IIT',\n",
       " 'Data Scientist - NLP/ML/Python',\n",
       " 'Data Scientist - Python - Banking Domain',\n",
       " 'Data Scientist - BFSI',\n",
       " 'Data Scientist - Python - IIT/DSE/IIMS',\n",
       " 'Python Data Scientist - Banking/Retail Domain - IIT/IIM/ISI/DSE',\n",
       " 'Manager - Data Scientist / Python - KPO',\n",
       " 'Data Scientist - Machine Learning',\n",
       " 'Data Scientist - Analytics & Insights Team',\n",
       " 'Data Scientist- Analytics & Insights Team- Iit/iim']"
      ]
     },
     "execution_count": 9,
     "metadata": {},
     "output_type": "execute_result"
    }
   ],
   "source": [
    "for i in job_t:\n",
    "    temp=i.text\n",
    "    job_title.append(temp)\n",
    "job_title"
   ]
  },
  {
   "cell_type": "code",
   "execution_count": 11,
   "id": "770efbbd",
   "metadata": {},
   "outputs": [
    {
     "data": {
      "text/plain": [
       "[<selenium.webdriver.remote.webelement.WebElement (session=\"00393496484b7119413557f1ac53c611\", element=\"6a1eeeba-5a7b-4ffa-b0d3-3a21ca688c50\")>,\n",
       " <selenium.webdriver.remote.webelement.WebElement (session=\"00393496484b7119413557f1ac53c611\", element=\"c2786676-404c-4adc-ab8f-14dad311a2a1\")>,\n",
       " <selenium.webdriver.remote.webelement.WebElement (session=\"00393496484b7119413557f1ac53c611\", element=\"c6c4efe5-81bb-45fb-b265-d7c7024336c8\")>,\n",
       " <selenium.webdriver.remote.webelement.WebElement (session=\"00393496484b7119413557f1ac53c611\", element=\"04ad1dce-3b1f-4649-8fc5-9d5423136684\")>]"
      ]
     },
     "execution_count": 11,
     "metadata": {},
     "output_type": "execute_result"
    }
   ],
   "source": [
    "job_l=driver.find_elements(By.XPATH,\"//*[@class='ellipsis fleft fs12 lh16 ']\")\n",
    "job_l[0:4]"
   ]
  },
  {
   "cell_type": "code",
   "execution_count": 12,
   "id": "cd9c4a6f",
   "metadata": {},
   "outputs": [
    {
     "data": {
      "text/plain": [
       "['2-7 Yrs',\n",
       " 'Not disclosed',\n",
       " 'Gurgaon/Gurugram, Delhi / NCR',\n",
       " '4-7 Yrs',\n",
       " 'Not disclosed',\n",
       " 'Delhi / NCR',\n",
       " '5-9 Yrs',\n",
       " 'Not disclosed',\n",
       " 'Faridabad, Bangalore/Bengaluru',\n",
       " '3-6 Yrs',\n",
       " 'Not disclosed',\n",
       " 'Noida',\n",
       " '2-7 Yrs',\n",
       " '3,00,000 - 8,00,000 PA.',\n",
       " 'Delhi / NCR(Netaji Subhash Place)',\n",
       " '4-8 Yrs',\n",
       " 'Not disclosed',\n",
       " 'Gurgaon/Gurugram, Delhi / NCR',\n",
       " '4-8 Yrs',\n",
       " 'Not disclosed',\n",
       " 'Gurgaon/Gurugram, Delhi / NCR',\n",
       " '1-6 Yrs',\n",
       " '6,00,000 - 15,00,000 PA.',\n",
       " 'Gurgaon/Gurugram, Bangalore/Bengaluru',\n",
       " '2-6 Yrs',\n",
       " 'Not disclosed',\n",
       " 'Noida, Gurgaon/Gurugram',\n",
       " '4-8 Yrs',\n",
       " 'Not disclosed',\n",
       " 'Gurgaon/Gurugram, Delhi / NCR',\n",
       " '3-6 Yrs',\n",
       " 'Not disclosed',\n",
       " 'Noida',\n",
       " '4-8 Yrs',\n",
       " 'Not disclosed',\n",
       " 'Gurgaon/Gurugram',\n",
       " '1-4 Yrs',\n",
       " 'Not disclosed',\n",
       " 'Delhi / NCR',\n",
       " '3-8 Yrs',\n",
       " 'Not disclosed',\n",
       " 'Gurgaon/Gurugram, Delhi / NCR',\n",
       " '2-5 Yrs',\n",
       " 'Not disclosed',\n",
       " 'Delhi / NCR',\n",
       " '1-5 Yrs',\n",
       " 'Not disclosed',\n",
       " 'Delhi / NCR',\n",
       " '5-8 Yrs',\n",
       " 'Not disclosed',\n",
       " 'Gurgaon/Gurugram',\n",
       " '3-6 Yrs',\n",
       " 'Not disclosed',\n",
       " 'Gurgaon/Gurugram, Delhi / NCR',\n",
       " '3-6 Yrs',\n",
       " 'Not disclosed',\n",
       " 'Noida',\n",
       " '3-6 Yrs',\n",
       " 'Not disclosed',\n",
       " 'Noida']"
      ]
     },
     "execution_count": 12,
     "metadata": {},
     "output_type": "execute_result"
    }
   ],
   "source": [
    "for i in job_l:\n",
    "    temp=i.text\n",
    "    job_location.append(temp)\n",
    "job_location"
   ]
  },
  {
   "cell_type": "code",
   "execution_count": 21,
   "id": "34241f9d",
   "metadata": {},
   "outputs": [
    {
     "data": {
      "text/plain": [
       "['Gurgaon/Gurugram, Delhi / NCR',\n",
       " 'Delhi / NCR',\n",
       " 'Faridabad, Bangalore/Bengaluru',\n",
       " 'Noida',\n",
       " 'Delhi / NCR(Netaji Subhash Place)',\n",
       " 'Gurgaon/Gurugram, Delhi / NCR',\n",
       " 'Gurgaon/Gurugram, Delhi / NCR',\n",
       " 'Gurgaon/Gurugram, Bangalore/Bengaluru',\n",
       " 'Noida, Gurgaon/Gurugram',\n",
       " 'Gurgaon/Gurugram, Delhi / NCR',\n",
       " 'Noida',\n",
       " 'Gurgaon/Gurugram',\n",
       " 'Delhi / NCR',\n",
       " 'Gurgaon/Gurugram, Delhi / NCR',\n",
       " 'Delhi / NCR',\n",
       " 'Delhi / NCR',\n",
       " 'Gurgaon/Gurugram',\n",
       " 'Gurgaon/Gurugram, Delhi / NCR',\n",
       " 'Noida',\n",
       " 'Noida']"
      ]
     },
     "execution_count": 21,
     "metadata": {},
     "output_type": "execute_result"
    }
   ],
   "source": [
    "location1=[]\n",
    "location2=[]\n",
    "location=[]\n",
    "location1=job_location[2:12:3]\n",
    "location2=job_location[14::3]\n",
    "location=location1+location2\n",
    "location"
   ]
  },
  {
   "cell_type": "code",
   "execution_count": 14,
   "id": "2e678084",
   "metadata": {},
   "outputs": [
    {
     "data": {
      "text/plain": [
       "[<selenium.webdriver.remote.webelement.WebElement (session=\"00393496484b7119413557f1ac53c611\", element=\"9088c516-2027-4277-bec4-dfd2f0accaaa\")>,\n",
       " <selenium.webdriver.remote.webelement.WebElement (session=\"00393496484b7119413557f1ac53c611\", element=\"e6032a52-1b2f-4c77-9c40-06481ce8f992\")>,\n",
       " <selenium.webdriver.remote.webelement.WebElement (session=\"00393496484b7119413557f1ac53c611\", element=\"a05bccde-3edb-46fe-a156-27800b993817\")>,\n",
       " <selenium.webdriver.remote.webelement.WebElement (session=\"00393496484b7119413557f1ac53c611\", element=\"33e2a56d-8c3e-4df3-accc-55d050fcbd8d\")>]"
      ]
     },
     "execution_count": 14,
     "metadata": {},
     "output_type": "execute_result"
    }
   ],
   "source": [
    "comp_n=driver.find_elements(By.XPATH,\"//*[@class='subTitle ellipsis fleft']\")\n",
    "comp_n[0:4]"
   ]
  },
  {
   "cell_type": "code",
   "execution_count": 15,
   "id": "2b6383f6",
   "metadata": {},
   "outputs": [
    {
     "data": {
      "text/plain": [
       "['Benovymed Healthcare Private Limited',\n",
       " 'HCL Technologies',\n",
       " 'Freshworks',\n",
       " 'HyrEzy Talent Solutions',\n",
       " 'Shriram Automall India Limited',\n",
       " 'First Employer',\n",
       " 'First Employer',\n",
       " 'GREAT LAKES E-LEARNING SERVICES PRIVATE LIMITED',\n",
       " 'Optum Global Solutions (India) Private Limited',\n",
       " 'First Employer',\n",
       " 'HyrEzy Talent Solutions',\n",
       " 'Elixir Web Solutions',\n",
       " 'Huquo Consulting Pvt. Ltd',\n",
       " 'Huquo Consulting Pvt. Ltd',\n",
       " 'Huquo Consulting Pvt. Ltd',\n",
       " 'Huquo Consulting Pvt. Ltd',\n",
       " 'Huquo Consulting Pvt. Ltd',\n",
       " 'TalPro',\n",
       " 'HyrEzy Talent Solutions',\n",
       " 'HyrEzy Talent Solutions']"
      ]
     },
     "execution_count": 15,
     "metadata": {},
     "output_type": "execute_result"
    }
   ],
   "source": [
    "for i in comp_n:\n",
    "    temp=i.text\n",
    "    company_name.append(temp)\n",
    "company_name"
   ]
  },
  {
   "cell_type": "code",
   "execution_count": 27,
   "id": "da8622c8",
   "metadata": {},
   "outputs": [
    {
     "data": {
      "text/plain": [
       "['2-7 Yrs',\n",
       " '4-7 Yrs',\n",
       " '5-9 Yrs',\n",
       " '3-6 Yrs',\n",
       " '4-8 Yrs',\n",
       " '4-8 Yrs',\n",
       " '1-6 Yrs',\n",
       " '2-6 Yrs',\n",
       " '4-8 Yrs',\n",
       " '3-6 Yrs',\n",
       " '4-8 Yrs',\n",
       " '1-4 Yrs',\n",
       " '3-8 Yrs',\n",
       " '2-5 Yrs',\n",
       " '1-5 Yrs',\n",
       " '5-8 Yrs',\n",
       " '3-6 Yrs',\n",
       " '3-6 Yrs',\n",
       " '3-6 Yrs']"
      ]
     },
     "execution_count": 27,
     "metadata": {},
     "output_type": "execute_result"
    }
   ],
   "source": [
    "exp=[]\n",
    "exp1=[]\n",
    "exp2=[]\n",
    "exp1=job_location[0:10:3]\n",
    "exp2=job_location[15::3]\n",
    "exp=exp1+exp2\n",
    "exp"
   ]
  },
  {
   "cell_type": "code",
   "execution_count": 28,
   "id": "59c3f755",
   "metadata": {},
   "outputs": [],
   "source": [
    "jt=[]\n",
    "l=[]\n",
    "cn=[]\n",
    "e=[]\n",
    "jt=job_title[:10]\n",
    "l=location[:10]\n",
    "cn=company_name[:10]\n",
    "e=exp[:10]"
   ]
  },
  {
   "cell_type": "code",
   "execution_count": 29,
   "id": "c7f70f0b",
   "metadata": {},
   "outputs": [
    {
     "data": {
      "text/html": [
       "<div>\n",
       "<style scoped>\n",
       "    .dataframe tbody tr th:only-of-type {\n",
       "        vertical-align: middle;\n",
       "    }\n",
       "\n",
       "    .dataframe tbody tr th {\n",
       "        vertical-align: top;\n",
       "    }\n",
       "\n",
       "    .dataframe thead th {\n",
       "        text-align: right;\n",
       "    }\n",
       "</style>\n",
       "<table border=\"1\" class=\"dataframe\">\n",
       "  <thead>\n",
       "    <tr style=\"text-align: right;\">\n",
       "      <th></th>\n",
       "      <th>Job Title</th>\n",
       "      <th>Location</th>\n",
       "      <th>Company Name</th>\n",
       "      <th>Experiance</th>\n",
       "    </tr>\n",
       "  </thead>\n",
       "  <tbody>\n",
       "    <tr>\n",
       "      <th>0</th>\n",
       "      <td>Co-Founder - Principal Data Scientist/Senior D...</td>\n",
       "      <td>Gurgaon/Gurugram, Delhi / NCR</td>\n",
       "      <td>Benovymed Healthcare Private Limited</td>\n",
       "      <td>2-7 Yrs</td>\n",
       "    </tr>\n",
       "    <tr>\n",
       "      <th>1</th>\n",
       "      <td>Job Opportunity || Data Scientist || HCL Techn...</td>\n",
       "      <td>Delhi / NCR</td>\n",
       "      <td>HCL Technologies</td>\n",
       "      <td>4-7 Yrs</td>\n",
       "    </tr>\n",
       "    <tr>\n",
       "      <th>2</th>\n",
       "      <td>Lead Data Scientist</td>\n",
       "      <td>Faridabad, Bangalore/Bengaluru</td>\n",
       "      <td>Freshworks</td>\n",
       "      <td>5-9 Yrs</td>\n",
       "    </tr>\n",
       "    <tr>\n",
       "      <th>3</th>\n",
       "      <td>Data Scientist - Analytics &amp; Insights Team - F...</td>\n",
       "      <td>Noida</td>\n",
       "      <td>HyrEzy Talent Solutions</td>\n",
       "      <td>3-6 Yrs</td>\n",
       "    </tr>\n",
       "    <tr>\n",
       "      <th>4</th>\n",
       "      <td>Urgent Hiring || Data Scientist || Delhi</td>\n",
       "      <td>Delhi / NCR(Netaji Subhash Place)</td>\n",
       "      <td>Shriram Automall India Limited</td>\n",
       "      <td>4-8 Yrs</td>\n",
       "    </tr>\n",
       "  </tbody>\n",
       "</table>\n",
       "</div>"
      ],
      "text/plain": [
       "                                           Job Title  \\\n",
       "0  Co-Founder - Principal Data Scientist/Senior D...   \n",
       "1  Job Opportunity || Data Scientist || HCL Techn...   \n",
       "2                                Lead Data Scientist   \n",
       "3  Data Scientist - Analytics & Insights Team - F...   \n",
       "4           Urgent Hiring || Data Scientist || Delhi   \n",
       "\n",
       "                            Location                          Company Name  \\\n",
       "0      Gurgaon/Gurugram, Delhi / NCR  Benovymed Healthcare Private Limited   \n",
       "1                        Delhi / NCR                      HCL Technologies   \n",
       "2     Faridabad, Bangalore/Bengaluru                            Freshworks   \n",
       "3                              Noida               HyrEzy Talent Solutions   \n",
       "4  Delhi / NCR(Netaji Subhash Place)        Shriram Automall India Limited   \n",
       "\n",
       "  Experiance  \n",
       "0    2-7 Yrs  \n",
       "1    4-7 Yrs  \n",
       "2    5-9 Yrs  \n",
       "3    3-6 Yrs  \n",
       "4    4-8 Yrs  "
      ]
     },
     "execution_count": 29,
     "metadata": {},
     "output_type": "execute_result"
    }
   ],
   "source": [
    "dataset=pd.DataFrame()\n",
    "dataset['Job Title']=jt\n",
    "dataset['Location']=l\n",
    "dataset['Company Name']=cn\n",
    "dataset['Experiance']=e\n",
    "dataset.head()"
   ]
  }
 ],
 "metadata": {
  "kernelspec": {
   "display_name": "Python 3",
   "language": "python",
   "name": "python3"
  },
  "language_info": {
   "codemirror_mode": {
    "name": "ipython",
    "version": 3
   },
   "file_extension": ".py",
   "mimetype": "text/x-python",
   "name": "python",
   "nbconvert_exporter": "python",
   "pygments_lexer": "ipython3",
   "version": "3.8.8"
  }
 },
 "nbformat": 4,
 "nbformat_minor": 5
}

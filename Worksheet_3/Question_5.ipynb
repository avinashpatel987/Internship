{
 "cells": [
  {
   "cell_type": "code",
   "execution_count": 14,
   "id": "4854d27d",
   "metadata": {},
   "outputs": [],
   "source": [
    "import selenium\n",
    "import pandas as pd\n",
    "from selenium import webdriver\n",
    "from selenium.webdriver.chrome.service import Service\n",
    "from selenium.webdriver.common.by import By\n",
    "import time"
   ]
  },
  {
   "cell_type": "code",
   "execution_count": 15,
   "id": "e44cd583",
   "metadata": {},
   "outputs": [],
   "source": [
    "s=Service(\"C:\\chromedriver_win32\\chromedriver.exe\")\n",
    "driver=webdriver.Chrome(service=s)\n",
    "driver.get('https://www.flipkart.com/apple-iphone-11-black-64-gb-includes- earpods-poweradapter/p/itm0f37c2240b217?pid=MOBFKCTSVZAXUHGR&lid=LSTMOBFKCTSVZAXUHGREPBFGI&marketplace.')"
   ]
  },
  {
   "cell_type": "code",
   "execution_count": 16,
   "id": "9820e52b",
   "metadata": {},
   "outputs": [],
   "source": [
    "btn1=driver.find_element(By.XPATH,\"//*[@id='container']/div/div[3]/div[1]/div[2]/div[8]/div/div/div[5]/div/a/div/span\")\n",
    "btn1.click()"
   ]
  },
  {
   "cell_type": "code",
   "execution_count": 17,
   "id": "94bb1822",
   "metadata": {},
   "outputs": [
    {
     "data": {
      "text/plain": [
       "[<selenium.webdriver.remote.webelement.WebElement (session=\"26a5ecb6569900cde196dab0246c5b2d\", element=\"680df26f-d5cd-43c6-8e42-02d681d35ca9\")>,\n",
       " <selenium.webdriver.remote.webelement.WebElement (session=\"26a5ecb6569900cde196dab0246c5b2d\", element=\"2efe008d-6116-4757-82e8-669857a9c03a\")>,\n",
       " <selenium.webdriver.remote.webelement.WebElement (session=\"26a5ecb6569900cde196dab0246c5b2d\", element=\"acd23b45-6cf7-42cb-b69e-a59fed0f8255\")>,\n",
       " <selenium.webdriver.remote.webelement.WebElement (session=\"26a5ecb6569900cde196dab0246c5b2d\", element=\"f3c2478f-a303-445c-8e60-1a9a8aeb7677\")>]"
      ]
     },
     "execution_count": 17,
     "metadata": {},
     "output_type": "execute_result"
    }
   ],
   "source": [
    "sta=driver.find_elements(By.XPATH,\"//*[@class='_3LWZlK _1BLPMq']\")\n",
    "sta[0:4]"
   ]
  },
  {
   "cell_type": "code",
   "execution_count": 18,
   "id": "8e4cdeff",
   "metadata": {},
   "outputs": [
    {
     "data": {
      "text/plain": [
       "['5', '5', '5', '5', '5', '5', '5', '4', '5', '5']"
      ]
     },
     "execution_count": 18,
     "metadata": {},
     "output_type": "execute_result"
    }
   ],
   "source": [
    "star=[]\n",
    "for i in sta:\n",
    "    temp=i.text\n",
    "    star.append(temp)\n",
    "star"
   ]
  },
  {
   "cell_type": "code",
   "execution_count": 19,
   "id": "5df7414a",
   "metadata": {},
   "outputs": [
    {
     "data": {
      "text/plain": [
       "[<selenium.webdriver.remote.webelement.WebElement (session=\"26a5ecb6569900cde196dab0246c5b2d\", element=\"f5b3811b-e9bd-42af-bc52-10234a1e18a3\")>,\n",
       " <selenium.webdriver.remote.webelement.WebElement (session=\"26a5ecb6569900cde196dab0246c5b2d\", element=\"b2f5e187-dfe1-4bf2-94ad-0b480162c092\")>,\n",
       " <selenium.webdriver.remote.webelement.WebElement (session=\"26a5ecb6569900cde196dab0246c5b2d\", element=\"25918a8a-8dd7-4ab9-b65c-ba7197773656\")>,\n",
       " <selenium.webdriver.remote.webelement.WebElement (session=\"26a5ecb6569900cde196dab0246c5b2d\", element=\"a83a8899-f82b-4e23-804f-829e97e70ae2\")>]"
      ]
     },
     "execution_count": 19,
     "metadata": {},
     "output_type": "execute_result"
    }
   ],
   "source": [
    "head=driver.find_elements(By.XPATH,\"//*[@class='_2-N8zT']\")\n",
    "head[0:4]"
   ]
  },
  {
   "cell_type": "code",
   "execution_count": 20,
   "id": "767dc32e",
   "metadata": {},
   "outputs": [
    {
     "data": {
      "text/plain": [
       "['Brilliant',\n",
       " 'Simply awesome',\n",
       " 'Perfect product!',\n",
       " 'Worth every penny',\n",
       " 'Fabulous!',\n",
       " 'Best in the market!',\n",
       " 'Great product',\n",
       " 'Good choice',\n",
       " 'Worth every penny',\n",
       " 'Highly recommended']"
      ]
     },
     "execution_count": 20,
     "metadata": {},
     "output_type": "execute_result"
    }
   ],
   "source": [
    "headding=[]\n",
    "for i in head:\n",
    "    temp=i.text\n",
    "    headding.append(temp)\n",
    "headding"
   ]
  },
  {
   "cell_type": "code",
   "execution_count": 21,
   "id": "9f588013",
   "metadata": {},
   "outputs": [
    {
     "data": {
      "text/plain": [
       "[<selenium.webdriver.remote.webelement.WebElement (session=\"26a5ecb6569900cde196dab0246c5b2d\", element=\"701ae331-53ba-47e7-b538-dfa126610423\")>,\n",
       " <selenium.webdriver.remote.webelement.WebElement (session=\"26a5ecb6569900cde196dab0246c5b2d\", element=\"6fa4474a-9e08-4166-a17d-6835aba6ac70\")>,\n",
       " <selenium.webdriver.remote.webelement.WebElement (session=\"26a5ecb6569900cde196dab0246c5b2d\", element=\"da91f895-7e3d-4bbb-8552-c9a8eb49c2ce\")>,\n",
       " <selenium.webdriver.remote.webelement.WebElement (session=\"26a5ecb6569900cde196dab0246c5b2d\", element=\"83b537f3-7b2a-48bd-8f3d-b95eea0661f6\")>]"
      ]
     },
     "execution_count": 21,
     "metadata": {},
     "output_type": "execute_result"
    }
   ],
   "source": [
    "description=driver.find_elements(By.XPATH,\"//*[@class='t-ZTKy']\")\n",
    "description[0:4]"
   ]
  },
  {
   "cell_type": "code",
   "execution_count": 22,
   "id": "b2886fc5",
   "metadata": {},
   "outputs": [
    {
     "data": {
      "text/plain": [
       "['The Best Phone for the Money\\n\\nThe iPhone 11 offers superb cameras, a more durable design and excellent battery life for an affordable price.\\n\\nCompelling ultra-wide camera\\nNew Night mode is excellent\\nLong battery life',\n",
       " 'Really satisfied with the Product I received... It’s totally genuine and the packaging was also really good so if ur planning to buy just go for it.']"
      ]
     },
     "execution_count": 22,
     "metadata": {},
     "output_type": "execute_result"
    }
   ],
   "source": [
    "desc=[]\n",
    "for i in description:\n",
    "    temp=i.text\n",
    "    desc.append(temp)\n",
    "desc[0:2]"
   ]
  },
  {
   "cell_type": "code",
   "execution_count": 23,
   "id": "06ed57c3",
   "metadata": {},
   "outputs": [],
   "source": [
    "btn2=driver.find_element(By.XPATH,\"//*[@id='container']/div/div[3]/div/div/div[2]/div[13]/div/div/nav/a[2]\")\n",
    "btn2.click()"
   ]
  },
  {
   "cell_type": "code",
   "execution_count": 59,
   "id": "1a45a33d",
   "metadata": {},
   "outputs": [],
   "source": [
    "strm=[]\n",
    "hd=[]\n",
    "desec=[]"
   ]
  },
  {
   "cell_type": "code",
   "execution_count": 60,
   "id": "c37e8ff3",
   "metadata": {},
   "outputs": [],
   "source": [
    "for i in range(9):\n",
    "    time.sleep(1)\n",
    "    sta2=driver.find_elements(By.XPATH,\"//div[contains(@class, '_3LWZlK _1BLPMq') or contains(@class, '_3LWZlK _1rdVr6 _1BLPMq')]\")\n",
    "    for i in sta2:\n",
    "        temp=i.text\n",
    "        strm.append(temp)\n",
    "    head2=driver.find_elements(By.XPATH,\"//*[@class='_2-N8zT']\")\n",
    "    for j in head2:\n",
    "        temp2=j.text\n",
    "        hd.append(temp2)\n",
    "    description2=driver.find_elements(By.XPATH,\"//*[@class='t-ZTKy']\")\n",
    "    for j in description2:\n",
    "        temp3=j.text\n",
    "        desec.append(temp3)\n",
    "    next=driver.find_element(By.XPATH,\"//*[@id='container']/div/div[3]/div/div/div[2]/div[13]/div/div/nav/a[12]\")\n",
    "    next.click()"
   ]
  },
  {
   "cell_type": "code",
   "execution_count": 64,
   "id": "3a714125",
   "metadata": {},
   "outputs": [],
   "source": [
    "s=[]\n",
    "h=[]\n",
    "d=[]"
   ]
  },
  {
   "cell_type": "code",
   "execution_count": 66,
   "id": "c0fef488",
   "metadata": {},
   "outputs": [],
   "source": [
    "s=star+strm\n",
    "h=headding+hd\n",
    "d=desc+desec"
   ]
  },
  {
   "cell_type": "code",
   "execution_count": 67,
   "id": "0cfc750b",
   "metadata": {},
   "outputs": [
    {
     "data": {
      "text/html": [
       "<div>\n",
       "<style scoped>\n",
       "    .dataframe tbody tr th:only-of-type {\n",
       "        vertical-align: middle;\n",
       "    }\n",
       "\n",
       "    .dataframe tbody tr th {\n",
       "        vertical-align: top;\n",
       "    }\n",
       "\n",
       "    .dataframe thead th {\n",
       "        text-align: right;\n",
       "    }\n",
       "</style>\n",
       "<table border=\"1\" class=\"dataframe\">\n",
       "  <thead>\n",
       "    <tr style=\"text-align: right;\">\n",
       "      <th></th>\n",
       "      <th>Stars</th>\n",
       "      <th>Headline</th>\n",
       "      <th>Description</th>\n",
       "    </tr>\n",
       "  </thead>\n",
       "  <tbody>\n",
       "    <tr>\n",
       "      <th>0</th>\n",
       "      <td>5</td>\n",
       "      <td>Brilliant</td>\n",
       "      <td>The Best Phone for the Money\\n\\nThe iPhone 11 ...</td>\n",
       "    </tr>\n",
       "    <tr>\n",
       "      <th>1</th>\n",
       "      <td>5</td>\n",
       "      <td>Simply awesome</td>\n",
       "      <td>Really satisfied with the Product I received.....</td>\n",
       "    </tr>\n",
       "    <tr>\n",
       "      <th>2</th>\n",
       "      <td>5</td>\n",
       "      <td>Perfect product!</td>\n",
       "      <td>Amazing phone with great cameras and better ba...</td>\n",
       "    </tr>\n",
       "    <tr>\n",
       "      <th>3</th>\n",
       "      <td>5</td>\n",
       "      <td>Worth every penny</td>\n",
       "      <td>Previously I was using one plus 3t it was a gr...</td>\n",
       "    </tr>\n",
       "    <tr>\n",
       "      <th>4</th>\n",
       "      <td>5</td>\n",
       "      <td>Fabulous!</td>\n",
       "      <td>This is my first iOS phone. I am very happy wi...</td>\n",
       "    </tr>\n",
       "  </tbody>\n",
       "</table>\n",
       "</div>"
      ],
      "text/plain": [
       "  Stars           Headline                                        Description\n",
       "0     5          Brilliant  The Best Phone for the Money\\n\\nThe iPhone 11 ...\n",
       "1     5     Simply awesome  Really satisfied with the Product I received.....\n",
       "2     5   Perfect product!  Amazing phone with great cameras and better ba...\n",
       "3     5  Worth every penny  Previously I was using one plus 3t it was a gr...\n",
       "4     5          Fabulous!  This is my first iOS phone. I am very happy wi..."
      ]
     },
     "execution_count": 67,
     "metadata": {},
     "output_type": "execute_result"
    }
   ],
   "source": [
    "dataset=pd.DataFrame()\n",
    "dataset['Stars']=s\n",
    "dataset['Headline']=h\n",
    "dataset['Description']=d\n",
    "dataset.head()"
   ]
  },
  {
   "cell_type": "code",
   "execution_count": null,
   "id": "f6906f20",
   "metadata": {},
   "outputs": [],
   "source": []
  }
 ],
 "metadata": {
  "kernelspec": {
   "display_name": "Python 3",
   "language": "python",
   "name": "python3"
  },
  "language_info": {
   "codemirror_mode": {
    "name": "ipython",
    "version": 3
   },
   "file_extension": ".py",
   "mimetype": "text/x-python",
   "name": "python",
   "nbconvert_exporter": "python",
   "pygments_lexer": "ipython3",
   "version": "3.8.8"
  }
 },
 "nbformat": 4,
 "nbformat_minor": 5
}

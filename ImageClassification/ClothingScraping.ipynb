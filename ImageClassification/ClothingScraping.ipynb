{
 "cells": [
  {
   "cell_type": "code",
   "execution_count": null,
   "id": "9eaae0dc",
   "metadata": {},
   "outputs": [],
   "source": [
    "import selenium\n",
    "import pandas as pd\n",
    "from selenium import webdriver\n",
    "from selenium.webdriver.chrome.service import Service\n",
    "from selenium.webdriver.common.by import By\n",
    "from selenium.webdriver.common.keys import Keys\n",
    "import time\n",
    "import urllib\n",
    "import os\n",
    "from selenium.webdriver import ActionChains\n",
    "import requests\n",
    "\n",
    "from selenium.webdriver.support.ui import WebDriverWait\n",
    "from selenium.webdriver.support import expected_conditions as EC"
   ]
  },
  {
   "cell_type": "markdown",
   "id": "fb1e0986",
   "metadata": {},
   "source": [
    "# Saree"
   ]
  },
  {
   "cell_type": "code",
   "execution_count": null,
   "id": "a23278c8",
   "metadata": {},
   "outputs": [],
   "source": [
    "s=Service(\"C:\\chromedriver_win32\\chromedriver.exe\")\n",
    "driver=webdriver.Chrome(service=s)\n",
    "driver.get('https://www.google.com/search?q=saree&source=lnms&tbm=isch')"
   ]
  },
  {
   "cell_type": "code",
   "execution_count": null,
   "id": "e924a8dd",
   "metadata": {},
   "outputs": [],
   "source": [
    "path_dir=r'C:\\Users\\acer\\Desktop\\images\\saree'\n",
    "img=driver.find_element(By.ID,\"islmp\"or\"islrg\")\n",
    "sub=img.find_elements_by_tag_name('img')\n",
    "for i,j in enumerate(sub):\n",
    "    if i<500:\n",
    "        src=j.get_attribute('src')\n",
    "        if src!=None:\n",
    "            src=str(src)\n",
    "            urllib.request.urlretrieve(src,os.path.join(path_dir,str(i)+\".jpg\"))"
   ]
  },
  {
   "cell_type": "markdown",
   "id": "8d6cfcf9",
   "metadata": {},
   "source": [
    "# Trouser"
   ]
  },
  {
   "cell_type": "code",
   "execution_count": null,
   "id": "aaa7a5b3",
   "metadata": {},
   "outputs": [],
   "source": [
    "s=Service(\"C:\\chromedriver_win32\\chromedriver.exe\")\n",
    "driver=webdriver.Chrome(service=s)\n",
    "driver.get('https://www.google.com/search?q=trouser+for+men&source=lnms&tbm=isch')"
   ]
  },
  {
   "cell_type": "code",
   "execution_count": null,
   "id": "11773067",
   "metadata": {},
   "outputs": [],
   "source": [
    "path_dir=r'C:\\Users\\acer\\Desktop\\images\\trouser'\n",
    "img=driver.find_element(By.ID,\"islmp\"or\"islrg\")\n",
    "sub=img.find_elements_by_tag_name('img')\n",
    "for i,j in enumerate(sub):\n",
    "    if i<500:\n",
    "        src=j.get_attribute('src')\n",
    "        if src!=None:\n",
    "            src=str(src)\n",
    "            urllib.request.urlretrieve(src,os.path.join(path_dir,str(i)+\".jpg\"))"
   ]
  },
  {
   "cell_type": "markdown",
   "id": "3dbb9942",
   "metadata": {},
   "source": [
    "# Jeans"
   ]
  },
  {
   "cell_type": "code",
   "execution_count": null,
   "id": "00d4e5e0",
   "metadata": {},
   "outputs": [],
   "source": [
    "s=Service(\"C:\\chromedriver_win32\\chromedriver.exe\")\n",
    "driver=webdriver.Chrome(service=s)\n",
    "driver.get('https://www.amazon.in/')"
   ]
  },
  {
   "cell_type": "code",
   "execution_count": null,
   "id": "0df0dfa2",
   "metadata": {},
   "outputs": [],
   "source": [
    "input_ = driver.find_element_by_xpath(\"//input[@id='twotabsearchtextbox']\")\n",
    "input_.send_keys(\"Jeans\")\n",
    "btn = driver.find_element_by_xpath(\"//input[@id='nav-search-submit-button']\").click()"
   ]
  },
  {
   "cell_type": "code",
   "execution_count": null,
   "id": "252a2477",
   "metadata": {},
   "outputs": [],
   "source": [
    "images_jeans = []"
   ]
  },
  {
   "cell_type": "code",
   "execution_count": null,
   "id": "f58f90e6",
   "metadata": {},
   "outputs": [],
   "source": [
    "elements = driver.find_elements(By.XPATH,\"//img[@class='s-image']\")\n",
    "for i in elements:\n",
    "    image = i.get_attribute('src')\n",
    "    images_jeans.append(image)"
   ]
  },
  {
   "cell_type": "code",
   "execution_count": null,
   "id": "44f21150",
   "metadata": {},
   "outputs": [],
   "source": [
    "len(images_jeans)"
   ]
  },
  {
   "cell_type": "code",
   "execution_count": null,
   "id": "8650ba82",
   "metadata": {},
   "outputs": [],
   "source": [
    "path_dir=r'C:\\Users\\acer\\Desktop\\images\\jeans'\n",
    "for img in images_jeans:\n",
    "    for i in range(len(images_jeans)):\n",
    "        urllib.request.urlretrieve(images_jeans[i],os.path.join(path_dir,str(i)+\".jpg\"))"
   ]
  }
 ],
 "metadata": {
  "kernelspec": {
   "display_name": "Python 3 (ipykernel)",
   "language": "python",
   "name": "python3"
  },
  "language_info": {
   "codemirror_mode": {
    "name": "ipython",
    "version": 3
   },
   "file_extension": ".py",
   "mimetype": "text/x-python",
   "name": "python",
   "nbconvert_exporter": "python",
   "pygments_lexer": "ipython3",
   "version": "3.9.7"
  }
 },
 "nbformat": 4,
 "nbformat_minor": 5
}
